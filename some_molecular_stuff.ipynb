{
 "cells": [
  {
   "cell_type": "code",
   "execution_count": null,
   "id": "8c7ed168-4d27-42b8-98dc-198326c7ad29",
   "metadata": {},
   "outputs": [],
   "source": [
    "import pandas as pd\n",
    "import rdkit\n",
    "from rdkit import Chem\n",
    "from rdkit.Chem.rdchem import HybridizationType\n",
    "from rdkit.Chem.rdchem import BondType as BT\n",
    "from rdkit.Chem import AllChem\n",
    "import torch\n",
    "import numpy as np\n",
    "from tqdm import tqdm"
   ]
  },
  {
   "cell_type": "code",
   "execution_count": null,
   "id": "73e1d193-ec95-4bdc-8477-8e5a974133c1",
   "metadata": {},
   "outputs": [],
   "source": [
    "tqdm.pandas()"
   ]
  },
  {
   "cell_type": "code",
   "execution_count": null,
   "id": "ec1a7b1b-9a33-4144-8aa2-f8be4194420f",
   "metadata": {},
   "outputs": [],
   "source": [
    "df = pd.read_csv('data_10k.csv')"
   ]
  },
  {
   "cell_type": "code",
   "execution_count": null,
   "id": "e51cdf64-6f8d-4565-ad0c-3f0ac38099ac",
   "metadata": {},
   "outputs": [],
   "source": []
  },
  {
   "cell_type": "code",
   "execution_count": null,
   "id": "c30b15cb-0d72-4508-bea1-0e47ce50fb59",
   "metadata": {},
   "outputs": [],
   "source": [
    "# decided to take them as target\n",
    "# df.drop(columns=['Molecular Weight', 'Bioactivities', 'AlogP', 'Polar Surface Area', 'CX Acidic pKa', 'CX Basic pKa'])"
   ]
  },
  {
   "cell_type": "code",
   "execution_count": null,
   "id": "e85249e8-d6a7-427e-b43b-03e241830f05",
   "metadata": {},
   "outputs": [],
   "source": [
    "ATOM_LIST = list(range(1,119))\n",
    "CHIRALITY_LIST = [\n",
    "    Chem.rdchem.ChiralType.CHI_UNSPECIFIED,\n",
    "    Chem.rdchem.ChiralType.CHI_TETRAHEDRAL_CW,\n",
    "    Chem.rdchem.ChiralType.CHI_TETRAHEDRAL_CCW,\n",
    "    Chem.rdchem.ChiralType.CHI_OTHER\n",
    "]\n",
    "BOND_LIST = [\n",
    "    BT.SINGLE,\n",
    "    BT.DOUBLE,\n",
    "    BT.TRIPLE,\n",
    "    BT.AROMATIC\n",
    "]\n",
    "BONDDIR_LIST = [\n",
    "    Chem.rdchem.BondDir.NONE,\n",
    "    Chem.rdchem.BondDir.ENDUPRIGHT,\n",
    "    Chem.rdchem.BondDir.ENDDOWNRIGHT\n",
    "]\n",
    "BONDTYPES_LIST = [Chem.rdchem.BondType.names,\n",
    "                  Chem.rdchem.BondType.values\n",
    "                  ]\n",
    "\n",
    "def get_graph_columns(smiles):\n",
    "    mol = Chem.MolFromSmiles(smiles)\n",
    "    if mol is None:\n",
    "        return torch.tensor([[], []], dtype=torch.long).tolist(), \\\n",
    "                torch.tensor(np.array([]), dtype=torch.long).tolist(), \\\n",
    "                torch.tensor(np.array([]), dtype=torch.long).tolist(), \\\n",
    "                0\n",
    "\n",
    "    N = mol.GetNumAtoms()\n",
    "    M = mol.GetNumBonds()\n",
    "\n",
    "    type_idx = []\n",
    "    chirality_idx = []\n",
    "    atomic_number = []\n",
    "    \n",
    "    for atom in mol.GetAtoms():\n",
    "        type_idx.append(ATOM_LIST.index(atom.GetAtomicNum()))\n",
    "        chirality_idx.append(CHIRALITY_LIST.index(atom.GetChiralTag()))\n",
    "        atomic_number.append(atom.GetAtomicNum())\n",
    "    \n",
    "    x1 = torch.tensor(type_idx, dtype=torch.long).view(-1,1)\n",
    "    x2 = torch.tensor(chirality_idx, dtype=torch.long).view(-1,1)\n",
    "    node_feat = torch.cat([x1, x2], dim=-1).tolist()\n",
    "\n",
    "    row, col, edge_feat = [], [], []\n",
    "    for bond in mol.GetBonds():\n",
    "        start, end = bond.GetBeginAtomIdx(), bond.GetEndAtomIdx()\n",
    "        row += [start, end]\n",
    "        col += [end, start]\n",
    "        \n",
    "        edge_feat.append([\n",
    "            bond.GetBondTypeAsDouble(),\n",
    "            BONDDIR_LIST.index(bond.GetBondDir())\n",
    "        ])\n",
    "        edge_feat.append([\n",
    "            bond.GetBondTypeAsDouble(),\n",
    "            BONDDIR_LIST.index(bond.GetBondDir())\n",
    "        ])\n",
    "\n",
    "    edge_index = torch.tensor([row, col], dtype=torch.long).tolist()\n",
    "    edge_attr = torch.tensor(edge_feat, dtype=torch.long).tolist()\n",
    "    num_nodes = N\n",
    "\n",
    "    return node_feat, edge_index, edge_attr, num_nodes"
   ]
  },
  {
   "cell_type": "code",
   "execution_count": null,
   "id": "2d23011f-feef-4e9b-bd5a-7de478947ccc",
   "metadata": {},
   "outputs": [],
   "source": [
    "df[[\"node_feat\", \"edge_index\", 'edge_attr', 'num_nodes']] = df.progress_apply(lambda row: get_graph_columns(row.Smiles), axis='columns', result_type='expand')"
   ]
  },
  {
   "cell_type": "code",
   "execution_count": null,
   "id": "3d98b1c4-041a-43d0-aa8e-62b7467a629f",
   "metadata": {},
   "outputs": [],
   "source": [
    "df"
   ]
  },
  {
   "cell_type": "code",
   "execution_count": null,
   "id": "35f729fd-dffa-4747-b3d7-97833e017a9c",
   "metadata": {},
   "outputs": [],
   "source": [
    "# df.rename(columns={'Molecular Weight': 'y'}, inplace=True)"
   ]
  },
  {
   "cell_type": "code",
   "execution_count": null,
   "id": "379ada0f-6198-4824-8146-4559a82bed43",
   "metadata": {},
   "outputs": [],
   "source": [
    "# df['y'] = df['y'].apply(lambda row: [x]) # for graphormer"
   ]
  },
  {
   "cell_type": "code",
   "execution_count": null,
   "id": "7e71dbda-259e-42ee-8dd4-a11b38b76898",
   "metadata": {},
   "outputs": [],
   "source": [
    "# df = df.drop(['Bioactivities', 'AlogP', 'Polar Surface Area', 'CX Acidic pKa', 'CX Basic pKa'], axis=1)"
   ]
  },
  {
   "cell_type": "code",
   "execution_count": null,
   "id": "79c065aa-50b6-4f9d-8e5c-9652cf7290fd",
   "metadata": {},
   "outputs": [],
   "source": [
    "df['y'] = df.progress_apply(lambda row: [df['Molecular Weight']], axis='columns', result_type='expand')"
   ]
  },
  {
   "cell_type": "code",
   "execution_count": null,
   "id": "cf49c7ef-eecb-4033-acfc-4ef7dbe76622",
   "metadata": {},
   "outputs": [],
   "source": []
  },
  {
   "cell_type": "code",
   "execution_count": null,
   "id": "2cc5f6cf-4e97-4643-a184-78c38abbb216",
   "metadata": {},
   "outputs": [],
   "source": [
    "df "
   ]
  },
  {
   "cell_type": "code",
   "execution_count": null,
   "id": "1d4357a1-4fce-4062-b9b2-23fee658095c",
   "metadata": {},
   "outputs": [],
   "source": [
    "df.to_csv(\"data_10k_graph.csv\", index=False)"
   ]
  },
  {
   "cell_type": "code",
   "execution_count": null,
   "id": "77761687-33bd-46eb-8c83-ae8e5142c41b",
   "metadata": {},
   "outputs": [],
   "source": []
  }
 ],
 "metadata": {
  "kernelspec": {
   "display_name": "Python 3 (ipykernel)",
   "language": "python",
   "name": "python3"
  },
  "language_info": {
   "codemirror_mode": {
    "name": "ipython",
    "version": 3
   },
   "file_extension": ".py",
   "mimetype": "text/x-python",
   "name": "python",
   "nbconvert_exporter": "python",
   "pygments_lexer": "ipython3",
   "version": "3.7.0"
  },
  "widgets": {
   "application/vnd.jupyter.widget-state+json": {
    "state": {},
    "version_major": 2,
    "version_minor": 0
   }
  }
 },
 "nbformat": 4,
 "nbformat_minor": 5
}
