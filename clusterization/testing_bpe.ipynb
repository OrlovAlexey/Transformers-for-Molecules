{
 "cells": [
  {
   "cell_type": "code",
   "execution_count": 1,
   "metadata": {},
   "outputs": [
    {
     "name": "stderr",
     "output_type": "stream",
     "text": [
      "/home/nick1899/anaconda3/envs/mol/lib/python3.9/site-packages/tqdm/auto.py:21: TqdmWarning: IProgress not found. Please update jupyter and ipywidgets. See https://ipywidgets.readthedocs.io/en/stable/user_install.html\n",
      "  from .autonotebook import tqdm as notebook_tqdm\n"
     ]
    }
   ],
   "source": [
    "import csv\n",
    "import math\n",
    "import time\n",
    "import random\n",
    "import networkx as nx\n",
    "import numpy as np\n",
    "from copy import deepcopy\n",
    "import pandas as pd\n",
    "from rdkit import Chem\n",
    "from tqdm import tqdm\n",
    "\n",
    "import os\n",
    "import pandas as pd\n",
    "\n",
    "import pickle\n",
    "\n",
    "import pandas as pd\n",
    "from rdkit.Chem import rdmolfiles\n",
    "from rdkit import Chem\n",
    "from rdkit.Chem.MolStandardize import rdMolStandardize\n",
    "\n",
    "import torch\n",
    "import torch.nn.functional as F\n",
    "# from torch.utils.data import Dataset, DataLoader\n",
    "from torch.utils.data.sampler import SubsetRandomSampler\n",
    "import torchvision.transforms as transforms\n",
    "\n",
    "# rom torch_scatter import scatter\n",
    "# from torch_geometric.data import Data, Dataset, DataLoader\n",
    "\n",
    "import rdkit\n",
    "from rdkit import Chem\n",
    "from rdkit.Chem.rdchem import HybridizationType\n",
    "from rdkit.Chem.rdchem import BondType as BT\n",
    "from rdkit.Chem import AllChem\n",
    "\n",
    "from rdkit.Chem import rdMolTransforms\n",
    "from rdkit.Chem.Draw import rdMolDraw2D, rdDepictor, IPythonConsole\n",
    "\n",
    "rdDepictor.SetPreferCoordGen(True)\n",
    "from IPython.display import Image\n",
    "\n",
    "tqdm.pandas()\n",
    "from rdkit import RDLogger\n",
    "\n",
    "RDLogger.DisableLog('rdApp.*')  "
   ]
  },
  {
   "cell_type": "code",
   "execution_count": 2,
   "metadata": {},
   "outputs": [],
   "source": [
    "def get_ecfp(smiles, radius):\n",
    "    mol = AllChem.MolFromSmiles(smiles, sanitize=False)\n",
    "    mol = rdMolStandardize.Normalize(mol)\n",
    "    try:\n",
    "        Chem.SanitizeMol(mol)\n",
    "    except Chem.AtomValenceException:\n",
    "        return None\n",
    "    radii = list(range(int(radius) + 1))\n",
    "    info = {}\n",
    "    _ = AllChem.GetMorganFingerprint(mol, radius, bitInfo=info)  # info: dictionary identifier, atom_idx, radius\n",
    "\n",
    "    mol_atoms = [a.GetIdx() for a in mol.GetAtoms()]\n",
    "    dict_atoms = {x: {r: None for r in radii} for x in mol_atoms}\n",
    "\n",
    "    for element in info:\n",
    "        for atom_idx, radius_at in info[element]:\n",
    "            dict_atoms[atom_idx][radius_at] = element  # {atom number: {fp radius: identifier}}\n",
    "\n",
    "        # iterate over all atoms and radii\n",
    "    identifier_sentences = []\n",
    "\n",
    "    for r in radii:  # iterate over radii to get one sentence per radius\n",
    "        identifiers = []\n",
    "        for atom in dict_atoms:  # iterate over atoms\n",
    "            # get one sentence per radius\n",
    "            identifiers.append(dict_atoms[atom][r])\n",
    "        identifier_sentences.append(list(map(str, [x for x in identifiers if x])))\n",
    "    return list(identifier_sentences)"
   ]
  },
  {
   "cell_type": "code",
   "execution_count": 21,
   "metadata": {},
   "outputs": [],
   "source": [
    "import pickle \n",
    "\n",
    "'''with open('filename.pickle', 'wb') as handle:\n",
    "    pickle.dump(data, handle, protocol=pickle.HIGHEST_PROTOCOL)'''\n",
    "with open('filename_uncut.pickle', 'rb') as handle:\n",
    "    data = pickle.load(handle)"
   ]
  },
  {
   "cell_type": "code",
   "execution_count": 22,
   "metadata": {},
   "outputs": [
    {
     "data": {
      "text/html": [
       "<div>\n",
       "<style scoped>\n",
       "    .dataframe tbody tr th:only-of-type {\n",
       "        vertical-align: middle;\n",
       "    }\n",
       "\n",
       "    .dataframe tbody tr th {\n",
       "        vertical-align: top;\n",
       "    }\n",
       "\n",
       "    .dataframe thead th {\n",
       "        text-align: right;\n",
       "    }\n",
       "</style>\n",
       "<table border=\"1\" class=\"dataframe\">\n",
       "  <thead>\n",
       "    <tr style=\"text-align: right;\">\n",
       "      <th></th>\n",
       "      <th>index</th>\n",
       "      <th>Unnamed: 0</th>\n",
       "      <th>smiles</th>\n",
       "      <th>ecfp5</th>\n",
       "      <th>ecfp1</th>\n",
       "      <th>ecfp2</th>\n",
       "      <th>ecfp3</th>\n",
       "      <th>ecfp4</th>\n",
       "      <th>ecfp1_cut</th>\n",
       "      <th>ecfp2_cut</th>\n",
       "      <th>ecfp3_cut</th>\n",
       "      <th>ecfp4_cut</th>\n",
       "      <th>ecfp5_cut</th>\n",
       "    </tr>\n",
       "  </thead>\n",
       "  <tbody>\n",
       "    <tr>\n",
       "      <th>0</th>\n",
       "      <td>2859816</td>\n",
       "      <td>2859816</td>\n",
       "      <td>N#CC(=CNc1ccc(Nc2ccccc2)cc1)C(=O)N1CCCCC1</td>\n",
       "      <td>[[847433064, 2245900962, 2246699815, 224670379...</td>\n",
       "      <td>[[847433064, 2245900962, 2246699815, 224670379...</td>\n",
       "      <td>[[847433064, 2245900962, 2246699815, 224670379...</td>\n",
       "      <td>[[847433064, 2245900962, 2246699815, 224670379...</td>\n",
       "      <td>[[847433064, 2245900962, 2246699815, 224670379...</td>\n",
       "      <td>[2551483158, 781447971, 554582195, 3880858139,...</td>\n",
       "      <td>[3194233911, 4235880976, 1567584741, 367703104...</td>\n",
       "      <td>[2280706294, 541892508, 2866997053, 240765344,...</td>\n",
       "      <td>[410772916, 876894891, 88381873, 667131381, 23...</td>\n",
       "      <td>[600531453, 2511373375, 3759280899, 1474317629...</td>\n",
       "    </tr>\n",
       "    <tr>\n",
       "      <th>1</th>\n",
       "      <td>7256086</td>\n",
       "      <td>7256086</td>\n",
       "      <td>O=C1c2ccccc2NC(c2ccc(SC(F)(F)F)cc2)N1CC1CCCO1</td>\n",
       "      <td>[[864942730, 3217380708, 3217380708, 321869396...</td>\n",
       "      <td>[[864942730, 3217380708, 3217380708, 321869396...</td>\n",
       "      <td>[[864942730, 3217380708, 3217380708, 321869396...</td>\n",
       "      <td>[[864942730, 3217380708, 3217380708, 321869396...</td>\n",
       "      <td>[[864942730, 3217380708, 3217380708, 321869396...</td>\n",
       "      <td>[10565946, 1871221615, 3982076256, 951226070, ...</td>\n",
       "      <td>[1513450307, 3476417958, 1323467736, 399990699...</td>\n",
       "      <td>[4057506034, 1165060899, 900277316, 3488480553...</td>\n",
       "      <td>[4264674485, 3128146264, 1544352305, 264116875...</td>\n",
       "      <td>[67173608, 2254477329, 3855819969, 3157912345,...</td>\n",
       "    </tr>\n",
       "    <tr>\n",
       "      <th>2</th>\n",
       "      <td>5926236</td>\n",
       "      <td>5926236</td>\n",
       "      <td>CSCCC([NH3+])C(=O)NC(C)c1ccccc1C</td>\n",
       "      <td>[[2246728737, 1026928756, 2245384272, 22453842...</td>\n",
       "      <td>[[2246728737, 1026928756, 2245384272, 22453842...</td>\n",
       "      <td>[[2246728737, 1026928756, 2245384272, 22453842...</td>\n",
       "      <td>[[2246728737, 1026928756, 2245384272, 22453842...</td>\n",
       "      <td>[[2246728737, 1026928756, 2245384272, 22453842...</td>\n",
       "      <td>[2592252298, 229197718, 4120224926, 1583799011...</td>\n",
       "      <td>[3673190411, 2051816982, 824615024, 2484722359...</td>\n",
       "      <td>[1171484618, 2534182396, 473601359, 1274470318...</td>\n",
       "      <td>[1896159405, 3508375579, 1637613376, 413671164...</td>\n",
       "      <td>[1464203311, 1562612457, 2973709734, 3255664645]</td>\n",
       "    </tr>\n",
       "    <tr>\n",
       "      <th>3</th>\n",
       "      <td>6522590</td>\n",
       "      <td>6522590</td>\n",
       "      <td>CCCOc1ccc(C(=O)Nc2nnc(S(=O)(=O)Cc3ccccc3F)s2)cc1</td>\n",
       "      <td>[[2246728737, 2245384272, 2245384272, 86467448...</td>\n",
       "      <td>[[2246728737, 2245384272, 2245384272, 86467448...</td>\n",
       "      <td>[[2246728737, 2245384272, 2245384272, 86467448...</td>\n",
       "      <td>[[2246728737, 2245384272, 2245384272, 86467448...</td>\n",
       "      <td>[[2246728737, 2245384272, 2245384272, 86467448...</td>\n",
       "      <td>[3542456614, 1173125914, 4008337421, 211547690...</td>\n",
       "      <td>[2636383078, 3635585100, 717151242, 910450790,...</td>\n",
       "      <td>[1047480442, 1054157635, 691974566, 3202522643...</td>\n",
       "      <td>[1997538764, 1774883767, 1613582335, 403948141...</td>\n",
       "      <td>[2376722083, 210371865, 2657191478, 2749592338...</td>\n",
       "    </tr>\n",
       "    <tr>\n",
       "      <th>4</th>\n",
       "      <td>3587030</td>\n",
       "      <td>3587030</td>\n",
       "      <td>COc1ccc(Br)c(C(=O)Nc2cc(NC(C)=O)ccc2OC)c1</td>\n",
       "      <td>[[2246728737, 864674487, 3217380708, 321869396...</td>\n",
       "      <td>[[2246728737, 864674487, 3217380708, 321869396...</td>\n",
       "      <td>[[2246728737, 864674487, 3217380708, 321869396...</td>\n",
       "      <td>[[2246728737, 864674487, 3217380708, 321869396...</td>\n",
       "      <td>[[2246728737, 864674487, 3217380708, 321869396...</td>\n",
       "      <td>[3975275337, 2076190208, 3162837314, 951226070...</td>\n",
       "      <td>[1352399629, 1840994228, 2944555726, 181468282...</td>\n",
       "      <td>[2287205162, 3805467668, 1207405495, 346140264...</td>\n",
       "      <td>[1970961427, 2085320272, 2012833611, 273556979...</td>\n",
       "      <td>[4231106260, 2494039993, 3934723367, 295828982...</td>\n",
       "    </tr>\n",
       "  </tbody>\n",
       "</table>\n",
       "</div>"
      ],
      "text/plain": [
       "     index  Unnamed: 0                                            smiles  \\\n",
       "0  2859816     2859816         N#CC(=CNc1ccc(Nc2ccccc2)cc1)C(=O)N1CCCCC1   \n",
       "1  7256086     7256086     O=C1c2ccccc2NC(c2ccc(SC(F)(F)F)cc2)N1CC1CCCO1   \n",
       "2  5926236     5926236                  CSCCC([NH3+])C(=O)NC(C)c1ccccc1C   \n",
       "3  6522590     6522590  CCCOc1ccc(C(=O)Nc2nnc(S(=O)(=O)Cc3ccccc3F)s2)cc1   \n",
       "4  3587030     3587030         COc1ccc(Br)c(C(=O)Nc2cc(NC(C)=O)ccc2OC)c1   \n",
       "\n",
       "                                               ecfp5  \\\n",
       "0  [[847433064, 2245900962, 2246699815, 224670379...   \n",
       "1  [[864942730, 3217380708, 3217380708, 321869396...   \n",
       "2  [[2246728737, 1026928756, 2245384272, 22453842...   \n",
       "3  [[2246728737, 2245384272, 2245384272, 86467448...   \n",
       "4  [[2246728737, 864674487, 3217380708, 321869396...   \n",
       "\n",
       "                                               ecfp1  \\\n",
       "0  [[847433064, 2245900962, 2246699815, 224670379...   \n",
       "1  [[864942730, 3217380708, 3217380708, 321869396...   \n",
       "2  [[2246728737, 1026928756, 2245384272, 22453842...   \n",
       "3  [[2246728737, 2245384272, 2245384272, 86467448...   \n",
       "4  [[2246728737, 864674487, 3217380708, 321869396...   \n",
       "\n",
       "                                               ecfp2  \\\n",
       "0  [[847433064, 2245900962, 2246699815, 224670379...   \n",
       "1  [[864942730, 3217380708, 3217380708, 321869396...   \n",
       "2  [[2246728737, 1026928756, 2245384272, 22453842...   \n",
       "3  [[2246728737, 2245384272, 2245384272, 86467448...   \n",
       "4  [[2246728737, 864674487, 3217380708, 321869396...   \n",
       "\n",
       "                                               ecfp3  \\\n",
       "0  [[847433064, 2245900962, 2246699815, 224670379...   \n",
       "1  [[864942730, 3217380708, 3217380708, 321869396...   \n",
       "2  [[2246728737, 1026928756, 2245384272, 22453842...   \n",
       "3  [[2246728737, 2245384272, 2245384272, 86467448...   \n",
       "4  [[2246728737, 864674487, 3217380708, 321869396...   \n",
       "\n",
       "                                               ecfp4  \\\n",
       "0  [[847433064, 2245900962, 2246699815, 224670379...   \n",
       "1  [[864942730, 3217380708, 3217380708, 321869396...   \n",
       "2  [[2246728737, 1026928756, 2245384272, 22453842...   \n",
       "3  [[2246728737, 2245384272, 2245384272, 86467448...   \n",
       "4  [[2246728737, 864674487, 3217380708, 321869396...   \n",
       "\n",
       "                                           ecfp1_cut  \\\n",
       "0  [2551483158, 781447971, 554582195, 3880858139,...   \n",
       "1  [10565946, 1871221615, 3982076256, 951226070, ...   \n",
       "2  [2592252298, 229197718, 4120224926, 1583799011...   \n",
       "3  [3542456614, 1173125914, 4008337421, 211547690...   \n",
       "4  [3975275337, 2076190208, 3162837314, 951226070...   \n",
       "\n",
       "                                           ecfp2_cut  \\\n",
       "0  [3194233911, 4235880976, 1567584741, 367703104...   \n",
       "1  [1513450307, 3476417958, 1323467736, 399990699...   \n",
       "2  [3673190411, 2051816982, 824615024, 2484722359...   \n",
       "3  [2636383078, 3635585100, 717151242, 910450790,...   \n",
       "4  [1352399629, 1840994228, 2944555726, 181468282...   \n",
       "\n",
       "                                           ecfp3_cut  \\\n",
       "0  [2280706294, 541892508, 2866997053, 240765344,...   \n",
       "1  [4057506034, 1165060899, 900277316, 3488480553...   \n",
       "2  [1171484618, 2534182396, 473601359, 1274470318...   \n",
       "3  [1047480442, 1054157635, 691974566, 3202522643...   \n",
       "4  [2287205162, 3805467668, 1207405495, 346140264...   \n",
       "\n",
       "                                           ecfp4_cut  \\\n",
       "0  [410772916, 876894891, 88381873, 667131381, 23...   \n",
       "1  [4264674485, 3128146264, 1544352305, 264116875...   \n",
       "2  [1896159405, 3508375579, 1637613376, 413671164...   \n",
       "3  [1997538764, 1774883767, 1613582335, 403948141...   \n",
       "4  [1970961427, 2085320272, 2012833611, 273556979...   \n",
       "\n",
       "                                           ecfp5_cut  \n",
       "0  [600531453, 2511373375, 3759280899, 1474317629...  \n",
       "1  [67173608, 2254477329, 3855819969, 3157912345,...  \n",
       "2   [1464203311, 1562612457, 2973709734, 3255664645]  \n",
       "3  [2376722083, 210371865, 2657191478, 2749592338...  \n",
       "4  [4231106260, 2494039993, 3934723367, 295828982...  "
      ]
     },
     "execution_count": 22,
     "metadata": {},
     "output_type": "execute_result"
    }
   ],
   "source": [
    "data.head()"
   ]
  },
  {
   "cell_type": "code",
   "execution_count": null,
   "metadata": {},
   "outputs": [],
   "source": []
  },
  {
   "cell_type": "code",
   "execution_count": 5,
   "metadata": {},
   "outputs": [
    {
     "data": {
      "text/plain": [
       "10000"
      ]
     },
     "execution_count": 5,
     "metadata": {},
     "output_type": "execute_result"
    }
   ],
   "source": [
    "len(data['ecfp5'])"
   ]
  },
  {
   "cell_type": "code",
   "execution_count": 6,
   "metadata": {},
   "outputs": [
    {
     "data": {
      "text/plain": [
       "\"radius = 'ecfp0'\\nfolder = 'ecfps_full'\\nfilename = folder + '/' + radius\""
      ]
     },
     "execution_count": 6,
     "metadata": {},
     "output_type": "execute_result"
    }
   ],
   "source": [
    "'''radius = 'ecfp0'\n",
    "folder = 'ecfps_full'\n",
    "filename = folder + '/' + radius'''"
   ]
  },
  {
   "cell_type": "code",
   "execution_count": 7,
   "metadata": {},
   "outputs": [
    {
     "data": {
      "text/plain": [
       "\"with open('../' + filename + '.txt', 'r') as fp: \\n    text = fp.read().split('\\n')\""
      ]
     },
     "execution_count": 7,
     "metadata": {},
     "output_type": "execute_result"
    }
   ],
   "source": [
    "# just ecfp0's in one file splitted by \\n\n",
    "'''with open('../' + filename + '.txt', 'r') as fp: \n",
    "    text = fp.read().split('\\n')'''"
   ]
  },
  {
   "cell_type": "code",
   "execution_count": 23,
   "metadata": {},
   "outputs": [],
   "source": [
    "def transform_column(row):\n",
    "    # Flatten the 2D array and join with a space\n",
    "    row = [row]\n",
    "    flat_list = [str(item) for sublist in row for item in sublist]  # Flatten\n",
    "    return ' '.join(flat_list)  # Join with space\n",
    "\n",
    "# Apply the transformation and join with dots\n",
    "#df['ecfp5_transformed'] = df['ecfp5'].apply(transform_column)\n",
    "x = data['ecfp2_cut'].iloc[:100000].apply(transform_column)\n",
    "result = ' . '.join(x)"
   ]
  },
  {
   "cell_type": "code",
   "execution_count": null,
   "metadata": {},
   "outputs": [],
   "source": [
    "from word2vec import Word2VecWrapper\n",
    "\n",
    "vocab_size = 1000\n",
    "text = result\n",
    "wrapper = Word2VecWrapper(vocab_size, text)"
   ]
  },
  {
   "cell_type": "code",
   "execution_count": null,
   "metadata": {
    "scrolled": true
   },
   "outputs": [
    {
     "name": "stdout",
     "output_type": "stream",
     "text": [
      "37202\n"
     ]
    }
   ],
   "source": [
    "wrapper.preprocess()\n",
    "\n",
    "wrapper.remove_low_frequency_tokens(threshold=5, constant_value=-1)\n",
    "\n",
    "tokens_ids = wrapper.get_tokens_ids()"
   ]
  },
  {
   "cell_type": "code",
   "execution_count": null,
   "metadata": {},
   "outputs": [],
   "source": [
    "tokens_ids"
   ]
  },
  {
   "cell_type": "code",
   "execution_count": null,
   "metadata": {},
   "outputs": [
    {
     "name": "stdout",
     "output_type": "stream",
     "text": [
      "32.402416706085205\n"
     ]
    }
   ],
   "source": [
    "wrapper.train()"
   ]
  },
  {
   "cell_type": "code",
   "execution_count": null,
   "metadata": {},
   "outputs": [
    {
     "name": "stdout",
     "output_type": "stream",
     "text": [
      "[ 0.0317356   0.17633578 -0.30952597 -0.0542495   0.19110513 -0.38696617\n",
      "  0.16651958  0.44681567 -0.23935911 -0.07243555 -0.12634794 -0.13582334\n",
      "  0.09584567  0.03816165  0.01442356  0.19227102 -0.00149756 -0.1963766\n",
      "  0.14633353 -0.48048115  0.13660276  0.00487293  0.51033753 -0.27315235\n",
      " -0.18558194  0.07316709 -0.2742482  -0.07636286 -0.1349674   0.0892311\n",
      " -0.01866038 -0.12843658  0.33709183 -0.08459272 -0.0122526   0.21886465\n",
      " -0.05638981 -0.08785342 -0.26152658 -0.10343356  0.1757676  -0.13320576\n",
      "  0.00301688  0.04394046 -0.09462924 -0.17342493 -0.10549347 -0.21686797\n",
      "  0.19695155  0.08532552  0.01386155 -0.20083714  0.01878696  0.04710573\n",
      " -0.02377879 -0.03654465 -0.03590859  0.00247921 -0.3462912   0.12331245\n",
      " -0.07666664  0.0663688   0.01805799  0.03846407 -0.03999834  0.3992568\n",
      "  0.06402408  0.0014625  -0.16847911  0.06082245 -0.18305044  0.07976504\n",
      "  0.13552655 -0.16261846  0.3421547   0.09809462  0.30726382  0.10982297\n",
      " -0.08539578  0.21957688 -0.2374775   0.10748871 -0.22093605  0.34217048\n",
      "  0.23442632 -0.09595611 -0.11259905  0.24129131  0.1167912   0.20763807\n",
      "  0.06003038  0.04910929  0.18790275 -0.09351144  0.2295358   0.1470971\n",
      "  0.29574174  0.03465809  0.05963215  0.17289513]\n"
     ]
    }
   ],
   "source": [
    "embedding = wrapper.get_embedding(32781)\n",
    "print(embedding)"
   ]
  },
  {
   "cell_type": "code",
   "execution_count": 45,
   "metadata": {},
   "outputs": [
    {
     "name": "stdout",
     "output_type": "stream",
     "text": [
      "{1: 1, 2: 1, 3: 3, 4: 2, 5: 2}\n",
      "{(1, 2): 1, (1, 3): 1, (2, 3): 1, (3, 4): 2, (3, 5): 2, (4, 5): 2}\n"
     ]
    }
   ],
   "source": [
    "def get_folded_counts(molecules: List[List[int]], max_factor: int) -> Dict[Any, int]: # expects max_factor to be <= 4 as complexity has exp-growth factor\n",
    "    count = defaultdict(int)\n",
    "    for molecule in molecules:\n",
    "        subsets = combinations(sorted(molecule), max_factor) # \"If the input iterable is sorted, the output tuples will be produced in sorted order.\" (c) docs\n",
    "        for subset in list(subsets):\n",
    "            if -1 in subset: # skip junk (?)\n",
    "                continue\n",
    "            item = subset[:] if max_factor > 1 else subset[0]\n",
    "            count[item] += 1\n",
    "    return count\n",
    " \n",
    " \n",
    "print(dict(get_folded_counts([[1, 2, 3], [3, 4, 5], [5, 4, 3]], 1)))\n",
    "print(dict(get_folded_counts([[1, 2, 3], [3, 4, 5], [5, 4, 3]], 2)))"
   ]
  },
  {
   "cell_type": "code",
   "execution_count": 46,
   "metadata": {},
   "outputs": [],
   "source": [
    "for molecule in token_ids:\n",
    "    molecule.sort() # for determinism\n",
    " \n",
    "base_counts = get_folded_counts(token_ids, 1)\n",
    "groups_by_2_counts =  get_folded_counts(token_ids, 2)\n",
    "# print(base_counts)\n",
    "# print(groups_by_2_counts)\n",
    " \n"
   ]
  },
  {
   "cell_type": "code",
   "execution_count": 47,
   "metadata": {},
   "outputs": [
    {
     "name": "stdout",
     "output_type": "stream",
     "text": [
      "Replace count:  28\n"
     ]
    }
   ],
   "source": [
    "hits = 0\n",
    "to_drop = set()\n",
    "to_unify = set()\n",
    "for pair, pair_counts in groups_by_2_counts.items():\n",
    "    a, b = pair\n",
    "    if a == -1 or b == -1: continue\n",
    " \n",
    "    a_count = base_counts[a]\n",
    "    b_count = base_counts[b]\n",
    "    if pair_counts >= max(a_count, b_count): # a_count + b_count - pair_counts # TODO: probably, change statement. May be add some threshold\n",
    "        to_drop.add(a)\n",
    "        to_drop.add(b)\n",
    "        to_unify.add((a, b))\n",
    "        # print(a,b, a_count, b_count, pair_counts)\n",
    "        hits += 1\n",
    "print(\"Replace count: \", hits)\n",
    " \n",
    " \n",
    "pairs_replace_mapping = {}\n",
    "for molecule in token_ids: # Put new tokens for popular groups\n",
    "    new_molecule = molecule\n",
    "    pairs_list = list(combinations(new_molecule, 2))\n",
    "    sorted_pairs = sorted(pairs_list, key=lambda x: groups_by_2_counts.get(x, 0), reverse=True)\n",
    "    #print(\"old\", molecule)\n",
    "    for group in sorted_pairs: # make combinations(new_molecule, 2) sorted by frequancy\n",
    "        if group in to_unify:\n",
    "            # print(group, \" !\")\n",
    "            if group not in list(pairs_replace_mapping.keys()):\n",
    "                new_group_id = random.randint(list(updated_inverse_vocab.items())[-1:][0][1], vocab_size) # TODO\n",
    "                pairs_replace_mapping[group] = new_group_id\n",
    "            else:\n",
    "                new_group_id = pairs_replace_mapping[group]\n",
    "            if group[1] in new_molecule and group[0] in new_molecule:\n",
    "                if group[1] == group[0]:\n",
    "                    if new_molecule.count(group[1]) >= 2:\n",
    "                        new_molecule.remove(group[0])\n",
    "                        new_molecule.append(new_group_id)\n",
    "                        new_molecule.remove(group[1])\n",
    "                        #print(group, new_group_id)\n",
    "                else:\n",
    "                    new_molecule.remove(group[0])\n",
    "                    new_molecule.append(new_group_id)\n",
    "                    new_molecule.remove(group[1])\n",
    "                    #print(group, new_group_id)\n",
    "    molecule = new_molecule\n",
    "    #print(\"new\", molecule)\n",
    "    #print(\"\")\n",
    "    \n",
    " \n",
    " \n",
    " \n",
    "for molecule in token_ids: # Evict old atoms which got into groups\n",
    "    molecule = list(map(lambda atom: -1 if atom in to_drop else atom, molecule))"
   ]
  },
  {
   "cell_type": "code",
   "execution_count": null,
   "metadata": {},
   "outputs": [],
   "source": []
  }
 ],
 "metadata": {
  "kernelspec": {
   "display_name": "myenv",
   "language": "python",
   "name": "python3"
  },
  "language_info": {
   "codemirror_mode": {
    "name": "ipython",
    "version": 3
   },
   "file_extension": ".py",
   "mimetype": "text/x-python",
   "name": "python",
   "nbconvert_exporter": "python",
   "pygments_lexer": "ipython3",
   "version": "3.9.19"
  }
 },
 "nbformat": 4,
 "nbformat_minor": 4
}
