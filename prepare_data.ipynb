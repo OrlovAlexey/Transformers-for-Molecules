{
 "cells": [
  {
   "cell_type": "code",
   "execution_count": 11,
   "id": "038109ab-2650-4f88-a206-04fea97fa3af",
   "metadata": {},
   "outputs": [],
   "source": [
    "import pandas as pd\n",
    "from tqdm.auto import tqdm"
   ]
  },
  {
   "cell_type": "code",
   "execution_count": 4,
   "id": "c2f0c041-c495-4099-a77b-1a35c13dac8c",
   "metadata": {},
   "outputs": [],
   "source": [
    "ecfp0 = list()\n",
    "ecfp1 = list()\n",
    "ecfp2 = list()"
   ]
  },
  {
   "cell_type": "code",
   "execution_count": 5,
   "id": "2f383d41-9f7f-4258-bc57-1d8e1f93bd94",
   "metadata": {},
   "outputs": [
    {
     "data": {
      "application/vnd.jupyter.widget-view+json": {
       "model_id": "7eb121334fcd4fa08e3e07a689d8bee9",
       "version_major": 2,
       "version_minor": 0
      },
      "text/plain": [
       "  0%|          | 0/20 [00:00<?, ?it/s]"
      ]
     },
     "metadata": {},
     "output_type": "display_data"
    },
    {
     "data": {
      "application/vnd.jupyter.widget-view+json": {
       "model_id": "a38bc4dee413489d95281ffab39e46d0",
       "version_major": 2,
       "version_minor": 0
      },
      "text/plain": [
       "  0%|          | 0/500000 [00:00<?, ?it/s]"
      ]
     },
     "metadata": {},
     "output_type": "display_data"
    },
    {
     "data": {
      "application/vnd.jupyter.widget-view+json": {
       "model_id": "e5575e1ffa4e4a0d95326bbd6bec1cc4",
       "version_major": 2,
       "version_minor": 0
      },
      "text/plain": [
       "  0%|          | 0/500000 [00:00<?, ?it/s]"
      ]
     },
     "metadata": {},
     "output_type": "display_data"
    },
    {
     "data": {
      "application/vnd.jupyter.widget-view+json": {
       "model_id": "50b7c251dd314236a4e5fb2895a0f7cb",
       "version_major": 2,
       "version_minor": 0
      },
      "text/plain": [
       "  0%|          | 0/500000 [00:00<?, ?it/s]"
      ]
     },
     "metadata": {},
     "output_type": "display_data"
    },
    {
     "data": {
      "application/vnd.jupyter.widget-view+json": {
       "model_id": "af16108e60fb43a6b23375228f147ea5",
       "version_major": 2,
       "version_minor": 0
      },
      "text/plain": [
       "  0%|          | 0/500000 [00:00<?, ?it/s]"
      ]
     },
     "metadata": {},
     "output_type": "display_data"
    },
    {
     "data": {
      "application/vnd.jupyter.widget-view+json": {
       "model_id": "c4408dbd7aba49e0aa2ecb40b37dec0c",
       "version_major": 2,
       "version_minor": 0
      },
      "text/plain": [
       "  0%|          | 0/500000 [00:00<?, ?it/s]"
      ]
     },
     "metadata": {},
     "output_type": "display_data"
    },
    {
     "data": {
      "application/vnd.jupyter.widget-view+json": {
       "model_id": "72d425fd9bda4b42b003056562ff7929",
       "version_major": 2,
       "version_minor": 0
      },
      "text/plain": [
       "  0%|          | 0/500000 [00:00<?, ?it/s]"
      ]
     },
     "metadata": {},
     "output_type": "display_data"
    },
    {
     "data": {
      "application/vnd.jupyter.widget-view+json": {
       "model_id": "5646c422995b4cc1a812965065a4ebc0",
       "version_major": 2,
       "version_minor": 0
      },
      "text/plain": [
       "  0%|          | 0/500000 [00:00<?, ?it/s]"
      ]
     },
     "metadata": {},
     "output_type": "display_data"
    },
    {
     "data": {
      "application/vnd.jupyter.widget-view+json": {
       "model_id": "e8bc8a3e30a64cb683db3f2ebc8ed637",
       "version_major": 2,
       "version_minor": 0
      },
      "text/plain": [
       "  0%|          | 0/500000 [00:00<?, ?it/s]"
      ]
     },
     "metadata": {},
     "output_type": "display_data"
    },
    {
     "data": {
      "application/vnd.jupyter.widget-view+json": {
       "model_id": "29863f62c0874fe1b1d79d4b3c1ff01d",
       "version_major": 2,
       "version_minor": 0
      },
      "text/plain": [
       "  0%|          | 0/500000 [00:00<?, ?it/s]"
      ]
     },
     "metadata": {},
     "output_type": "display_data"
    },
    {
     "data": {
      "application/vnd.jupyter.widget-view+json": {
       "model_id": "c9099414d98e47b4af37db054d8cbef3",
       "version_major": 2,
       "version_minor": 0
      },
      "text/plain": [
       "  0%|          | 0/500000 [00:00<?, ?it/s]"
      ]
     },
     "metadata": {},
     "output_type": "display_data"
    },
    {
     "data": {
      "application/vnd.jupyter.widget-view+json": {
       "model_id": "efd81faecd0749ff833bd973451dae3a",
       "version_major": 2,
       "version_minor": 0
      },
      "text/plain": [
       "  0%|          | 0/500000 [00:00<?, ?it/s]"
      ]
     },
     "metadata": {},
     "output_type": "display_data"
    },
    {
     "data": {
      "application/vnd.jupyter.widget-view+json": {
       "model_id": "2cb373044ed345149846d1eaf80c1e9e",
       "version_major": 2,
       "version_minor": 0
      },
      "text/plain": [
       "  0%|          | 0/500000 [00:00<?, ?it/s]"
      ]
     },
     "metadata": {},
     "output_type": "display_data"
    },
    {
     "data": {
      "application/vnd.jupyter.widget-view+json": {
       "model_id": "61c09b857f6440c293e744f84724851f",
       "version_major": 2,
       "version_minor": 0
      },
      "text/plain": [
       "  0%|          | 0/500000 [00:00<?, ?it/s]"
      ]
     },
     "metadata": {},
     "output_type": "display_data"
    },
    {
     "data": {
      "application/vnd.jupyter.widget-view+json": {
       "model_id": "89763b31a1d74d3abe1a313073ff1f77",
       "version_major": 2,
       "version_minor": 0
      },
      "text/plain": [
       "  0%|          | 0/500000 [00:00<?, ?it/s]"
      ]
     },
     "metadata": {},
     "output_type": "display_data"
    },
    {
     "data": {
      "application/vnd.jupyter.widget-view+json": {
       "model_id": "9c3aaeb4b8f64019b04da9d067d7de2b",
       "version_major": 2,
       "version_minor": 0
      },
      "text/plain": [
       "  0%|          | 0/500000 [00:00<?, ?it/s]"
      ]
     },
     "metadata": {},
     "output_type": "display_data"
    },
    {
     "data": {
      "application/vnd.jupyter.widget-view+json": {
       "model_id": "89144216bde04ce49f597d34a22385e7",
       "version_major": 2,
       "version_minor": 0
      },
      "text/plain": [
       "  0%|          | 0/500000 [00:00<?, ?it/s]"
      ]
     },
     "metadata": {},
     "output_type": "display_data"
    },
    {
     "data": {
      "application/vnd.jupyter.widget-view+json": {
       "model_id": "7b2cbb5ba7bb438cbb9882543b65b365",
       "version_major": 2,
       "version_minor": 0
      },
      "text/plain": [
       "  0%|          | 0/500000 [00:00<?, ?it/s]"
      ]
     },
     "metadata": {},
     "output_type": "display_data"
    },
    {
     "data": {
      "application/vnd.jupyter.widget-view+json": {
       "model_id": "04d5e98cecfe42e5a0eff6f727744882",
       "version_major": 2,
       "version_minor": 0
      },
      "text/plain": [
       "  0%|          | 0/500000 [00:00<?, ?it/s]"
      ]
     },
     "metadata": {},
     "output_type": "display_data"
    },
    {
     "data": {
      "application/vnd.jupyter.widget-view+json": {
       "model_id": "ce91ec25a56a4ad89d432900df8058ea",
       "version_major": 2,
       "version_minor": 0
      },
      "text/plain": [
       "  0%|          | 0/500000 [00:00<?, ?it/s]"
      ]
     },
     "metadata": {},
     "output_type": "display_data"
    },
    {
     "data": {
      "application/vnd.jupyter.widget-view+json": {
       "model_id": "842f49cc892946c2a1a9bd2f72671329",
       "version_major": 2,
       "version_minor": 0
      },
      "text/plain": [
       "  0%|          | 0/500000 [00:00<?, ?it/s]"
      ]
     },
     "metadata": {},
     "output_type": "display_data"
    }
   ],
   "source": [
    "# read from files\n",
    "for i in tqdm(range(20)):\n",
    "    data_chunk = pd.read_hdf(f'data_10M/data_mol/data{i}.h5')\n",
    "    for efcp in tqdm(data_chunk['ECFP']):\n",
    "        ecfp0.append(efcp[0])\n",
    "        ecfp1.append(efcp[1])\n",
    "        ecfp2.append(efcp[2])"
   ]
  },
  {
   "cell_type": "code",
   "execution_count": 8,
   "id": "7620f3e7-b4bf-4e73-8c45-03b777f7dc69",
   "metadata": {},
   "outputs": [],
   "source": [
    "def write_to_file(name: str, efcp_dataset):\n",
    "    with open(f'efcps_full/{name}.txt', 'w+') as f:\n",
    "        for ecpf in efcp_dataset:\n",
    "            for number in ecpf:\n",
    "                f.write(number)\n",
    "                f.write(' ')\n",
    "            f.write('\\n')"
   ]
  },
  {
   "cell_type": "code",
   "execution_count": 9,
   "id": "de2d19c9-63f6-4cc0-aa6d-ad0bd3ddb855",
   "metadata": {},
   "outputs": [],
   "source": [
    "write_to_file('ecfp0', ecfp0)\n",
    "write_to_file('ecfp1', ecfp1)\n",
    "write_to_file('ecfp2', ecfp2)"
   ]
  },
  {
   "cell_type": "code",
   "execution_count": 12,
   "id": "a613aeae-e8c6-44c1-af45-6ab07b51ce8b",
   "metadata": {},
   "outputs": [],
   "source": [
    "data_chunk = pd.read_hdf(f'data_10M/data_mol/data0.h5')"
   ]
  },
  {
   "cell_type": "code",
   "execution_count": 15,
   "id": "695b895d-a47e-4327-a0be-836bd8dd5873",
   "metadata": {},
   "outputs": [
    {
     "data": {
      "text/plain": [
       "[['2246728737',\n",
       "  '848128881',\n",
       "  '3217380708',\n",
       "  '3218693969',\n",
       "  '3218693969',\n",
       "  '3218693969',\n",
       "  '3218693969',\n",
       "  '3218693969',\n",
       "  '3217380708',\n",
       "  '3218693969',\n",
       "  '3218693969',\n",
       "  '3218693969',\n",
       "  '3218693969',\n",
       "  '3217380708',\n",
       "  '2246699815',\n",
       "  '864942730',\n",
       "  '847961216',\n",
       "  '2245384272',\n",
       "  '2976816164',\n",
       "  '864662311',\n",
       "  '2968968094',\n",
       "  '2968968094',\n",
       "  '3189457552',\n",
       "  '2968968094',\n",
       "  '2968968094'],\n",
       " ['3818546315',\n",
       "  '1898153655',\n",
       "  '1449131080',\n",
       "  '951226070',\n",
       "  '98513984',\n",
       "  '98513984',\n",
       "  '98513984',\n",
       "  '951226070',\n",
       "  '1534595042',\n",
       "  '951226070',\n",
       "  '98513984',\n",
       "  '98513984',\n",
       "  '951226070',\n",
       "  '2309124039',\n",
       "  '1054767590',\n",
       "  '1510328189',\n",
       "  '717512901',\n",
       "  '4203187903',\n",
       "  '2026801565',\n",
       "  '265892994',\n",
       "  '2119439498',\n",
       "  '1257718710',\n",
       "  '3203709451',\n",
       "  '1257718710',\n",
       "  '2119439498'],\n",
       " ['1151493923',\n",
       "  '2434874479',\n",
       "  '2739425568',\n",
       "  '3999906991',\n",
       "  '2763854213',\n",
       "  '3999906991',\n",
       "  '2739425568',\n",
       "  '3776989082',\n",
       "  '2688578898',\n",
       "  '3999906991',\n",
       "  '3999906991',\n",
       "  '2987120039',\n",
       "  '2054202824',\n",
       "  '2843970853',\n",
       "  '221477997',\n",
       "  '1565353100',\n",
       "  '2268143266',\n",
       "  '3933539141',\n",
       "  '2480733984',\n",
       "  '3888780669',\n",
       "  '2480733984',\n",
       "  '3933539141']]"
      ]
     },
     "execution_count": 15,
     "metadata": {},
     "output_type": "execute_result"
    }
   ],
   "source": [
    "# example\n",
    "data_chunk['ECFP'][0]"
   ]
  }
 ],
 "metadata": {
  "kernelspec": {
   "display_name": "Python 3 (ipykernel)",
   "language": "python",
   "name": "python3"
  },
  "language_info": {
   "codemirror_mode": {
    "name": "ipython",
    "version": 3
   },
   "file_extension": ".py",
   "mimetype": "text/x-python",
   "name": "python",
   "nbconvert_exporter": "python",
   "pygments_lexer": "ipython3",
   "version": "3.11.5"
  }
 },
 "nbformat": 4,
 "nbformat_minor": 5
}
