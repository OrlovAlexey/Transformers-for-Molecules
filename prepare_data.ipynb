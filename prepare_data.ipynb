{
 "cells": [
  {
   "cell_type": "code",
   "execution_count": null,
   "id": "038109ab-2650-4f88-a206-04fea97fa3af",
   "metadata": {},
   "outputs": [],
   "source": [
    "import pandas as pd\n",
    "from tqdm.auto import tqdm"
   ]
  },
  {
   "cell_type": "code",
   "execution_count": null,
   "id": "c2f0c041-c495-4099-a77b-1a35c13dac8c",
   "metadata": {},
   "outputs": [],
   "source": [
    "ecfp0 = list()\n",
    "ecfp1 = list()\n",
    "ecfp2 = list()"
   ]
  },
  {
   "cell_type": "code",
   "execution_count": null,
   "id": "2f383d41-9f7f-4258-bc57-1d8e1f93bd94",
   "metadata": {},
   "outputs": [],
   "source": [
    "# read from files\n",
    "for i in tqdm(range(20)):\n",
    "    data_chunk = pd.read_hdf(f'data_10M/data_mol/data{i}.h5')\n",
    "    for efcp in tqdm(data_chunk['ECFP']):\n",
    "        ecfp0.append(efcp[0])\n",
    "        ecfp1.append(efcp[1])\n",
    "        ecfp2.append(efcp[2])"
   ]
  },
  {
   "cell_type": "code",
   "execution_count": null,
   "id": "7620f3e7-b4bf-4e73-8c45-03b777f7dc69",
   "metadata": {},
   "outputs": [],
   "source": [
    "def write_to_file(name: str, efcp_dataset):\n",
    "    with open(f'efcps_full/{name}.txt', 'w+') as f:\n",
    "        for ecpf in efcp_dataset:\n",
    "            for number in ecpf:\n",
    "                f.write(number)\n",
    "                f.write(' ')\n",
    "            f.write('\\n')"
   ]
  },
  {
   "cell_type": "code",
   "execution_count": null,
   "id": "de2d19c9-63f6-4cc0-aa6d-ad0bd3ddb855",
   "metadata": {},
   "outputs": [],
   "source": [
    "write_to_file('ecfp0', ecfp0)\n",
    "write_to_file('ecfp1', ecfp1)\n",
    "write_to_file('ecfp2', ecfp2)"
   ]
  },
  {
   "cell_type": "code",
   "execution_count": null,
   "id": "a613aeae-e8c6-44c1-af45-6ab07b51ce8b",
   "metadata": {},
   "outputs": [],
   "source": [
    "data_chunk = pd.read_hdf(f'data_10M/data_mol/data0.h5')"
   ]
  },
  {
   "cell_type": "code",
   "execution_count": null,
   "id": "695b895d-a47e-4327-a0be-836bd8dd5873",
   "metadata": {},
   "outputs": [],
   "source": [
    "# example\n",
    "data_chunk['ECFP'][0]"
   ]
  },
  {
   "cell_type": "code",
   "execution_count": null,
   "id": "df626ae7-57d4-436d-a725-5bad36ea38e8",
   "metadata": {},
   "outputs": [],
   "source": [
    "from dgl.data import QM9"
   ]
  },
  {
   "cell_type": "code",
   "execution_count": null,
   "id": "20c46acd-c7e0-4edf-9a16-ee109f77a36d",
   "metadata": {},
   "outputs": [],
   "source": [
    "dataset = QM9(label_keys=[\"mu\"])"
   ]
  },
  {
   "cell_type": "code",
   "execution_count": null,
   "id": "5baffc7e-320b-4089-aa93-d3af35c3fc23",
   "metadata": {},
   "outputs": [],
   "source": [
    "dataset"
   ]
  },
  {
   "cell_type": "code",
   "execution_count": null,
   "id": "a420208a-8d13-4de1-a037-9e6e8ae9790a",
   "metadata": {},
   "outputs": [],
   "source": [
    "print(dataset)"
   ]
  },
  {
   "cell_type": "code",
   "execution_count": null,
   "id": "3d247b50-598f-4499-bea6-042435065048",
   "metadata": {},
   "outputs": [],
   "source": [
    "for g, label in dataset:\n",
    "    print(g)\n",
    "    print(label)\n",
    "    print(g.ndata['R'])\n",
    "    print(g.ndata['Z'])\n",
    "    break"
   ]
  },
  {
   "cell_type": "code",
   "execution_count": null,
   "id": "1c678e7f-da35-41c1-9ef7-d9e25580ad6f",
   "metadata": {},
   "outputs": [],
   "source": []
  }
 ],
 "metadata": {
  "kernelspec": {
   "display_name": "Python 3 (ipykernel)",
   "language": "python",
   "name": "python3"
  },
  "language_info": {
   "codemirror_mode": {
    "name": "ipython",
    "version": 3
   },
   "file_extension": ".py",
   "mimetype": "text/x-python",
   "name": "python",
   "nbconvert_exporter": "python",
   "pygments_lexer": "ipython3",
   "version": "3.7.0"
  },
  "widgets": {
   "application/vnd.jupyter.widget-state+json": {
    "state": {
     "10412569a8b6474ab1d1356c8fbea1e7": {
      "model_module": "@jupyter-widgets/controls",
      "model_module_version": "2.0.0",
      "model_name": "HTMLModel",
      "state": {
       "layout": "IPY_MODEL_bd87e798b3d0417bb5c50483322a338f",
       "style": "IPY_MODEL_c76bd913b5a24582a476fa85cafc0534",
       "value": " 83.8M/83.8M [00:04&lt;00:00, 22.1MB/s]"
      }
     },
     "122d7287355c48128d6f9d35c960f7e1": {
      "model_module": "@jupyter-widgets/controls",
      "model_module_version": "2.0.0",
      "model_name": "HBoxModel",
      "state": {
       "children": [
        "IPY_MODEL_5ad2e92ccd6d4c94936a02789111f034",
        "IPY_MODEL_5e80c2f470cc42cda24f57823e8f3cc7",
        "IPY_MODEL_10412569a8b6474ab1d1356c8fbea1e7"
       ],
       "layout": "IPY_MODEL_e75f61670f4f4ae78a447f77660f8cc5"
      }
     },
     "4694b3997c89455fb87e4fb529941597": {
      "model_module": "@jupyter-widgets/base",
      "model_module_version": "2.0.0",
      "model_name": "LayoutModel",
      "state": {}
     },
     "512a4e6dccdf489683f459f2d95957c2": {
      "model_module": "@jupyter-widgets/base",
      "model_module_version": "2.0.0",
      "model_name": "LayoutModel",
      "state": {}
     },
     "5ad2e92ccd6d4c94936a02789111f034": {
      "model_module": "@jupyter-widgets/controls",
      "model_module_version": "2.0.0",
      "model_name": "HTMLModel",
      "state": {
       "layout": "IPY_MODEL_4694b3997c89455fb87e4fb529941597",
       "style": "IPY_MODEL_83a35ec7eb9b48f392270c687b8c09af",
       "value": "/home/alexeyorlov53/.dgl/qm9_eV.npz: 100%"
      }
     },
     "5e80c2f470cc42cda24f57823e8f3cc7": {
      "model_module": "@jupyter-widgets/controls",
      "model_module_version": "2.0.0",
      "model_name": "FloatProgressModel",
      "state": {
       "bar_style": "success",
       "layout": "IPY_MODEL_512a4e6dccdf489683f459f2d95957c2",
       "max": 83827756,
       "style": "IPY_MODEL_d9d8eeb723984bf8b785b414545ba949",
       "value": 83827756
      }
     },
     "83a35ec7eb9b48f392270c687b8c09af": {
      "model_module": "@jupyter-widgets/controls",
      "model_module_version": "2.0.0",
      "model_name": "HTMLStyleModel",
      "state": {
       "description_width": "",
       "font_size": null,
       "text_color": null
      }
     },
     "bd87e798b3d0417bb5c50483322a338f": {
      "model_module": "@jupyter-widgets/base",
      "model_module_version": "2.0.0",
      "model_name": "LayoutModel",
      "state": {}
     },
     "c76bd913b5a24582a476fa85cafc0534": {
      "model_module": "@jupyter-widgets/controls",
      "model_module_version": "2.0.0",
      "model_name": "HTMLStyleModel",
      "state": {
       "description_width": "",
       "font_size": null,
       "text_color": null
      }
     },
     "d9d8eeb723984bf8b785b414545ba949": {
      "model_module": "@jupyter-widgets/controls",
      "model_module_version": "2.0.0",
      "model_name": "ProgressStyleModel",
      "state": {
       "description_width": ""
      }
     },
     "e75f61670f4f4ae78a447f77660f8cc5": {
      "model_module": "@jupyter-widgets/base",
      "model_module_version": "2.0.0",
      "model_name": "LayoutModel",
      "state": {}
     }
    },
    "version_major": 2,
    "version_minor": 0
   }
  }
 },
 "nbformat": 4,
 "nbformat_minor": 5
}
