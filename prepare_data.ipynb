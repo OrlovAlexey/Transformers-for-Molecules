{
 "cells": [
  {
   "cell_type": "code",
   "execution_count": 11,
   "id": "038109ab-2650-4f88-a206-04fea97fa3af",
   "metadata": {},
   "outputs": [],
   "source": [
    "import pandas as pd\n",
    "from tqdm.auto import tqdm"
   ]
  },
  {
   "cell_type": "code",
   "execution_count": 4,
   "id": "c2f0c041-c495-4099-a77b-1a35c13dac8c",
   "metadata": {},
   "outputs": [],
   "source": [
    "ecfp0 = list()\n",
    "ecfp1 = list()\n",
    "ecfp2 = list()"
   ]
  },
  {
   "cell_type": "code",
   "execution_count": 5,
   "id": "2f383d41-9f7f-4258-bc57-1d8e1f93bd94",
   "metadata": {},
   "outputs": [
    {
     "data": {
      "application/vnd.jupyter.widget-view+json": {
       "model_id": "7eb121334fcd4fa08e3e07a689d8bee9",
       "version_major": 2,
       "version_minor": 0
      },
      "text/plain": [
       "  0%|          | 0/20 [00:00<?, ?it/s]"
      ]
     },
     "metadata": {},
     "output_type": "display_data"
    },
    {
     "data": {
      "application/vnd.jupyter.widget-view+json": {
       "model_id": "a38bc4dee413489d95281ffab39e46d0",
       "version_major": 2,
       "version_minor": 0
      },
      "text/plain": [
       "  0%|          | 0/500000 [00:00<?, ?it/s]"
      ]
     },
     "metadata": {},
     "output_type": "display_data"
    },
    {
     "data": {
      "application/vnd.jupyter.widget-view+json": {
       "model_id": "e5575e1ffa4e4a0d95326bbd6bec1cc4",
       "version_major": 2,
       "version_minor": 0
      },
      "text/plain": [
       "  0%|          | 0/500000 [00:00<?, ?it/s]"
      ]
     },
     "metadata": {},
     "output_type": "display_data"
    },
    {
     "data": {
      "application/vnd.jupyter.widget-view+json": {
       "model_id": "50b7c251dd314236a4e5fb2895a0f7cb",
       "version_major": 2,
       "version_minor": 0
      },
      "text/plain": [
       "  0%|          | 0/500000 [00:00<?, ?it/s]"
      ]
     },
     "metadata": {},
     "output_type": "display_data"
    },
    {
     "data": {
      "application/vnd.jupyter.widget-view+json": {
       "model_id": "af16108e60fb43a6b23375228f147ea5",
       "version_major": 2,
       "version_minor": 0
      },
      "text/plain": [
       "  0%|          | 0/500000 [00:00<?, ?it/s]"
      ]
     },
     "metadata": {},
     "output_type": "display_data"
    },
    {
     "data": {
      "application/vnd.jupyter.widget-view+json": {
       "model_id": "c4408dbd7aba49e0aa2ecb40b37dec0c",
       "version_major": 2,
       "version_minor": 0
      },
      "text/plain": [
       "  0%|          | 0/500000 [00:00<?, ?it/s]"
      ]
     },
     "metadata": {},
     "output_type": "display_data"
    },
    {
     "data": {
      "application/vnd.jupyter.widget-view+json": {
       "model_id": "72d425fd9bda4b42b003056562ff7929",
       "version_major": 2,
       "version_minor": 0
      },
      "text/plain": [
       "  0%|          | 0/500000 [00:00<?, ?it/s]"
      ]
     },
     "metadata": {},
     "output_type": "display_data"
    },
    {
     "data": {
      "application/vnd.jupyter.widget-view+json": {
       "model_id": "5646c422995b4cc1a812965065a4ebc0",
       "version_major": 2,
       "version_minor": 0
      },
      "text/plain": [
       "  0%|          | 0/500000 [00:00<?, ?it/s]"
      ]
     },
     "metadata": {},
     "output_type": "display_data"
    },
    {
     "data": {
      "application/vnd.jupyter.widget-view+json": {
       "model_id": "e8bc8a3e30a64cb683db3f2ebc8ed637",
       "version_major": 2,
       "version_minor": 0
      },
      "text/plain": [
       "  0%|          | 0/500000 [00:00<?, ?it/s]"
      ]
     },
     "metadata": {},
     "output_type": "display_data"
    },
    {
     "data": {
      "application/vnd.jupyter.widget-view+json": {
       "model_id": "29863f62c0874fe1b1d79d4b3c1ff01d",
       "version_major": 2,
       "version_minor": 0
      },
      "text/plain": [
       "  0%|          | 0/500000 [00:00<?, ?it/s]"
      ]
     },
     "metadata": {},
     "output_type": "display_data"
    },
    {
     "data": {
      "application/vnd.jupyter.widget-view+json": {
       "model_id": "c9099414d98e47b4af37db054d8cbef3",
       "version_major": 2,
       "version_minor": 0
      },
      "text/plain": [
       "  0%|          | 0/500000 [00:00<?, ?it/s]"
      ]
     },
     "metadata": {},
     "output_type": "display_data"
    },
    {
     "data": {
      "application/vnd.jupyter.widget-view+json": {
       "model_id": "efd81faecd0749ff833bd973451dae3a",
       "version_major": 2,
       "version_minor": 0
      },
      "text/plain": [
       "  0%|          | 0/500000 [00:00<?, ?it/s]"
      ]
     },
     "metadata": {},
     "output_type": "display_data"
    },
    {
     "data": {
      "application/vnd.jupyter.widget-view+json": {
       "model_id": "2cb373044ed345149846d1eaf80c1e9e",
       "version_major": 2,
       "version_minor": 0
      },
      "text/plain": [
       "  0%|          | 0/500000 [00:00<?, ?it/s]"
      ]
     },
     "metadata": {},
     "output_type": "display_data"
    },
    {
     "data": {
      "application/vnd.jupyter.widget-view+json": {
       "model_id": "61c09b857f6440c293e744f84724851f",
       "version_major": 2,
       "version_minor": 0
      },
      "text/plain": [
       "  0%|          | 0/500000 [00:00<?, ?it/s]"
      ]
     },
     "metadata": {},
     "output_type": "display_data"
    },
    {
     "data": {
      "application/vnd.jupyter.widget-view+json": {
       "model_id": "89763b31a1d74d3abe1a313073ff1f77",
       "version_major": 2,
       "version_minor": 0
      },
      "text/plain": [
       "  0%|          | 0/500000 [00:00<?, ?it/s]"
      ]
     },
     "metadata": {},
     "output_type": "display_data"
    },
    {
     "data": {
      "application/vnd.jupyter.widget-view+json": {
       "model_id": "9c3aaeb4b8f64019b04da9d067d7de2b",
       "version_major": 2,
       "version_minor": 0
      },
      "text/plain": [
       "  0%|          | 0/500000 [00:00<?, ?it/s]"
      ]
     },
     "metadata": {},
     "output_type": "display_data"
    },
    {
     "data": {
      "application/vnd.jupyter.widget-view+json": {
       "model_id": "89144216bde04ce49f597d34a22385e7",
       "version_major": 2,
       "version_minor": 0
      },
      "text/plain": [
       "  0%|          | 0/500000 [00:00<?, ?it/s]"
      ]
     },
     "metadata": {},
     "output_type": "display_data"
    },
    {
     "data": {
      "application/vnd.jupyter.widget-view+json": {
       "model_id": "7b2cbb5ba7bb438cbb9882543b65b365",
       "version_major": 2,
       "version_minor": 0
      },
      "text/plain": [
       "  0%|          | 0/500000 [00:00<?, ?it/s]"
      ]
     },
     "metadata": {},
     "output_type": "display_data"
    },
    {
     "data": {
      "application/vnd.jupyter.widget-view+json": {
       "model_id": "04d5e98cecfe42e5a0eff6f727744882",
       "version_major": 2,
       "version_minor": 0
      },
      "text/plain": [
       "  0%|          | 0/500000 [00:00<?, ?it/s]"
      ]
     },
     "metadata": {},
     "output_type": "display_data"
    },
    {
     "data": {
      "application/vnd.jupyter.widget-view+json": {
       "model_id": "ce91ec25a56a4ad89d432900df8058ea",
       "version_major": 2,
       "version_minor": 0
      },
      "text/plain": [
       "  0%|          | 0/500000 [00:00<?, ?it/s]"
      ]
     },
     "metadata": {},
     "output_type": "display_data"
    },
    {
     "data": {
      "application/vnd.jupyter.widget-view+json": {
       "model_id": "842f49cc892946c2a1a9bd2f72671329",
       "version_major": 2,
       "version_minor": 0
      },
      "text/plain": [
       "  0%|          | 0/500000 [00:00<?, ?it/s]"
      ]
     },
     "metadata": {},
     "output_type": "display_data"
    }
   ],
   "source": [
    "# read from files\n",
    "for i in tqdm(range(20)):\n",
    "    data_chunk = pd.read_hdf(f'data_10M/data_mol/data{i}.h5')\n",
    "    for efcp in tqdm(data_chunk['ECFP']):\n",
    "        ecfp0.append(efcp[0])\n",
    "        ecfp1.append(efcp[1])\n",
    "        ecfp2.append(efcp[2])"
   ]
  },
  {
   "cell_type": "code",
   "execution_count": 8,
   "id": "7620f3e7-b4bf-4e73-8c45-03b777f7dc69",
   "metadata": {},
   "outputs": [],
   "source": [
    "def write_to_file(name: str, efcp_dataset):\n",
    "    with open(f'efcps_full/{name}.txt', 'w+') as f:\n",
    "        for ecpf in efcp_dataset:\n",
    "            for number in ecpf:\n",
    "                f.write(number)\n",
    "                f.write(' ')\n",
    "            f.write('\\n')"
   ]
  },
  {
   "cell_type": "code",
   "execution_count": 9,
   "id": "de2d19c9-63f6-4cc0-aa6d-ad0bd3ddb855",
   "metadata": {},
   "outputs": [],
   "source": [
    "write_to_file('ecfp0', ecfp0)\n",
    "write_to_file('ecfp1', ecfp1)\n",
    "write_to_file('ecfp2', ecfp2)"
   ]
  },
  {
   "cell_type": "code",
   "execution_count": 12,
   "id": "a613aeae-e8c6-44c1-af45-6ab07b51ce8b",
   "metadata": {},
   "outputs": [],
   "source": [
    "data_chunk = pd.read_hdf(f'data_10M/data_mol/data0.h5')"
   ]
  },
  {
   "cell_type": "code",
   "execution_count": 15,
   "id": "695b895d-a47e-4327-a0be-836bd8dd5873",
   "metadata": {},
   "outputs": [
    {
     "data": {
      "text/plain": [
       "[['2246728737',\n",
       "  '848128881',\n",
       "  '3217380708',\n",
       "  '3218693969',\n",
       "  '3218693969',\n",
       "  '3218693969',\n",
       "  '3218693969',\n",
       "  '3218693969',\n",
       "  '3217380708',\n",
       "  '3218693969',\n",
       "  '3218693969',\n",
       "  '3218693969',\n",
       "  '3218693969',\n",
       "  '3217380708',\n",
       "  '2246699815',\n",
       "  '864942730',\n",
       "  '847961216',\n",
       "  '2245384272',\n",
       "  '2976816164',\n",
       "  '864662311',\n",
       "  '2968968094',\n",
       "  '2968968094',\n",
       "  '3189457552',\n",
       "  '2968968094',\n",
       "  '2968968094'],\n",
       " ['3818546315',\n",
       "  '1898153655',\n",
       "  '1449131080',\n",
       "  '951226070',\n",
       "  '98513984',\n",
       "  '98513984',\n",
       "  '98513984',\n",
       "  '951226070',\n",
       "  '1534595042',\n",
       "  '951226070',\n",
       "  '98513984',\n",
       "  '98513984',\n",
       "  '951226070',\n",
       "  '2309124039',\n",
       "  '1054767590',\n",
       "  '1510328189',\n",
       "  '717512901',\n",
       "  '4203187903',\n",
       "  '2026801565',\n",
       "  '265892994',\n",
       "  '2119439498',\n",
       "  '1257718710',\n",
       "  '3203709451',\n",
       "  '1257718710',\n",
       "  '2119439498'],\n",
       " ['1151493923',\n",
       "  '2434874479',\n",
       "  '2739425568',\n",
       "  '3999906991',\n",
       "  '2763854213',\n",
       "  '3999906991',\n",
       "  '2739425568',\n",
       "  '3776989082',\n",
       "  '2688578898',\n",
       "  '3999906991',\n",
       "  '3999906991',\n",
       "  '2987120039',\n",
       "  '2054202824',\n",
       "  '2843970853',\n",
       "  '221477997',\n",
       "  '1565353100',\n",
       "  '2268143266',\n",
       "  '3933539141',\n",
       "  '2480733984',\n",
       "  '3888780669',\n",
       "  '2480733984',\n",
       "  '3933539141']]"
      ]
     },
     "execution_count": 15,
     "metadata": {},
     "output_type": "execute_result"
    }
   ],
   "source": [
    "# example\n",
    "data_chunk['ECFP'][0]"
   ]
  },
  {
   "cell_type": "code",
   "execution_count": 2,
   "id": "df626ae7-57d4-436d-a725-5bad36ea38e8",
   "metadata": {},
   "outputs": [],
   "source": [
    "from dgl.data import QM9"
   ]
  },
  {
   "cell_type": "code",
   "execution_count": 3,
   "id": "20c46acd-c7e0-4edf-9a16-ee109f77a36d",
   "metadata": {},
   "outputs": [
    {
     "name": "stdout",
     "output_type": "stream",
     "text": [
      "Downloading /home/alexeyorlov53/.dgl/qm9_eV.npz from https://data.dgl.ai/dataset/qm9_eV.npz...\n"
     ]
    },
    {
     "data": {
      "application/vnd.jupyter.widget-view+json": {
       "model_id": "122d7287355c48128d6f9d35c960f7e1",
       "version_major": 2,
       "version_minor": 0
      },
      "text/plain": [
       "/home/alexeyorlov53/.dgl/qm9_eV.npz:   0%|          | 0.00/83.8M [00:00<?, ?B/s]"
      ]
     },
     "metadata": {},
     "output_type": "display_data"
    }
   ],
   "source": [
    "dataset = QM9(label_keys=[\"mu\"])"
   ]
  },
  {
   "cell_type": "code",
   "execution_count": 4,
   "id": "5baffc7e-320b-4089-aa93-d3af35c3fc23",
   "metadata": {},
   "outputs": [
    {
     "data": {
      "text/plain": [
       "Dataset(\"qm9\", num_graphs=130831, save_path=/home/alexeyorlov53/.dgl/qm9_05cd79f0)"
      ]
     },
     "execution_count": 4,
     "metadata": {},
     "output_type": "execute_result"
    }
   ],
   "source": [
    "dataset"
   ]
  },
  {
   "cell_type": "code",
   "execution_count": 5,
   "id": "a420208a-8d13-4de1-a037-9e6e8ae9790a",
   "metadata": {},
   "outputs": [
    {
     "name": "stdout",
     "output_type": "stream",
     "text": [
      "Dataset(\"qm9\", num_graphs=130831, save_path=/home/alexeyorlov53/.dgl/qm9_05cd79f0)\n"
     ]
    }
   ],
   "source": [
    "print(dataset)"
   ]
  },
  {
   "cell_type": "code",
   "execution_count": 7,
   "id": "3d247b50-598f-4499-bea6-042435065048",
   "metadata": {},
   "outputs": [
    {
     "name": "stdout",
     "output_type": "stream",
     "text": [
      "Graph(num_nodes=5, num_edges=20,\n",
      "      ndata_schemes={'R': Scheme(shape=(3,), dtype=torch.float32), 'Z': Scheme(shape=(), dtype=torch.int64)}\n",
      "      edata_schemes={})\n",
      "tensor([0.])\n",
      "tensor([[-1.2698e-02,  1.0858e+00,  8.0010e-03],\n",
      "        [ 2.1504e-03, -6.0313e-03,  1.9761e-03],\n",
      "        [ 1.0117e+00,  1.4638e+00,  2.7657e-04],\n",
      "        [-5.4082e-01,  1.4475e+00, -8.7664e-01],\n",
      "        [-5.2381e-01,  1.4379e+00,  9.0640e-01]])\n",
      "tensor([6, 1, 1, 1, 1])\n"
     ]
    }
   ],
   "source": [
    "for g, label in dataset:\n",
    "    print(g)\n",
    "    print(label)\n",
    "    print(g.ndata['R'])\n",
    "    print(g.ndata['Z'])\n",
    "    break"
   ]
  },
  {
   "cell_type": "code",
   "execution_count": null,
   "id": "1c678e7f-da35-41c1-9ef7-d9e25580ad6f",
   "metadata": {},
   "outputs": [],
   "source": []
  }
 ],
 "metadata": {
  "kernelspec": {
   "display_name": "Python 3 (ipykernel)",
   "language": "python",
   "name": "python3"
  },
  "language_info": {
   "codemirror_mode": {
    "name": "ipython",
    "version": 3
   },
   "file_extension": ".py",
   "mimetype": "text/x-python",
   "name": "python",
   "nbconvert_exporter": "python",
   "pygments_lexer": "ipython3",
   "version": "3.11.5"
  },
  "widgets": {
   "application/vnd.jupyter.widget-state+json": {
    "state": {
     "10412569a8b6474ab1d1356c8fbea1e7": {
      "model_module": "@jupyter-widgets/controls",
      "model_module_version": "2.0.0",
      "model_name": "HTMLModel",
      "state": {
       "layout": "IPY_MODEL_bd87e798b3d0417bb5c50483322a338f",
       "style": "IPY_MODEL_c76bd913b5a24582a476fa85cafc0534",
       "value": " 83.8M/83.8M [00:04&lt;00:00, 22.1MB/s]"
      }
     },
     "122d7287355c48128d6f9d35c960f7e1": {
      "model_module": "@jupyter-widgets/controls",
      "model_module_version": "2.0.0",
      "model_name": "HBoxModel",
      "state": {
       "children": [
        "IPY_MODEL_5ad2e92ccd6d4c94936a02789111f034",
        "IPY_MODEL_5e80c2f470cc42cda24f57823e8f3cc7",
        "IPY_MODEL_10412569a8b6474ab1d1356c8fbea1e7"
       ],
       "layout": "IPY_MODEL_e75f61670f4f4ae78a447f77660f8cc5"
      }
     },
     "4694b3997c89455fb87e4fb529941597": {
      "model_module": "@jupyter-widgets/base",
      "model_module_version": "2.0.0",
      "model_name": "LayoutModel",
      "state": {}
     },
     "512a4e6dccdf489683f459f2d95957c2": {
      "model_module": "@jupyter-widgets/base",
      "model_module_version": "2.0.0",
      "model_name": "LayoutModel",
      "state": {}
     },
     "5ad2e92ccd6d4c94936a02789111f034": {
      "model_module": "@jupyter-widgets/controls",
      "model_module_version": "2.0.0",
      "model_name": "HTMLModel",
      "state": {
       "layout": "IPY_MODEL_4694b3997c89455fb87e4fb529941597",
       "style": "IPY_MODEL_83a35ec7eb9b48f392270c687b8c09af",
       "value": "/home/alexeyorlov53/.dgl/qm9_eV.npz: 100%"
      }
     },
     "5e80c2f470cc42cda24f57823e8f3cc7": {
      "model_module": "@jupyter-widgets/controls",
      "model_module_version": "2.0.0",
      "model_name": "FloatProgressModel",
      "state": {
       "bar_style": "success",
       "layout": "IPY_MODEL_512a4e6dccdf489683f459f2d95957c2",
       "max": 83827756,
       "style": "IPY_MODEL_d9d8eeb723984bf8b785b414545ba949",
       "value": 83827756
      }
     },
     "83a35ec7eb9b48f392270c687b8c09af": {
      "model_module": "@jupyter-widgets/controls",
      "model_module_version": "2.0.0",
      "model_name": "HTMLStyleModel",
      "state": {
       "description_width": "",
       "font_size": null,
       "text_color": null
      }
     },
     "bd87e798b3d0417bb5c50483322a338f": {
      "model_module": "@jupyter-widgets/base",
      "model_module_version": "2.0.0",
      "model_name": "LayoutModel",
      "state": {}
     },
     "c76bd913b5a24582a476fa85cafc0534": {
      "model_module": "@jupyter-widgets/controls",
      "model_module_version": "2.0.0",
      "model_name": "HTMLStyleModel",
      "state": {
       "description_width": "",
       "font_size": null,
       "text_color": null
      }
     },
     "d9d8eeb723984bf8b785b414545ba949": {
      "model_module": "@jupyter-widgets/controls",
      "model_module_version": "2.0.0",
      "model_name": "ProgressStyleModel",
      "state": {
       "description_width": ""
      }
     },
     "e75f61670f4f4ae78a447f77660f8cc5": {
      "model_module": "@jupyter-widgets/base",
      "model_module_version": "2.0.0",
      "model_name": "LayoutModel",
      "state": {}
     }
    },
    "version_major": 2,
    "version_minor": 0
   }
  }
 },
 "nbformat": 4,
 "nbformat_minor": 5
}
