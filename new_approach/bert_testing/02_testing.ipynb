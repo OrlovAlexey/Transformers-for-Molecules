{
 "cells": [
  {
   "cell_type": "markdown",
   "metadata": {},
   "source": [
    "# File-Mask Testing\n",
    "\n",
    "In this notebook we'll setup a fill-mask pipeline so we can test our new model qualitatively."
   ]
  },
  {
   "cell_type": "code",
   "execution_count": 1,
   "metadata": {
    "execution": {
     "iopub.execute_input": "2025-05-11T21:53:07.354502Z",
     "iopub.status.busy": "2025-05-11T21:53:07.354265Z",
     "iopub.status.idle": "2025-05-11T21:53:07.359068Z",
     "shell.execute_reply": "2025-05-11T21:53:07.358474Z"
    }
   },
   "outputs": [],
   "source": [
    "# !pip install numpy\n",
    "# !pip install torch\n",
    "# !pip install transformers\n",
    "# !pip install tensorflowÍ\n",
    "# !pip install wandb"
   ]
  },
  {
   "cell_type": "code",
   "execution_count": 2,
   "metadata": {
    "execution": {
     "iopub.execute_input": "2025-05-11T21:53:07.364474Z",
     "iopub.status.busy": "2025-05-11T21:53:07.362425Z",
     "iopub.status.idle": "2025-05-11T21:53:14.540050Z",
     "shell.execute_reply": "2025-05-11T21:53:14.539273Z"
    }
   },
   "outputs": [],
   "source": [
    "import torch\n",
    "from tqdm.auto import tqdm\n",
    "import wandb\n",
    "from importlib import reload\n",
    "import pandas as pd"
   ]
  },
  {
   "cell_type": "code",
   "execution_count": 3,
   "metadata": {
    "execution": {
     "iopub.execute_input": "2025-05-11T21:53:14.547272Z",
     "iopub.status.busy": "2025-05-11T21:53:14.544686Z",
     "iopub.status.idle": "2025-05-11T21:53:18.038958Z",
     "shell.execute_reply": "2025-05-11T21:53:18.038124Z"
    }
   },
   "outputs": [
    {
     "name": "stdout",
     "output_type": "stream",
     "text": [
      "\u001b[34m\u001b[1mwandb\u001b[0m: Appending key for api.wandb.ai to your netrc file: /home/alexeyorlov53/.netrc\n"
     ]
    }
   ],
   "source": [
    "!python3 -m wandb login eb7b1964fb84cd81de96b2a273ecf2bb6254aeac"
   ]
  },
  {
   "cell_type": "code",
   "execution_count": 4,
   "metadata": {
    "execution": {
     "iopub.execute_input": "2025-05-11T21:53:18.043237Z",
     "iopub.status.busy": "2025-05-11T21:53:18.042860Z",
     "iopub.status.idle": "2025-05-11T21:53:18.048765Z",
     "shell.execute_reply": "2025-05-11T21:53:18.048159Z"
    }
   },
   "outputs": [],
   "source": [
    "samples_count = '100k'\n",
    "model_name = f'd-bert_{samples_count}'\n",
    "\n",
    "dataset_name = 'bbbp'\n",
    "target = 'p_np'"
   ]
  },
  {
   "cell_type": "code",
   "execution_count": 5,
   "metadata": {
    "execution": {
     "iopub.execute_input": "2025-05-11T21:53:18.052370Z",
     "iopub.status.busy": "2025-05-11T21:53:18.052091Z",
     "iopub.status.idle": "2025-05-11T21:53:18.059220Z",
     "shell.execute_reply": "2025-05-11T21:53:18.058613Z"
    }
   },
   "outputs": [],
   "source": [
    "tqdm.pandas()\n",
    "\n",
    "def read_data(part: str):\n",
    "    data = pd.read_csv(f'{dataset_name}/{dataset_name}_{part}.csv')\n",
    "    import ast\n",
    "\n",
    "    def string_to_array(input_string):\n",
    "        try:\n",
    "            # Use ast.literal_eval to safely evaluate the string as a Python literal\n",
    "            result = ast.literal_eval(input_string)\n",
    "            return result\n",
    "        except (SyntaxError, ValueError) as e:\n",
    "            print(f\"Error parsing the string: {e}\")\n",
    "            return None\n",
    "    data['descriptors'] = data['descriptors'].progress_apply(lambda x: string_to_array(x))\n",
    "\n",
    "    data = data.dropna(subset=[target]).reset_index(drop=True)\n",
    "    return data"
   ]
  },
  {
   "cell_type": "code",
   "execution_count": 6,
   "metadata": {
    "execution": {
     "iopub.execute_input": "2025-05-11T21:53:18.063372Z",
     "iopub.status.busy": "2025-05-11T21:53:18.062325Z",
     "iopub.status.idle": "2025-05-11T21:53:19.477826Z",
     "shell.execute_reply": "2025-05-11T21:53:19.476955Z"
    }
   },
   "outputs": [
    {
     "data": {
      "application/vnd.jupyter.widget-view+json": {
       "model_id": "cef496838831432ab48078a2c65c1a17",
       "version_major": 2,
       "version_minor": 0
      },
      "text/plain": [
       "  0%|          | 0/1550 [00:00<?, ?it/s]"
      ]
     },
     "metadata": {},
     "output_type": "display_data"
    },
    {
     "data": {
      "application/vnd.jupyter.widget-view+json": {
       "model_id": "4be2cdc9ad4443f6bb91b485067ed110",
       "version_major": 2,
       "version_minor": 0
      },
      "text/plain": [
       "  0%|          | 0/194 [00:00<?, ?it/s]"
      ]
     },
     "metadata": {},
     "output_type": "display_data"
    },
    {
     "data": {
      "application/vnd.jupyter.widget-view+json": {
       "model_id": "5cc3606291584706a116b0ceb8b8f8fc",
       "version_major": 2,
       "version_minor": 0
      },
      "text/plain": [
       "  0%|          | 0/194 [00:00<?, ?it/s]"
      ]
     },
     "metadata": {},
     "output_type": "display_data"
    },
    {
     "data": {
      "text/plain": [
       "[[[4, 8, 1, 0, 0, 0, 0, 0, 0, 0, 0, 0],\n",
       "  [5],\n",
       "  [3, 1, 0, 0],\n",
       "  [12],\n",
       "  [20],\n",
       "  [4],\n",
       "  [2],\n",
       "  [0],\n",
       "  [0]],\n",
       " [[0, 2, 1, 0, 0, 0, 0, 0, 0, 0, 0, 0],\n",
       "  [1],\n",
       "  [0, 0, 0, 0],\n",
       "  [2],\n",
       "  [0],\n",
       "  [3],\n",
       "  [2],\n",
       "  [0],\n",
       "  [0]],\n",
       " [[4, 10, 0, 0, 0, 0, 0, 0, 0, 0, 0, 0],\n",
       "  [4],\n",
       "  [3, 0, 0, 0],\n",
       "  [13],\n",
       "  [9],\n",
       "  [4],\n",
       "  [2],\n",
       "  [0],\n",
       "  [0]],\n",
       " [[6, 6, 0, 0, 0, 0, 0, 0, 0, 0, 0, 0],\n",
       "  [6],\n",
       "  [0, 0, 0, 6],\n",
       "  [12],\n",
       "  [27],\n",
       "  [4],\n",
       "  [2],\n",
       "  [6],\n",
       "  [1]],\n",
       " [[0, 3, 0, 1, 0, 0, 0, 0, 0, 0, 0, 0],\n",
       "  [1],\n",
       "  [0, 0, 0, 0],\n",
       "  [3],\n",
       "  [0],\n",
       "  [3],\n",
       "  [2],\n",
       "  [0],\n",
       "  [0]],\n",
       " [[2, 5, 0, 0, 0, 0, 0, 1, 0, 0, 0, 0],\n",
       "  [3],\n",
       "  [2, 0, 0, 0],\n",
       "  [7],\n",
       "  [4],\n",
       "  [4],\n",
       "  [2],\n",
       "  [0],\n",
       "  [0]],\n",
       " [[2, 5, 0, 0, 0, 0, 0, 1, 0, 0, 0, 0],\n",
       "  [3],\n",
       "  [2, 0, 0, 0],\n",
       "  [7],\n",
       "  [4],\n",
       "  [4],\n",
       "  [2],\n",
       "  [0],\n",
       "  [0]],\n",
       " '$',\n",
       " [[4, 8, 2, 0, 0, 0, 0, 0, 0, 0, 0, 0],\n",
       "  [6],\n",
       "  [4, 1, 0, 0],\n",
       "  [13],\n",
       "  [32],\n",
       "  [4],\n",
       "  [2],\n",
       "  [0],\n",
       "  [0]],\n",
       " [[4, 10, 1, 0, 0, 0, 0, 0, 0, 0, 0, 0],\n",
       "  [5],\n",
       "  [4, 0, 0, 0],\n",
       "  [14],\n",
       "  [16],\n",
       "  [4],\n",
       "  [2],\n",
       "  [0],\n",
       "  [0]],\n",
       " [[2, 6, 0, 1, 0, 0, 0, 1, 0, 0, 0, 0],\n",
       "  [4],\n",
       "  [3, 0, 0, 0],\n",
       "  [9],\n",
       "  [10],\n",
       "  [2],\n",
       "  [2],\n",
       "  [0],\n",
       "  [0]],\n",
       " [[2, 6, 0, 1, 0, 0, 0, 1, 0, 0, 0, 0],\n",
       "  [4],\n",
       "  [3, 0, 0, 0],\n",
       "  [9],\n",
       "  [10],\n",
       "  [2],\n",
       "  [2],\n",
       "  [0],\n",
       "  [0]],\n",
       " [[6, 7, 0, 1, 0, 0, 0, 0, 0, 0, 0, 0],\n",
       "  [7],\n",
       "  [1, 0, 0, 6],\n",
       "  [14],\n",
       "  [42],\n",
       "  [2],\n",
       "  [2],\n",
       "  [6],\n",
       "  [1]],\n",
       " [[10, 12, 1, 0, 0, 0, 0, 0, 0, 0, 0, 0],\n",
       "  [11],\n",
       "  [4, 1, 0, 6],\n",
       "  [23],\n",
       "  [182],\n",
       "  [3],\n",
       "  [2],\n",
       "  [6],\n",
       "  [1]]]"
      ]
     },
     "execution_count": 6,
     "metadata": {},
     "output_type": "execute_result"
    }
   ],
   "source": [
    "data_train = read_data(\"train\")\n",
    "data_eval = read_data(\"valid\")\n",
    "data_test = read_data(\"test\")\n",
    "data_train['descriptors'][0]"
   ]
  },
  {
   "cell_type": "code",
   "execution_count": 7,
   "metadata": {
    "execution": {
     "iopub.execute_input": "2025-05-11T21:53:19.481634Z",
     "iopub.status.busy": "2025-05-11T21:53:19.480692Z",
     "iopub.status.idle": "2025-05-11T21:53:19.487469Z",
     "shell.execute_reply": "2025-05-11T21:53:19.486728Z"
    }
   },
   "outputs": [],
   "source": [
    "import shifter as sh\n",
    "reload(sh)\n",
    "\n",
    "shifter = sh.Shifter()"
   ]
  },
  {
   "cell_type": "code",
   "execution_count": 8,
   "metadata": {
    "execution": {
     "iopub.execute_input": "2025-05-11T21:53:19.490387Z",
     "iopub.status.busy": "2025-05-11T21:53:19.490181Z",
     "iopub.status.idle": "2025-05-11T21:53:19.652254Z",
     "shell.execute_reply": "2025-05-11T21:53:19.651462Z"
    }
   },
   "outputs": [],
   "source": [
    "for data in [data_train, data_eval, data_test]:\n",
    "    for descriptors_of_substructures in data['descriptors']:\n",
    "        shifter.shift(descriptors_of_substructures)"
   ]
  },
  {
   "cell_type": "code",
   "execution_count": 9,
   "metadata": {},
   "outputs": [
    {
     "data": {
      "text/plain": [
       "[[[10, 74, 127, 186, 246, 306, 366, 426, 486, 546, 606, 666],\n",
       "  [731],\n",
       "  [779, 827, 876, 926],\n",
       "  [988],\n",
       "  [1096],\n",
       "  [5580],\n",
       "  [5586],\n",
       "  [5593],\n",
       "  [5643]],\n",
       " [[6, 68, 127, 186, 246, 306, 366, 426, 486, 546, 606, 666],\n",
       "  [727],\n",
       "  [776, 826, 876, 926],\n",
       "  [978],\n",
       "  [1076],\n",
       "  [5579],\n",
       "  [5586],\n",
       "  [5593],\n",
       "  [5643]],\n",
       " [[10, 76, 126, 186, 246, 306, 366, 426, 486, 546, 606, 666],\n",
       "  [730],\n",
       "  [779, 826, 876, 926],\n",
       "  [989],\n",
       "  [1085],\n",
       "  [5580],\n",
       "  [5586],\n",
       "  [5593],\n",
       "  [5643]],\n",
       " [[12, 72, 126, 186, 246, 306, 366, 426, 486, 546, 606, 666],\n",
       "  [732],\n",
       "  [776, 826, 876, 932],\n",
       "  [988],\n",
       "  [1103],\n",
       "  [5580],\n",
       "  [5586],\n",
       "  [5599],\n",
       "  [5644]],\n",
       " [[6, 69, 126, 187, 246, 306, 366, 426, 486, 546, 606, 666],\n",
       "  [727],\n",
       "  [776, 826, 876, 926],\n",
       "  [979],\n",
       "  [1076],\n",
       "  [5579],\n",
       "  [5586],\n",
       "  [5593],\n",
       "  [5643]],\n",
       " [[8, 71, 126, 186, 246, 306, 366, 427, 486, 546, 606, 666],\n",
       "  [729],\n",
       "  [778, 826, 876, 926],\n",
       "  [983],\n",
       "  [1080],\n",
       "  [5580],\n",
       "  [5586],\n",
       "  [5593],\n",
       "  [5643]],\n",
       " [[8, 71, 126, 186, 246, 306, 366, 427, 486, 546, 606, 666],\n",
       "  [729],\n",
       "  [778, 826, 876, 926],\n",
       "  [983],\n",
       "  [1080],\n",
       "  [5580],\n",
       "  [5586],\n",
       "  [5593],\n",
       "  [5643]],\n",
       " '$',\n",
       " [[10, 74, 128, 186, 246, 306, 366, 426, 486, 546, 606, 666],\n",
       "  [732],\n",
       "  [780, 827, 876, 926],\n",
       "  [989],\n",
       "  [1108],\n",
       "  [5580],\n",
       "  [5586],\n",
       "  [5593],\n",
       "  [5643]],\n",
       " [[10, 76, 127, 186, 246, 306, 366, 426, 486, 546, 606, 666],\n",
       "  [731],\n",
       "  [780, 826, 876, 926],\n",
       "  [990],\n",
       "  [1092],\n",
       "  [5580],\n",
       "  [5586],\n",
       "  [5593],\n",
       "  [5643]],\n",
       " [[8, 72, 126, 187, 246, 306, 366, 427, 486, 546, 606, 666],\n",
       "  [730],\n",
       "  [779, 826, 876, 926],\n",
       "  [985],\n",
       "  [1086],\n",
       "  [5578],\n",
       "  [5586],\n",
       "  [5593],\n",
       "  [5643]],\n",
       " [[8, 72, 126, 187, 246, 306, 366, 427, 486, 546, 606, 666],\n",
       "  [730],\n",
       "  [779, 826, 876, 926],\n",
       "  [985],\n",
       "  [1086],\n",
       "  [5578],\n",
       "  [5586],\n",
       "  [5593],\n",
       "  [5643]],\n",
       " [[12, 73, 126, 187, 246, 306, 366, 426, 486, 546, 606, 666],\n",
       "  [733],\n",
       "  [777, 826, 876, 932],\n",
       "  [990],\n",
       "  [1118],\n",
       "  [5578],\n",
       "  [5586],\n",
       "  [5599],\n",
       "  [5644]],\n",
       " [[16, 78, 127, 186, 246, 306, 366, 426, 486, 546, 606, 666],\n",
       "  [737],\n",
       "  [780, 827, 876, 932],\n",
       "  [999],\n",
       "  [1258],\n",
       "  [5579],\n",
       "  [5586],\n",
       "  [5599],\n",
       "  [5644]]]"
      ]
     },
     "execution_count": 9,
     "metadata": {},
     "output_type": "execute_result"
    }
   ],
   "source": [
    "data_train['descriptors'][0]"
   ]
  },
  {
   "cell_type": "code",
   "execution_count": 10,
   "metadata": {
    "execution": {
     "iopub.execute_input": "2025-05-11T21:53:19.732771Z",
     "iopub.status.busy": "2025-05-11T21:53:19.731676Z",
     "iopub.status.idle": "2025-05-11T21:53:19.746777Z",
     "shell.execute_reply": "2025-05-11T21:53:19.745736Z"
    }
   },
   "outputs": [
    {
     "data": {
      "text/plain": [
       "<module 'tokenizer' from '/home/alexeyorlov53/Transformers-for-Molecules/new_approach/bert_testing/tokenizer.py'>"
      ]
     },
     "execution_count": 10,
     "metadata": {},
     "output_type": "execute_result"
    }
   ],
   "source": [
    "import tokenizer as tokenizer\n",
    "reload(tokenizer)"
   ]
  },
  {
   "cell_type": "code",
   "execution_count": 11,
   "metadata": {
    "execution": {
     "iopub.execute_input": "2025-05-11T21:53:19.793850Z",
     "iopub.status.busy": "2025-05-11T21:53:19.792802Z",
     "iopub.status.idle": "2025-05-11T21:53:19.807193Z",
     "shell.execute_reply": "2025-05-11T21:53:19.804040Z"
    }
   },
   "outputs": [],
   "source": [
    "def tokenize_descriptors(data, start = 0, end = -1):\n",
    "    sample = tokenizer.tokenize(data['descriptors'][start:end], max_length=512)\n",
    "    return torch.tensor(sample['input_ids']), torch.tensor(sample['attention_mask']), torch.tensor(data[target][start:end])"
   ]
  },
  {
   "cell_type": "code",
   "execution_count": 12,
   "metadata": {
    "execution": {
     "iopub.execute_input": "2025-05-11T21:53:19.811179Z",
     "iopub.status.busy": "2025-05-11T21:53:19.810950Z",
     "iopub.status.idle": "2025-05-11T21:53:23.814021Z",
     "shell.execute_reply": "2025-05-11T21:53:23.813024Z"
    }
   },
   "outputs": [],
   "source": [
    "train_input_ids, train_mask, train_targets                = tokenize_descriptors(data_train)\n",
    "validation_input_ids, validation_mask, validation_targets = tokenize_descriptors(data_eval)\n",
    "test_input_ids, test_mask, test_targets                   = tokenize_descriptors(data_test)"
   ]
  },
  {
   "cell_type": "code",
   "execution_count": 13,
   "metadata": {
    "execution": {
     "iopub.execute_input": "2025-05-11T21:53:23.837903Z",
     "iopub.status.busy": "2025-05-11T21:53:23.836517Z",
     "iopub.status.idle": "2025-05-11T21:53:23.857070Z",
     "shell.execute_reply": "2025-05-11T21:53:23.856489Z"
    }
   },
   "outputs": [
    {
     "name": "stdout",
     "output_type": "stream",
     "text": [
      "torch.Size([1549, 512])\n",
      "torch.Size([193, 512])\n",
      "torch.Size([193, 512])\n"
     ]
    }
   ],
   "source": [
    "print(train_input_ids.shape)\n",
    "print(validation_input_ids.shape)\n",
    "print(validation_input_ids.shape)"
   ]
  },
  {
   "cell_type": "code",
   "execution_count": 14,
   "metadata": {
    "execution": {
     "iopub.execute_input": "2025-05-11T21:53:23.859896Z",
     "iopub.status.busy": "2025-05-11T21:53:23.859703Z",
     "iopub.status.idle": "2025-05-11T21:53:23.871320Z",
     "shell.execute_reply": "2025-05-11T21:53:23.870738Z"
    }
   },
   "outputs": [
    {
     "data": {
      "text/plain": [
       "tensor([   0,   10,   74,  127,  186,  246,  306,  366,  426,  486,  546,  606,\n",
       "         666,  731,  779,  827,  876,  926,  988, 1096, 5580, 5586, 5593, 5643,\n",
       "           3,    6,   68,  127,  186,  246,  306,  366,  426,  486,  546,  606,\n",
       "         666,  727,  776,  826,  876,  926,  978, 1076, 5579, 5586, 5593, 5643,\n",
       "           3,   10,   76,  126,  186,  246,  306,  366,  426,  486,  546,  606,\n",
       "         666,  730,  779,  826,  876,  926,  989, 1085, 5580, 5586, 5593, 5643,\n",
       "           3,   12,   72,  126,  186,  246,  306,  366,  426,  486,  546,  606,\n",
       "         666,  732,  776,  826,  876,  932,  988, 1103, 5580, 5586, 5599, 5644,\n",
       "           3,    6,   69,  126,  187,  246,  306,  366,  426,  486,  546,  606,\n",
       "         666,  727,  776,  826,  876,  926,  979, 1076, 5579, 5586, 5593, 5643,\n",
       "           3,    8,   71,  126,  186,  246,  306,  366,  427,  486,  546,  606,\n",
       "         666,  729,  778,  826,  876,  926,  983, 1080, 5580, 5586, 5593, 5643,\n",
       "           3,    8,   71,  126,  186,  246,  306,  366,  427,  486,  546,  606,\n",
       "         666,  729,  778,  826,  876,  926,  983, 1080, 5580, 5586, 5593, 5643,\n",
       "           3,    5,   10,   74,  128,  186,  246,  306,  366,  426,  486,  546,\n",
       "         606,  666,  732,  780,  827,  876,  926,  989, 1108, 5580, 5586, 5593,\n",
       "        5643,    3,   10,   76,  127,  186,  246,  306,  366,  426,  486,  546,\n",
       "         606,  666,  731,  780,  826,  876,  926,  990, 1092, 5580, 5586, 5593,\n",
       "        5643,    3,    8,   72,  126,  187,  246,  306,  366,  427,  486,  546,\n",
       "         606,  666,  730,  779,  826,  876,  926,  985, 1086, 5578, 5586, 5593,\n",
       "        5643,    3,    8,   72,  126,  187,  246,  306,  366,  427,  486,  546,\n",
       "         606,  666,  730,  779,  826,  876,  926,  985, 1086, 5578, 5586, 5593,\n",
       "        5643,    3,   12,   73,  126,  187,  246,  306,  366,  426,  486,  546,\n",
       "         606,  666,  733,  777,  826,  876,  932,  990, 1118, 5578, 5586, 5599,\n",
       "        5644,    3,   16,   78,  127,  186,  246,  306,  366,  426,  486,  546,\n",
       "         606,  666,  737,  780,  827,  876,  932,  999, 1258, 5579, 5586, 5599,\n",
       "        5644,    2,    1,    1,    1,    1,    1,    1,    1,    1,    1,    1,\n",
       "           1,    1,    1,    1,    1,    1,    1,    1,    1,    1,    1,    1,\n",
       "           1,    1,    1,    1,    1,    1,    1,    1,    1,    1,    1,    1,\n",
       "           1,    1,    1,    1,    1,    1,    1,    1,    1,    1,    1,    1,\n",
       "           1,    1,    1,    1,    1,    1,    1,    1,    1,    1,    1,    1,\n",
       "           1,    1,    1,    1,    1,    1,    1,    1,    1,    1,    1,    1,\n",
       "           1,    1,    1,    1,    1,    1,    1,    1,    1,    1,    1,    1,\n",
       "           1,    1,    1,    1,    1,    1,    1,    1,    1,    1,    1,    1,\n",
       "           1,    1,    1,    1,    1,    1,    1,    1,    1,    1,    1,    1,\n",
       "           1,    1,    1,    1,    1,    1,    1,    1,    1,    1,    1,    1,\n",
       "           1,    1,    1,    1,    1,    1,    1,    1,    1,    1,    1,    1,\n",
       "           1,    1,    1,    1,    1,    1,    1,    1,    1,    1,    1,    1,\n",
       "           1,    1,    1,    1,    1,    1,    1,    1,    1,    1,    1,    1,\n",
       "           1,    1,    1,    1,    1,    1,    1,    1,    1,    1,    1,    1,\n",
       "           1,    1,    1,    1,    1,    1,    1,    1,    1,    1,    1,    1,\n",
       "           1,    1,    1,    1,    1,    1,    1,    1,    1,    1,    1,    1,\n",
       "           1,    1,    1,    1,    1,    1,    1,    1])"
      ]
     },
     "execution_count": 14,
     "metadata": {},
     "output_type": "execute_result"
    }
   ],
   "source": [
    "train_input_ids[0]"
   ]
  },
  {
   "cell_type": "code",
   "execution_count": 15,
   "metadata": {},
   "outputs": [
    {
     "data": {
      "text/plain": [
       "tensor(1)"
      ]
     },
     "execution_count": 15,
     "metadata": {},
     "output_type": "execute_result"
    }
   ],
   "source": [
    "train_targets[0]"
   ]
  },
  {
   "cell_type": "code",
   "execution_count": 16,
   "metadata": {
    "execution": {
     "iopub.execute_input": "2025-05-11T21:53:23.875197Z",
     "iopub.status.busy": "2025-05-11T21:53:23.874223Z",
     "iopub.status.idle": "2025-05-11T21:53:23.878293Z",
     "shell.execute_reply": "2025-05-11T21:53:23.877512Z"
    }
   },
   "outputs": [],
   "source": [
    "# torch.save(input_ids, 'molberto_training/input_ids.pt')\n",
    "# torch.save(mask, 'molberto_training/attention_mask.pt')\n",
    "# torch.save(labels, 'molberto_training/labels.pt')\n",
    "\n",
    "# del input_ids, mask, labels"
   ]
  },
  {
   "cell_type": "code",
   "execution_count": 17,
   "metadata": {
    "execution": {
     "iopub.execute_input": "2025-05-11T21:53:23.882164Z",
     "iopub.status.busy": "2025-05-11T21:53:23.880897Z",
     "iopub.status.idle": "2025-05-11T21:53:23.894931Z",
     "shell.execute_reply": "2025-05-11T21:53:23.894331Z"
    }
   },
   "outputs": [],
   "source": [
    "# input_ids = torch.load('molberto_training/input_ids.pt')\n",
    "# mask = torch.load('molberto_training/attention_mask.pt')\n",
    "# labels = torch.load('molberto_training/labels.pt')"
   ]
  },
  {
   "cell_type": "markdown",
   "metadata": {},
   "source": [
    "### dataset and dataloader"
   ]
  },
  {
   "cell_type": "code",
   "execution_count": 18,
   "metadata": {
    "execution": {
     "iopub.execute_input": "2025-05-11T21:53:23.898679Z",
     "iopub.status.busy": "2025-05-11T21:53:23.897653Z",
     "iopub.status.idle": "2025-05-11T21:53:23.903743Z",
     "shell.execute_reply": "2025-05-11T21:53:23.903195Z"
    }
   },
   "outputs": [],
   "source": [
    "class Dataset(torch.utils.data.Dataset):\n",
    "    def __init__(self, encodings):\n",
    "        self.encodings = encodings\n",
    "\n",
    "    def __len__(self):\n",
    "        return self.encodings['input_ids'].shape[0]\n",
    "\n",
    "    def __getitem__(self, i):\n",
    "        return {key: tensor[i] for key, tensor in self.encodings.items()}"
   ]
  },
  {
   "cell_type": "code",
   "execution_count": 19,
   "metadata": {
    "execution": {
     "iopub.execute_input": "2025-05-11T21:53:23.906348Z",
     "iopub.status.busy": "2025-05-11T21:53:23.906158Z",
     "iopub.status.idle": "2025-05-11T21:53:23.910606Z",
     "shell.execute_reply": "2025-05-11T21:53:23.910021Z"
    }
   },
   "outputs": [],
   "source": [
    "train_dataset = Dataset({'input_ids': train_input_ids, 'attention_mask': train_mask, target: train_targets})\n",
    "validation_dataset = Dataset({'input_ids': validation_input_ids, 'attention_mask': validation_mask, target: validation_targets})\n",
    "test_dataset = Dataset({'input_ids': test_input_ids, 'attention_mask': test_mask, target: test_targets})"
   ]
  },
  {
   "cell_type": "code",
   "execution_count": 20,
   "metadata": {
    "execution": {
     "iopub.execute_input": "2025-05-11T21:53:23.914315Z",
     "iopub.status.busy": "2025-05-11T21:53:23.913264Z",
     "iopub.status.idle": "2025-05-11T21:53:23.917338Z",
     "shell.execute_reply": "2025-05-11T21:53:23.916792Z"
    }
   },
   "outputs": [],
   "source": [
    "batch_size = 32"
   ]
  },
  {
   "cell_type": "code",
   "execution_count": 21,
   "metadata": {
    "execution": {
     "iopub.execute_input": "2025-05-11T21:53:23.920976Z",
     "iopub.status.busy": "2025-05-11T21:53:23.919806Z",
     "iopub.status.idle": "2025-05-11T21:53:23.932705Z",
     "shell.execute_reply": "2025-05-11T21:53:23.932087Z"
    }
   },
   "outputs": [],
   "source": [
    "train_dataloader = torch.utils.data.DataLoader(train_dataset, batch_size=batch_size, shuffle=True)\n",
    "eval_dataloader = torch.utils.data.DataLoader(validation_dataset, batch_size=batch_size, shuffle=False, drop_last=True)\n",
    "test_dataloader = torch.utils.data.DataLoader(test_dataset, batch_size=batch_size, shuffle=False)"
   ]
  },
  {
   "cell_type": "markdown",
   "metadata": {},
   "source": [
    "### RoBERTa model "
   ]
  },
  {
   "cell_type": "code",
   "execution_count": 24,
   "metadata": {},
   "outputs": [],
   "source": [
    "from transformers import AutoModel, AutoConfig, PreTrainedModel\n",
    "\n",
    "class MolecularPropertiesClassification(PreTrainedModel):\n",
    "    def __init__(self, model_name_):\n",
    "        configuration = AutoConfig.from_pretrained(model_name_)\n",
    "        super(MolecularPropertiesClassification, self).__init__(configuration)\n",
    "        \n",
    "        self.transformer1 = AutoModel.from_pretrained(model_name_, config=configuration)\n",
    "        # removing last layer of transformer\n",
    "        self.transformer1.pooler = torch.nn.Identity()\n",
    "        # freezing transformer weights\n",
    "        for param in self.transformer1.parameters():\n",
    "            param.requires_grad = False\n",
    "\n",
    "        self.linear1 = torch.nn.Linear(768, 768, bias=True)\n",
    "        self.linear2 = torch.nn.Linear(768, 2, bias=True)\n",
    "\n",
    "    def forward(self, input_ids = None, attention_mask=None):\n",
    "        outputs1 = self.transformer1(input_ids=input_ids, attention_mask=attention_mask)\n",
    "        last_hidden_state1 = outputs1[0]\n",
    "        \n",
    "        first_linear_out = self.linear1(last_hidden_state1[:, 0, : ].view(-1, 768))\n",
    "        logits = self.linear2(torch.nn.functional.sigmoid(first_linear_out))\n",
    "\n",
    "        return logits"
   ]
  },
  {
   "cell_type": "code",
   "execution_count": 25,
   "metadata": {},
   "outputs": [
    {
     "name": "stderr",
     "output_type": "stream",
     "text": [
      "Some weights of RobertaModel were not initialized from the model checkpoint at d-bert_100k and are newly initialized: ['roberta.pooler.dense.bias', 'roberta.pooler.dense.weight']\n",
      "You should probably TRAIN this model on a down-stream task to be able to use it for predictions and inference.\n"
     ]
    }
   ],
   "source": [
    "model = MolecularPropertiesClassification(model_name)"
   ]
  },
  {
   "cell_type": "markdown",
   "metadata": {},
   "source": [
    "And now we move onto training. First we setup GPU/CPU usage."
   ]
  },
  {
   "cell_type": "code",
   "execution_count": 26,
   "metadata": {
    "execution": {
     "iopub.execute_input": "2025-05-11T21:53:32.497012Z",
     "iopub.status.busy": "2025-05-11T21:53:32.496377Z",
     "iopub.status.idle": "2025-05-11T21:53:34.863554Z",
     "shell.execute_reply": "2025-05-11T21:53:34.862843Z"
    }
   },
   "outputs": [
    {
     "data": {
      "text/plain": [
       "True"
      ]
     },
     "execution_count": 26,
     "metadata": {},
     "output_type": "execute_result"
    }
   ],
   "source": [
    "import os\n",
    "os.environ['CUDA_LAUNCH_BLOCKING'] = \"1\"\n",
    "torch.cuda.is_available()"
   ]
  },
  {
   "cell_type": "code",
   "execution_count": 27,
   "metadata": {
    "execution": {
     "iopub.execute_input": "2025-05-11T21:53:34.867761Z",
     "iopub.status.busy": "2025-05-11T21:53:34.866698Z",
     "iopub.status.idle": "2025-05-11T21:53:39.546801Z",
     "shell.execute_reply": "2025-05-11T21:53:39.546001Z"
    }
   },
   "outputs": [
    {
     "data": {
      "text/plain": [
       "MolecularPropertiesClassification(\n",
       "  (transformer1): RobertaModel(\n",
       "    (embeddings): RobertaEmbeddings(\n",
       "      (word_embeddings): Embedding(6472, 768, padding_idx=1)\n",
       "      (position_embeddings): Embedding(514, 768, padding_idx=1)\n",
       "      (token_type_embeddings): Embedding(1, 768)\n",
       "      (LayerNorm): LayerNorm((768,), eps=1e-12, elementwise_affine=True)\n",
       "      (dropout): Dropout(p=0.1, inplace=False)\n",
       "    )\n",
       "    (encoder): RobertaEncoder(\n",
       "      (layer): ModuleList(\n",
       "        (0-5): 6 x RobertaLayer(\n",
       "          (attention): RobertaAttention(\n",
       "            (self): RobertaSelfAttention(\n",
       "              (query): Linear(in_features=768, out_features=768, bias=True)\n",
       "              (key): Linear(in_features=768, out_features=768, bias=True)\n",
       "              (value): Linear(in_features=768, out_features=768, bias=True)\n",
       "              (dropout): Dropout(p=0.1, inplace=False)\n",
       "            )\n",
       "            (output): RobertaSelfOutput(\n",
       "              (dense): Linear(in_features=768, out_features=768, bias=True)\n",
       "              (LayerNorm): LayerNorm((768,), eps=1e-12, elementwise_affine=True)\n",
       "              (dropout): Dropout(p=0.1, inplace=False)\n",
       "            )\n",
       "          )\n",
       "          (intermediate): RobertaIntermediate(\n",
       "            (dense): Linear(in_features=768, out_features=3072, bias=True)\n",
       "            (intermediate_act_fn): GELUActivation()\n",
       "          )\n",
       "          (output): RobertaOutput(\n",
       "            (dense): Linear(in_features=3072, out_features=768, bias=True)\n",
       "            (LayerNorm): LayerNorm((768,), eps=1e-12, elementwise_affine=True)\n",
       "            (dropout): Dropout(p=0.1, inplace=False)\n",
       "          )\n",
       "        )\n",
       "      )\n",
       "    )\n",
       "    (pooler): Identity()\n",
       "  )\n",
       "  (linear1): Linear(in_features=768, out_features=768, bias=True)\n",
       "  (linear2): Linear(in_features=768, out_features=2, bias=True)\n",
       ")"
      ]
     },
     "execution_count": 27,
     "metadata": {},
     "output_type": "execute_result"
    }
   ],
   "source": [
    "device = torch.device('cuda', index=2) if torch.cuda.is_available() else torch.device('cpu')\n",
    "# and move our model over to the selected device\n",
    "model.to(device)"
   ]
  },
  {
   "cell_type": "markdown",
   "metadata": {},
   "source": [
    "Activate the training mode of our model, and initialize our optimizer (Adam with weighted decay - reduces chance of overfitting)."
   ]
  },
  {
   "cell_type": "code",
   "execution_count": 28,
   "metadata": {
    "execution": {
     "iopub.execute_input": "2025-05-11T21:53:39.551466Z",
     "iopub.status.busy": "2025-05-11T21:53:39.550380Z",
     "iopub.status.idle": "2025-05-11T21:53:40.715680Z",
     "shell.execute_reply": "2025-05-11T21:53:40.714831Z"
    }
   },
   "outputs": [
    {
     "name": "stderr",
     "output_type": "stream",
     "text": [
      "/home/alexeyorlov53/anaconda3/envs/myenv/lib/python3.9/site-packages/transformers/optimization.py:521: FutureWarning: This implementation of AdamW is deprecated and will be removed in a future version. Use the PyTorch implementation torch.optim.AdamW instead, or set `no_deprecation_warning=True` to disable this warning\n",
      "  warnings.warn(\n"
     ]
    }
   ],
   "source": [
    "from transformers import AdamW\n",
    "\n",
    "model.train()\n",
    "optimizer = AdamW(model.parameters(), lr=1e-5)\n",
    "loss_func = torch.nn.CrossEntropyLoss()"
   ]
  },
  {
   "cell_type": "markdown",
   "metadata": {},
   "source": [
    "### Do Training"
   ]
  },
  {
   "cell_type": "code",
   "execution_count": 29,
   "metadata": {
    "execution": {
     "iopub.execute_input": "2025-05-11T21:53:40.720586Z",
     "iopub.status.busy": "2025-05-11T21:53:40.719548Z",
     "iopub.status.idle": "2025-05-11T21:53:52.304143Z",
     "shell.execute_reply": "2025-05-11T21:53:52.303429Z"
    }
   },
   "outputs": [
    {
     "name": "stderr",
     "output_type": "stream",
     "text": [
      "Failed to detect the name of this notebook, you can set it manually with the WANDB_NOTEBOOK_NAME environment variable to enable code saving.\n",
      "\u001b[34m\u001b[1mwandb\u001b[0m: Currently logged in as: \u001b[33morlov-aleksei53\u001b[0m (\u001b[33mmoleculary-ai\u001b[0m). Use \u001b[1m`wandb login --relogin`\u001b[0m to force relogin\n"
     ]
    },
    {
     "data": {
      "text/html": [
       "wandb version 0.19.11 is available!  To upgrade, please run:\n",
       " $ pip install wandb --upgrade"
      ],
      "text/plain": [
       "<IPython.core.display.HTML object>"
      ]
     },
     "metadata": {},
     "output_type": "display_data"
    },
    {
     "data": {
      "text/html": [
       "Tracking run with wandb version 0.17.0"
      ],
      "text/plain": [
       "<IPython.core.display.HTML object>"
      ]
     },
     "metadata": {},
     "output_type": "display_data"
    },
    {
     "data": {
      "text/html": [
       "Run data is saved locally in <code>/home/alexeyorlov53/Transformers-for-Molecules/new_approach/bert_testing/wandb/run-20250514_173113-59id2rs7</code>"
      ],
      "text/plain": [
       "<IPython.core.display.HTML object>"
      ]
     },
     "metadata": {},
     "output_type": "display_data"
    },
    {
     "data": {
      "text/html": [
       "Syncing run <strong><a href='https://wandb.ai/moleculary-ai/bert_transformer/runs/59id2rs7' target=\"_blank\">bbbp RobertaForMLM training</a></strong> to <a href='https://wandb.ai/moleculary-ai/bert_transformer' target=\"_blank\">Weights & Biases</a> (<a href='https://wandb.me/run' target=\"_blank\">docs</a>)<br/>"
      ],
      "text/plain": [
       "<IPython.core.display.HTML object>"
      ]
     },
     "metadata": {},
     "output_type": "display_data"
    },
    {
     "data": {
      "text/html": [
       " View project at <a href='https://wandb.ai/moleculary-ai/bert_transformer' target=\"_blank\">https://wandb.ai/moleculary-ai/bert_transformer</a>"
      ],
      "text/plain": [
       "<IPython.core.display.HTML object>"
      ]
     },
     "metadata": {},
     "output_type": "display_data"
    },
    {
     "data": {
      "text/html": [
       " View run at <a href='https://wandb.ai/moleculary-ai/bert_transformer/runs/59id2rs7' target=\"_blank\">https://wandb.ai/moleculary-ai/bert_transformer/runs/59id2rs7</a>"
      ],
      "text/plain": [
       "<IPython.core.display.HTML object>"
      ]
     },
     "metadata": {},
     "output_type": "display_data"
    },
    {
     "data": {
      "text/html": [
       "<button onClick=\"this.nextSibling.style.display='block';this.style.display='none';\">Display W&B run</button><iframe src='https://wandb.ai/moleculary-ai/bert_transformer/runs/59id2rs7?jupyter=true' style='border:none;width:100%;height:420px;display:none;'></iframe>"
      ],
      "text/plain": [
       "<wandb.sdk.wandb_run.Run at 0x7f9d56745940>"
      ]
     },
     "execution_count": 29,
     "metadata": {},
     "output_type": "execute_result"
    }
   ],
   "source": [
    "wandb.init(\n",
    "    project=\"bert_transformer\",\n",
    "    name=f\"{dataset_name} RobertaForMLM training\"\n",
    ")"
   ]
  },
  {
   "cell_type": "code",
   "execution_count": 30,
   "metadata": {},
   "outputs": [],
   "source": [
    "from sklearn.metrics import accuracy_score, f1_score, recall_score, precision_score, roc_auc_score\n",
    "\n",
    "def wandb_log(epoch_loss_train,\n",
    "              total_train_true_labels, \n",
    "              total_train_pred_labels,\n",
    "\n",
    "              epoch_loss_eval,\n",
    "              total_eval_true_labels, \n",
    "              total_eval_pred_labels):\n",
    "    \n",
    "    train_labels = [total_train_true_labels, total_train_pred_labels]\n",
    "    eval_labels = [total_eval_true_labels, total_eval_pred_labels]\n",
    "\n",
    "    wandb.log({\"loss/train\":                epoch_loss_train / len(train_dataloader),\n",
    "               \"accuracy/train\":            accuracy_score(*train_labels),\n",
    "               \"f1/train\":                  f1_score(*train_labels, average='micro'),\n",
    "               \"precision/train\":           precision_score(*train_labels, average='micro'),\n",
    "               \"recall/train\":              recall_score(*train_labels, average='micro'),\n",
    "               \"roc_auc_score/train\":       roc_auc_score(*train_labels),\n",
    "               \n",
    "               \"loss/validation\":           epoch_loss_eval / len(eval_dataloader),\n",
    "               \"accuracy/validation\":       accuracy_score(*eval_labels),\n",
    "               \"f1/validation\":             f1_score(*eval_labels, average='micro'),\n",
    "               \"precision/validation\":      precision_score(*eval_labels, average='micro'),\n",
    "               \"recall/validation\":         recall_score(*eval_labels, average='micro'),\n",
    "               \"roc_auc_score/validation\":  roc_auc_score(*eval_labels)})"
   ]
  },
  {
   "cell_type": "code",
   "execution_count": null,
   "metadata": {
    "execution": {
     "iopub.execute_input": "2025-05-11T21:53:52.308576Z",
     "iopub.status.busy": "2025-05-11T21:53:52.307436Z",
     "iopub.status.idle": "2025-05-11T21:53:57.967144Z",
     "shell.execute_reply": "2025-05-11T21:53:57.965102Z"
    }
   },
   "outputs": [
    {
     "name": "stderr",
     "output_type": "stream",
     "text": [
      "Epoch: 9: 100%|██████████| 490/490 [09:12<00:00,  1.02it/s]"
     ]
    }
   ],
   "source": [
    "from tqdm import tqdm\n",
    "\n",
    "epochs = 10\n",
    "step = 0\n",
    "\n",
    "progress_bar_train = tqdm(range(epochs * len(train_dataloader)))\n",
    "progress_bar_eval  = tqdm(range(epochs * len(eval_dataloader)))\n",
    "\n",
    "for epoch in range(epochs):\n",
    "    progress_bar_train.set_description(f\"Epoch: {epoch}\")\n",
    "    progress_bar_eval.set_description(f\"Epoch: {epoch}\")\n",
    "\n",
    "    total_train_pred_labels = []\n",
    "    total_train_true_labels = []\n",
    "    epoch_loss_train = 0\n",
    "\n",
    "    for batch in train_dataloader:\n",
    "        input_batch = { k: v.to(device) for k, v in batch.items() if k in ['input_ids', 'attention_mask'] }\n",
    "        batch[target] = batch[target].to(device)\n",
    "        \n",
    "        logits = model(**input_batch)\n",
    "        loss = loss_func(logits.view(-1, 2), batch[target].view(-1).type(torch.cuda.LongTensor))\n",
    "        loss.backward()\n",
    "        epoch_loss_train += loss.item()\n",
    "        \n",
    "        optimizer.step()\n",
    "        optimizer.zero_grad()\n",
    "        progress_bar_train.update(1)\n",
    "\n",
    "        pred_labels = torch.argmax(logits, dim=-1)\n",
    "        true_labels = batch[target]\n",
    "        total_train_pred_labels.append(pred_labels)\n",
    "        total_train_true_labels.append(true_labels)\n",
    "\n",
    "    total_train_pred_labels = torch.cat(total_train_pred_labels).cpu().detach().numpy()\n",
    "    total_train_true_labels = torch.cat(total_train_true_labels).cpu().detach().numpy()\n",
    "    \n",
    "\n",
    "    model.eval()\n",
    "    \n",
    "    total_eval_pred_labels = []\n",
    "    total_eval_true_labels = []\n",
    "    epoch_loss_eval = 0\n",
    "\n",
    "    for batch in eval_dataloader:\n",
    "        input_batch = { k: v.to(device) for k, v in batch.items() if k in ['input_ids', 'attention_mask'] }\n",
    "        batch[target] = batch[target].to(device)\n",
    "        \n",
    "        with torch.no_grad():\n",
    "            logits = model(**input_batch)\n",
    "            loss = loss_func(logits.view(-1, 2), batch[target].view(-1).type(torch.cuda.LongTensor))\n",
    "            epoch_loss_eval += loss.item()\n",
    "\n",
    "            pred_labels = torch.argmax(logits, dim=-1)\n",
    "            true_labels = batch[target]\n",
    "            total_eval_pred_labels.append(pred_labels)\n",
    "            total_eval_true_labels.append(true_labels)\n",
    "        \n",
    "        progress_bar_eval.update(1)\n",
    "\n",
    "    total_eval_pred_labels = torch.cat(total_eval_pred_labels).cpu().detach().numpy()\n",
    "    total_eval_true_labels = torch.cat(total_eval_true_labels).cpu().detach().numpy()\n",
    "    \n",
    "    wandb_log(epoch_loss_train,\n",
    "              total_train_true_labels, \n",
    "              total_train_pred_labels,\n",
    "\n",
    "              epoch_loss_eval,\n",
    "              total_eval_true_labels, \n",
    "              total_eval_pred_labels)\n"
   ]
  },
  {
   "cell_type": "code",
   "execution_count": 32,
   "metadata": {
    "execution": {
     "iopub.execute_input": "2025-05-11T21:53:57.977765Z",
     "iopub.status.busy": "2025-05-11T21:53:57.976348Z",
     "iopub.status.idle": "2025-05-11T21:54:10.051238Z",
     "shell.execute_reply": "2025-05-11T21:54:10.050162Z"
    }
   },
   "outputs": [
    {
     "data": {
      "application/vnd.jupyter.widget-view+json": {
       "model_id": "6b93b485340f4d90b94d2793d4049dbc",
       "version_major": 2,
       "version_minor": 0
      },
      "text/plain": [
       "VBox(children=(Label(value='0.007 MB of 0.007 MB uploaded\\r'), FloatProgress(value=1.0, max=1.0)))"
      ]
     },
     "metadata": {},
     "output_type": "display_data"
    },
    {
     "data": {
      "text/html": [
       "<style>\n",
       "    table.wandb td:nth-child(1) { padding: 0 10px; text-align: left ; width: auto;} td:nth-child(2) {text-align: left ; width: 100%}\n",
       "    .wandb-row { display: flex; flex-direction: row; flex-wrap: wrap; justify-content: flex-start; width: 100% }\n",
       "    .wandb-col { display: flex; flex-direction: column; flex-basis: 100%; flex: 1; padding: 10px; }\n",
       "    </style>\n",
       "<div class=\"wandb-row\"><div class=\"wandb-col\"><h3>Run history:</h3><br/><table class=\"wandb\"><tr><td>accuracy/train</td><td>▁█████████</td></tr><tr><td>accuracy/validation</td><td>▁▁▁▁▁▁▁▁▁▁</td></tr><tr><td>f1/train</td><td>▁█████████</td></tr><tr><td>f1/validation</td><td>▁▁▁▁▁▁▁▁▁▁</td></tr><tr><td>loss/train</td><td>█▂▁▁▁▁▁▁▁▁</td></tr><tr><td>loss/validation</td><td>▁▆██████▇█</td></tr><tr><td>precision/train</td><td>▁█████████</td></tr><tr><td>precision/validation</td><td>▁▁▁▁▁▁▁▁▁▁</td></tr><tr><td>recall/train</td><td>▁█████████</td></tr><tr><td>recall/validation</td><td>▁▁▁▁▁▁▁▁▁▁</td></tr><tr><td>roc_auc_score/train</td><td>█▁▁▁▁▁▁▁▁▁</td></tr><tr><td>roc_auc_score/validation</td><td>▁▁▁▁▁▁▁▁▁▁</td></tr></table><br/></div><div class=\"wandb-col\"><h3>Run summary:</h3><br/><table class=\"wandb\"><tr><td>accuracy/train</td><td>0.83473</td></tr><tr><td>accuracy/validation</td><td>0.66146</td></tr><tr><td>f1/train</td><td>0.83473</td></tr><tr><td>f1/validation</td><td>0.66146</td></tr><tr><td>loss/train</td><td>0.44647</td></tr><tr><td>loss/validation</td><td>0.72471</td></tr><tr><td>precision/train</td><td>0.83473</td></tr><tr><td>precision/validation</td><td>0.66146</td></tr><tr><td>recall/train</td><td>0.83473</td></tr><tr><td>recall/validation</td><td>0.66146</td></tr><tr><td>roc_auc_score/train</td><td>0.5</td></tr><tr><td>roc_auc_score/validation</td><td>0.5</td></tr></table><br/></div></div>"
      ],
      "text/plain": [
       "<IPython.core.display.HTML object>"
      ]
     },
     "metadata": {},
     "output_type": "display_data"
    },
    {
     "data": {
      "text/html": [
       " View run <strong style=\"color:#cdcd00\">bbbp RobertaForMLM training</strong> at: <a href='https://wandb.ai/moleculary-ai/bert_transformer/runs/59id2rs7' target=\"_blank\">https://wandb.ai/moleculary-ai/bert_transformer/runs/59id2rs7</a><br/> View project at: <a href='https://wandb.ai/moleculary-ai/bert_transformer' target=\"_blank\">https://wandb.ai/moleculary-ai/bert_transformer</a><br/>Synced 6 W&B file(s), 0 media file(s), 0 artifact file(s) and 0 other file(s)"
      ],
      "text/plain": [
       "<IPython.core.display.HTML object>"
      ]
     },
     "metadata": {},
     "output_type": "display_data"
    },
    {
     "data": {
      "text/html": [
       "Find logs at: <code>./wandb/run-20250514_173113-59id2rs7/logs</code>"
      ],
      "text/plain": [
       "<IPython.core.display.HTML object>"
      ]
     },
     "metadata": {},
     "output_type": "display_data"
    }
   ],
   "source": [
    "wandb.finish()"
   ]
  },
  {
   "cell_type": "markdown",
   "metadata": {},
   "source": [
    "### Do Testing"
   ]
  },
  {
   "cell_type": "code",
   "execution_count": 33,
   "metadata": {
    "execution": {
     "iopub.execute_input": "2025-05-11T21:54:10.055321Z",
     "iopub.status.busy": "2025-05-11T21:54:10.055064Z",
     "iopub.status.idle": "2025-05-11T21:54:17.604840Z",
     "shell.execute_reply": "2025-05-11T21:54:17.603685Z"
    }
   },
   "outputs": [
    {
     "data": {
      "application/vnd.jupyter.widget-view+json": {
       "model_id": "5bdd2aa553ba448b9f569ef8d744ceb5",
       "version_major": 2,
       "version_minor": 0
      },
      "text/plain": [
       "VBox(children=(Label(value='Waiting for wandb.init()...\\r'), FloatProgress(value=0.011113489255593675, max=1.0…"
      ]
     },
     "metadata": {},
     "output_type": "display_data"
    },
    {
     "data": {
      "text/html": [
       "wandb version 0.19.11 is available!  To upgrade, please run:\n",
       " $ pip install wandb --upgrade"
      ],
      "text/plain": [
       "<IPython.core.display.HTML object>"
      ]
     },
     "metadata": {},
     "output_type": "display_data"
    },
    {
     "data": {
      "text/html": [
       "Tracking run with wandb version 0.17.0"
      ],
      "text/plain": [
       "<IPython.core.display.HTML object>"
      ]
     },
     "metadata": {},
     "output_type": "display_data"
    },
    {
     "data": {
      "text/html": [
       "Run data is saved locally in <code>/home/alexeyorlov53/Transformers-for-Molecules/new_approach/bert_testing/wandb/run-20250514_174050-ucwm3vh4</code>"
      ],
      "text/plain": [
       "<IPython.core.display.HTML object>"
      ]
     },
     "metadata": {},
     "output_type": "display_data"
    },
    {
     "data": {
      "text/html": [
       "Syncing run <strong><a href='https://wandb.ai/moleculary-ai/bert_transformer/runs/ucwm3vh4' target=\"_blank\">bbbp RobertaForMLM testing</a></strong> to <a href='https://wandb.ai/moleculary-ai/bert_transformer' target=\"_blank\">Weights & Biases</a> (<a href='https://wandb.me/run' target=\"_blank\">docs</a>)<br/>"
      ],
      "text/plain": [
       "<IPython.core.display.HTML object>"
      ]
     },
     "metadata": {},
     "output_type": "display_data"
    },
    {
     "data": {
      "text/html": [
       " View project at <a href='https://wandb.ai/moleculary-ai/bert_transformer' target=\"_blank\">https://wandb.ai/moleculary-ai/bert_transformer</a>"
      ],
      "text/plain": [
       "<IPython.core.display.HTML object>"
      ]
     },
     "metadata": {},
     "output_type": "display_data"
    },
    {
     "data": {
      "text/html": [
       " View run at <a href='https://wandb.ai/moleculary-ai/bert_transformer/runs/ucwm3vh4' target=\"_blank\">https://wandb.ai/moleculary-ai/bert_transformer/runs/ucwm3vh4</a>"
      ],
      "text/plain": [
       "<IPython.core.display.HTML object>"
      ]
     },
     "metadata": {},
     "output_type": "display_data"
    },
    {
     "data": {
      "text/html": [
       "<button onClick=\"this.nextSibling.style.display='block';this.style.display='none';\">Display W&B run</button><iframe src='https://wandb.ai/moleculary-ai/bert_transformer/runs/ucwm3vh4?jupyter=true' style='border:none;width:100%;height:420px;display:none;'></iframe>"
      ],
      "text/plain": [
       "<wandb.sdk.wandb_run.Run at 0x7f9cb80c9250>"
      ]
     },
     "execution_count": 33,
     "metadata": {},
     "output_type": "execute_result"
    }
   ],
   "source": [
    "wandb.init(\n",
    "    project=\"bert_transformer\",\n",
    "    name=f\"{dataset_name} RobertaForMLM testing\"\n",
    ")"
   ]
  },
  {
   "cell_type": "code",
   "execution_count": 34,
   "metadata": {
    "execution": {
     "iopub.execute_input": "2025-05-11T21:54:17.610454Z",
     "iopub.status.busy": "2025-05-11T21:54:17.609102Z",
     "iopub.status.idle": "2025-05-11T21:54:18.325604Z",
     "shell.execute_reply": "2025-05-11T21:54:18.324817Z"
    }
   },
   "outputs": [],
   "source": [
    "def test_loop():\n",
    "    model.eval()\n",
    "    total_pred_labels = []\n",
    "    total_true_labels = []\n",
    "    epoch_loss = 0\n",
    "    for batch in test_dataloader:\n",
    "        input_batch = { k: v.to(device) for k, v in batch.items() if k in ['input_ids', 'attention_mask'] }\n",
    "        batch[target] = batch[target].to(device)\n",
    "        \n",
    "        with torch.no_grad():\n",
    "            logits = model(**input_batch)\n",
    "            loss = loss_func(logits.view(-1, 2), batch[target].view(-1).type(torch.cuda.LongTensor))\n",
    "            epoch_loss += loss.item()\n",
    "\n",
    "            pred_labels = torch.argmax(logits, dim=-1)\n",
    "            true_labels = batch[target]\n",
    "            total_pred_labels.append(pred_labels)\n",
    "            total_true_labels.append(true_labels)\n",
    "        \n",
    "        progress_bar_eval.update(1)\n",
    "\n",
    "    total_pred_labels = torch.cat(total_pred_labels).cpu().detach().numpy()\n",
    "    total_true_labels = torch.cat(total_true_labels).cpu().detach().numpy()\n",
    "    \n",
    "    wandb.log({\"loss/test\": epoch_loss / len(test_dataloader),\n",
    "               \"accuracy/test\": accuracy_score(total_true_labels, total_pred_labels),\n",
    "               \"f1/test\": f1_score(total_true_labels, total_pred_labels, average='micro'),\n",
    "               \"precision/test\": precision_score(total_true_labels, total_pred_labels, average='micro'),\n",
    "               \"recall/test\": recall_score(total_true_labels, total_pred_labels, average='micro'),\n",
    "               \"roc_auc_score/test\": roc_auc_score(total_true_labels, total_pred_labels)})"
   ]
  },
  {
   "cell_type": "code",
   "execution_count": 35,
   "metadata": {},
   "outputs": [
    {
     "name": "stderr",
     "output_type": "stream",
     "text": [
      "\n",
      "/home/alexeyorlov53/anaconda3/envs/myenv/lib/python3.9/site-packages/wandb/sdk/wandb_run.py:2304: UserWarning: Run (59id2rs7) is finished. The call to `_console_raw_callback` will be ignored. Please make sure that you are using an active run.\n",
      "  lambda data: self._console_raw_callback(\"stderr\", data),"
     ]
    }
   ],
   "source": [
    "test_loop()"
   ]
  },
  {
   "cell_type": "code",
   "execution_count": 36,
   "metadata": {
    "execution": {
     "iopub.execute_input": "2025-05-11T21:54:18.329003Z",
     "iopub.status.busy": "2025-05-11T21:54:18.328779Z",
     "iopub.status.idle": "2025-05-11T21:54:30.877309Z",
     "shell.execute_reply": "2025-05-11T21:54:30.876607Z"
    }
   },
   "outputs": [
    {
     "data": {
      "application/vnd.jupyter.widget-view+json": {
       "model_id": "9ea1f17a9a1b4f9daf2149c3b0e231a4",
       "version_major": 2,
       "version_minor": 0
      },
      "text/plain": [
       "VBox(children=(Label(value='0.007 MB of 0.007 MB uploaded\\r'), FloatProgress(value=1.0, max=1.0)))"
      ]
     },
     "metadata": {},
     "output_type": "display_data"
    },
    {
     "data": {
      "text/html": [
       "<style>\n",
       "    table.wandb td:nth-child(1) { padding: 0 10px; text-align: left ; width: auto;} td:nth-child(2) {text-align: left ; width: 100%}\n",
       "    .wandb-row { display: flex; flex-direction: row; flex-wrap: wrap; justify-content: flex-start; width: 100% }\n",
       "    .wandb-col { display: flex; flex-direction: column; flex-basis: 100%; flex: 1; padding: 10px; }\n",
       "    </style>\n",
       "<div class=\"wandb-row\"><div class=\"wandb-col\"><h3>Run history:</h3><br/><table class=\"wandb\"><tr><td>accuracy/test</td><td>▁</td></tr><tr><td>f1/test</td><td>▁</td></tr><tr><td>loss/test</td><td>▁</td></tr><tr><td>precision/test</td><td>▁</td></tr><tr><td>recall/test</td><td>▁</td></tr><tr><td>roc_auc_score/test</td><td>▁</td></tr></table><br/></div><div class=\"wandb-col\"><h3>Run summary:</h3><br/><table class=\"wandb\"><tr><td>accuracy/test</td><td>0.53368</td></tr><tr><td>f1/test</td><td>0.53368</td></tr><tr><td>loss/test</td><td>0.82755</td></tr><tr><td>precision/test</td><td>0.53368</td></tr><tr><td>recall/test</td><td>0.53368</td></tr><tr><td>roc_auc_score/test</td><td>0.5</td></tr></table><br/></div></div>"
      ],
      "text/plain": [
       "<IPython.core.display.HTML object>"
      ]
     },
     "metadata": {},
     "output_type": "display_data"
    },
    {
     "data": {
      "text/html": [
       " View run <strong style=\"color:#cdcd00\">bbbp RobertaForMLM testing</strong> at: <a href='https://wandb.ai/moleculary-ai/bert_transformer/runs/ucwm3vh4' target=\"_blank\">https://wandb.ai/moleculary-ai/bert_transformer/runs/ucwm3vh4</a><br/> View project at: <a href='https://wandb.ai/moleculary-ai/bert_transformer' target=\"_blank\">https://wandb.ai/moleculary-ai/bert_transformer</a><br/>Synced 6 W&B file(s), 0 media file(s), 0 artifact file(s) and 0 other file(s)"
      ],
      "text/plain": [
       "<IPython.core.display.HTML object>"
      ]
     },
     "metadata": {},
     "output_type": "display_data"
    },
    {
     "data": {
      "text/html": [
       "Find logs at: <code>./wandb/run-20250514_174050-ucwm3vh4/logs</code>"
      ],
      "text/plain": [
       "<IPython.core.display.HTML object>"
      ]
     },
     "metadata": {},
     "output_type": "display_data"
    }
   ],
   "source": [
    "wandb.finish()"
   ]
  },
  {
   "cell_type": "code",
   "execution_count": 37,
   "metadata": {
    "execution": {
     "iopub.execute_input": "2025-05-11T21:54:30.881353Z",
     "iopub.status.busy": "2025-05-11T21:54:30.880982Z",
     "iopub.status.idle": "2025-05-11T21:54:31.243415Z",
     "shell.execute_reply": "2025-05-11T21:54:31.241703Z"
    }
   },
   "outputs": [],
   "source": [
    "model.save_pretrained(model_name + \"-\" + dataset_name)"
   ]
  },
  {
   "cell_type": "code",
   "execution_count": 38,
   "metadata": {
    "execution": {
     "iopub.execute_input": "2025-05-11T21:54:31.252294Z",
     "iopub.status.busy": "2025-05-11T21:54:31.251397Z",
     "iopub.status.idle": "2025-05-11T21:54:31.255609Z",
     "shell.execute_reply": "2025-05-11T21:54:31.254906Z"
    }
   },
   "outputs": [],
   "source": [
    "torch.cuda.empty_cache()"
   ]
  },
  {
   "cell_type": "code",
   "execution_count": null,
   "metadata": {},
   "outputs": [],
   "source": []
  }
 ],
 "metadata": {
  "kernelspec": {
   "display_name": "myenv",
   "language": "python",
   "name": "python3"
  },
  "language_info": {
   "codemirror_mode": {
    "name": "ipython",
    "version": 3
   },
   "file_extension": ".py",
   "mimetype": "text/x-python",
   "name": "python",
   "nbconvert_exporter": "python",
   "pygments_lexer": "ipython3",
   "version": "3.9.19"
  },
  "widgets": {
   "application/vnd.jupyter.widget-state+json": {
    "state": {
     "008f9f8bdfb549cfad90de44c09423d3": {
      "model_module": "@jupyter-widgets/controls",
      "model_module_version": "2.0.0",
      "model_name": "HTMLStyleModel",
      "state": {
       "_model_module": "@jupyter-widgets/controls",
       "_model_module_version": "2.0.0",
       "_model_name": "HTMLStyleModel",
       "_view_count": null,
       "_view_module": "@jupyter-widgets/base",
       "_view_module_version": "2.0.0",
       "_view_name": "StyleView",
       "background": null,
       "description_width": "",
       "font_size": null,
       "text_color": null
      }
     },
     "0abb0e1e558d4648ad7338b4bd61f7cc": {
      "model_module": "@jupyter-widgets/controls",
      "model_module_version": "2.0.0",
      "model_name": "HTMLStyleModel",
      "state": {
       "_model_module": "@jupyter-widgets/controls",
       "_model_module_version": "2.0.0",
       "_model_name": "HTMLStyleModel",
       "_view_count": null,
       "_view_module": "@jupyter-widgets/base",
       "_view_module_version": "2.0.0",
       "_view_name": "StyleView",
       "background": null,
       "description_width": "",
       "font_size": null,
       "text_color": null
      }
     },
     "1b8efd9a4d634c4f989606caf6d2a4aa": {
      "model_module": "@jupyter-widgets/base",
      "model_module_version": "2.0.0",
      "model_name": "LayoutModel",
      "state": {
       "_model_module": "@jupyter-widgets/base",
       "_model_module_version": "2.0.0",
       "_model_name": "LayoutModel",
       "_view_count": null,
       "_view_module": "@jupyter-widgets/base",
       "_view_module_version": "2.0.0",
       "_view_name": "LayoutView",
       "align_content": null,
       "align_items": null,
       "align_self": null,
       "border_bottom": null,
       "border_left": null,
       "border_right": null,
       "border_top": null,
       "bottom": null,
       "display": null,
       "flex": null,
       "flex_flow": null,
       "grid_area": null,
       "grid_auto_columns": null,
       "grid_auto_flow": null,
       "grid_auto_rows": null,
       "grid_column": null,
       "grid_gap": null,
       "grid_row": null,
       "grid_template_areas": null,
       "grid_template_columns": null,
       "grid_template_rows": null,
       "height": null,
       "justify_content": null,
       "justify_items": null,
       "left": null,
       "margin": null,
       "max_height": null,
       "max_width": null,
       "min_height": null,
       "min_width": null,
       "object_fit": null,
       "object_position": null,
       "order": null,
       "overflow": null,
       "padding": null,
       "right": null,
       "top": null,
       "visibility": null,
       "width": null
      }
     },
     "23c175886da445f6a3bab57bb14e8473": {
      "model_module": "@jupyter-widgets/base",
      "model_module_version": "2.0.0",
      "model_name": "LayoutModel",
      "state": {
       "_model_module": "@jupyter-widgets/base",
       "_model_module_version": "2.0.0",
       "_model_name": "LayoutModel",
       "_view_count": null,
       "_view_module": "@jupyter-widgets/base",
       "_view_module_version": "2.0.0",
       "_view_name": "LayoutView",
       "align_content": null,
       "align_items": null,
       "align_self": null,
       "border_bottom": null,
       "border_left": null,
       "border_right": null,
       "border_top": null,
       "bottom": null,
       "display": null,
       "flex": null,
       "flex_flow": null,
       "grid_area": null,
       "grid_auto_columns": null,
       "grid_auto_flow": null,
       "grid_auto_rows": null,
       "grid_column": null,
       "grid_gap": null,
       "grid_row": null,
       "grid_template_areas": null,
       "grid_template_columns": null,
       "grid_template_rows": null,
       "height": null,
       "justify_content": null,
       "justify_items": null,
       "left": null,
       "margin": null,
       "max_height": null,
       "max_width": null,
       "min_height": null,
       "min_width": null,
       "object_fit": null,
       "object_position": null,
       "order": null,
       "overflow": null,
       "padding": null,
       "right": null,
       "top": null,
       "visibility": null,
       "width": null
      }
     },
     "338ae43c68af4cdbb1d8b2094b7e24f8": {
      "model_module": "@jupyter-widgets/controls",
      "model_module_version": "2.0.0",
      "model_name": "FloatProgressModel",
      "state": {
       "_dom_classes": [],
       "_model_module": "@jupyter-widgets/controls",
       "_model_module_version": "2.0.0",
       "_model_name": "FloatProgressModel",
       "_view_count": null,
       "_view_module": "@jupyter-widgets/controls",
       "_view_module_version": "2.0.0",
       "_view_name": "ProgressView",
       "bar_style": "success",
       "description": "",
       "description_allow_html": false,
       "layout": "IPY_MODEL_23c175886da445f6a3bab57bb14e8473",
       "max": 131,
       "min": 0,
       "orientation": "horizontal",
       "style": "IPY_MODEL_a94c607e85894f70ae4a8815eff6d5eb",
       "tabbable": null,
       "tooltip": null,
       "value": 131
      }
     },
     "443ce3f24ca94b8e95f07d0288aecd7b": {
      "model_module": "@jupyter-widgets/controls",
      "model_module_version": "2.0.0",
      "model_name": "HTMLModel",
      "state": {
       "_dom_classes": [],
       "_model_module": "@jupyter-widgets/controls",
       "_model_module_version": "2.0.0",
       "_model_name": "HTMLModel",
       "_view_count": null,
       "_view_module": "@jupyter-widgets/controls",
       "_view_module_version": "2.0.0",
       "_view_name": "HTMLView",
       "description": "",
       "description_allow_html": false,
       "layout": "IPY_MODEL_675c1136322a4aec985ef3aecafe503f",
       "placeholder": "​",
       "style": "IPY_MODEL_6bf9afc2ef3b4e56abfb31b1dcb70258",
       "tabbable": null,
       "tooltip": null,
       "value": "100%"
      }
     },
     "488c17ddd5384aaaae362b9d1d561e5f": {
      "model_module": "@jupyter-widgets/controls",
      "model_module_version": "2.0.0",
      "model_name": "HTMLModel",
      "state": {
       "_dom_classes": [],
       "_model_module": "@jupyter-widgets/controls",
       "_model_module_version": "2.0.0",
       "_model_name": "HTMLModel",
       "_view_count": null,
       "_view_module": "@jupyter-widgets/controls",
       "_view_module_version": "2.0.0",
       "_view_name": "HTMLView",
       "description": "",
       "description_allow_html": false,
       "layout": "IPY_MODEL_7d7ecb9043954628906fcb5610acd1d5",
       "placeholder": "​",
       "style": "IPY_MODEL_bcb5b63d84ce479a8138a44afe2d4037",
       "tabbable": null,
       "tooltip": null,
       "value": " 131/131 [00:00&lt;00:00, 1302.84it/s]"
      }
     },
     "539f21e125554233a5d869d9a617f262": {
      "model_module": "@jupyter-widgets/controls",
      "model_module_version": "2.0.0",
      "model_name": "HTMLModel",
      "state": {
       "_dom_classes": [],
       "_model_module": "@jupyter-widgets/controls",
       "_model_module_version": "2.0.0",
       "_model_name": "HTMLModel",
       "_view_count": null,
       "_view_module": "@jupyter-widgets/controls",
       "_view_module_version": "2.0.0",
       "_view_name": "HTMLView",
       "description": "",
       "description_allow_html": false,
       "layout": "IPY_MODEL_1b8efd9a4d634c4f989606caf6d2a4aa",
       "placeholder": "​",
       "style": "IPY_MODEL_cb88492eba444622bbf4980caf375c15",
       "tabbable": null,
       "tooltip": null,
       "value": "100%"
      }
     },
     "5ae4a54b5141411887c1b286647bc246": {
      "model_module": "@jupyter-widgets/base",
      "model_module_version": "2.0.0",
      "model_name": "LayoutModel",
      "state": {
       "_model_module": "@jupyter-widgets/base",
       "_model_module_version": "2.0.0",
       "_model_name": "LayoutModel",
       "_view_count": null,
       "_view_module": "@jupyter-widgets/base",
       "_view_module_version": "2.0.0",
       "_view_name": "LayoutView",
       "align_content": null,
       "align_items": null,
       "align_self": null,
       "border_bottom": null,
       "border_left": null,
       "border_right": null,
       "border_top": null,
       "bottom": null,
       "display": null,
       "flex": null,
       "flex_flow": null,
       "grid_area": null,
       "grid_auto_columns": null,
       "grid_auto_flow": null,
       "grid_auto_rows": null,
       "grid_column": null,
       "grid_gap": null,
       "grid_row": null,
       "grid_template_areas": null,
       "grid_template_columns": null,
       "grid_template_rows": null,
       "height": null,
       "justify_content": null,
       "justify_items": null,
       "left": null,
       "margin": null,
       "max_height": null,
       "max_width": null,
       "min_height": null,
       "min_width": null,
       "object_fit": null,
       "object_position": null,
       "order": null,
       "overflow": null,
       "padding": null,
       "right": null,
       "top": null,
       "visibility": null,
       "width": null
      }
     },
     "5c8e2ed0834f42539d234a46fd422271": {
      "model_module": "@jupyter-widgets/controls",
      "model_module_version": "2.0.0",
      "model_name": "ProgressStyleModel",
      "state": {
       "_model_module": "@jupyter-widgets/controls",
       "_model_module_version": "2.0.0",
       "_model_name": "ProgressStyleModel",
       "_view_count": null,
       "_view_module": "@jupyter-widgets/base",
       "_view_module_version": "2.0.0",
       "_view_name": "StyleView",
       "bar_color": null,
       "description_width": ""
      }
     },
     "637cb71e0fe14d90babef09bf5cfdb88": {
      "model_module": "@jupyter-widgets/base",
      "model_module_version": "2.0.0",
      "model_name": "LayoutModel",
      "state": {
       "_model_module": "@jupyter-widgets/base",
       "_model_module_version": "2.0.0",
       "_model_name": "LayoutModel",
       "_view_count": null,
       "_view_module": "@jupyter-widgets/base",
       "_view_module_version": "2.0.0",
       "_view_name": "LayoutView",
       "align_content": null,
       "align_items": null,
       "align_self": null,
       "border_bottom": null,
       "border_left": null,
       "border_right": null,
       "border_top": null,
       "bottom": null,
       "display": null,
       "flex": null,
       "flex_flow": null,
       "grid_area": null,
       "grid_auto_columns": null,
       "grid_auto_flow": null,
       "grid_auto_rows": null,
       "grid_column": null,
       "grid_gap": null,
       "grid_row": null,
       "grid_template_areas": null,
       "grid_template_columns": null,
       "grid_template_rows": null,
       "height": null,
       "justify_content": null,
       "justify_items": null,
       "left": null,
       "margin": null,
       "max_height": null,
       "max_width": null,
       "min_height": null,
       "min_width": null,
       "object_fit": null,
       "object_position": null,
       "order": null,
       "overflow": null,
       "padding": null,
       "right": null,
       "top": null,
       "visibility": null,
       "width": null
      }
     },
     "64cc0f4ba20b47138614098deb741532": {
      "model_module": "@jupyter-widgets/base",
      "model_module_version": "2.0.0",
      "model_name": "LayoutModel",
      "state": {
       "_model_module": "@jupyter-widgets/base",
       "_model_module_version": "2.0.0",
       "_model_name": "LayoutModel",
       "_view_count": null,
       "_view_module": "@jupyter-widgets/base",
       "_view_module_version": "2.0.0",
       "_view_name": "LayoutView",
       "align_content": null,
       "align_items": null,
       "align_self": null,
       "border_bottom": null,
       "border_left": null,
       "border_right": null,
       "border_top": null,
       "bottom": null,
       "display": null,
       "flex": null,
       "flex_flow": null,
       "grid_area": null,
       "grid_auto_columns": null,
       "grid_auto_flow": null,
       "grid_auto_rows": null,
       "grid_column": null,
       "grid_gap": null,
       "grid_row": null,
       "grid_template_areas": null,
       "grid_template_columns": null,
       "grid_template_rows": null,
       "height": null,
       "justify_content": null,
       "justify_items": null,
       "left": null,
       "margin": null,
       "max_height": null,
       "max_width": null,
       "min_height": null,
       "min_width": null,
       "object_fit": null,
       "object_position": null,
       "order": null,
       "overflow": null,
       "padding": null,
       "right": null,
       "top": null,
       "visibility": null,
       "width": null
      }
     },
     "675c1136322a4aec985ef3aecafe503f": {
      "model_module": "@jupyter-widgets/base",
      "model_module_version": "2.0.0",
      "model_name": "LayoutModel",
      "state": {
       "_model_module": "@jupyter-widgets/base",
       "_model_module_version": "2.0.0",
       "_model_name": "LayoutModel",
       "_view_count": null,
       "_view_module": "@jupyter-widgets/base",
       "_view_module_version": "2.0.0",
       "_view_name": "LayoutView",
       "align_content": null,
       "align_items": null,
       "align_self": null,
       "border_bottom": null,
       "border_left": null,
       "border_right": null,
       "border_top": null,
       "bottom": null,
       "display": null,
       "flex": null,
       "flex_flow": null,
       "grid_area": null,
       "grid_auto_columns": null,
       "grid_auto_flow": null,
       "grid_auto_rows": null,
       "grid_column": null,
       "grid_gap": null,
       "grid_row": null,
       "grid_template_areas": null,
       "grid_template_columns": null,
       "grid_template_rows": null,
       "height": null,
       "justify_content": null,
       "justify_items": null,
       "left": null,
       "margin": null,
       "max_height": null,
       "max_width": null,
       "min_height": null,
       "min_width": null,
       "object_fit": null,
       "object_position": null,
       "order": null,
       "overflow": null,
       "padding": null,
       "right": null,
       "top": null,
       "visibility": null,
       "width": null
      }
     },
     "6bf9afc2ef3b4e56abfb31b1dcb70258": {
      "model_module": "@jupyter-widgets/controls",
      "model_module_version": "2.0.0",
      "model_name": "HTMLStyleModel",
      "state": {
       "_model_module": "@jupyter-widgets/controls",
       "_model_module_version": "2.0.0",
       "_model_name": "HTMLStyleModel",
       "_view_count": null,
       "_view_module": "@jupyter-widgets/base",
       "_view_module_version": "2.0.0",
       "_view_name": "StyleView",
       "background": null,
       "description_width": "",
       "font_size": null,
       "text_color": null
      }
     },
     "6fc02d6340cd4c76a69aab0bd3e1a21e": {
      "model_module": "@jupyter-widgets/base",
      "model_module_version": "2.0.0",
      "model_name": "LayoutModel",
      "state": {
       "_model_module": "@jupyter-widgets/base",
       "_model_module_version": "2.0.0",
       "_model_name": "LayoutModel",
       "_view_count": null,
       "_view_module": "@jupyter-widgets/base",
       "_view_module_version": "2.0.0",
       "_view_name": "LayoutView",
       "align_content": null,
       "align_items": null,
       "align_self": null,
       "border_bottom": null,
       "border_left": null,
       "border_right": null,
       "border_top": null,
       "bottom": null,
       "display": null,
       "flex": null,
       "flex_flow": null,
       "grid_area": null,
       "grid_auto_columns": null,
       "grid_auto_flow": null,
       "grid_auto_rows": null,
       "grid_column": null,
       "grid_gap": null,
       "grid_row": null,
       "grid_template_areas": null,
       "grid_template_columns": null,
       "grid_template_rows": null,
       "height": null,
       "justify_content": null,
       "justify_items": null,
       "left": null,
       "margin": null,
       "max_height": null,
       "max_width": null,
       "min_height": null,
       "min_width": null,
       "object_fit": null,
       "object_position": null,
       "order": null,
       "overflow": null,
       "padding": null,
       "right": null,
       "top": null,
       "visibility": null,
       "width": null
      }
     },
     "75912ccac7684345a49da0714bb3df51": {
      "model_module": "@jupyter-widgets/controls",
      "model_module_version": "2.0.0",
      "model_name": "HTMLModel",
      "state": {
       "_dom_classes": [],
       "_model_module": "@jupyter-widgets/controls",
       "_model_module_version": "2.0.0",
       "_model_name": "HTMLModel",
       "_view_count": null,
       "_view_module": "@jupyter-widgets/controls",
       "_view_module_version": "2.0.0",
       "_view_name": "HTMLView",
       "description": "",
       "description_allow_html": false,
       "layout": "IPY_MODEL_64cc0f4ba20b47138614098deb741532",
       "placeholder": "​",
       "style": "IPY_MODEL_008f9f8bdfb549cfad90de44c09423d3",
       "tabbable": null,
       "tooltip": null,
       "value": "100%"
      }
     },
     "7d7ecb9043954628906fcb5610acd1d5": {
      "model_module": "@jupyter-widgets/base",
      "model_module_version": "2.0.0",
      "model_name": "LayoutModel",
      "state": {
       "_model_module": "@jupyter-widgets/base",
       "_model_module_version": "2.0.0",
       "_model_name": "LayoutModel",
       "_view_count": null,
       "_view_module": "@jupyter-widgets/base",
       "_view_module_version": "2.0.0",
       "_view_name": "LayoutView",
       "align_content": null,
       "align_items": null,
       "align_self": null,
       "border_bottom": null,
       "border_left": null,
       "border_right": null,
       "border_top": null,
       "bottom": null,
       "display": null,
       "flex": null,
       "flex_flow": null,
       "grid_area": null,
       "grid_auto_columns": null,
       "grid_auto_flow": null,
       "grid_auto_rows": null,
       "grid_column": null,
       "grid_gap": null,
       "grid_row": null,
       "grid_template_areas": null,
       "grid_template_columns": null,
       "grid_template_rows": null,
       "height": null,
       "justify_content": null,
       "justify_items": null,
       "left": null,
       "margin": null,
       "max_height": null,
       "max_width": null,
       "min_height": null,
       "min_width": null,
       "object_fit": null,
       "object_position": null,
       "order": null,
       "overflow": null,
       "padding": null,
       "right": null,
       "top": null,
       "visibility": null,
       "width": null
      }
     },
     "832f3dc21d264f8d89348b698870b9bd": {
      "model_module": "@jupyter-widgets/base",
      "model_module_version": "2.0.0",
      "model_name": "LayoutModel",
      "state": {
       "_model_module": "@jupyter-widgets/base",
       "_model_module_version": "2.0.0",
       "_model_name": "LayoutModel",
       "_view_count": null,
       "_view_module": "@jupyter-widgets/base",
       "_view_module_version": "2.0.0",
       "_view_name": "LayoutView",
       "align_content": null,
       "align_items": null,
       "align_self": null,
       "border_bottom": null,
       "border_left": null,
       "border_right": null,
       "border_top": null,
       "bottom": null,
       "display": null,
       "flex": null,
       "flex_flow": null,
       "grid_area": null,
       "grid_auto_columns": null,
       "grid_auto_flow": null,
       "grid_auto_rows": null,
       "grid_column": null,
       "grid_gap": null,
       "grid_row": null,
       "grid_template_areas": null,
       "grid_template_columns": null,
       "grid_template_rows": null,
       "height": null,
       "justify_content": null,
       "justify_items": null,
       "left": null,
       "margin": null,
       "max_height": null,
       "max_width": null,
       "min_height": null,
       "min_width": null,
       "object_fit": null,
       "object_position": null,
       "order": null,
       "overflow": null,
       "padding": null,
       "right": null,
       "top": null,
       "visibility": null,
       "width": null
      }
     },
     "90030e7aae42440baac1f2f898cec37d": {
      "model_module": "@jupyter-widgets/base",
      "model_module_version": "2.0.0",
      "model_name": "LayoutModel",
      "state": {
       "_model_module": "@jupyter-widgets/base",
       "_model_module_version": "2.0.0",
       "_model_name": "LayoutModel",
       "_view_count": null,
       "_view_module": "@jupyter-widgets/base",
       "_view_module_version": "2.0.0",
       "_view_name": "LayoutView",
       "align_content": null,
       "align_items": null,
       "align_self": null,
       "border_bottom": null,
       "border_left": null,
       "border_right": null,
       "border_top": null,
       "bottom": null,
       "display": null,
       "flex": null,
       "flex_flow": null,
       "grid_area": null,
       "grid_auto_columns": null,
       "grid_auto_flow": null,
       "grid_auto_rows": null,
       "grid_column": null,
       "grid_gap": null,
       "grid_row": null,
       "grid_template_areas": null,
       "grid_template_columns": null,
       "grid_template_rows": null,
       "height": null,
       "justify_content": null,
       "justify_items": null,
       "left": null,
       "margin": null,
       "max_height": null,
       "max_width": null,
       "min_height": null,
       "min_width": null,
       "object_fit": null,
       "object_position": null,
       "order": null,
       "overflow": null,
       "padding": null,
       "right": null,
       "top": null,
       "visibility": null,
       "width": null
      }
     },
     "9572cff4700c412194bd8e7480c8df9d": {
      "model_module": "@jupyter-widgets/controls",
      "model_module_version": "2.0.0",
      "model_name": "HBoxModel",
      "state": {
       "_dom_classes": [],
       "_model_module": "@jupyter-widgets/controls",
       "_model_module_version": "2.0.0",
       "_model_name": "HBoxModel",
       "_view_count": null,
       "_view_module": "@jupyter-widgets/controls",
       "_view_module_version": "2.0.0",
       "_view_name": "HBoxView",
       "box_style": "",
       "children": [
        "IPY_MODEL_443ce3f24ca94b8e95f07d0288aecd7b",
        "IPY_MODEL_338ae43c68af4cdbb1d8b2094b7e24f8",
        "IPY_MODEL_488c17ddd5384aaaae362b9d1d561e5f"
       ],
       "layout": "IPY_MODEL_5ae4a54b5141411887c1b286647bc246",
       "tabbable": null,
       "tooltip": null
      }
     },
     "969f4fd0007e48f98963d873deb8c460": {
      "model_module": "@jupyter-widgets/controls",
      "model_module_version": "2.0.0",
      "model_name": "FloatProgressModel",
      "state": {
       "_dom_classes": [],
       "_model_module": "@jupyter-widgets/controls",
       "_model_module_version": "2.0.0",
       "_model_name": "FloatProgressModel",
       "_view_count": null,
       "_view_module": "@jupyter-widgets/controls",
       "_view_module_version": "2.0.0",
       "_view_name": "ProgressView",
       "bar_style": "success",
       "description": "",
       "description_allow_html": false,
       "layout": "IPY_MODEL_637cb71e0fe14d90babef09bf5cfdb88",
       "max": 1044,
       "min": 0,
       "orientation": "horizontal",
       "style": "IPY_MODEL_5c8e2ed0834f42539d234a46fd422271",
       "tabbable": null,
       "tooltip": null,
       "value": 1044
      }
     },
     "a03816b609d8482a8d3e384b10cd68b2": {
      "model_module": "@jupyter-widgets/controls",
      "model_module_version": "2.0.0",
      "model_name": "HBoxModel",
      "state": {
       "_dom_classes": [],
       "_model_module": "@jupyter-widgets/controls",
       "_model_module_version": "2.0.0",
       "_model_name": "HBoxModel",
       "_view_count": null,
       "_view_module": "@jupyter-widgets/controls",
       "_view_module_version": "2.0.0",
       "_view_name": "HBoxView",
       "box_style": "",
       "children": [
        "IPY_MODEL_75912ccac7684345a49da0714bb3df51",
        "IPY_MODEL_e63ac9e7260346428c17e30b5ca0bd20",
        "IPY_MODEL_d709229f603740f2adc5d0656946d50b"
       ],
       "layout": "IPY_MODEL_6fc02d6340cd4c76a69aab0bd3e1a21e",
       "tabbable": null,
       "tooltip": null
      }
     },
     "a79ed943d3f348a1952a7a322e0b7ac1": {
      "model_module": "@jupyter-widgets/base",
      "model_module_version": "2.0.0",
      "model_name": "LayoutModel",
      "state": {
       "_model_module": "@jupyter-widgets/base",
       "_model_module_version": "2.0.0",
       "_model_name": "LayoutModel",
       "_view_count": null,
       "_view_module": "@jupyter-widgets/base",
       "_view_module_version": "2.0.0",
       "_view_name": "LayoutView",
       "align_content": null,
       "align_items": null,
       "align_self": null,
       "border_bottom": null,
       "border_left": null,
       "border_right": null,
       "border_top": null,
       "bottom": null,
       "display": null,
       "flex": null,
       "flex_flow": null,
       "grid_area": null,
       "grid_auto_columns": null,
       "grid_auto_flow": null,
       "grid_auto_rows": null,
       "grid_column": null,
       "grid_gap": null,
       "grid_row": null,
       "grid_template_areas": null,
       "grid_template_columns": null,
       "grid_template_rows": null,
       "height": null,
       "justify_content": null,
       "justify_items": null,
       "left": null,
       "margin": null,
       "max_height": null,
       "max_width": null,
       "min_height": null,
       "min_width": null,
       "object_fit": null,
       "object_position": null,
       "order": null,
       "overflow": null,
       "padding": null,
       "right": null,
       "top": null,
       "visibility": null,
       "width": null
      }
     },
     "a94c607e85894f70ae4a8815eff6d5eb": {
      "model_module": "@jupyter-widgets/controls",
      "model_module_version": "2.0.0",
      "model_name": "ProgressStyleModel",
      "state": {
       "_model_module": "@jupyter-widgets/controls",
       "_model_module_version": "2.0.0",
       "_model_name": "ProgressStyleModel",
       "_view_count": null,
       "_view_module": "@jupyter-widgets/base",
       "_view_module_version": "2.0.0",
       "_view_name": "StyleView",
       "bar_color": null,
       "description_width": ""
      }
     },
     "aebfc7507f0846a28ba0c7d22e75cb60": {
      "model_module": "@jupyter-widgets/controls",
      "model_module_version": "2.0.0",
      "model_name": "ProgressStyleModel",
      "state": {
       "_model_module": "@jupyter-widgets/controls",
       "_model_module_version": "2.0.0",
       "_model_name": "ProgressStyleModel",
       "_view_count": null,
       "_view_module": "@jupyter-widgets/base",
       "_view_module_version": "2.0.0",
       "_view_name": "StyleView",
       "bar_color": null,
       "description_width": ""
      }
     },
     "bbca4e75cd054a26bb031400f243a5ef": {
      "model_module": "@jupyter-widgets/base",
      "model_module_version": "2.0.0",
      "model_name": "LayoutModel",
      "state": {
       "_model_module": "@jupyter-widgets/base",
       "_model_module_version": "2.0.0",
       "_model_name": "LayoutModel",
       "_view_count": null,
       "_view_module": "@jupyter-widgets/base",
       "_view_module_version": "2.0.0",
       "_view_name": "LayoutView",
       "align_content": null,
       "align_items": null,
       "align_self": null,
       "border_bottom": null,
       "border_left": null,
       "border_right": null,
       "border_top": null,
       "bottom": null,
       "display": null,
       "flex": null,
       "flex_flow": null,
       "grid_area": null,
       "grid_auto_columns": null,
       "grid_auto_flow": null,
       "grid_auto_rows": null,
       "grid_column": null,
       "grid_gap": null,
       "grid_row": null,
       "grid_template_areas": null,
       "grid_template_columns": null,
       "grid_template_rows": null,
       "height": null,
       "justify_content": null,
       "justify_items": null,
       "left": null,
       "margin": null,
       "max_height": null,
       "max_width": null,
       "min_height": null,
       "min_width": null,
       "object_fit": null,
       "object_position": null,
       "order": null,
       "overflow": null,
       "padding": null,
       "right": null,
       "top": null,
       "visibility": null,
       "width": null
      }
     },
     "bcb5b63d84ce479a8138a44afe2d4037": {
      "model_module": "@jupyter-widgets/controls",
      "model_module_version": "2.0.0",
      "model_name": "HTMLStyleModel",
      "state": {
       "_model_module": "@jupyter-widgets/controls",
       "_model_module_version": "2.0.0",
       "_model_name": "HTMLStyleModel",
       "_view_count": null,
       "_view_module": "@jupyter-widgets/base",
       "_view_module_version": "2.0.0",
       "_view_name": "StyleView",
       "background": null,
       "description_width": "",
       "font_size": null,
       "text_color": null
      }
     },
     "cb88492eba444622bbf4980caf375c15": {
      "model_module": "@jupyter-widgets/controls",
      "model_module_version": "2.0.0",
      "model_name": "HTMLStyleModel",
      "state": {
       "_model_module": "@jupyter-widgets/controls",
       "_model_module_version": "2.0.0",
       "_model_name": "HTMLStyleModel",
       "_view_count": null,
       "_view_module": "@jupyter-widgets/base",
       "_view_module_version": "2.0.0",
       "_view_name": "StyleView",
       "background": null,
       "description_width": "",
       "font_size": null,
       "text_color": null
      }
     },
     "d709229f603740f2adc5d0656946d50b": {
      "model_module": "@jupyter-widgets/controls",
      "model_module_version": "2.0.0",
      "model_name": "HTMLModel",
      "state": {
       "_dom_classes": [],
       "_model_module": "@jupyter-widgets/controls",
       "_model_module_version": "2.0.0",
       "_model_name": "HTMLModel",
       "_view_count": null,
       "_view_module": "@jupyter-widgets/controls",
       "_view_module_version": "2.0.0",
       "_view_name": "HTMLView",
       "description": "",
       "description_allow_html": false,
       "layout": "IPY_MODEL_832f3dc21d264f8d89348b698870b9bd",
       "placeholder": "​",
       "style": "IPY_MODEL_0abb0e1e558d4648ad7338b4bd61f7cc",
       "tabbable": null,
       "tooltip": null,
       "value": " 131/131 [00:00&lt;00:00, 1115.98it/s]"
      }
     },
     "daab8eb40478439fbc99412c92c24e4f": {
      "model_module": "@jupyter-widgets/controls",
      "model_module_version": "2.0.0",
      "model_name": "HBoxModel",
      "state": {
       "_dom_classes": [],
       "_model_module": "@jupyter-widgets/controls",
       "_model_module_version": "2.0.0",
       "_model_name": "HBoxModel",
       "_view_count": null,
       "_view_module": "@jupyter-widgets/controls",
       "_view_module_version": "2.0.0",
       "_view_name": "HBoxView",
       "box_style": "",
       "children": [
        "IPY_MODEL_539f21e125554233a5d869d9a617f262",
        "IPY_MODEL_969f4fd0007e48f98963d873deb8c460",
        "IPY_MODEL_f7848ade65f5403a923e0ce92adbfd95"
       ],
       "layout": "IPY_MODEL_90030e7aae42440baac1f2f898cec37d",
       "tabbable": null,
       "tooltip": null
      }
     },
     "e63ac9e7260346428c17e30b5ca0bd20": {
      "model_module": "@jupyter-widgets/controls",
      "model_module_version": "2.0.0",
      "model_name": "FloatProgressModel",
      "state": {
       "_dom_classes": [],
       "_model_module": "@jupyter-widgets/controls",
       "_model_module_version": "2.0.0",
       "_model_name": "FloatProgressModel",
       "_view_count": null,
       "_view_module": "@jupyter-widgets/controls",
       "_view_module_version": "2.0.0",
       "_view_name": "ProgressView",
       "bar_style": "success",
       "description": "",
       "description_allow_html": false,
       "layout": "IPY_MODEL_bbca4e75cd054a26bb031400f243a5ef",
       "max": 131,
       "min": 0,
       "orientation": "horizontal",
       "style": "IPY_MODEL_aebfc7507f0846a28ba0c7d22e75cb60",
       "tabbable": null,
       "tooltip": null,
       "value": 131
      }
     },
     "f69c5b14ccd6410aa111ec0eed826fcf": {
      "model_module": "@jupyter-widgets/controls",
      "model_module_version": "2.0.0",
      "model_name": "HTMLStyleModel",
      "state": {
       "_model_module": "@jupyter-widgets/controls",
       "_model_module_version": "2.0.0",
       "_model_name": "HTMLStyleModel",
       "_view_count": null,
       "_view_module": "@jupyter-widgets/base",
       "_view_module_version": "2.0.0",
       "_view_name": "StyleView",
       "background": null,
       "description_width": "",
       "font_size": null,
       "text_color": null
      }
     },
     "f7848ade65f5403a923e0ce92adbfd95": {
      "model_module": "@jupyter-widgets/controls",
      "model_module_version": "2.0.0",
      "model_name": "HTMLModel",
      "state": {
       "_dom_classes": [],
       "_model_module": "@jupyter-widgets/controls",
       "_model_module_version": "2.0.0",
       "_model_name": "HTMLModel",
       "_view_count": null,
       "_view_module": "@jupyter-widgets/controls",
       "_view_module_version": "2.0.0",
       "_view_name": "HTMLView",
       "description": "",
       "description_allow_html": false,
       "layout": "IPY_MODEL_a79ed943d3f348a1952a7a322e0b7ac1",
       "placeholder": "​",
       "style": "IPY_MODEL_f69c5b14ccd6410aa111ec0eed826fcf",
       "tabbable": null,
       "tooltip": null,
       "value": " 1044/1044 [00:00&lt;00:00, 1083.27it/s]"
      }
     }
    },
    "version_major": 2,
    "version_minor": 0
   }
  }
 },
 "nbformat": 4,
 "nbformat_minor": 4
}
