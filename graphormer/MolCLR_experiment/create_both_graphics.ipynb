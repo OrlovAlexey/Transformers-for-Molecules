{
 "cells": [
  {
   "cell_type": "code",
   "execution_count": 1,
   "id": "90e6d530-5890-4a3b-b2bb-816d3752d6e7",
   "metadata": {},
   "outputs": [
    {
     "name": "stdout",
     "output_type": "stream",
     "text": [
      "\u001b[34m\u001b[1mwandb\u001b[0m: Appending key for api.wandb.ai to your netrc file: /home/alexeyorlov53/.netrc\n"
     ]
    }
   ],
   "source": [
    "import wandb\n",
    "!python3 -m wandb login eb7b1964fb84cd81de96b2a273ecf2bb6254aeac"
   ]
  },
  {
   "cell_type": "code",
   "execution_count": 2,
   "id": "a4002cc7-bb40-4a68-bdc2-04ff7bf4b82e",
   "metadata": {},
   "outputs": [],
   "source": [
    "import pandas as pd"
   ]
  },
  {
   "cell_type": "code",
   "execution_count": 3,
   "id": "c73edd4c-80d7-4b3d-80ce-3af4a009046b",
   "metadata": {},
   "outputs": [],
   "source": [
    "\n",
    "what = 'valid'"
   ]
  },
  {
   "cell_type": "code",
   "execution_count": 4,
   "id": "be8a4921-635d-4ba5-b6a6-fb73bb7c4177",
   "metadata": {},
   "outputs": [],
   "source": [
    "df_graphormer = pd.read_csv(f\"graphormer_{what}.csv\")"
   ]
  },
  {
   "cell_type": "code",
   "execution_count": 5,
   "id": "1a7d71af-cc6e-4708-83db-6e3260bb3bd3",
   "metadata": {},
   "outputs": [],
   "source": [
    "df_molclr = pd.read_csv(f\"molclr_{what}.csv\")"
   ]
  },
  {
   "cell_type": "code",
   "execution_count": 6,
   "id": "240c616e-4f0f-4f51-94fc-62f7d92ca1e5",
   "metadata": {},
   "outputs": [
    {
     "data": {
      "text/plain": [
       "Index(['Step', 'MolCLR classification Molecular Weight - loss/eval',\n",
       "       'MolCLR classification Molecular Weight - loss/eval__MIN',\n",
       "       'MolCLR classification Molecular Weight - loss/eval__MAX',\n",
       "       'Graphormer Simple Classification on MolecularWeight 10k 100_epochs - loss/validation',\n",
       "       'Graphormer Simple Classification on MolecularWeight 10k 100_epochs - loss/validation__MIN',\n",
       "       'Graphormer Simple Classification on MolecularWeight 10k 100_epochs - loss/validation__MAX'],\n",
       "      dtype='object')"
      ]
     },
     "execution_count": 6,
     "metadata": {},
     "output_type": "execute_result"
    }
   ],
   "source": [
    "df_graphormer.columns"
   ]
  },
  {
   "cell_type": "code",
   "execution_count": 7,
   "id": "fac8c954-cbdd-454e-9feb-6d862e4fb363",
   "metadata": {},
   "outputs": [
    {
     "data": {
      "text/plain": [
       "Index(['Step', 'MolCLR classification Molecular Weight - loss/eval',\n",
       "       'MolCLR classification Molecular Weight - loss/eval__MIN',\n",
       "       'MolCLR classification Molecular Weight - loss/eval__MAX'],\n",
       "      dtype='object')"
      ]
     },
     "execution_count": 7,
     "metadata": {},
     "output_type": "execute_result"
    }
   ],
   "source": [
    "df_molclr.columns"
   ]
  },
  {
   "cell_type": "code",
   "execution_count": 8,
   "id": "51c40490-d2e5-4f90-a6b4-63b762886643",
   "metadata": {},
   "outputs": [
    {
     "name": "stderr",
     "output_type": "stream",
     "text": [
      "\u001b[34m\u001b[1mwandb\u001b[0m: Currently logged in as: \u001b[33morlov-aleksei53\u001b[0m (\u001b[33mmoleculary-ai\u001b[0m). Use \u001b[1m`wandb login --relogin`\u001b[0m to force relogin\n"
     ]
    },
    {
     "data": {
      "text/html": [
       "wandb version 0.17.1 is available!  To upgrade, please run:\n",
       " $ pip install wandb --upgrade"
      ],
      "text/plain": [
       "<IPython.core.display.HTML object>"
      ]
     },
     "metadata": {},
     "output_type": "display_data"
    },
    {
     "data": {
      "text/html": [
       "Tracking run with wandb version 0.17.0"
      ],
      "text/plain": [
       "<IPython.core.display.HTML object>"
      ]
     },
     "metadata": {},
     "output_type": "display_data"
    },
    {
     "data": {
      "text/html": [
       "Run data is saved locally in <code>/home/alexeyorlov53/Transformers-for-Molecules/graphormer/MolCLR_experiment/wandb/run-20240617_172302-wnzyqhps</code>"
      ],
      "text/plain": [
       "<IPython.core.display.HTML object>"
      ]
     },
     "metadata": {},
     "output_type": "display_data"
    },
    {
     "data": {
      "text/html": [
       "Syncing run <strong><a href='https://wandb.ai/moleculary-ai/graphormer/runs/wnzyqhps' target=\"_blank\">Test run valid</a></strong> to <a href='https://wandb.ai/moleculary-ai/graphormer' target=\"_blank\">Weights & Biases</a> (<a href='https://wandb.me/run' target=\"_blank\">docs</a>)<br/>"
      ],
      "text/plain": [
       "<IPython.core.display.HTML object>"
      ]
     },
     "metadata": {},
     "output_type": "display_data"
    },
    {
     "data": {
      "text/html": [
       " View project at <a href='https://wandb.ai/moleculary-ai/graphormer' target=\"_blank\">https://wandb.ai/moleculary-ai/graphormer</a>"
      ],
      "text/plain": [
       "<IPython.core.display.HTML object>"
      ]
     },
     "metadata": {},
     "output_type": "display_data"
    },
    {
     "data": {
      "text/html": [
       " View run at <a href='https://wandb.ai/moleculary-ai/graphormer/runs/wnzyqhps' target=\"_blank\">https://wandb.ai/moleculary-ai/graphormer/runs/wnzyqhps</a>"
      ],
      "text/plain": [
       "<IPython.core.display.HTML object>"
      ]
     },
     "metadata": {},
     "output_type": "display_data"
    },
    {
     "data": {
      "text/html": [
       "<button onClick=\"this.nextSibling.style.display='block';this.style.display='none';\">Display W&B run</button><iframe src='https://wandb.ai/moleculary-ai/graphormer/runs/wnzyqhps?jupyter=true' style='border:none;width:100%;height:420px;display:none;'></iframe>"
      ],
      "text/plain": [
       "<wandb.sdk.wandb_run.Run at 0x7fcf8560bac0>"
      ]
     },
     "execution_count": 8,
     "metadata": {},
     "output_type": "execute_result"
    }
   ],
   "source": [
    "wandb.init(\n",
    "    project=\"graphormer\",\n",
    "    name=\"Test run \" + what,\n",
    "    config={}\n",
    ")"
   ]
  },
  {
   "cell_type": "code",
   "execution_count": 9,
   "id": "23bf0a03-c5a7-4d13-a876-30b8a4b62756",
   "metadata": {},
   "outputs": [],
   "source": [
    "import numpy as np\n",
    "\n",
    "def log(df_graphormer, df_molclr):\n",
    "    for i in range(len(df_graphormer.iloc[:, 4])):\n",
    "        name1 = \"loss graphormer/\" + what\n",
    "        wandb.log({name1: np.sqrt(df_graphormer.iloc[i, 4]) - 130.0})\n",
    "\n",
    "        name2 = \"loss molclr/\" + what\n",
    "        wandb.log({name2: df_molclr.iloc[i, 1]})"
   ]
  },
  {
   "cell_type": "code",
   "execution_count": 10,
   "id": "ecf3f5f5-19d2-46e1-a38d-8b226eaa0b7f",
   "metadata": {},
   "outputs": [],
   "source": [
    "log(df_graphormer, df_molclr)"
   ]
  },
  {
   "cell_type": "code",
   "execution_count": null,
   "id": "75076bb0-d20d-4a60-abc2-e8ba398813e9",
   "metadata": {},
   "outputs": [],
   "source": []
  },
  {
   "cell_type": "code",
   "execution_count": null,
   "id": "c4c5c937-4128-4fec-8fc1-bcaeb1fa5b25",
   "metadata": {},
   "outputs": [],
   "source": []
  },
  {
   "cell_type": "code",
   "execution_count": null,
   "id": "78c388ba-7590-403e-8cc8-f79d21fc11a7",
   "metadata": {},
   "outputs": [],
   "source": []
  },
  {
   "cell_type": "code",
   "execution_count": 11,
   "id": "a217c221-1826-497a-a6a9-b2527ca30fa1",
   "metadata": {},
   "outputs": [
    {
     "data": {
      "application/vnd.jupyter.widget-view+json": {
       "model_id": "",
       "version_major": 2,
       "version_minor": 0
      },
      "text/plain": [
       "VBox(children=(Label(value='0.007 MB of 0.007 MB uploaded\\r'), FloatProgress(value=1.0, max=1.0)))"
      ]
     },
     "metadata": {},
     "output_type": "display_data"
    },
    {
     "data": {
      "text/html": [
       "<style>\n",
       "    table.wandb td:nth-child(1) { padding: 0 10px; text-align: left ; width: auto;} td:nth-child(2) {text-align: left ; width: 100%}\n",
       "    .wandb-row { display: flex; flex-direction: row; flex-wrap: wrap; justify-content: flex-start; width: 100% }\n",
       "    .wandb-col { display: flex; flex-direction: column; flex-basis: 100%; flex: 1; padding: 10px; }\n",
       "    </style>\n",
       "<div class=\"wandb-row\"><div class=\"wandb-col\"><h3>Run history:</h3><br/><table class=\"wandb\"><tr><td>loss graphormer/valid</td><td>▇▃▅▅▇▃▅▆▆▇▆▆▅▆▃▄▅▆▅▄▇█▇▇▅▅▅▄▃▂▃▂▂▂▂▂▁▁▁▁</td></tr><tr><td>loss molclr/valid</td><td>█▇▅▅▆▅▃▄▄▄▃▃▃▅▃▂▂▄▄▄▁▄▂▂▄▂▂▃▃▂▃▃▂▁▂▄▃▂▃▃</td></tr></table><br/></div><div class=\"wandb-col\"><h3>Run summary:</h3><br/><table class=\"wandb\"><tr><td>loss graphormer/valid</td><td>70.89702</td></tr><tr><td>loss molclr/valid</td><td>87.21319</td></tr></table><br/></div></div>"
      ],
      "text/plain": [
       "<IPython.core.display.HTML object>"
      ]
     },
     "metadata": {},
     "output_type": "display_data"
    },
    {
     "data": {
      "text/html": [
       " View run <strong style=\"color:#cdcd00\">Test run valid</strong> at: <a href='https://wandb.ai/moleculary-ai/graphormer/runs/wnzyqhps' target=\"_blank\">https://wandb.ai/moleculary-ai/graphormer/runs/wnzyqhps</a><br/> View project at: <a href='https://wandb.ai/moleculary-ai/graphormer' target=\"_blank\">https://wandb.ai/moleculary-ai/graphormer</a><br/>Synced 5 W&B file(s), 0 media file(s), 0 artifact file(s) and 0 other file(s)"
      ],
      "text/plain": [
       "<IPython.core.display.HTML object>"
      ]
     },
     "metadata": {},
     "output_type": "display_data"
    },
    {
     "data": {
      "text/html": [
       "Find logs at: <code>./wandb/run-20240617_172302-wnzyqhps/logs</code>"
      ],
      "text/plain": [
       "<IPython.core.display.HTML object>"
      ]
     },
     "metadata": {},
     "output_type": "display_data"
    }
   ],
   "source": [
    "wandb.finish()"
   ]
  },
  {
   "cell_type": "code",
   "execution_count": null,
   "id": "a4dfae09-aca1-4bf5-bd83-d1001cc0e12e",
   "metadata": {},
   "outputs": [],
   "source": []
  }
 ],
 "metadata": {
  "kernelspec": {
   "display_name": "Python 3 (ipykernel)",
   "language": "python",
   "name": "python3"
  },
  "language_info": {
   "codemirror_mode": {
    "name": "ipython",
    "version": 3
   },
   "file_extension": ".py",
   "mimetype": "text/x-python",
   "name": "python",
   "nbconvert_exporter": "python",
   "pygments_lexer": "ipython3",
   "version": "3.9.19"
  },
  "widgets": {
   "application/vnd.jupyter.widget-state+json": {
    "state": {
     "01eb9b1fd26a4e7d8154bd15c1eac69f": {
      "model_module": "@jupyter-widgets/base",
      "model_module_version": "2.0.0",
      "model_name": "LayoutModel",
      "state": {}
     },
     "173fc0623df44e7d9e01a59d12165d01": {
      "model_module": "@jupyter-widgets/controls",
      "model_module_version": "2.0.0",
      "model_name": "ProgressStyleModel",
      "state": {
       "description_width": ""
      }
     },
     "229134646d2c4effbd3a183259e1d3b0": {
      "model_module": "@jupyter-widgets/controls",
      "model_module_version": "2.0.0",
      "model_name": "LabelModel",
      "state": {
       "layout": "IPY_MODEL_01eb9b1fd26a4e7d8154bd15c1eac69f",
       "style": "IPY_MODEL_7ad358eeca09445bb4c917b9a1b7a5cb"
      }
     },
     "331ef47d46344fb2a8d89e1a81ef9689": {
      "model_module": "@jupyter-widgets/controls",
      "model_module_version": "2.0.0",
      "model_name": "FloatProgressModel",
      "state": {
       "layout": "IPY_MODEL_74b779410b7042a884ddf0a07c36fedd",
       "max": 1,
       "style": "IPY_MODEL_173fc0623df44e7d9e01a59d12165d01",
       "value": 1
      }
     },
     "426dae9c781b45888aa18fa48560cc78": {
      "model_module": "@jupyter-widgets/controls",
      "model_module_version": "2.0.0",
      "model_name": "LabelModel",
      "state": {
       "layout": "IPY_MODEL_f305ade0a3714dbebfd4194d1a84c519",
       "style": "IPY_MODEL_c0d880f39b7341ba9dd33a6c2387c24c",
       "value": "0.019 MB of 0.019 MB uploaded\r"
      }
     },
     "65a54491dc2849c99afd60a7c03f0bcf": {
      "model_module": "@jupyter-widgets/controls",
      "model_module_version": "2.0.0",
      "model_name": "ProgressStyleModel",
      "state": {
       "description_width": ""
      }
     },
     "6853c11d82ff436ba894da8a43330464": {
      "model_module": "@jupyter-widgets/controls",
      "model_module_version": "2.0.0",
      "model_name": "FloatProgressModel",
      "state": {
       "layout": "IPY_MODEL_d536ca5704fe4fb99a7dd2be49a74ea0",
       "max": 1,
       "style": "IPY_MODEL_65a54491dc2849c99afd60a7c03f0bcf"
      }
     },
     "74b779410b7042a884ddf0a07c36fedd": {
      "model_module": "@jupyter-widgets/base",
      "model_module_version": "2.0.0",
      "model_name": "LayoutModel",
      "state": {}
     },
     "7ad358eeca09445bb4c917b9a1b7a5cb": {
      "model_module": "@jupyter-widgets/controls",
      "model_module_version": "2.0.0",
      "model_name": "LabelStyleModel",
      "state": {
       "description_width": "",
       "font_family": null,
       "font_size": null,
       "font_style": null,
       "font_variant": null,
       "font_weight": null,
       "text_color": null,
       "text_decoration": null
      }
     },
     "97ef808652494d47bf281e005954b10e": {
      "model_module": "@jupyter-widgets/base",
      "model_module_version": "2.0.0",
      "model_name": "LayoutModel",
      "state": {}
     },
     "c0d880f39b7341ba9dd33a6c2387c24c": {
      "model_module": "@jupyter-widgets/controls",
      "model_module_version": "2.0.0",
      "model_name": "LabelStyleModel",
      "state": {
       "description_width": "",
       "font_family": null,
       "font_size": null,
       "font_style": null,
       "font_variant": null,
       "font_weight": null,
       "text_color": null,
       "text_decoration": null
      }
     },
     "d536ca5704fe4fb99a7dd2be49a74ea0": {
      "model_module": "@jupyter-widgets/base",
      "model_module_version": "2.0.0",
      "model_name": "LayoutModel",
      "state": {}
     },
     "f305ade0a3714dbebfd4194d1a84c519": {
      "model_module": "@jupyter-widgets/base",
      "model_module_version": "2.0.0",
      "model_name": "LayoutModel",
      "state": {}
     },
     "f7ec2a8da9c249e0b3cb6fa0688a293c": {
      "model_module": "@jupyter-widgets/controls",
      "model_module_version": "2.0.0",
      "model_name": "VBoxModel",
      "state": {
       "children": [
        "IPY_MODEL_229134646d2c4effbd3a183259e1d3b0",
        "IPY_MODEL_6853c11d82ff436ba894da8a43330464"
       ],
       "layout": "IPY_MODEL_97ef808652494d47bf281e005954b10e"
      }
     },
     "fc3b5680c9aa43c0ae7c57297e58c5b0": {
      "model_module": "@jupyter-widgets/base",
      "model_module_version": "2.0.0",
      "model_name": "LayoutModel",
      "state": {}
     }
    },
    "version_major": 2,
    "version_minor": 0
   }
  }
 },
 "nbformat": 4,
 "nbformat_minor": 5
}
