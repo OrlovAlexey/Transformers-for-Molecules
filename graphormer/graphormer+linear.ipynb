{
 "cells": [
  {
   "cell_type": "code",
   "execution_count": 1,
   "id": "1d6f265e-e433-48e9-a783-950e8b12260c",
   "metadata": {},
   "outputs": [],
   "source": [
    "import torch\n",
    "import pandas as pd\n",
    "from pathlib import Path\n",
    "from tqdm.auto import tqdm\n",
    "import numpy as np\n",
    "import wandb"
   ]
  },
  {
   "cell_type": "code",
   "execution_count": 2,
   "id": "158544ca-2767-4bc9-972f-c58b53a8012d",
   "metadata": {},
   "outputs": [
    {
     "name": "stdout",
     "output_type": "stream",
     "text": [
      "\u001b[34m\u001b[1mwandb\u001b[0m: Appending key for api.wandb.ai to your netrc file: /home/alexeyorlov53/.netrc\n"
     ]
    }
   ],
   "source": [
    "!python3 -m wandb login eb7b1964fb84cd81de96b2a273ecf2bb6254aeac"
   ]
  },
  {
   "cell_type": "code",
   "execution_count": 3,
   "id": "cb87046b-24e4-4963-ace0-615a30c7ddeb",
   "metadata": {},
   "outputs": [],
   "source": [
    "model_name = 'clefourrier/graphormer-base-pcqm4mv1'"
   ]
  },
  {
   "cell_type": "markdown",
   "id": "7d36cd61-adb3-490a-9082-1697fba25a19",
   "metadata": {},
   "source": [
    "### Upload Dataset"
   ]
  },
  {
   "cell_type": "code",
   "execution_count": 4,
   "id": "d6ef798c-7e97-4a0b-98f9-ff50519ff824",
   "metadata": {},
   "outputs": [],
   "source": [
    "dataframe = pd.read_csv(\"data_100k_graph.csv\")"
   ]
  },
  {
   "cell_type": "code",
   "execution_count": null,
   "id": "c802eac3-0860-4705-8cf2-ee916f02f789",
   "metadata": {},
   "outputs": [],
   "source": [
    "print('Percentage on NaNs:')\n",
    "dataframe.isna().mean()"
   ]
  },
  {
   "cell_type": "code",
   "execution_count": 5,
   "id": "6bf55334-c3e7-4a68-9f06-9f1be413e440",
   "metadata": {},
   "outputs": [],
   "source": [
    "dataframe = dataframe.drop(columns=['Unnamed: 0', 'Smiles', 'ecfp1', 'ecfp2', 'ecfp3'])"
   ]
  },
  {
   "cell_type": "code",
   "execution_count": 6,
   "id": "edbb0890-2585-41a5-b941-002655ce134a",
   "metadata": {},
   "outputs": [],
   "source": [
    "def preprocess_array_column(df, column):\n",
    "    for row in tqdm(range(len(df))):\n",
    "        str_ints = eval(df.iloc[row][column])\n",
    "        df.at[row, column] = str_ints"
   ]
  },
  {
   "cell_type": "code",
   "execution_count": 7,
   "id": "888040a6-edda-4e71-a758-38046902fbb6",
   "metadata": {},
   "outputs": [
    {
     "data": {
      "application/vnd.jupyter.widget-view+json": {
       "model_id": "05be2b77cc0e49ff98bdc1337b877f05",
       "version_major": 2,
       "version_minor": 0
      },
      "text/plain": [
       "  0%|          | 0/100000 [00:00<?, ?it/s]"
      ]
     },
     "metadata": {},
     "output_type": "display_data"
    },
    {
     "data": {
      "application/vnd.jupyter.widget-view+json": {
       "model_id": "b0fc82d042634a3e956a1561a68b0e3c",
       "version_major": 2,
       "version_minor": 0
      },
      "text/plain": [
       "  0%|          | 0/100000 [00:00<?, ?it/s]"
      ]
     },
     "metadata": {},
     "output_type": "display_data"
    },
    {
     "data": {
      "application/vnd.jupyter.widget-view+json": {
       "model_id": "2623c9433a27437ab6d61aaf31e30ad7",
       "version_major": 2,
       "version_minor": 0
      },
      "text/plain": [
       "  0%|          | 0/100000 [00:00<?, ?it/s]"
      ]
     },
     "metadata": {},
     "output_type": "display_data"
    }
   ],
   "source": [
    "preprocess_array_column(dataframe, 'node_feat')\n",
    "preprocess_array_column(dataframe, 'edge_index')\n",
    "preprocess_array_column(dataframe, 'edge_attr')"
   ]
  },
  {
   "cell_type": "code",
   "execution_count": 21,
   "id": "13ea5527-e124-4a99-a1c6-819519ffba0e",
   "metadata": {},
   "outputs": [],
   "source": [
    "dataframe['labels'] = dataframe['y'].apply(lambda x: [x])"
   ]
  },
  {
   "cell_type": "code",
   "execution_count": 24,
   "id": "bfa8f9f3-9594-4d62-8829-ffd561c0c35a",
   "metadata": {},
   "outputs": [],
   "source": [
    "dataframe = dataframe.drop(columns=['y'])"
   ]
  },
  {
   "cell_type": "markdown",
   "id": "827d58c5-eb7a-4420-b0db-f743e2167213",
   "metadata": {},
   "source": [
    "### Create Dataloader"
   ]
  },
  {
   "cell_type": "code",
   "execution_count": 29,
   "id": "2d5561e6-2477-4ead-9fae-91cae781bfe5",
   "metadata": {},
   "outputs": [
    {
     "ename": "NameError",
     "evalue": "name 'dataframe' is not defined",
     "output_type": "error",
     "traceback": [
      "\u001b[0;31m---------------------------------------------------------------------------\u001b[0m",
      "\u001b[0;31mNameError\u001b[0m                                 Traceback (most recent call last)",
      "Cell \u001b[0;32mIn[29], line 3\u001b[0m\n\u001b[1;32m      1\u001b[0m \u001b[38;5;28;01mfrom\u001b[39;00m \u001b[38;5;21;01mdatasets\u001b[39;00m \u001b[38;5;28;01mimport\u001b[39;00m Dataset, DatasetDict\n\u001b[0;32m----> 3\u001b[0m dataset \u001b[38;5;241m=\u001b[39m Dataset\u001b[38;5;241m.\u001b[39mfrom_pandas(dataframe)\n\u001b[1;32m      4\u001b[0m train_testvalid \u001b[38;5;241m=\u001b[39m dataset\u001b[38;5;241m.\u001b[39mtrain_test_split(test_size\u001b[38;5;241m=\u001b[39m\u001b[38;5;241m0.2\u001b[39m, seed\u001b[38;5;241m=\u001b[39m\u001b[38;5;241m15\u001b[39m)\n\u001b[1;32m      6\u001b[0m test_valid \u001b[38;5;241m=\u001b[39m train_testvalid[\u001b[38;5;124m'\u001b[39m\u001b[38;5;124mtest\u001b[39m\u001b[38;5;124m'\u001b[39m]\u001b[38;5;241m.\u001b[39mtrain_test_split(test_size\u001b[38;5;241m=\u001b[39m\u001b[38;5;241m0.5\u001b[39m, seed\u001b[38;5;241m=\u001b[39m\u001b[38;5;241m15\u001b[39m)\n",
      "\u001b[0;31mNameError\u001b[0m: name 'dataframe' is not defined"
     ]
    }
   ],
   "source": [
    "from datasets import Dataset, DatasetDict\n",
    "\n",
    "dataset = Dataset.from_pandas(dataframe)\n",
    "train_testvalid = dataset.train_test_split(test_size=0.2, seed=15)\n",
    "\n",
    "test_valid = train_testvalid['test'].train_test_split(test_size=0.5, seed=15)\n",
    "\n",
    "# 10% for test, 10 for validation, 80% for train\n",
    "dataset = DatasetDict({\n",
    "    'train': train_testvalid['train'],\n",
    "    'test': test_valid['test'],\n",
    "    'validation': test_valid['train']})\n",
    "\n",
    "dataset"
   ]
  },
  {
   "cell_type": "code",
   "execution_count": 30,
   "id": "b5e5a85d-97b8-44cf-8229-fde39c8a68cf",
   "metadata": {},
   "outputs": [
    {
     "ename": "NameError",
     "evalue": "name 'dataset' is not defined",
     "output_type": "error",
     "traceback": [
      "\u001b[0;31m---------------------------------------------------------------------------\u001b[0m",
      "\u001b[0;31mNameError\u001b[0m                                 Traceback (most recent call last)",
      "Cell \u001b[0;32mIn[30], line 3\u001b[0m\n\u001b[1;32m      1\u001b[0m \u001b[38;5;28;01mfrom\u001b[39;00m \u001b[38;5;21;01mtransformers\u001b[39;00m\u001b[38;5;21;01m.\u001b[39;00m\u001b[38;5;21;01mmodels\u001b[39;00m\u001b[38;5;21;01m.\u001b[39;00m\u001b[38;5;21;01mgraphormer\u001b[39;00m\u001b[38;5;21;01m.\u001b[39;00m\u001b[38;5;21;01mcollating_graphormer\u001b[39;00m \u001b[38;5;28;01mimport\u001b[39;00m preprocess_item, GraphormerDataCollator\n\u001b[0;32m----> 3\u001b[0m dataset_processed \u001b[38;5;241m=\u001b[39m dataset\u001b[38;5;241m.\u001b[39mmap(preprocess_item, batched\u001b[38;5;241m=\u001b[39m\u001b[38;5;28;01mFalse\u001b[39;00m)\n",
      "\u001b[0;31mNameError\u001b[0m: name 'dataset' is not defined"
     ]
    }
   ],
   "source": [
    "from transformers.models.graphormer.collating_graphormer import preprocess_item, GraphormerDataCollator\n",
    "\n",
    "dataset_processed = dataset.map(preprocess_item, batched=False)\n",
    "# data_loader = GraphormerDataCollator(on_the_fly_processing=True) # либо препроцессинг либо коллайтор с on_the_fly_processing"
   ]
  },
  {
   "cell_type": "code",
   "execution_count": 29,
   "id": "67f3e1e0-6ecf-480c-8ab4-7d356aeeb782",
   "metadata": {},
   "outputs": [
    {
     "data": {
      "application/vnd.jupyter.widget-view+json": {
       "model_id": "ad59247b3e5545d3be897a85792e1324",
       "version_major": 2,
       "version_minor": 0
      },
      "text/plain": [
       "Saving the dataset (0/158 shards):   0%|          | 0/80000 [00:00<?, ? examples/s]"
      ]
     },
     "metadata": {},
     "output_type": "display_data"
    },
    {
     "data": {
      "application/vnd.jupyter.widget-view+json": {
       "model_id": "0e076c143e2d45b184cc0c8e450ecc89",
       "version_major": 2,
       "version_minor": 0
      },
      "text/plain": [
       "Saving the dataset (0/21 shards):   0%|          | 0/10000 [00:00<?, ? examples/s]"
      ]
     },
     "metadata": {},
     "output_type": "display_data"
    },
    {
     "data": {
      "application/vnd.jupyter.widget-view+json": {
       "model_id": "7b81bce29c154a789c65b9021fbd6ce5",
       "version_major": 2,
       "version_minor": 0
      },
      "text/plain": [
       "Saving the dataset (0/19 shards):   0%|          | 0/10000 [00:00<?, ? examples/s]"
      ]
     },
     "metadata": {},
     "output_type": "display_data"
    }
   ],
   "source": [
    "dataset_processed.save_to_disk('dataset_graphormer_preprocessed')"
   ]
  },
  {
   "cell_type": "code",
   "execution_count": 4,
   "id": "f0ccf362-6633-4279-86fb-2799d9ab22ca",
   "metadata": {},
   "outputs": [
    {
     "data": {
      "application/vnd.jupyter.widget-view+json": {
       "model_id": "8652b3fbeb604d1cacad834914df7a17",
       "version_major": 2,
       "version_minor": 0
      },
      "text/plain": [
       "Loading dataset from disk:   0%|          | 0/158 [00:00<?, ?it/s]"
      ]
     },
     "metadata": {},
     "output_type": "display_data"
    },
    {
     "data": {
      "application/vnd.jupyter.widget-view+json": {
       "model_id": "0f9685be8869493ebc4d57636712e0ab",
       "version_major": 2,
       "version_minor": 0
      },
      "text/plain": [
       "Loading dataset from disk:   0%|          | 0/21 [00:00<?, ?it/s]"
      ]
     },
     "metadata": {},
     "output_type": "display_data"
    },
    {
     "data": {
      "application/vnd.jupyter.widget-view+json": {
       "model_id": "58ab1d8f674d432c82ff40fb448e2ba1",
       "version_major": 2,
       "version_minor": 0
      },
      "text/plain": [
       "Loading dataset from disk:   0%|          | 0/19 [00:00<?, ?it/s]"
      ]
     },
     "metadata": {},
     "output_type": "display_data"
    }
   ],
   "source": [
    "from datasets import load_from_disk\n",
    "dataset_processed = load_from_disk('dataset_graphormer_preprocessed')"
   ]
  },
  {
   "cell_type": "markdown",
   "id": "89a56144-3102-4a21-b86b-8e851dc97026",
   "metadata": {},
   "source": [
    "### Create Model"
   ]
  },
  {
   "cell_type": "code",
   "execution_count": 6,
   "id": "f3aa5011-5db5-4ede-b9fc-1f7af8128fe9",
   "metadata": {},
   "outputs": [],
   "source": [
    "# from transformers import AutoModel, AutoConfig\n",
    "\n",
    "# config = AutoConfig.from_pretrained(model_name)\n",
    "# AutoModel.from_pretrained(model_name, config=config)"
   ]
  },
  {
   "cell_type": "code",
   "execution_count": 6,
   "id": "66254640-38dc-4da6-bccf-634174aca108",
   "metadata": {},
   "outputs": [],
   "source": [
    "# from transformers import AutoModel, AutoConfig\n",
    "\n",
    "# class MolecularPropertiesRegression(torch.nn.Module):\n",
    "#     def __init__(self, model_name, num_properties):\n",
    "#         super(MolecularPropertiesRegression, self).__init__()\n",
    "#         self.num_properties = num_properties\n",
    "\n",
    "#         config = AutoConfig.from_pretrained(model_name)\n",
    "#         self.transformer = AutoModel.from_pretrained(model_name, config=config)\n",
    "#         # removing last layer of transformer\n",
    "#         self.transformer.pooler = torch.nn.Identity()\n",
    "#         # freezing transformer weights\n",
    "#         for param in self.transformer.parameters():\n",
    "#             param.requires_grad = False\n",
    "#         self.regressor = torch.nn.Linear(768, num_properties)\n",
    "\n",
    "#     def forward(self, input_ids = None, attention_mask=None):\n",
    "#         outputs = self.transformer(input_ids=input_ids, attention_mask=attention_mask)\n",
    "        \n",
    "#         last_hidden_state = outputs[0]\n",
    "#         # last_hidden_state is the shape of (batch_size=32, input_sequence_length=512, hidden_size=768)\n",
    "#         # so we take only hidden emdedding for [CLS] token (first) as it contains the entire context\n",
    "#         # and would be sufficient for simple downstream tasks such as classification/regression\n",
    "#         predicted_property_values = self.regressor(last_hidden_state[:, 0, : ].view(-1, 768))\n",
    "\n",
    "#         return predicted_property_values\n",
    "        "
   ]
  },
  {
   "cell_type": "markdown",
   "id": "dc5b0c73-a897-407e-a8c7-158283f97de4",
   "metadata": {},
   "source": [
    "### Create DataLoader"
   ]
  },
  {
   "cell_type": "code",
   "execution_count": 5,
   "id": "79747c27-653a-486a-ab4d-3f2c6ec347f5",
   "metadata": {},
   "outputs": [],
   "source": [
    "from torch.utils.data import DataLoader\n",
    "from transformers.models.graphormer.collating_graphormer import GraphormerDataCollator\n",
    "\n",
    "data_collator = GraphormerDataCollator()\n",
    "\n",
    "train_dataloader = DataLoader(\n",
    "    dataset_processed['train'], shuffle = False, batch_size = 16, collate_fn = data_collator\n",
    ")\n",
    "\n",
    "eval_dataloader = DataLoader(\n",
    "    dataset_processed['validation'], shuffle = False, batch_size = 16, collate_fn = data_collator\n",
    ")"
   ]
  },
  {
   "cell_type": "code",
   "execution_count": 6,
   "id": "8ba7ac61-1655-43f6-892e-46d0d54b05e5",
   "metadata": {},
   "outputs": [],
   "source": [
    "device = torch.device(\"cuda\", index=3) if torch.cuda.is_available() else torch.device('cpu')"
   ]
  },
  {
   "cell_type": "code",
   "execution_count": 7,
   "id": "08055762-1a53-49e6-8cd7-71161852abe8",
   "metadata": {},
   "outputs": [],
   "source": [
    "from transformers import GraphormerForGraphClassification\n",
    "\n",
    "model = GraphormerForGraphClassification.from_pretrained(\n",
    "    model_name, \n",
    "    num_classes=1,\n",
    "    ignore_mismatched_sizes = True, # provide this in case you're planning to fine-tune an already fine-tuned checkpoint\n",
    ").to(device)"
   ]
  },
  {
   "cell_type": "code",
   "execution_count": 8,
   "id": "c1428e13-d841-45e7-a885-919d4670a102",
   "metadata": {},
   "outputs": [
    {
     "data": {
      "text/plain": [
       "GraphormerForGraphClassification(\n",
       "  (encoder): GraphormerModel(\n",
       "    (graph_encoder): GraphormerGraphEncoder(\n",
       "      (dropout_module): Dropout(p=0.0, inplace=False)\n",
       "      (graph_node_feature): GraphormerGraphNodeFeature(\n",
       "        (atom_encoder): Embedding(4609, 768, padding_idx=0)\n",
       "        (in_degree_encoder): Embedding(512, 768, padding_idx=0)\n",
       "        (out_degree_encoder): Embedding(512, 768, padding_idx=0)\n",
       "        (graph_token): Embedding(1, 768)\n",
       "      )\n",
       "      (graph_attn_bias): GraphormerGraphAttnBias(\n",
       "        (edge_encoder): Embedding(1537, 32, padding_idx=0)\n",
       "        (edge_dis_encoder): Embedding(131072, 1)\n",
       "        (spatial_pos_encoder): Embedding(512, 32, padding_idx=0)\n",
       "        (graph_token_virtual_distance): Embedding(1, 32)\n",
       "      )\n",
       "      (emb_layer_norm): LayerNorm((768,), eps=1e-05, elementwise_affine=True)\n",
       "      (layers): ModuleList(\n",
       "        (0-11): 12 x GraphormerGraphEncoderLayer(\n",
       "          (dropout_module): Dropout(p=0.0, inplace=False)\n",
       "          (activation_dropout_module): Dropout(p=0.1, inplace=False)\n",
       "          (activation_fn): GELUActivation()\n",
       "          (self_attn): GraphormerMultiheadAttention(\n",
       "            (attention_dropout_module): Dropout(p=0.1, inplace=False)\n",
       "            (k_proj): Linear(in_features=768, out_features=768, bias=True)\n",
       "            (v_proj): Linear(in_features=768, out_features=768, bias=True)\n",
       "            (q_proj): Linear(in_features=768, out_features=768, bias=True)\n",
       "            (out_proj): Linear(in_features=768, out_features=768, bias=True)\n",
       "          )\n",
       "          (self_attn_layer_norm): LayerNorm((768,), eps=1e-05, elementwise_affine=True)\n",
       "          (fc1): Linear(in_features=768, out_features=768, bias=True)\n",
       "          (fc2): Linear(in_features=768, out_features=768, bias=True)\n",
       "          (final_layer_norm): LayerNorm((768,), eps=1e-05, elementwise_affine=True)\n",
       "        )\n",
       "      )\n",
       "    )\n",
       "    (lm_head_transform_weight): Linear(in_features=768, out_features=768, bias=True)\n",
       "    (activation_fn): GELUActivation()\n",
       "    (layer_norm): LayerNorm((768,), eps=1e-05, elementwise_affine=True)\n",
       "  )\n",
       "  (classifier): GraphormerDecoderHead(\n",
       "    (classifier): Linear(in_features=768, out_features=1, bias=False)\n",
       "  )\n",
       ")"
      ]
     },
     "execution_count": 8,
     "metadata": {},
     "output_type": "execute_result"
    }
   ],
   "source": [
    "model"
   ]
  },
  {
   "cell_type": "code",
   "execution_count": 9,
   "id": "04001413-80f4-4663-ab5d-a107e839c5c3",
   "metadata": {},
   "outputs": [
    {
     "name": "stderr",
     "output_type": "stream",
     "text": [
      "/home/alexeyorlov53/anaconda3/envs/test/lib/python3.11/site-packages/transformers/optimization.py:457: FutureWarning: This implementation of AdamW is deprecated and will be removed in a future version. Use the PyTorch implementation torch.optim.AdamW instead, or set `no_deprecation_warning=True` to disable this warning\n",
      "  warnings.warn(\n"
     ]
    }
   ],
   "source": [
    "from transformers import AdamW, get_scheduler\n",
    "\n",
    "optimizer = AdamW(model.parameters(), lr=5e-5)\n",
    "\n",
    "num_epoch = 3\n",
    "\n",
    "num_training_steps = num_epoch * len(train_dataloader)\n",
    "\n",
    "lr_scheduler = get_scheduler(\n",
    "    'linear',\n",
    "    optimizer = optimizer,\n",
    "    num_warmup_steps = 0,\n",
    "    num_training_steps = num_training_steps,\n",
    ")\n",
    "\n",
    "loss_func = torch.nn.MSELoss()"
   ]
  },
  {
   "cell_type": "code",
   "execution_count": 10,
   "id": "6f78e178-f7c1-4fc0-b8ad-5c5d5e03281f",
   "metadata": {},
   "outputs": [
    {
     "name": "stderr",
     "output_type": "stream",
     "text": [
      "\u001b[34m\u001b[1mwandb\u001b[0m: Currently logged in as: \u001b[33morlov-aleksei53\u001b[0m (\u001b[33mmoleculary-ai\u001b[0m). Use \u001b[1m`wandb login --relogin`\u001b[0m to force relogin\n"
     ]
    },
    {
     "data": {
      "text/html": [
       "wandb version 0.16.6 is available!  To upgrade, please run:\n",
       " $ pip install wandb --upgrade"
      ],
      "text/plain": [
       "<IPython.core.display.HTML object>"
      ]
     },
     "metadata": {},
     "output_type": "display_data"
    },
    {
     "data": {
      "text/html": [
       "Tracking run with wandb version 0.16.3"
      ],
      "text/plain": [
       "<IPython.core.display.HTML object>"
      ]
     },
     "metadata": {},
     "output_type": "display_data"
    },
    {
     "data": {
      "text/html": [
       "Run data is saved locally in <code>/home/alexeyorlov53/Transformers-for-Molecules/graphormer/wandb/run-20240410_174647-4rv3wr9a</code>"
      ],
      "text/plain": [
       "<IPython.core.display.HTML object>"
      ]
     },
     "metadata": {},
     "output_type": "display_data"
    },
    {
     "data": {
      "text/html": [
       "Syncing run <strong><a href='https://wandb.ai/moleculary-ai/graphormer/runs/4rv3wr9a' target=\"_blank\">Graphormer Simple Classification on MolecularWeight</a></strong> to <a href='https://wandb.ai/moleculary-ai/graphormer' target=\"_blank\">Weights & Biases</a> (<a href='https://wandb.me/run' target=\"_blank\">docs</a>)<br/>"
      ],
      "text/plain": [
       "<IPython.core.display.HTML object>"
      ]
     },
     "metadata": {},
     "output_type": "display_data"
    },
    {
     "data": {
      "text/html": [
       " View project at <a href='https://wandb.ai/moleculary-ai/graphormer' target=\"_blank\">https://wandb.ai/moleculary-ai/graphormer</a>"
      ],
      "text/plain": [
       "<IPython.core.display.HTML object>"
      ]
     },
     "metadata": {},
     "output_type": "display_data"
    },
    {
     "data": {
      "text/html": [
       " View run at <a href='https://wandb.ai/moleculary-ai/graphormer/runs/4rv3wr9a' target=\"_blank\">https://wandb.ai/moleculary-ai/graphormer/runs/4rv3wr9a</a>"
      ],
      "text/plain": [
       "<IPython.core.display.HTML object>"
      ]
     },
     "metadata": {},
     "output_type": "display_data"
    },
    {
     "data": {
      "text/html": [
       "<button onClick=\"this.nextSibling.style.display='block';this.style.display='none';\">Display W&B run</button><iframe src='https://wandb.ai/moleculary-ai/graphormer/runs/4rv3wr9a?jupyter=true' style='border:none;width:100%;height:420px;display:none;'></iframe>"
      ],
      "text/plain": [
       "<wandb.sdk.wandb_run.Run at 0x7f3534d8edd0>"
      ]
     },
     "execution_count": 10,
     "metadata": {},
     "output_type": "execute_result"
    }
   ],
   "source": [
    "wandb.init(\n",
    "    project=\"graphormer\",\n",
    "    name=\"Graphormer Simple Classification on MolecularWeight\",\n",
    "    config={}\n",
    ")"
   ]
  },
  {
   "cell_type": "markdown",
   "id": "30a951a1-7c75-47bd-b275-9693eb22fe95",
   "metadata": {},
   "source": [
    "### Training"
   ]
  },
  {
   "cell_type": "code",
   "execution_count": 11,
   "id": "9f0f67d5-c7f4-4ea0-959f-b1a990387a1e",
   "metadata": {},
   "outputs": [
    {
     "data": {
      "application/vnd.jupyter.widget-view+json": {
       "model_id": "6eb9322949434ef7a5ded61440ce574b",
       "version_major": 2,
       "version_minor": 0
      },
      "text/plain": [
       "  0%|          | 0/15000 [00:00<?, ?it/s]"
      ]
     },
     "metadata": {},
     "output_type": "display_data"
    },
    {
     "data": {
      "application/vnd.jupyter.widget-view+json": {
       "model_id": "d235e9359e224952a51c288230746ea5",
       "version_major": 2,
       "version_minor": 0
      },
      "text/plain": [
       "  0%|          | 0/1875 [00:00<?, ?it/s]"
      ]
     },
     "metadata": {},
     "output_type": "display_data"
    },
    {
     "ename": "OutOfMemoryError",
     "evalue": "CUDA out of memory. Tried to allocate 390.00 MiB. GPU 3 has a total capacity of 39.39 GiB of which 131.31 MiB is free. Process 682795 has 3.72 GiB memory in use. Including non-PyTorch memory, this process has 35.53 GiB memory in use. Of the allocated memory 34.66 GiB is allocated by PyTorch, and 379.03 MiB is reserved by PyTorch but unallocated. If reserved but unallocated memory is large try setting PYTORCH_CUDA_ALLOC_CONF=expandable_segments:True to avoid fragmentation.  See documentation for Memory Management  (https://pytorch.org/docs/stable/notes/cuda.html#environment-variables)",
     "output_type": "error",
     "traceback": [
      "\u001b[0;31m---------------------------------------------------------------------------\u001b[0m",
      "\u001b[0;31mOutOfMemoryError\u001b[0m                          Traceback (most recent call last)",
      "Cell \u001b[0;32mIn[11], line 13\u001b[0m\n\u001b[1;32m     10\u001b[0m \u001b[38;5;28;01mfor\u001b[39;00m batch \u001b[38;5;129;01min\u001b[39;00m train_dataloader:\n\u001b[1;32m     11\u001b[0m     input_batch \u001b[38;5;241m=\u001b[39m { k: v\u001b[38;5;241m.\u001b[39mto(device) \u001b[38;5;28;01mfor\u001b[39;00m k, v \u001b[38;5;129;01min\u001b[39;00m batch\u001b[38;5;241m.\u001b[39mitems() }\n\u001b[0;32m---> 13\u001b[0m     outputs \u001b[38;5;241m=\u001b[39m model(\u001b[38;5;241m*\u001b[39m\u001b[38;5;241m*\u001b[39minput_batch)\n\u001b[1;32m     15\u001b[0m     loss \u001b[38;5;241m=\u001b[39m outputs[\u001b[38;5;124m\"\u001b[39m\u001b[38;5;124mloss\u001b[39m\u001b[38;5;124m\"\u001b[39m] \u001b[38;5;28;01mif\u001b[39;00m \u001b[38;5;28misinstance\u001b[39m(outputs, \u001b[38;5;28mdict\u001b[39m) \u001b[38;5;28;01melse\u001b[39;00m outputs[\u001b[38;5;241m0\u001b[39m]\n\u001b[1;32m     16\u001b[0m     loss\u001b[38;5;241m.\u001b[39mbackward()\n",
      "File \u001b[0;32m~/anaconda3/envs/test/lib/python3.11/site-packages/torch/nn/modules/module.py:1511\u001b[0m, in \u001b[0;36mModule._wrapped_call_impl\u001b[0;34m(self, *args, **kwargs)\u001b[0m\n\u001b[1;32m   1509\u001b[0m     \u001b[38;5;28;01mreturn\u001b[39;00m \u001b[38;5;28mself\u001b[39m\u001b[38;5;241m.\u001b[39m_compiled_call_impl(\u001b[38;5;241m*\u001b[39margs, \u001b[38;5;241m*\u001b[39m\u001b[38;5;241m*\u001b[39mkwargs)  \u001b[38;5;66;03m# type: ignore[misc]\u001b[39;00m\n\u001b[1;32m   1510\u001b[0m \u001b[38;5;28;01melse\u001b[39;00m:\n\u001b[0;32m-> 1511\u001b[0m     \u001b[38;5;28;01mreturn\u001b[39;00m \u001b[38;5;28mself\u001b[39m\u001b[38;5;241m.\u001b[39m_call_impl(\u001b[38;5;241m*\u001b[39margs, \u001b[38;5;241m*\u001b[39m\u001b[38;5;241m*\u001b[39mkwargs)\n",
      "File \u001b[0;32m~/anaconda3/envs/test/lib/python3.11/site-packages/torch/nn/modules/module.py:1520\u001b[0m, in \u001b[0;36mModule._call_impl\u001b[0;34m(self, *args, **kwargs)\u001b[0m\n\u001b[1;32m   1515\u001b[0m \u001b[38;5;66;03m# If we don't have any hooks, we want to skip the rest of the logic in\u001b[39;00m\n\u001b[1;32m   1516\u001b[0m \u001b[38;5;66;03m# this function, and just call forward.\u001b[39;00m\n\u001b[1;32m   1517\u001b[0m \u001b[38;5;28;01mif\u001b[39;00m \u001b[38;5;129;01mnot\u001b[39;00m (\u001b[38;5;28mself\u001b[39m\u001b[38;5;241m.\u001b[39m_backward_hooks \u001b[38;5;129;01mor\u001b[39;00m \u001b[38;5;28mself\u001b[39m\u001b[38;5;241m.\u001b[39m_backward_pre_hooks \u001b[38;5;129;01mor\u001b[39;00m \u001b[38;5;28mself\u001b[39m\u001b[38;5;241m.\u001b[39m_forward_hooks \u001b[38;5;129;01mor\u001b[39;00m \u001b[38;5;28mself\u001b[39m\u001b[38;5;241m.\u001b[39m_forward_pre_hooks\n\u001b[1;32m   1518\u001b[0m         \u001b[38;5;129;01mor\u001b[39;00m _global_backward_pre_hooks \u001b[38;5;129;01mor\u001b[39;00m _global_backward_hooks\n\u001b[1;32m   1519\u001b[0m         \u001b[38;5;129;01mor\u001b[39;00m _global_forward_hooks \u001b[38;5;129;01mor\u001b[39;00m _global_forward_pre_hooks):\n\u001b[0;32m-> 1520\u001b[0m     \u001b[38;5;28;01mreturn\u001b[39;00m forward_call(\u001b[38;5;241m*\u001b[39margs, \u001b[38;5;241m*\u001b[39m\u001b[38;5;241m*\u001b[39mkwargs)\n\u001b[1;32m   1522\u001b[0m \u001b[38;5;28;01mtry\u001b[39;00m:\n\u001b[1;32m   1523\u001b[0m     result \u001b[38;5;241m=\u001b[39m \u001b[38;5;28;01mNone\u001b[39;00m\n",
      "File \u001b[0;32m~/anaconda3/envs/test/lib/python3.11/site-packages/transformers/models/graphormer/modeling_graphormer.py:884\u001b[0m, in \u001b[0;36mGraphormerForGraphClassification.forward\u001b[0;34m(self, input_nodes, input_edges, attn_bias, in_degree, out_degree, spatial_pos, attn_edge_type, labels, return_dict, **unused)\u001b[0m\n\u001b[1;32m    869\u001b[0m \u001b[38;5;28;01mdef\u001b[39;00m \u001b[38;5;21mforward\u001b[39m(\n\u001b[1;32m    870\u001b[0m     \u001b[38;5;28mself\u001b[39m,\n\u001b[1;32m    871\u001b[0m     input_nodes: torch\u001b[38;5;241m.\u001b[39mLongTensor,\n\u001b[0;32m   (...)\u001b[0m\n\u001b[1;32m    880\u001b[0m     \u001b[38;5;241m*\u001b[39m\u001b[38;5;241m*\u001b[39munused,\n\u001b[1;32m    881\u001b[0m ) \u001b[38;5;241m-\u001b[39m\u001b[38;5;241m>\u001b[39m Union[Tuple[torch\u001b[38;5;241m.\u001b[39mTensor], SequenceClassifierOutput]:\n\u001b[1;32m    882\u001b[0m     return_dict \u001b[38;5;241m=\u001b[39m return_dict \u001b[38;5;28;01mif\u001b[39;00m return_dict \u001b[38;5;129;01mis\u001b[39;00m \u001b[38;5;129;01mnot\u001b[39;00m \u001b[38;5;28;01mNone\u001b[39;00m \u001b[38;5;28;01melse\u001b[39;00m \u001b[38;5;28mself\u001b[39m\u001b[38;5;241m.\u001b[39mconfig\u001b[38;5;241m.\u001b[39muse_return_dict\n\u001b[0;32m--> 884\u001b[0m     encoder_outputs \u001b[38;5;241m=\u001b[39m \u001b[38;5;28mself\u001b[39m\u001b[38;5;241m.\u001b[39mencoder(\n\u001b[1;32m    885\u001b[0m         input_nodes,\n\u001b[1;32m    886\u001b[0m         input_edges,\n\u001b[1;32m    887\u001b[0m         attn_bias,\n\u001b[1;32m    888\u001b[0m         in_degree,\n\u001b[1;32m    889\u001b[0m         out_degree,\n\u001b[1;32m    890\u001b[0m         spatial_pos,\n\u001b[1;32m    891\u001b[0m         attn_edge_type,\n\u001b[1;32m    892\u001b[0m         return_dict\u001b[38;5;241m=\u001b[39m\u001b[38;5;28;01mTrue\u001b[39;00m,\n\u001b[1;32m    893\u001b[0m     )\n\u001b[1;32m    894\u001b[0m     outputs, hidden_states \u001b[38;5;241m=\u001b[39m encoder_outputs[\u001b[38;5;124m\"\u001b[39m\u001b[38;5;124mlast_hidden_state\u001b[39m\u001b[38;5;124m\"\u001b[39m], encoder_outputs[\u001b[38;5;124m\"\u001b[39m\u001b[38;5;124mhidden_states\u001b[39m\u001b[38;5;124m\"\u001b[39m]\n\u001b[1;32m    896\u001b[0m     head_outputs \u001b[38;5;241m=\u001b[39m \u001b[38;5;28mself\u001b[39m\u001b[38;5;241m.\u001b[39mclassifier(outputs)\n",
      "File \u001b[0;32m~/anaconda3/envs/test/lib/python3.11/site-packages/torch/nn/modules/module.py:1511\u001b[0m, in \u001b[0;36mModule._wrapped_call_impl\u001b[0;34m(self, *args, **kwargs)\u001b[0m\n\u001b[1;32m   1509\u001b[0m     \u001b[38;5;28;01mreturn\u001b[39;00m \u001b[38;5;28mself\u001b[39m\u001b[38;5;241m.\u001b[39m_compiled_call_impl(\u001b[38;5;241m*\u001b[39margs, \u001b[38;5;241m*\u001b[39m\u001b[38;5;241m*\u001b[39mkwargs)  \u001b[38;5;66;03m# type: ignore[misc]\u001b[39;00m\n\u001b[1;32m   1510\u001b[0m \u001b[38;5;28;01melse\u001b[39;00m:\n\u001b[0;32m-> 1511\u001b[0m     \u001b[38;5;28;01mreturn\u001b[39;00m \u001b[38;5;28mself\u001b[39m\u001b[38;5;241m.\u001b[39m_call_impl(\u001b[38;5;241m*\u001b[39margs, \u001b[38;5;241m*\u001b[39m\u001b[38;5;241m*\u001b[39mkwargs)\n",
      "File \u001b[0;32m~/anaconda3/envs/test/lib/python3.11/site-packages/torch/nn/modules/module.py:1520\u001b[0m, in \u001b[0;36mModule._call_impl\u001b[0;34m(self, *args, **kwargs)\u001b[0m\n\u001b[1;32m   1515\u001b[0m \u001b[38;5;66;03m# If we don't have any hooks, we want to skip the rest of the logic in\u001b[39;00m\n\u001b[1;32m   1516\u001b[0m \u001b[38;5;66;03m# this function, and just call forward.\u001b[39;00m\n\u001b[1;32m   1517\u001b[0m \u001b[38;5;28;01mif\u001b[39;00m \u001b[38;5;129;01mnot\u001b[39;00m (\u001b[38;5;28mself\u001b[39m\u001b[38;5;241m.\u001b[39m_backward_hooks \u001b[38;5;129;01mor\u001b[39;00m \u001b[38;5;28mself\u001b[39m\u001b[38;5;241m.\u001b[39m_backward_pre_hooks \u001b[38;5;129;01mor\u001b[39;00m \u001b[38;5;28mself\u001b[39m\u001b[38;5;241m.\u001b[39m_forward_hooks \u001b[38;5;129;01mor\u001b[39;00m \u001b[38;5;28mself\u001b[39m\u001b[38;5;241m.\u001b[39m_forward_pre_hooks\n\u001b[1;32m   1518\u001b[0m         \u001b[38;5;129;01mor\u001b[39;00m _global_backward_pre_hooks \u001b[38;5;129;01mor\u001b[39;00m _global_backward_hooks\n\u001b[1;32m   1519\u001b[0m         \u001b[38;5;129;01mor\u001b[39;00m _global_forward_hooks \u001b[38;5;129;01mor\u001b[39;00m _global_forward_pre_hooks):\n\u001b[0;32m-> 1520\u001b[0m     \u001b[38;5;28;01mreturn\u001b[39;00m forward_call(\u001b[38;5;241m*\u001b[39margs, \u001b[38;5;241m*\u001b[39m\u001b[38;5;241m*\u001b[39mkwargs)\n\u001b[1;32m   1522\u001b[0m \u001b[38;5;28;01mtry\u001b[39;00m:\n\u001b[1;32m   1523\u001b[0m     result \u001b[38;5;241m=\u001b[39m \u001b[38;5;28;01mNone\u001b[39;00m\n",
      "File \u001b[0;32m~/anaconda3/envs/test/lib/python3.11/site-packages/transformers/models/graphormer/modeling_graphormer.py:820\u001b[0m, in \u001b[0;36mGraphormerModel.forward\u001b[0;34m(self, input_nodes, input_edges, attn_bias, in_degree, out_degree, spatial_pos, attn_edge_type, perturb, masked_tokens, return_dict, **unused)\u001b[0m\n\u001b[1;32m    804\u001b[0m \u001b[38;5;28;01mdef\u001b[39;00m \u001b[38;5;21mforward\u001b[39m(\n\u001b[1;32m    805\u001b[0m     \u001b[38;5;28mself\u001b[39m,\n\u001b[1;32m    806\u001b[0m     input_nodes: torch\u001b[38;5;241m.\u001b[39mLongTensor,\n\u001b[0;32m   (...)\u001b[0m\n\u001b[1;32m    816\u001b[0m     \u001b[38;5;241m*\u001b[39m\u001b[38;5;241m*\u001b[39munused,\n\u001b[1;32m    817\u001b[0m ) \u001b[38;5;241m-\u001b[39m\u001b[38;5;241m>\u001b[39m Union[Tuple[torch\u001b[38;5;241m.\u001b[39mLongTensor], BaseModelOutputWithNoAttention]:\n\u001b[1;32m    818\u001b[0m     return_dict \u001b[38;5;241m=\u001b[39m return_dict \u001b[38;5;28;01mif\u001b[39;00m return_dict \u001b[38;5;129;01mis\u001b[39;00m \u001b[38;5;129;01mnot\u001b[39;00m \u001b[38;5;28;01mNone\u001b[39;00m \u001b[38;5;28;01melse\u001b[39;00m \u001b[38;5;28mself\u001b[39m\u001b[38;5;241m.\u001b[39mconfig\u001b[38;5;241m.\u001b[39muse_return_dict\n\u001b[0;32m--> 820\u001b[0m     inner_states, graph_rep \u001b[38;5;241m=\u001b[39m \u001b[38;5;28mself\u001b[39m\u001b[38;5;241m.\u001b[39mgraph_encoder(\n\u001b[1;32m    821\u001b[0m         input_nodes, input_edges, attn_bias, in_degree, out_degree, spatial_pos, attn_edge_type, perturb\u001b[38;5;241m=\u001b[39mperturb\n\u001b[1;32m    822\u001b[0m     )\n\u001b[1;32m    824\u001b[0m     \u001b[38;5;66;03m# last inner state, then revert Batch and Graph len\u001b[39;00m\n\u001b[1;32m    825\u001b[0m     input_nodes \u001b[38;5;241m=\u001b[39m inner_states[\u001b[38;5;241m-\u001b[39m\u001b[38;5;241m1\u001b[39m]\u001b[38;5;241m.\u001b[39mtranspose(\u001b[38;5;241m0\u001b[39m, \u001b[38;5;241m1\u001b[39m)\n",
      "File \u001b[0;32m~/anaconda3/envs/test/lib/python3.11/site-packages/torch/nn/modules/module.py:1511\u001b[0m, in \u001b[0;36mModule._wrapped_call_impl\u001b[0;34m(self, *args, **kwargs)\u001b[0m\n\u001b[1;32m   1509\u001b[0m     \u001b[38;5;28;01mreturn\u001b[39;00m \u001b[38;5;28mself\u001b[39m\u001b[38;5;241m.\u001b[39m_compiled_call_impl(\u001b[38;5;241m*\u001b[39margs, \u001b[38;5;241m*\u001b[39m\u001b[38;5;241m*\u001b[39mkwargs)  \u001b[38;5;66;03m# type: ignore[misc]\u001b[39;00m\n\u001b[1;32m   1510\u001b[0m \u001b[38;5;28;01melse\u001b[39;00m:\n\u001b[0;32m-> 1511\u001b[0m     \u001b[38;5;28;01mreturn\u001b[39;00m \u001b[38;5;28mself\u001b[39m\u001b[38;5;241m.\u001b[39m_call_impl(\u001b[38;5;241m*\u001b[39margs, \u001b[38;5;241m*\u001b[39m\u001b[38;5;241m*\u001b[39mkwargs)\n",
      "File \u001b[0;32m~/anaconda3/envs/test/lib/python3.11/site-packages/torch/nn/modules/module.py:1520\u001b[0m, in \u001b[0;36mModule._call_impl\u001b[0;34m(self, *args, **kwargs)\u001b[0m\n\u001b[1;32m   1515\u001b[0m \u001b[38;5;66;03m# If we don't have any hooks, we want to skip the rest of the logic in\u001b[39;00m\n\u001b[1;32m   1516\u001b[0m \u001b[38;5;66;03m# this function, and just call forward.\u001b[39;00m\n\u001b[1;32m   1517\u001b[0m \u001b[38;5;28;01mif\u001b[39;00m \u001b[38;5;129;01mnot\u001b[39;00m (\u001b[38;5;28mself\u001b[39m\u001b[38;5;241m.\u001b[39m_backward_hooks \u001b[38;5;129;01mor\u001b[39;00m \u001b[38;5;28mself\u001b[39m\u001b[38;5;241m.\u001b[39m_backward_pre_hooks \u001b[38;5;129;01mor\u001b[39;00m \u001b[38;5;28mself\u001b[39m\u001b[38;5;241m.\u001b[39m_forward_hooks \u001b[38;5;129;01mor\u001b[39;00m \u001b[38;5;28mself\u001b[39m\u001b[38;5;241m.\u001b[39m_forward_pre_hooks\n\u001b[1;32m   1518\u001b[0m         \u001b[38;5;129;01mor\u001b[39;00m _global_backward_pre_hooks \u001b[38;5;129;01mor\u001b[39;00m _global_backward_hooks\n\u001b[1;32m   1519\u001b[0m         \u001b[38;5;129;01mor\u001b[39;00m _global_forward_hooks \u001b[38;5;129;01mor\u001b[39;00m _global_forward_pre_hooks):\n\u001b[0;32m-> 1520\u001b[0m     \u001b[38;5;28;01mreturn\u001b[39;00m forward_call(\u001b[38;5;241m*\u001b[39margs, \u001b[38;5;241m*\u001b[39m\u001b[38;5;241m*\u001b[39mkwargs)\n\u001b[1;32m   1522\u001b[0m \u001b[38;5;28;01mtry\u001b[39;00m:\n\u001b[1;32m   1523\u001b[0m     result \u001b[38;5;241m=\u001b[39m \u001b[38;5;28;01mNone\u001b[39;00m\n",
      "File \u001b[0;32m~/anaconda3/envs/test/lib/python3.11/site-packages/transformers/models/graphormer/modeling_graphormer.py:673\u001b[0m, in \u001b[0;36mGraphormerGraphEncoder.forward\u001b[0;34m(self, input_nodes, input_edges, attn_bias, in_degree, out_degree, spatial_pos, attn_edge_type, perturb, last_state_only, token_embeddings, attn_mask)\u001b[0m\n\u001b[1;32m    670\u001b[0m     inner_states\u001b[38;5;241m.\u001b[39mappend(input_nodes)\n\u001b[1;32m    672\u001b[0m \u001b[38;5;28;01mfor\u001b[39;00m layer \u001b[38;5;129;01min\u001b[39;00m \u001b[38;5;28mself\u001b[39m\u001b[38;5;241m.\u001b[39mlayers:\n\u001b[0;32m--> 673\u001b[0m     input_nodes, _ \u001b[38;5;241m=\u001b[39m layer(\n\u001b[1;32m    674\u001b[0m         input_nodes,\n\u001b[1;32m    675\u001b[0m         self_attn_padding_mask\u001b[38;5;241m=\u001b[39mpadding_mask,\n\u001b[1;32m    676\u001b[0m         self_attn_mask\u001b[38;5;241m=\u001b[39mattn_mask,\n\u001b[1;32m    677\u001b[0m         self_attn_bias\u001b[38;5;241m=\u001b[39mattn_bias,\n\u001b[1;32m    678\u001b[0m     )\n\u001b[1;32m    679\u001b[0m     \u001b[38;5;28;01mif\u001b[39;00m \u001b[38;5;129;01mnot\u001b[39;00m last_state_only:\n\u001b[1;32m    680\u001b[0m         inner_states\u001b[38;5;241m.\u001b[39mappend(input_nodes)\n",
      "File \u001b[0;32m~/anaconda3/envs/test/lib/python3.11/site-packages/torch/nn/modules/module.py:1511\u001b[0m, in \u001b[0;36mModule._wrapped_call_impl\u001b[0;34m(self, *args, **kwargs)\u001b[0m\n\u001b[1;32m   1509\u001b[0m     \u001b[38;5;28;01mreturn\u001b[39;00m \u001b[38;5;28mself\u001b[39m\u001b[38;5;241m.\u001b[39m_compiled_call_impl(\u001b[38;5;241m*\u001b[39margs, \u001b[38;5;241m*\u001b[39m\u001b[38;5;241m*\u001b[39mkwargs)  \u001b[38;5;66;03m# type: ignore[misc]\u001b[39;00m\n\u001b[1;32m   1510\u001b[0m \u001b[38;5;28;01melse\u001b[39;00m:\n\u001b[0;32m-> 1511\u001b[0m     \u001b[38;5;28;01mreturn\u001b[39;00m \u001b[38;5;28mself\u001b[39m\u001b[38;5;241m.\u001b[39m_call_impl(\u001b[38;5;241m*\u001b[39margs, \u001b[38;5;241m*\u001b[39m\u001b[38;5;241m*\u001b[39mkwargs)\n",
      "File \u001b[0;32m~/anaconda3/envs/test/lib/python3.11/site-packages/torch/nn/modules/module.py:1520\u001b[0m, in \u001b[0;36mModule._call_impl\u001b[0;34m(self, *args, **kwargs)\u001b[0m\n\u001b[1;32m   1515\u001b[0m \u001b[38;5;66;03m# If we don't have any hooks, we want to skip the rest of the logic in\u001b[39;00m\n\u001b[1;32m   1516\u001b[0m \u001b[38;5;66;03m# this function, and just call forward.\u001b[39;00m\n\u001b[1;32m   1517\u001b[0m \u001b[38;5;28;01mif\u001b[39;00m \u001b[38;5;129;01mnot\u001b[39;00m (\u001b[38;5;28mself\u001b[39m\u001b[38;5;241m.\u001b[39m_backward_hooks \u001b[38;5;129;01mor\u001b[39;00m \u001b[38;5;28mself\u001b[39m\u001b[38;5;241m.\u001b[39m_backward_pre_hooks \u001b[38;5;129;01mor\u001b[39;00m \u001b[38;5;28mself\u001b[39m\u001b[38;5;241m.\u001b[39m_forward_hooks \u001b[38;5;129;01mor\u001b[39;00m \u001b[38;5;28mself\u001b[39m\u001b[38;5;241m.\u001b[39m_forward_pre_hooks\n\u001b[1;32m   1518\u001b[0m         \u001b[38;5;129;01mor\u001b[39;00m _global_backward_pre_hooks \u001b[38;5;129;01mor\u001b[39;00m _global_backward_hooks\n\u001b[1;32m   1519\u001b[0m         \u001b[38;5;129;01mor\u001b[39;00m _global_forward_hooks \u001b[38;5;129;01mor\u001b[39;00m _global_forward_pre_hooks):\n\u001b[0;32m-> 1520\u001b[0m     \u001b[38;5;28;01mreturn\u001b[39;00m forward_call(\u001b[38;5;241m*\u001b[39margs, \u001b[38;5;241m*\u001b[39m\u001b[38;5;241m*\u001b[39mkwargs)\n\u001b[1;32m   1522\u001b[0m \u001b[38;5;28;01mtry\u001b[39;00m:\n\u001b[1;32m   1523\u001b[0m     result \u001b[38;5;241m=\u001b[39m \u001b[38;5;28;01mNone\u001b[39;00m\n",
      "File \u001b[0;32m~/anaconda3/envs/test/lib/python3.11/site-packages/transformers/models/graphormer/modeling_graphormer.py:548\u001b[0m, in \u001b[0;36mGraphormerGraphEncoderLayer.forward\u001b[0;34m(self, input_nodes, self_attn_bias, self_attn_mask, self_attn_padding_mask)\u001b[0m\n\u001b[1;32m    545\u001b[0m \u001b[38;5;28;01mif\u001b[39;00m \u001b[38;5;28mself\u001b[39m\u001b[38;5;241m.\u001b[39mpre_layernorm:\n\u001b[1;32m    546\u001b[0m     input_nodes \u001b[38;5;241m=\u001b[39m \u001b[38;5;28mself\u001b[39m\u001b[38;5;241m.\u001b[39mself_attn_layer_norm(input_nodes)\n\u001b[0;32m--> 548\u001b[0m input_nodes, attn \u001b[38;5;241m=\u001b[39m \u001b[38;5;28mself\u001b[39m\u001b[38;5;241m.\u001b[39mself_attn(\n\u001b[1;32m    549\u001b[0m     query\u001b[38;5;241m=\u001b[39minput_nodes,\n\u001b[1;32m    550\u001b[0m     key\u001b[38;5;241m=\u001b[39minput_nodes,\n\u001b[1;32m    551\u001b[0m     value\u001b[38;5;241m=\u001b[39minput_nodes,\n\u001b[1;32m    552\u001b[0m     attn_bias\u001b[38;5;241m=\u001b[39mself_attn_bias,\n\u001b[1;32m    553\u001b[0m     key_padding_mask\u001b[38;5;241m=\u001b[39mself_attn_padding_mask,\n\u001b[1;32m    554\u001b[0m     need_weights\u001b[38;5;241m=\u001b[39m\u001b[38;5;28;01mFalse\u001b[39;00m,\n\u001b[1;32m    555\u001b[0m     attn_mask\u001b[38;5;241m=\u001b[39mself_attn_mask,\n\u001b[1;32m    556\u001b[0m )\n\u001b[1;32m    557\u001b[0m input_nodes \u001b[38;5;241m=\u001b[39m \u001b[38;5;28mself\u001b[39m\u001b[38;5;241m.\u001b[39mdropout_module(input_nodes)\n\u001b[1;32m    558\u001b[0m input_nodes \u001b[38;5;241m=\u001b[39m residual \u001b[38;5;241m+\u001b[39m input_nodes\n",
      "File \u001b[0;32m~/anaconda3/envs/test/lib/python3.11/site-packages/torch/nn/modules/module.py:1511\u001b[0m, in \u001b[0;36mModule._wrapped_call_impl\u001b[0;34m(self, *args, **kwargs)\u001b[0m\n\u001b[1;32m   1509\u001b[0m     \u001b[38;5;28;01mreturn\u001b[39;00m \u001b[38;5;28mself\u001b[39m\u001b[38;5;241m.\u001b[39m_compiled_call_impl(\u001b[38;5;241m*\u001b[39margs, \u001b[38;5;241m*\u001b[39m\u001b[38;5;241m*\u001b[39mkwargs)  \u001b[38;5;66;03m# type: ignore[misc]\u001b[39;00m\n\u001b[1;32m   1510\u001b[0m \u001b[38;5;28;01melse\u001b[39;00m:\n\u001b[0;32m-> 1511\u001b[0m     \u001b[38;5;28;01mreturn\u001b[39;00m \u001b[38;5;28mself\u001b[39m\u001b[38;5;241m.\u001b[39m_call_impl(\u001b[38;5;241m*\u001b[39margs, \u001b[38;5;241m*\u001b[39m\u001b[38;5;241m*\u001b[39mkwargs)\n",
      "File \u001b[0;32m~/anaconda3/envs/test/lib/python3.11/site-packages/torch/nn/modules/module.py:1520\u001b[0m, in \u001b[0;36mModule._call_impl\u001b[0;34m(self, *args, **kwargs)\u001b[0m\n\u001b[1;32m   1515\u001b[0m \u001b[38;5;66;03m# If we don't have any hooks, we want to skip the rest of the logic in\u001b[39;00m\n\u001b[1;32m   1516\u001b[0m \u001b[38;5;66;03m# this function, and just call forward.\u001b[39;00m\n\u001b[1;32m   1517\u001b[0m \u001b[38;5;28;01mif\u001b[39;00m \u001b[38;5;129;01mnot\u001b[39;00m (\u001b[38;5;28mself\u001b[39m\u001b[38;5;241m.\u001b[39m_backward_hooks \u001b[38;5;129;01mor\u001b[39;00m \u001b[38;5;28mself\u001b[39m\u001b[38;5;241m.\u001b[39m_backward_pre_hooks \u001b[38;5;129;01mor\u001b[39;00m \u001b[38;5;28mself\u001b[39m\u001b[38;5;241m.\u001b[39m_forward_hooks \u001b[38;5;129;01mor\u001b[39;00m \u001b[38;5;28mself\u001b[39m\u001b[38;5;241m.\u001b[39m_forward_pre_hooks\n\u001b[1;32m   1518\u001b[0m         \u001b[38;5;129;01mor\u001b[39;00m _global_backward_pre_hooks \u001b[38;5;129;01mor\u001b[39;00m _global_backward_hooks\n\u001b[1;32m   1519\u001b[0m         \u001b[38;5;129;01mor\u001b[39;00m _global_forward_hooks \u001b[38;5;129;01mor\u001b[39;00m _global_forward_pre_hooks):\n\u001b[0;32m-> 1520\u001b[0m     \u001b[38;5;28;01mreturn\u001b[39;00m forward_call(\u001b[38;5;241m*\u001b[39margs, \u001b[38;5;241m*\u001b[39m\u001b[38;5;241m*\u001b[39mkwargs)\n\u001b[1;32m   1522\u001b[0m \u001b[38;5;28;01mtry\u001b[39;00m:\n\u001b[1;32m   1523\u001b[0m     result \u001b[38;5;241m=\u001b[39m \u001b[38;5;28;01mNone\u001b[39;00m\n",
      "File \u001b[0;32m~/anaconda3/envs/test/lib/python3.11/site-packages/transformers/models/graphormer/modeling_graphormer.py:440\u001b[0m, in \u001b[0;36mGraphormerMultiheadAttention.forward\u001b[0;34m(self, query, key, value, attn_bias, key_padding_mask, need_weights, attn_mask, before_softmax, need_head_weights)\u001b[0m\n\u001b[1;32m    436\u001b[0m     \u001b[38;5;28;01mif\u001b[39;00m key_padding_mask\u001b[38;5;241m.\u001b[39msize(\u001b[38;5;241m0\u001b[39m) \u001b[38;5;241m!=\u001b[39m bsz \u001b[38;5;129;01mor\u001b[39;00m key_padding_mask\u001b[38;5;241m.\u001b[39msize(\u001b[38;5;241m1\u001b[39m) \u001b[38;5;241m!=\u001b[39m src_len:\n\u001b[1;32m    437\u001b[0m         \u001b[38;5;28;01mraise\u001b[39;00m \u001b[38;5;167;01mAssertionError\u001b[39;00m(\n\u001b[1;32m    438\u001b[0m             \u001b[38;5;124m\"\u001b[39m\u001b[38;5;124mThe shape of the generated padding mask for the key does not match expected dimensions.\u001b[39m\u001b[38;5;124m\"\u001b[39m\n\u001b[1;32m    439\u001b[0m         )\n\u001b[0;32m--> 440\u001b[0m attn_weights \u001b[38;5;241m=\u001b[39m torch\u001b[38;5;241m.\u001b[39mbmm(q, k\u001b[38;5;241m.\u001b[39mtranspose(\u001b[38;5;241m1\u001b[39m, \u001b[38;5;241m2\u001b[39m))\n\u001b[1;32m    441\u001b[0m attn_weights \u001b[38;5;241m=\u001b[39m \u001b[38;5;28mself\u001b[39m\u001b[38;5;241m.\u001b[39mapply_sparse_mask(attn_weights, tgt_len, src_len, bsz)\n\u001b[1;32m    443\u001b[0m \u001b[38;5;28;01mif\u001b[39;00m \u001b[38;5;28mlist\u001b[39m(attn_weights\u001b[38;5;241m.\u001b[39msize()) \u001b[38;5;241m!=\u001b[39m [bsz \u001b[38;5;241m*\u001b[39m \u001b[38;5;28mself\u001b[39m\u001b[38;5;241m.\u001b[39mnum_heads, tgt_len, src_len]:\n",
      "\u001b[0;31mOutOfMemoryError\u001b[0m: CUDA out of memory. Tried to allocate 390.00 MiB. GPU 3 has a total capacity of 39.39 GiB of which 131.31 MiB is free. Process 682795 has 3.72 GiB memory in use. Including non-PyTorch memory, this process has 35.53 GiB memory in use. Of the allocated memory 34.66 GiB is allocated by PyTorch, and 379.03 MiB is reserved by PyTorch but unallocated. If reserved but unallocated memory is large try setting PYTORCH_CUDA_ALLOC_CONF=expandable_segments:True to avoid fragmentation.  See documentation for Memory Management  (https://pytorch.org/docs/stable/notes/cuda.html#environment-variables)"
     ]
    }
   ],
   "source": [
    "from tqdm.auto import tqdm\n",
    "\n",
    "progress_bar_train = tqdm(range(num_training_steps))\n",
    "progress_bar_eval = tqdm(range(num_epoch * len(eval_dataloader)))\n",
    "\n",
    "for epoch in range(num_epoch):\n",
    "    model.train()\n",
    "    epoch_loss = 0\n",
    "    for batch in train_dataloader:\n",
    "        input_batch = { k: v.to(device) for k, v in batch.items() }\n",
    "        \n",
    "        outputs = model(**input_batch)\n",
    "        \n",
    "        loss = outputs[\"loss\"] if isinstance(outputs, dict) else outputs[0]\n",
    "        loss.backward()\n",
    "        epoch_loss += loss.item()\n",
    "        \n",
    "        optimizer.step()\n",
    "        lr_scheduler.step()\n",
    "        optimizer.zero_grad()\n",
    "        progress_bar_train.update(1)\n",
    "\n",
    "    wandb.log({\"loss/train\": epoch_loss / len(train_dataloader)}, step=epoch)\n",
    "\n",
    "    model.eval()\n",
    "    epoch_loss = 0\n",
    "    for batch in eval_dataloader:\n",
    "        input_batch = { k: v.to(device) for k, v in batch.items() }\n",
    "\n",
    "        with torch.no_grad():\n",
    "            outputs = model(**input_batch)\n",
    "\n",
    "        loss = outputs[\"loss\"] if isinstance(outputs, dict) else outputs[0]\n",
    "        epoch_loss += loss.item()\n",
    "        \n",
    "        progress_bar_eval.update(1)\n",
    "    \n",
    "    wandb.log({\"loss/validation\": epoch_loss / len(eval_dataloader)}, step=epoch)"
   ]
  },
  {
   "cell_type": "code",
   "execution_count": null,
   "id": "1148d2f3-1419-4f4d-a17d-56139aa6064e",
   "metadata": {},
   "outputs": [],
   "source": [
    "wandb.finish()"
   ]
  },
  {
   "cell_type": "markdown",
   "id": "da956be4-4edd-4123-aa7b-34b7dfb2973b",
   "metadata": {},
   "source": [
    "## Post Training Evaluation"
   ]
  },
  {
   "cell_type": "code",
   "execution_count": 28,
   "id": "472d65db-87eb-4dfb-99bb-412126824fe9",
   "metadata": {},
   "outputs": [
    {
     "data": {
      "application/vnd.jupyter.widget-view+json": {
       "model_id": "8c4c785a406d461e8936a383443d3636",
       "version_major": 2,
       "version_minor": 0
      },
      "text/plain": [
       "  0%|          | 0/434 [00:00<?, ?it/s]"
      ]
     },
     "metadata": {},
     "output_type": "display_data"
    },
    {
     "ename": "KeyboardInterrupt",
     "evalue": "",
     "output_type": "error",
     "traceback": [
      "\u001b[0;31m---------------------------------------------------------------------------\u001b[0m",
      "\u001b[0;31mKeyboardInterrupt\u001b[0m                         Traceback (most recent call last)",
      "Cell \u001b[0;32mIn[28], line 16\u001b[0m\n\u001b[1;32m     13\u001b[0m             predicted_property_values \u001b[38;5;241m=\u001b[39m model(\u001b[38;5;241m*\u001b[39m\u001b[38;5;241m*\u001b[39minput_batch)\n\u001b[1;32m     15\u001b[0m         \u001b[38;5;28;01mfor\u001b[39;00m i, molecular_property \u001b[38;5;129;01min\u001b[39;00m \u001b[38;5;28menumerate\u001b[39m(molecular_properties):\n\u001b[0;32m---> 16\u001b[0m             metrics[molecular_property]\u001b[38;5;241m.\u001b[39madd_batch(predictions \u001b[38;5;241m=\u001b[39m [predicted_property_values[\u001b[38;5;241m0\u001b[39m][i]], references \u001b[38;5;241m=\u001b[39m [labeled_property_values[\u001b[38;5;241m0\u001b[39m][i]])\n\u001b[1;32m     18\u001b[0m \u001b[38;5;28;01mfor\u001b[39;00m molecular_property \u001b[38;5;129;01min\u001b[39;00m molecular_properties:\n\u001b[1;32m     19\u001b[0m     \u001b[38;5;28mprint\u001b[39m(\u001b[38;5;124mf\u001b[39m\u001b[38;5;124m'\u001b[39m\u001b[38;5;124mMetric for \u001b[39m\u001b[38;5;132;01m{\u001b[39;00mmolecular_property\u001b[38;5;132;01m}\u001b[39;00m\u001b[38;5;124m:\u001b[39m\u001b[38;5;124m'\u001b[39m, metrics[molecular_property]\u001b[38;5;241m.\u001b[39mcompute())\n",
      "File \u001b[0;32m~/anaconda3/envs/test/lib/python3.11/site-packages/datasets/metric.py:494\u001b[0m, in \u001b[0;36mMetric.add_batch\u001b[0;34m(self, predictions, references, **kwargs)\u001b[0m\n\u001b[1;32m    492\u001b[0m batch \u001b[38;5;241m=\u001b[39m {\u001b[38;5;124m\"\u001b[39m\u001b[38;5;124mpredictions\u001b[39m\u001b[38;5;124m\"\u001b[39m: predictions, \u001b[38;5;124m\"\u001b[39m\u001b[38;5;124mreferences\u001b[39m\u001b[38;5;124m\"\u001b[39m: references, \u001b[38;5;241m*\u001b[39m\u001b[38;5;241m*\u001b[39mkwargs}\n\u001b[1;32m    493\u001b[0m batch \u001b[38;5;241m=\u001b[39m {intput_name: batch[intput_name] \u001b[38;5;28;01mfor\u001b[39;00m intput_name \u001b[38;5;129;01min\u001b[39;00m \u001b[38;5;28mself\u001b[39m\u001b[38;5;241m.\u001b[39mfeatures}\n\u001b[0;32m--> 494\u001b[0m batch \u001b[38;5;241m=\u001b[39m \u001b[38;5;28mself\u001b[39m\u001b[38;5;241m.\u001b[39minfo\u001b[38;5;241m.\u001b[39mfeatures\u001b[38;5;241m.\u001b[39mencode_batch(batch)\n\u001b[1;32m    495\u001b[0m \u001b[38;5;28;01mif\u001b[39;00m \u001b[38;5;28mself\u001b[39m\u001b[38;5;241m.\u001b[39mwriter \u001b[38;5;129;01mis\u001b[39;00m \u001b[38;5;28;01mNone\u001b[39;00m:\n\u001b[1;32m    496\u001b[0m     \u001b[38;5;28mself\u001b[39m\u001b[38;5;241m.\u001b[39m_init_writer()\n",
      "File \u001b[0;32m~/anaconda3/envs/test/lib/python3.11/site-packages/datasets/features/features.py:1857\u001b[0m, in \u001b[0;36mFeatures.encode_batch\u001b[0;34m(self, batch)\u001b[0m\n\u001b[1;32m   1855\u001b[0m     \u001b[38;5;28;01mraise\u001b[39;00m \u001b[38;5;167;01mValueError\u001b[39;00m(\u001b[38;5;124mf\u001b[39m\u001b[38;5;124m\"\u001b[39m\u001b[38;5;124mColumn mismatch between batch \u001b[39m\u001b[38;5;132;01m{\u001b[39;00m\u001b[38;5;28mset\u001b[39m(batch)\u001b[38;5;132;01m}\u001b[39;00m\u001b[38;5;124m and features \u001b[39m\u001b[38;5;132;01m{\u001b[39;00m\u001b[38;5;28mset\u001b[39m(\u001b[38;5;28mself\u001b[39m)\u001b[38;5;132;01m}\u001b[39;00m\u001b[38;5;124m\"\u001b[39m)\n\u001b[1;32m   1856\u001b[0m \u001b[38;5;28;01mfor\u001b[39;00m key, column \u001b[38;5;129;01min\u001b[39;00m batch\u001b[38;5;241m.\u001b[39mitems():\n\u001b[0;32m-> 1857\u001b[0m     column \u001b[38;5;241m=\u001b[39m cast_to_python_objects(column)\n\u001b[1;32m   1858\u001b[0m     encoded_batch[key] \u001b[38;5;241m=\u001b[39m [encode_nested_example(\u001b[38;5;28mself\u001b[39m[key], obj) \u001b[38;5;28;01mfor\u001b[39;00m obj \u001b[38;5;129;01min\u001b[39;00m column]\n\u001b[1;32m   1859\u001b[0m \u001b[38;5;28;01mreturn\u001b[39;00m encoded_batch\n",
      "File \u001b[0;32m~/anaconda3/envs/test/lib/python3.11/site-packages/datasets/features/features.py:439\u001b[0m, in \u001b[0;36mcast_to_python_objects\u001b[0;34m(obj, only_1d_for_numpy, optimize_list_casting)\u001b[0m\n\u001b[1;32m    419\u001b[0m \u001b[38;5;28;01mdef\u001b[39;00m \u001b[38;5;21mcast_to_python_objects\u001b[39m(obj: Any, only_1d_for_numpy\u001b[38;5;241m=\u001b[39m\u001b[38;5;28;01mFalse\u001b[39;00m, optimize_list_casting\u001b[38;5;241m=\u001b[39m\u001b[38;5;28;01mTrue\u001b[39;00m) \u001b[38;5;241m-\u001b[39m\u001b[38;5;241m>\u001b[39m Any:\n\u001b[1;32m    420\u001b[0m \u001b[38;5;250m    \u001b[39m\u001b[38;5;124;03m\"\"\"\u001b[39;00m\n\u001b[1;32m    421\u001b[0m \u001b[38;5;124;03m    Cast numpy/pytorch/tensorflow/pandas objects to python lists.\u001b[39;00m\n\u001b[1;32m    422\u001b[0m \u001b[38;5;124;03m    It works recursively.\u001b[39;00m\n\u001b[0;32m   (...)\u001b[0m\n\u001b[1;32m    437\u001b[0m \u001b[38;5;124;03m        casted_obj: the casted object\u001b[39;00m\n\u001b[1;32m    438\u001b[0m \u001b[38;5;124;03m    \"\"\"\u001b[39;00m\n\u001b[0;32m--> 439\u001b[0m     \u001b[38;5;28;01mreturn\u001b[39;00m _cast_to_python_objects(\n\u001b[1;32m    440\u001b[0m         obj, only_1d_for_numpy\u001b[38;5;241m=\u001b[39monly_1d_for_numpy, optimize_list_casting\u001b[38;5;241m=\u001b[39moptimize_list_casting\n\u001b[1;32m    441\u001b[0m     )[\u001b[38;5;241m0\u001b[39m]\n",
      "File \u001b[0;32m~/anaconda3/envs/test/lib/python3.11/site-packages/datasets/features/features.py:395\u001b[0m, in \u001b[0;36m_cast_to_python_objects\u001b[0;34m(obj, only_1d_for_numpy, optimize_list_casting)\u001b[0m\n\u001b[1;32m    393\u001b[0m     \u001b[38;5;28;01mif\u001b[39;00m _check_non_null_non_empty_recursive(first_elmt):\n\u001b[1;32m    394\u001b[0m         \u001b[38;5;28;01mbreak\u001b[39;00m\n\u001b[0;32m--> 395\u001b[0m casted_first_elmt, has_changed_first_elmt \u001b[38;5;241m=\u001b[39m _cast_to_python_objects(\n\u001b[1;32m    396\u001b[0m     first_elmt, only_1d_for_numpy\u001b[38;5;241m=\u001b[39monly_1d_for_numpy, optimize_list_casting\u001b[38;5;241m=\u001b[39moptimize_list_casting\n\u001b[1;32m    397\u001b[0m )\n\u001b[1;32m    398\u001b[0m \u001b[38;5;28;01mif\u001b[39;00m has_changed_first_elmt \u001b[38;5;129;01mor\u001b[39;00m \u001b[38;5;129;01mnot\u001b[39;00m optimize_list_casting:\n\u001b[1;32m    399\u001b[0m     \u001b[38;5;28;01mreturn\u001b[39;00m (\n\u001b[1;32m    400\u001b[0m         [\n\u001b[1;32m    401\u001b[0m             _cast_to_python_objects(\n\u001b[0;32m   (...)\u001b[0m\n\u001b[1;32m    406\u001b[0m         \u001b[38;5;28;01mTrue\u001b[39;00m,\n\u001b[1;32m    407\u001b[0m     )\n",
      "File \u001b[0;32m~/anaconda3/envs/test/lib/python3.11/site-packages/datasets/features/features.py:314\u001b[0m, in \u001b[0;36m_cast_to_python_objects\u001b[0;34m(obj, only_1d_for_numpy, optimize_list_casting)\u001b[0m\n\u001b[1;32m    312\u001b[0m \u001b[38;5;28;01melif\u001b[39;00m config\u001b[38;5;241m.\u001b[39mTORCH_AVAILABLE \u001b[38;5;129;01mand\u001b[39;00m \u001b[38;5;124m\"\u001b[39m\u001b[38;5;124mtorch\u001b[39m\u001b[38;5;124m\"\u001b[39m \u001b[38;5;129;01min\u001b[39;00m sys\u001b[38;5;241m.\u001b[39mmodules \u001b[38;5;129;01mand\u001b[39;00m \u001b[38;5;28misinstance\u001b[39m(obj, torch\u001b[38;5;241m.\u001b[39mTensor):\n\u001b[1;32m    313\u001b[0m     \u001b[38;5;28;01mif\u001b[39;00m obj\u001b[38;5;241m.\u001b[39mndim \u001b[38;5;241m==\u001b[39m \u001b[38;5;241m0\u001b[39m:\n\u001b[0;32m--> 314\u001b[0m         \u001b[38;5;28;01mreturn\u001b[39;00m obj\u001b[38;5;241m.\u001b[39mdetach()\u001b[38;5;241m.\u001b[39mcpu()\u001b[38;5;241m.\u001b[39mnumpy()[()], \u001b[38;5;28;01mTrue\u001b[39;00m\n\u001b[1;32m    315\u001b[0m     \u001b[38;5;28;01melif\u001b[39;00m \u001b[38;5;129;01mnot\u001b[39;00m only_1d_for_numpy \u001b[38;5;129;01mor\u001b[39;00m obj\u001b[38;5;241m.\u001b[39mndim \u001b[38;5;241m==\u001b[39m \u001b[38;5;241m1\u001b[39m:\n\u001b[1;32m    316\u001b[0m         \u001b[38;5;28;01mreturn\u001b[39;00m obj\u001b[38;5;241m.\u001b[39mdetach()\u001b[38;5;241m.\u001b[39mcpu()\u001b[38;5;241m.\u001b[39mnumpy(), \u001b[38;5;28;01mTrue\u001b[39;00m\n",
      "\u001b[0;31mKeyboardInterrupt\u001b[0m: "
     ]
    }
   ],
   "source": [
    "test_dataloader = DataLoader(\n",
    "    dataset_processed['test'], batch_size = 512, collate_fn = data_collator\n",
    ")\n",
    "\n",
    "model.eval()\n",
    "epoch_loss = 0\n",
    "for batch in tqdm(test_dataloader):\n",
    "        input_batch = { k: v.to(device) for k, v in batch.items() if k in ['input_ids', 'attention_mask'] }\n",
    "        labels_batch = { k: v.to(device) for k, v in batch.items() if k in molecular_properties }\n",
    "\n",
    "        labeled_property_values = torch.stack(list(labels_batch.values())).T\n",
    "        with torch.no_grad():\n",
    "            predicted_property_values = model(**input_batch)\n",
    "\n",
    "        loss = loss_func(predicted_property_values, labeled_property_values)\n",
    "        epoch_loss += loss.item()\n",
    "    \n",
    "wandb.log({\"loss/test\": epoch_loss / len(test_dataloader)}, step=epoch)"
   ]
  },
  {
   "cell_type": "code",
   "execution_count": null,
   "id": "7a0f7733-440e-48e2-bd6a-f88e362ce757",
   "metadata": {},
   "outputs": [],
   "source": [
    "torch.onnx.export(model, images, \"model.onnx\")\n",
    "wandb.save(\"model.onnx\")"
   ]
  },
  {
   "cell_type": "code",
   "execution_count": 30,
   "id": "a38ad7b9-f82b-4936-bd4f-26266cbb6b25",
   "metadata": {},
   "outputs": [],
   "source": [
    "torch.save(model, model_name + '_and_linear_3epochs.pt')"
   ]
  },
  {
   "cell_type": "code",
   "execution_count": null,
   "id": "57a96b63-ec67-4374-968e-bd71ff08c91b",
   "metadata": {},
   "outputs": [],
   "source": [
    "torch.cuda.empty_cache()"
   ]
  },
  {
   "cell_type": "code",
   "execution_count": null,
   "id": "7af68b4a-8c8a-44b8-9cb2-345f1abdda1e",
   "metadata": {},
   "outputs": [],
   "source": []
  }
 ],
 "metadata": {
  "kernelspec": {
   "display_name": "Python 3 (ipykernel)",
   "language": "python",
   "name": "python3"
  },
  "language_info": {
   "codemirror_mode": {
    "name": "ipython",
    "version": 3
   },
   "file_extension": ".py",
   "mimetype": "text/x-python",
   "name": "python",
   "nbconvert_exporter": "python",
   "pygments_lexer": "ipython3",
   "version": "3.11.5"
  },
  "widgets": {
   "application/vnd.jupyter.widget-state+json": {
    "state": {
     "003dd4f957904a789f0c9e7b1d7a6e07": {
      "model_module": "@jupyter-widgets/controls",
      "model_module_version": "2.0.0",
      "model_name": "HTMLStyleModel",
      "state": {
       "description_width": "",
       "font_size": null,
       "text_color": null
      }
     },
     "00d47ad0ded1471bb778f9e07ea39c2e": {
      "model_module": "@jupyter-widgets/controls",
      "model_module_version": "2.0.0",
      "model_name": "ProgressStyleModel",
      "state": {
       "description_width": ""
      }
     },
     "00d919201436448b9712d4fc25221f4f": {
      "model_module": "@jupyter-widgets/base",
      "model_module_version": "2.0.0",
      "model_name": "LayoutModel",
      "state": {}
     },
     "02eca591057446c7bcba2d1390f3eff9": {
      "model_module": "@jupyter-widgets/controls",
      "model_module_version": "2.0.0",
      "model_name": "HTMLStyleModel",
      "state": {
       "description_width": "",
       "font_size": null,
       "text_color": null
      }
     },
     "0304247278ba4c92a0870802453b4ffa": {
      "model_module": "@jupyter-widgets/controls",
      "model_module_version": "2.0.0",
      "model_name": "HTMLModel",
      "state": {
       "layout": "IPY_MODEL_eb62167f4e824339b63892a8bb86ff9f",
       "style": "IPY_MODEL_cc1be5d42d284450a10d1c29232a7b76",
       "value": " 21/21 [00:00&lt;00:00, 2036.45it/s]"
      }
     },
     "03bb906729ad46089bb66758c15d2d89": {
      "model_module": "@jupyter-widgets/controls",
      "model_module_version": "2.0.0",
      "model_name": "HTMLStyleModel",
      "state": {
       "description_width": "",
       "font_size": null,
       "text_color": null
      }
     },
     "03e07e2487704286a709f3efd68701f8": {
      "model_module": "@jupyter-widgets/base",
      "model_module_version": "2.0.0",
      "model_name": "LayoutModel",
      "state": {}
     },
     "0585da0961a841ef9b05870e2503b09a": {
      "model_module": "@jupyter-widgets/controls",
      "model_module_version": "2.0.0",
      "model_name": "HTMLModel",
      "state": {
       "layout": "IPY_MODEL_c817d6489f2e4eb698dd175f001c3cb2",
       "style": "IPY_MODEL_3caed6e092f44f9fa992e5e78ddba435",
       "value": " 19/19 [00:00&lt;00:00, 1953.95it/s]"
      }
     },
     "0667e3d92be8480594b3928b8f3a329c": {
      "model_module": "@jupyter-widgets/controls",
      "model_module_version": "2.0.0",
      "model_name": "HTMLModel",
      "state": {
       "layout": "IPY_MODEL_1a43371179ef472abfefe033043c17ff",
       "style": "IPY_MODEL_d1abcaf55be548038d729fb405586b1f",
       "value": "Loading dataset from disk: 100%"
      }
     },
     "06f4a4d77bc34fa080a59495066d9211": {
      "model_module": "@jupyter-widgets/base",
      "model_module_version": "2.0.0",
      "model_name": "LayoutModel",
      "state": {}
     },
     "0745a5f6b11b48afaa246a5f1a040aca": {
      "model_module": "@jupyter-widgets/base",
      "model_module_version": "2.0.0",
      "model_name": "LayoutModel",
      "state": {}
     },
     "07750691eb084d149758cc479c061500": {
      "model_module": "@jupyter-widgets/controls",
      "model_module_version": "2.0.0",
      "model_name": "HTMLModel",
      "state": {
       "layout": "IPY_MODEL_5a7feaff97344c018b4a8ffa3e076c67",
       "style": "IPY_MODEL_e24bd0fd271c430c8ecba66ca15cb87f",
       "value": " 21/21 [00:00&lt;00:00, 1350.72it/s]"
      }
     },
     "084adcb662e44e1e900a240679a24243": {
      "model_module": "@jupyter-widgets/base",
      "model_module_version": "2.0.0",
      "model_name": "LayoutModel",
      "state": {}
     },
     "0956d76a8f954c178595f8d44eff7b39": {
      "model_module": "@jupyter-widgets/controls",
      "model_module_version": "2.0.0",
      "model_name": "HTMLStyleModel",
      "state": {
       "description_width": "",
       "font_size": null,
       "text_color": null
      }
     },
     "0ba4c224355b44728ef31908fae726d5": {
      "model_module": "@jupyter-widgets/controls",
      "model_module_version": "2.0.0",
      "model_name": "FloatProgressModel",
      "state": {
       "layout": "IPY_MODEL_1b0b57728c144aa0ae6d0218613713b4",
       "max": 7500,
       "style": "IPY_MODEL_4bfda8f23d6e4597acc736cf4ec69167",
       "value": 47
      }
     },
     "0d377b71124f40358a7cc9c0fb763e97": {
      "model_module": "@jupyter-widgets/controls",
      "model_module_version": "2.0.0",
      "model_name": "ProgressStyleModel",
      "state": {
       "description_width": ""
      }
     },
     "0f923447816d497c9e8e84d409bb4fcf": {
      "model_module": "@jupyter-widgets/base",
      "model_module_version": "2.0.0",
      "model_name": "LayoutModel",
      "state": {}
     },
     "0f9685be8869493ebc4d57636712e0ab": {
      "model_module": "@jupyter-widgets/controls",
      "model_module_version": "2.0.0",
      "model_name": "HBoxModel",
      "state": {
       "children": [
        "IPY_MODEL_8a393d3ab44d4ea3bbea0307ca36166e",
        "IPY_MODEL_155858ecf1eb40028ce228d6da0f6a41",
        "IPY_MODEL_0304247278ba4c92a0870802453b4ffa"
       ],
       "layout": "IPY_MODEL_9b4ac97fad154fbea8eae893d5905b28"
      }
     },
     "121345c8c68946a89d59313efa93db75": {
      "model_module": "@jupyter-widgets/controls",
      "model_module_version": "2.0.0",
      "model_name": "HTMLModel",
      "state": {
       "layout": "IPY_MODEL_43ebf3353f7741b4a33eb87b42623c65",
       "style": "IPY_MODEL_4eb69a8e0673424297749e052a648861",
       "value": " 0/1875 [00:00&lt;?, ?it/s]"
      }
     },
     "125f2900a94b4f6e859f548a1beb37be": {
      "model_module": "@jupyter-widgets/controls",
      "model_module_version": "2.0.0",
      "model_name": "HTMLStyleModel",
      "state": {
       "description_width": "",
       "font_size": null,
       "text_color": null
      }
     },
     "12ea56d8848d48e39056a90382ec3b69": {
      "model_module": "@jupyter-widgets/controls",
      "model_module_version": "2.0.0",
      "model_name": "FloatProgressModel",
      "state": {
       "bar_style": "success",
       "layout": "IPY_MODEL_d435c39a882c4510aa5ed2037ecb589e",
       "max": 158,
       "style": "IPY_MODEL_fb97be5aa1814e6fa82e5150d1a3c9eb",
       "value": 158
      }
     },
     "1309c22b2bb845dfb3db8fa6c3b619d6": {
      "model_module": "@jupyter-widgets/controls",
      "model_module_version": "2.0.0",
      "model_name": "FloatProgressModel",
      "state": {
       "layout": "IPY_MODEL_b338f4f28d044895a575b073e75a754e",
       "max": 15000,
       "style": "IPY_MODEL_00d47ad0ded1471bb778f9e07ea39c2e",
       "value": 656
      }
     },
     "13ba8757a63842d48532924008125519": {
      "model_module": "@jupyter-widgets/controls",
      "model_module_version": "2.0.0",
      "model_name": "LabelStyleModel",
      "state": {
       "description_width": "",
       "font_family": null,
       "font_size": null,
       "font_style": null,
       "font_variant": null,
       "font_weight": null,
       "text_color": null,
       "text_decoration": null
      }
     },
     "13ed331cd5d141239fc67bd324d3a8b7": {
      "model_module": "@jupyter-widgets/controls",
      "model_module_version": "2.0.0",
      "model_name": "VBoxModel",
      "state": {
       "children": [
        "IPY_MODEL_4e11f922a30244209d0a4a5b10c3e22f",
        "IPY_MODEL_1d41511a25ab47a7b323d7195797a4b7"
       ],
       "layout": "IPY_MODEL_b094f991ace74022ae2a15cd99486f03"
      }
     },
     "14298f2945264a18ab1e1353f2913942": {
      "model_module": "@jupyter-widgets/base",
      "model_module_version": "2.0.0",
      "model_name": "LayoutModel",
      "state": {}
     },
     "155858ecf1eb40028ce228d6da0f6a41": {
      "model_module": "@jupyter-widgets/controls",
      "model_module_version": "2.0.0",
      "model_name": "FloatProgressModel",
      "state": {
       "bar_style": "success",
       "layout": "IPY_MODEL_4a3c9ac5da4e4db59525d18ca0e4c127",
       "max": 21,
       "style": "IPY_MODEL_a53cd5394bad43fa8cc4f92c2e46effc",
       "value": 21
      }
     },
     "15e5ddc39059407d8146f89f8ff64ca7": {
      "model_module": "@jupyter-widgets/base",
      "model_module_version": "2.0.0",
      "model_name": "LayoutModel",
      "state": {}
     },
     "16278bc3fd2d489a84b5ce22c1b83474": {
      "model_module": "@jupyter-widgets/controls",
      "model_module_version": "2.0.0",
      "model_name": "FloatProgressModel",
      "state": {
       "bar_style": "success",
       "layout": "IPY_MODEL_1db18db6b8754ee9a38195444d80dd84",
       "max": 158,
       "style": "IPY_MODEL_4ea9c1fbac22419580f5a00bec9b56e3",
       "value": 158
      }
     },
     "16787535952445a9a33bea7b2145ff9a": {
      "model_module": "@jupyter-widgets/base",
      "model_module_version": "2.0.0",
      "model_name": "LayoutModel",
      "state": {}
     },
     "16854802b3584c3d8c8ab506ef26a9a0": {
      "model_module": "@jupyter-widgets/controls",
      "model_module_version": "2.0.0",
      "model_name": "VBoxModel",
      "state": {
       "children": [
        "IPY_MODEL_7cda87ed1f16457697c69ae0cd233488",
        "IPY_MODEL_ab9c32a84635442c8b32c5c7da91c7e5"
       ],
       "layout": "IPY_MODEL_84f849228cc1478b9c6f2cfee0ede978"
      }
     },
     "16a3f93f21134352a7231a498298dbbd": {
      "model_module": "@jupyter-widgets/controls",
      "model_module_version": "2.0.0",
      "model_name": "FloatProgressModel",
      "state": {
       "bar_style": "success",
       "layout": "IPY_MODEL_592d8a179d69484eb6d9be1ffa13f199",
       "max": 19,
       "style": "IPY_MODEL_f6ab426a9a9c44deacbe4a1605285f43",
       "value": 19
      }
     },
     "19cbaca58ef845118fe248b1a081ae86": {
      "model_module": "@jupyter-widgets/controls",
      "model_module_version": "2.0.0",
      "model_name": "HTMLModel",
      "state": {
       "layout": "IPY_MODEL_e87881a891e346a9b001f1ff9bc8d374",
       "style": "IPY_MODEL_47443a2c2df6421abc7c34b4de386db7",
       "value": "Loading dataset from disk: 100%"
      }
     },
     "1a43371179ef472abfefe033043c17ff": {
      "model_module": "@jupyter-widgets/base",
      "model_module_version": "2.0.0",
      "model_name": "LayoutModel",
      "state": {}
     },
     "1b0b57728c144aa0ae6d0218613713b4": {
      "model_module": "@jupyter-widgets/base",
      "model_module_version": "2.0.0",
      "model_name": "LayoutModel",
      "state": {}
     },
     "1b948293a39947acb478c1e8ce8a3a5e": {
      "model_module": "@jupyter-widgets/controls",
      "model_module_version": "2.0.0",
      "model_name": "LabelModel",
      "state": {
       "layout": "IPY_MODEL_d54c0ad4a6c04ca99963bc5d87754906",
       "style": "IPY_MODEL_c416a80d016a4579b0e6b8cb68c5fedc"
      }
     },
     "1d41511a25ab47a7b323d7195797a4b7": {
      "model_module": "@jupyter-widgets/controls",
      "model_module_version": "2.0.0",
      "model_name": "FloatProgressModel",
      "state": {
       "layout": "IPY_MODEL_87c30fc84f474849951af7a1d6fc3aeb",
       "max": 1,
       "style": "IPY_MODEL_d478a0829bdf470693d5310c46bd9898"
      }
     },
     "1db18db6b8754ee9a38195444d80dd84": {
      "model_module": "@jupyter-widgets/base",
      "model_module_version": "2.0.0",
      "model_name": "LayoutModel",
      "state": {}
     },
     "1f0ad8d8e66746969710d69d7e795815": {
      "model_module": "@jupyter-widgets/controls",
      "model_module_version": "2.0.0",
      "model_name": "HBoxModel",
      "state": {
       "children": [
        "IPY_MODEL_d1f4a55aec1344be9ebc07b4a5280f7b",
        "IPY_MODEL_dbf85653f34248bc87b1ad9b09600ff9",
        "IPY_MODEL_474b9a61f3414fce96cd34612f056199"
       ],
       "layout": "IPY_MODEL_87b99fb6727d4fd480e465fb1fabe5fd"
      }
     },
     "1f9046af62844e63a36c0215be06daf8": {
      "model_module": "@jupyter-widgets/controls",
      "model_module_version": "2.0.0",
      "model_name": "HTMLModel",
      "state": {
       "layout": "IPY_MODEL_62b22cf1f03f405ab83146c4c5adbe7f",
       "style": "IPY_MODEL_0956d76a8f954c178595f8d44eff7b39",
       "value": "Loading dataset from disk: 100%"
      }
     },
     "2119c2291db645e2a4f53b2fa3a4388b": {
      "model_module": "@jupyter-widgets/controls",
      "model_module_version": "2.0.0",
      "model_name": "HTMLModel",
      "state": {
       "layout": "IPY_MODEL_48892001a4db4ac0b1714d5f1f3173e6",
       "style": "IPY_MODEL_6d5d1a0f19c549b3bcb77614b5c1a591",
       "value": " 19/19 [00:00&lt;00:00, 2409.13it/s]"
      }
     },
     "246912d715b44c86a0d45f68eca7e454": {
      "model_module": "@jupyter-widgets/base",
      "model_module_version": "2.0.0",
      "model_name": "LayoutModel",
      "state": {}
     },
     "254e6e7f594b4ea4bbc75b13529d9a22": {
      "model_module": "@jupyter-widgets/base",
      "model_module_version": "2.0.0",
      "model_name": "LayoutModel",
      "state": {}
     },
     "266870379500473da6378b5026d4aa95": {
      "model_module": "@jupyter-widgets/controls",
      "model_module_version": "2.0.0",
      "model_name": "ProgressStyleModel",
      "state": {
       "description_width": ""
      }
     },
     "267df485bfb04cebad54c3009958612a": {
      "model_module": "@jupyter-widgets/controls",
      "model_module_version": "2.0.0",
      "model_name": "HTMLStyleModel",
      "state": {
       "description_width": "",
       "font_size": null,
       "text_color": null
      }
     },
     "2751e92eb3304da1acbc7fe04d51a52c": {
      "model_module": "@jupyter-widgets/controls",
      "model_module_version": "2.0.0",
      "model_name": "FloatProgressModel",
      "state": {
       "bar_style": "danger",
       "layout": "IPY_MODEL_e8b10e0cb70a420087f70cc9dcb58dbd",
       "max": 7500,
       "style": "IPY_MODEL_a2f5b6b014704eb09bb8e0fa8a3c332f"
      }
     },
     "27651b0996b84785a10413b9d5c7bec0": {
      "model_module": "@jupyter-widgets/controls",
      "model_module_version": "2.0.0",
      "model_name": "HTMLModel",
      "state": {
       "layout": "IPY_MODEL_39089e50de7b4ef692436c6f3dd37bbe",
       "style": "IPY_MODEL_75bdd4306d984f40b9dff9577c48afd5",
       "value": " 656/15000 [1:00:25&lt;12:56:29,  3.25s/it]"
      }
     },
     "27d1b3e57f8f41f8bdc85cd2436620b6": {
      "model_module": "@jupyter-widgets/controls",
      "model_module_version": "2.0.0",
      "model_name": "ProgressStyleModel",
      "state": {
       "description_width": ""
      }
     },
     "28a6758b78ae441fbc45214d09627698": {
      "model_module": "@jupyter-widgets/base",
      "model_module_version": "2.0.0",
      "model_name": "LayoutModel",
      "state": {}
     },
     "2983de542f0146c1829423b3f4d86fa2": {
      "model_module": "@jupyter-widgets/controls",
      "model_module_version": "2.0.0",
      "model_name": "HTMLStyleModel",
      "state": {
       "description_width": "",
       "font_size": null,
       "text_color": null
      }
     },
     "29ea6cfce4be4875ac6d4fdd863602a2": {
      "model_module": "@jupyter-widgets/controls",
      "model_module_version": "2.0.0",
      "model_name": "HTMLStyleModel",
      "state": {
       "description_width": "",
       "font_size": null,
       "text_color": null
      }
     },
     "2d951af7f5aa46749498b0d2138b1368": {
      "model_module": "@jupyter-widgets/controls",
      "model_module_version": "2.0.0",
      "model_name": "LabelStyleModel",
      "state": {
       "description_width": "",
       "font_family": null,
       "font_size": null,
       "font_style": null,
       "font_variant": null,
       "font_weight": null,
       "text_color": null,
       "text_decoration": null
      }
     },
     "2e8e4648f23b4834bcec362f81d4a9f3": {
      "model_module": "@jupyter-widgets/controls",
      "model_module_version": "2.0.0",
      "model_name": "HTMLStyleModel",
      "state": {
       "description_width": "",
       "font_size": null,
       "text_color": null
      }
     },
     "2f7c16379c50412a878aa1562602a4d1": {
      "model_module": "@jupyter-widgets/base",
      "model_module_version": "2.0.0",
      "model_name": "LayoutModel",
      "state": {}
     },
     "2f82cca3a7694ba4b6454e79daf31795": {
      "model_module": "@jupyter-widgets/base",
      "model_module_version": "2.0.0",
      "model_name": "LayoutModel",
      "state": {}
     },
     "31c21b7730d8483094ee6e834ff5fef2": {
      "model_module": "@jupyter-widgets/controls",
      "model_module_version": "2.0.0",
      "model_name": "HBoxModel",
      "state": {
       "children": [
        "IPY_MODEL_7f966c02af8d4c6aa0ab0b6690d90e2b",
        "IPY_MODEL_bc614f1292394ef8a76b67c4519fd37e",
        "IPY_MODEL_fefe4607b8b949cfa198edf9d4b858d2"
       ],
       "layout": "IPY_MODEL_e510268e962d4d01b76056f4628bc66b"
      }
     },
     "31edc7a5a47b4552bae3ed94afb96fe9": {
      "model_module": "@jupyter-widgets/controls",
      "model_module_version": "2.0.0",
      "model_name": "HTMLModel",
      "state": {
       "layout": "IPY_MODEL_5bc524cdd0c5417bbb1f7ca5007035f8",
       "style": "IPY_MODEL_29ea6cfce4be4875ac6d4fdd863602a2",
       "value": " 0/7500 [00:13&lt;?, ?it/s]"
      }
     },
     "321f465848f44a328d2579a2d15cb1ac": {
      "model_module": "@jupyter-widgets/controls",
      "model_module_version": "2.0.0",
      "model_name": "HTMLModel",
      "state": {
       "layout": "IPY_MODEL_fa11e842e57744ff8cd178aee9912938",
       "style": "IPY_MODEL_d03a09ce2dde44f5a99624cc09202f18",
       "value": "Loading dataset from disk: 100%"
      }
     },
     "34c042c6c98a4894a9d08ccde10056d4": {
      "model_module": "@jupyter-widgets/base",
      "model_module_version": "2.0.0",
      "model_name": "LayoutModel",
      "state": {}
     },
     "3689d8b512304a649e6d3b495154a15e": {
      "model_module": "@jupyter-widgets/controls",
      "model_module_version": "2.0.0",
      "model_name": "ProgressStyleModel",
      "state": {
       "description_width": ""
      }
     },
     "3778b41ab8404f3383e89a414aad0f7b": {
      "model_module": "@jupyter-widgets/base",
      "model_module_version": "2.0.0",
      "model_name": "LayoutModel",
      "state": {}
     },
     "3813bf2ac0b7431fa56e099d98f4e52b": {
      "model_module": "@jupyter-widgets/controls",
      "model_module_version": "2.0.0",
      "model_name": "FloatProgressModel",
      "state": {
       "bar_style": "success",
       "layout": "IPY_MODEL_ae61de2180cd479e89ed0061dacddd26",
       "max": 19,
       "style": "IPY_MODEL_27d1b3e57f8f41f8bdc85cd2436620b6",
       "value": 19
      }
     },
     "383cebeb47214a9982b8be2697dcde89": {
      "model_module": "@jupyter-widgets/controls",
      "model_module_version": "2.0.0",
      "model_name": "HTMLModel",
      "state": {
       "layout": "IPY_MODEL_2f82cca3a7694ba4b6454e79daf31795",
       "style": "IPY_MODEL_03bb906729ad46089bb66758c15d2d89",
       "value": "  0%"
      }
     },
     "39089e50de7b4ef692436c6f3dd37bbe": {
      "model_module": "@jupyter-widgets/base",
      "model_module_version": "2.0.0",
      "model_name": "LayoutModel",
      "state": {}
     },
     "39e10c943c5d4fbe95cca7aaaf154e51": {
      "model_module": "@jupyter-widgets/controls",
      "model_module_version": "2.0.0",
      "model_name": "HTMLModel",
      "state": {
       "layout": "IPY_MODEL_5954103061484ed9a77a984c4806870c",
       "style": "IPY_MODEL_003dd4f957904a789f0c9e7b1d7a6e07",
       "value": " 158/158 [00:00&lt;00:00, 7177.83it/s]"
      }
     },
     "3a96466588b3440b9da3597524270e5d": {
      "model_module": "@jupyter-widgets/controls",
      "model_module_version": "2.0.0",
      "model_name": "HTMLModel",
      "state": {
       "layout": "IPY_MODEL_7691b1ce44ad41638b3cb95b17718a28",
       "style": "IPY_MODEL_fdec7e1676c242c68b842985775de2f6",
       "value": "  0%"
      }
     },
     "3caed6e092f44f9fa992e5e78ddba435": {
      "model_module": "@jupyter-widgets/controls",
      "model_module_version": "2.0.0",
      "model_name": "HTMLStyleModel",
      "state": {
       "description_width": "",
       "font_size": null,
       "text_color": null
      }
     },
     "3d01b12f34af4d059e5e15fc328f399e": {
      "model_module": "@jupyter-widgets/controls",
      "model_module_version": "2.0.0",
      "model_name": "HTMLStyleModel",
      "state": {
       "description_width": "",
       "font_size": null,
       "text_color": null
      }
     },
     "3fbea6dfb55648eb840c2e69954f0bcd": {
      "model_module": "@jupyter-widgets/base",
      "model_module_version": "2.0.0",
      "model_name": "LayoutModel",
      "state": {}
     },
     "425481a86c844f1292223456daf4fade": {
      "model_module": "@jupyter-widgets/controls",
      "model_module_version": "2.0.0",
      "model_name": "FloatProgressModel",
      "state": {
       "bar_style": "success",
       "layout": "IPY_MODEL_14298f2945264a18ab1e1353f2913942",
       "max": 158,
       "style": "IPY_MODEL_fc3120064f6943c783a301dc3081366d",
       "value": 158
      }
     },
     "43ebf3353f7741b4a33eb87b42623c65": {
      "model_module": "@jupyter-widgets/base",
      "model_module_version": "2.0.0",
      "model_name": "LayoutModel",
      "state": {}
     },
     "43f34c34707e464a825b8f1654f2a3e1": {
      "model_module": "@jupyter-widgets/controls",
      "model_module_version": "2.0.0",
      "model_name": "VBoxModel",
      "state": {
       "children": [
        "IPY_MODEL_65006028558441e0955cb0f7acda3d7d",
        "IPY_MODEL_5a3a1bf31dc64e89a273414d8618bd2e"
       ],
       "layout": "IPY_MODEL_5c02f29e32fe4841a36727df96ded1ab"
      }
     },
     "44daf7fd6e1348f5b82c58ac9c2d7fdb": {
      "model_module": "@jupyter-widgets/base",
      "model_module_version": "2.0.0",
      "model_name": "LayoutModel",
      "state": {}
     },
     "4678db1db7b549e0baa847560d61d00b": {
      "model_module": "@jupyter-widgets/base",
      "model_module_version": "2.0.0",
      "model_name": "LayoutModel",
      "state": {}
     },
     "46d6bad3dcec4701a4bb9bc46cd03a70": {
      "model_module": "@jupyter-widgets/base",
      "model_module_version": "2.0.0",
      "model_name": "LayoutModel",
      "state": {}
     },
     "47443a2c2df6421abc7c34b4de386db7": {
      "model_module": "@jupyter-widgets/controls",
      "model_module_version": "2.0.0",
      "model_name": "HTMLStyleModel",
      "state": {
       "description_width": "",
       "font_size": null,
       "text_color": null
      }
     },
     "474b9a61f3414fce96cd34612f056199": {
      "model_module": "@jupyter-widgets/controls",
      "model_module_version": "2.0.0",
      "model_name": "HTMLModel",
      "state": {
       "layout": "IPY_MODEL_c996d5e105ac4e73ac074ea75c9d8560",
       "style": "IPY_MODEL_2983de542f0146c1829423b3f4d86fa2",
       "value": " 21/21 [00:00&lt;00:00, 1936.17it/s]"
      }
     },
     "478fb0c6f83a45d2b992a0dcc517eac3": {
      "model_module": "@jupyter-widgets/controls",
      "model_module_version": "2.0.0",
      "model_name": "HTMLStyleModel",
      "state": {
       "description_width": "",
       "font_size": null,
       "text_color": null
      }
     },
     "48892001a4db4ac0b1714d5f1f3173e6": {
      "model_module": "@jupyter-widgets/base",
      "model_module_version": "2.0.0",
      "model_name": "LayoutModel",
      "state": {}
     },
     "4a3c9ac5da4e4db59525d18ca0e4c127": {
      "model_module": "@jupyter-widgets/base",
      "model_module_version": "2.0.0",
      "model_name": "LayoutModel",
      "state": {}
     },
     "4b702e50638e4bcaad3c000d1ad5708d": {
      "model_module": "@jupyter-widgets/base",
      "model_module_version": "2.0.0",
      "model_name": "LayoutModel",
      "state": {}
     },
     "4b738d78951b42ef967942ccee6d65f5": {
      "model_module": "@jupyter-widgets/controls",
      "model_module_version": "2.0.0",
      "model_name": "ProgressStyleModel",
      "state": {
       "description_width": ""
      }
     },
     "4bfda8f23d6e4597acc736cf4ec69167": {
      "model_module": "@jupyter-widgets/controls",
      "model_module_version": "2.0.0",
      "model_name": "ProgressStyleModel",
      "state": {
       "description_width": ""
      }
     },
     "4d8a0b23e01e4ac7b4555b36ecb1bb31": {
      "model_module": "@jupyter-widgets/base",
      "model_module_version": "2.0.0",
      "model_name": "LayoutModel",
      "state": {}
     },
     "4e11f922a30244209d0a4a5b10c3e22f": {
      "model_module": "@jupyter-widgets/controls",
      "model_module_version": "2.0.0",
      "model_name": "LabelModel",
      "state": {
       "layout": "IPY_MODEL_87a337587db74bf79d974641531faafd",
       "style": "IPY_MODEL_13ba8757a63842d48532924008125519"
      }
     },
     "4ea9c1fbac22419580f5a00bec9b56e3": {
      "model_module": "@jupyter-widgets/controls",
      "model_module_version": "2.0.0",
      "model_name": "ProgressStyleModel",
      "state": {
       "description_width": ""
      }
     },
     "4eb69a8e0673424297749e052a648861": {
      "model_module": "@jupyter-widgets/controls",
      "model_module_version": "2.0.0",
      "model_name": "HTMLStyleModel",
      "state": {
       "description_width": "",
       "font_size": null,
       "text_color": null
      }
     },
     "507e1cd382da4534af8f1bc664542efc": {
      "model_module": "@jupyter-widgets/controls",
      "model_module_version": "2.0.0",
      "model_name": "ProgressStyleModel",
      "state": {
       "description_width": ""
      }
     },
     "51a5fa11133f4aea90903ce77d1cb378": {
      "model_module": "@jupyter-widgets/controls",
      "model_module_version": "2.0.0",
      "model_name": "HBoxModel",
      "state": {
       "children": [
        "IPY_MODEL_5ad6e04b9abf425dbdd727a54ec3a9cf",
        "IPY_MODEL_ed5a6980e0c345e585893a9e691c681c",
        "IPY_MODEL_e6bc5cac20964973b2f199ea76dde169"
       ],
       "layout": "IPY_MODEL_0f923447816d497c9e8e84d409bb4fcf"
      }
     },
     "521a98e442174d5f90f5f5a00551ee01": {
      "model_module": "@jupyter-widgets/controls",
      "model_module_version": "2.0.0",
      "model_name": "ProgressStyleModel",
      "state": {
       "description_width": ""
      }
     },
     "529a2017378846a88c11b7d321946913": {
      "model_module": "@jupyter-widgets/base",
      "model_module_version": "2.0.0",
      "model_name": "LayoutModel",
      "state": {}
     },
     "53666540e216464d898ba914f24df6fd": {
      "model_module": "@jupyter-widgets/controls",
      "model_module_version": "2.0.0",
      "model_name": "LabelModel",
      "state": {
       "layout": "IPY_MODEL_3778b41ab8404f3383e89a414aad0f7b",
       "style": "IPY_MODEL_abfc40c618fb46c0b56a1cd9dc0ce55a"
      }
     },
     "54acb301483b4fa1994feea96c58d7ef": {
      "model_module": "@jupyter-widgets/controls",
      "model_module_version": "2.0.0",
      "model_name": "HTMLModel",
      "state": {
       "layout": "IPY_MODEL_7bd1d706819d4536bb9a039440c3bb8c",
       "style": "IPY_MODEL_02eca591057446c7bcba2d1390f3eff9",
       "value": " 158/158 [00:00&lt;00:00, 72.71it/s]"
      }
     },
     "55548ffb3b764d699d9b0b42bed69172": {
      "model_module": "@jupyter-widgets/controls",
      "model_module_version": "2.0.0",
      "model_name": "HTMLModel",
      "state": {
       "layout": "IPY_MODEL_bd993c6fa9ef4d368b074de57169e532",
       "style": "IPY_MODEL_3d01b12f34af4d059e5e15fc328f399e",
       "value": " 19/19 [00:00&lt;00:00, 1341.91it/s]"
      }
     },
     "557ca2bd626647259a40e495461d843d": {
      "model_module": "@jupyter-widgets/controls",
      "model_module_version": "2.0.0",
      "model_name": "HTMLStyleModel",
      "state": {
       "description_width": "",
       "font_size": null,
       "text_color": null
      }
     },
     "58ab1d8f674d432c82ff40fb448e2ba1": {
      "model_module": "@jupyter-widgets/controls",
      "model_module_version": "2.0.0",
      "model_name": "HBoxModel",
      "state": {
       "children": [
        "IPY_MODEL_cbb173f0b0644c4890b73513b37ee357",
        "IPY_MODEL_3813bf2ac0b7431fa56e099d98f4e52b",
        "IPY_MODEL_2119c2291db645e2a4f53b2fa3a4388b"
       ],
       "layout": "IPY_MODEL_c1cdb231c12d485ba387d4666b437e1f"
      }
     },
     "59083600545d4b2fa88cbd37616612fb": {
      "model_module": "@jupyter-widgets/controls",
      "model_module_version": "2.0.0",
      "model_name": "ProgressStyleModel",
      "state": {
       "description_width": ""
      }
     },
     "592d8a179d69484eb6d9be1ffa13f199": {
      "model_module": "@jupyter-widgets/base",
      "model_module_version": "2.0.0",
      "model_name": "LayoutModel",
      "state": {}
     },
     "5954103061484ed9a77a984c4806870c": {
      "model_module": "@jupyter-widgets/base",
      "model_module_version": "2.0.0",
      "model_name": "LayoutModel",
      "state": {}
     },
     "5a3a1bf31dc64e89a273414d8618bd2e": {
      "model_module": "@jupyter-widgets/controls",
      "model_module_version": "2.0.0",
      "model_name": "FloatProgressModel",
      "state": {
       "layout": "IPY_MODEL_b246fe6d300c4e67a437b572ddfb0b03",
       "max": 1,
       "style": "IPY_MODEL_72fc3b9d7c1c45d29c82ce5970aabf9a"
      }
     },
     "5a7feaff97344c018b4a8ffa3e076c67": {
      "model_module": "@jupyter-widgets/base",
      "model_module_version": "2.0.0",
      "model_name": "LayoutModel",
      "state": {}
     },
     "5ad6e04b9abf425dbdd727a54ec3a9cf": {
      "model_module": "@jupyter-widgets/controls",
      "model_module_version": "2.0.0",
      "model_name": "HTMLModel",
      "state": {
       "layout": "IPY_MODEL_b2b9d39ec58f4872891adba365b79198",
       "style": "IPY_MODEL_683957f5a79c4c9ab6af6bd5f60d8371",
       "value": "  0%"
      }
     },
     "5bc524cdd0c5417bbb1f7ca5007035f8": {
      "model_module": "@jupyter-widgets/base",
      "model_module_version": "2.0.0",
      "model_name": "LayoutModel",
      "state": {}
     },
     "5be498a57ea345cba1724e3a7b725028": {
      "model_module": "@jupyter-widgets/controls",
      "model_module_version": "2.0.0",
      "model_name": "VBoxModel",
      "state": {
       "children": [
        "IPY_MODEL_1b948293a39947acb478c1e8ce8a3a5e",
        "IPY_MODEL_a659477d3a524f4b92946dbdac1a599d"
       ],
       "layout": "IPY_MODEL_7996b7c9618e4ea69f857eb615817a03"
      }
     },
     "5c02f29e32fe4841a36727df96ded1ab": {
      "model_module": "@jupyter-widgets/base",
      "model_module_version": "2.0.0",
      "model_name": "LayoutModel",
      "state": {}
     },
     "5de83b2c8f744ef6b6d5396b97f227e1": {
      "model_module": "@jupyter-widgets/controls",
      "model_module_version": "2.0.0",
      "model_name": "HBoxModel",
      "state": {
       "children": [
        "IPY_MODEL_3a96466588b3440b9da3597524270e5d",
        "IPY_MODEL_86a2d76d040f43cbb8fc885a8bbfab24",
        "IPY_MODEL_d7d2e26af3014b6f8e1d24e282e90b8e"
       ],
       "layout": "IPY_MODEL_63dedf0674cf4b93abb797ef864c4a7a"
      }
     },
     "5fd9fa418e7b4aa69b5c8b2b204f10be": {
      "model_module": "@jupyter-widgets/base",
      "model_module_version": "2.0.0",
      "model_name": "LayoutModel",
      "state": {}
     },
     "60b06875f8bf4d59a60b19efc805481c": {
      "model_module": "@jupyter-widgets/controls",
      "model_module_version": "2.0.0",
      "model_name": "ProgressStyleModel",
      "state": {
       "description_width": ""
      }
     },
     "62b22cf1f03f405ab83146c4c5adbe7f": {
      "model_module": "@jupyter-widgets/base",
      "model_module_version": "2.0.0",
      "model_name": "LayoutModel",
      "state": {}
     },
     "63dedf0674cf4b93abb797ef864c4a7a": {
      "model_module": "@jupyter-widgets/base",
      "model_module_version": "2.0.0",
      "model_name": "LayoutModel",
      "state": {}
     },
     "65006028558441e0955cb0f7acda3d7d": {
      "model_module": "@jupyter-widgets/controls",
      "model_module_version": "2.0.0",
      "model_name": "LabelModel",
      "state": {
       "layout": "IPY_MODEL_8197f7addc2a4c00831de678772da9d0",
       "style": "IPY_MODEL_2d951af7f5aa46749498b0d2138b1368"
      }
     },
     "65a07cbaa53a4dad97bd19942bffc083": {
      "model_module": "@jupyter-widgets/controls",
      "model_module_version": "2.0.0",
      "model_name": "HBoxModel",
      "state": {
       "children": [
        "IPY_MODEL_e21d94766aa54c2ea93996ef10cfcb3b",
        "IPY_MODEL_a8f40b5a531b4f17a6695bae813af931",
        "IPY_MODEL_07750691eb084d149758cc479c061500"
       ],
       "layout": "IPY_MODEL_44daf7fd6e1348f5b82c58ac9c2d7fdb"
      }
     },
     "673b71f427e24b67aed28ec9895c54b1": {
      "model_module": "@jupyter-widgets/base",
      "model_module_version": "2.0.0",
      "model_name": "LayoutModel",
      "state": {}
     },
     "683957f5a79c4c9ab6af6bd5f60d8371": {
      "model_module": "@jupyter-widgets/controls",
      "model_module_version": "2.0.0",
      "model_name": "HTMLStyleModel",
      "state": {
       "description_width": "",
       "font_size": null,
       "text_color": null
      }
     },
     "686016559f87453ab40c4b5dcc040e6d": {
      "model_module": "@jupyter-widgets/controls",
      "model_module_version": "2.0.0",
      "model_name": "HTMLStyleModel",
      "state": {
       "description_width": "",
       "font_size": null,
       "text_color": null
      }
     },
     "69606482870d4da59609b1df170601bf": {
      "model_module": "@jupyter-widgets/controls",
      "model_module_version": "2.0.0",
      "model_name": "HBoxModel",
      "state": {
       "children": [
        "IPY_MODEL_f527ff10fa6a464dbd2b3dd9ebb27c78",
        "IPY_MODEL_b9485cbd74b74daf8d41213d5752e55b",
        "IPY_MODEL_55548ffb3b764d699d9b0b42bed69172"
       ],
       "layout": "IPY_MODEL_bbf69a25d21f4296bec8bea4e28636fe"
      }
     },
     "6b9b1eece2b0461aa38df8bd64367888": {
      "model_module": "@jupyter-widgets/controls",
      "model_module_version": "2.0.0",
      "model_name": "ProgressStyleModel",
      "state": {
       "description_width": ""
      }
     },
     "6d5d1a0f19c549b3bcb77614b5c1a591": {
      "model_module": "@jupyter-widgets/controls",
      "model_module_version": "2.0.0",
      "model_name": "HTMLStyleModel",
      "state": {
       "description_width": "",
       "font_size": null,
       "text_color": null
      }
     },
     "6eb9322949434ef7a5ded61440ce574b": {
      "model_module": "@jupyter-widgets/controls",
      "model_module_version": "2.0.0",
      "model_name": "HBoxModel",
      "state": {
       "children": [
        "IPY_MODEL_e77d8d8f208b496fbf020c23a20d2a77",
        "IPY_MODEL_1309c22b2bb845dfb3db8fa6c3b619d6",
        "IPY_MODEL_27651b0996b84785a10413b9d5c7bec0"
       ],
       "layout": "IPY_MODEL_246912d715b44c86a0d45f68eca7e454"
      }
     },
     "7234f6d86dc04f42aa54adde4a8fecf2": {
      "model_module": "@jupyter-widgets/controls",
      "model_module_version": "2.0.0",
      "model_name": "HBoxModel",
      "state": {
       "children": [
        "IPY_MODEL_9926b10166c84664a62cdb7927f75187",
        "IPY_MODEL_2751e92eb3304da1acbc7fe04d51a52c",
        "IPY_MODEL_31edc7a5a47b4552bae3ed94afb96fe9"
       ],
       "layout": "IPY_MODEL_9d1d383df8864bc6968019f4a14af0fd"
      }
     },
     "72fc3b9d7c1c45d29c82ce5970aabf9a": {
      "model_module": "@jupyter-widgets/controls",
      "model_module_version": "2.0.0",
      "model_name": "ProgressStyleModel",
      "state": {
       "description_width": ""
      }
     },
     "73fd91a040ab47f696dc03341df35687": {
      "model_module": "@jupyter-widgets/controls",
      "model_module_version": "2.0.0",
      "model_name": "LabelStyleModel",
      "state": {
       "description_width": "",
       "font_family": null,
       "font_size": null,
       "font_style": null,
       "font_variant": null,
       "font_weight": null,
       "text_color": null,
       "text_decoration": null
      }
     },
     "75bdd4306d984f40b9dff9577c48afd5": {
      "model_module": "@jupyter-widgets/controls",
      "model_module_version": "2.0.0",
      "model_name": "HTMLStyleModel",
      "state": {
       "description_width": "",
       "font_size": null,
       "text_color": null
      }
     },
     "7691b1ce44ad41638b3cb95b17718a28": {
      "model_module": "@jupyter-widgets/base",
      "model_module_version": "2.0.0",
      "model_name": "LayoutModel",
      "state": {}
     },
     "7736162a7ef043efad8750b669ee2d49": {
      "model_module": "@jupyter-widgets/controls",
      "model_module_version": "2.0.0",
      "model_name": "HTMLStyleModel",
      "state": {
       "description_width": "",
       "font_size": null,
       "text_color": null
      }
     },
     "7972ee1f17e146f386cd84aec2139757": {
      "model_module": "@jupyter-widgets/controls",
      "model_module_version": "2.0.0",
      "model_name": "HTMLModel",
      "state": {
       "layout": "IPY_MODEL_ff45712cba334424bc6c059e505b93ff",
       "style": "IPY_MODEL_afab8617737f436a8c449f3edec3a6dd",
       "value": " 158/158 [00:00&lt;00:00, 105.96it/s]"
      }
     },
     "7996b7c9618e4ea69f857eb615817a03": {
      "model_module": "@jupyter-widgets/base",
      "model_module_version": "2.0.0",
      "model_name": "LayoutModel",
      "state": {}
     },
     "7a3c6111792345838a0cf3efd26a9a9f": {
      "model_module": "@jupyter-widgets/controls",
      "model_module_version": "2.0.0",
      "model_name": "FloatProgressModel",
      "state": {
       "layout": "IPY_MODEL_dfcc2afca3a94007944a295602ca44e3",
       "max": 1,
       "style": "IPY_MODEL_266870379500473da6378b5026d4aa95"
      }
     },
     "7b9a0719990e47d6aafb3a69fdc5a7ed": {
      "model_module": "@jupyter-widgets/controls",
      "model_module_version": "2.0.0",
      "model_name": "HBoxModel",
      "state": {
       "children": [
        "IPY_MODEL_383cebeb47214a9982b8be2697dcde89",
        "IPY_MODEL_c5ea21464ecb4bb4a5bdceea3ad7714d",
        "IPY_MODEL_9c5fe5a1445b4e4dbeb018a332b11758"
       ],
       "layout": "IPY_MODEL_0745a5f6b11b48afaa246a5f1a040aca"
      }
     },
     "7bd1d706819d4536bb9a039440c3bb8c": {
      "model_module": "@jupyter-widgets/base",
      "model_module_version": "2.0.0",
      "model_name": "LayoutModel",
      "state": {}
     },
     "7cae3ed28f2743d2a22e3c9a878ff27e": {
      "model_module": "@jupyter-widgets/controls",
      "model_module_version": "2.0.0",
      "model_name": "ProgressStyleModel",
      "state": {
       "description_width": ""
      }
     },
     "7cda87ed1f16457697c69ae0cd233488": {
      "model_module": "@jupyter-widgets/controls",
      "model_module_version": "2.0.0",
      "model_name": "LabelModel",
      "state": {
       "layout": "IPY_MODEL_4b702e50638e4bcaad3c000d1ad5708d",
       "style": "IPY_MODEL_feb2471e46f9449086c466cab6106a2b"
      }
     },
     "7f966c02af8d4c6aa0ab0b6690d90e2b": {
      "model_module": "@jupyter-widgets/controls",
      "model_module_version": "2.0.0",
      "model_name": "HTMLModel",
      "state": {
       "layout": "IPY_MODEL_e050152b6efd440a93d45aa1028e3d9d",
       "style": "IPY_MODEL_e7d3049038194e498a37720f09390f45",
       "value": "Loading dataset from disk: 100%"
      }
     },
     "808e6c4879424e7fa1ab51c8ea229d4e": {
      "model_module": "@jupyter-widgets/controls",
      "model_module_version": "2.0.0",
      "model_name": "ProgressStyleModel",
      "state": {
       "description_width": ""
      }
     },
     "8197f7addc2a4c00831de678772da9d0": {
      "model_module": "@jupyter-widgets/base",
      "model_module_version": "2.0.0",
      "model_name": "LayoutModel",
      "state": {}
     },
     "8232b83f3253485188358574edc5bb48": {
      "model_module": "@jupyter-widgets/controls",
      "model_module_version": "2.0.0",
      "model_name": "HTMLStyleModel",
      "state": {
       "description_width": "",
       "font_size": null,
       "text_color": null
      }
     },
     "84f849228cc1478b9c6f2cfee0ede978": {
      "model_module": "@jupyter-widgets/base",
      "model_module_version": "2.0.0",
      "model_name": "LayoutModel",
      "state": {}
     },
     "8652b3fbeb604d1cacad834914df7a17": {
      "model_module": "@jupyter-widgets/controls",
      "model_module_version": "2.0.0",
      "model_name": "HBoxModel",
      "state": {
       "children": [
        "IPY_MODEL_1f9046af62844e63a36c0215be06daf8",
        "IPY_MODEL_425481a86c844f1292223456daf4fade",
        "IPY_MODEL_54acb301483b4fa1994feea96c58d7ef"
       ],
       "layout": "IPY_MODEL_16787535952445a9a33bea7b2145ff9a"
      }
     },
     "86a2d76d040f43cbb8fc885a8bbfab24": {
      "model_module": "@jupyter-widgets/controls",
      "model_module_version": "2.0.0",
      "model_name": "FloatProgressModel",
      "state": {
       "layout": "IPY_MODEL_9ba3963bd7914f53983965ab7e718f73",
       "max": 939,
       "style": "IPY_MODEL_d8e302af2c3a45b99b4a5d1809152287"
      }
     },
     "87a337587db74bf79d974641531faafd": {
      "model_module": "@jupyter-widgets/base",
      "model_module_version": "2.0.0",
      "model_name": "LayoutModel",
      "state": {}
     },
     "87b99fb6727d4fd480e465fb1fabe5fd": {
      "model_module": "@jupyter-widgets/base",
      "model_module_version": "2.0.0",
      "model_name": "LayoutModel",
      "state": {}
     },
     "87c30fc84f474849951af7a1d6fc3aeb": {
      "model_module": "@jupyter-widgets/base",
      "model_module_version": "2.0.0",
      "model_name": "LayoutModel",
      "state": {}
     },
     "8a393d3ab44d4ea3bbea0307ca36166e": {
      "model_module": "@jupyter-widgets/controls",
      "model_module_version": "2.0.0",
      "model_name": "HTMLModel",
      "state": {
       "layout": "IPY_MODEL_084adcb662e44e1e900a240679a24243",
       "style": "IPY_MODEL_eb7f4b16428e4f808aa53244bd6e94fd",
       "value": "Loading dataset from disk: 100%"
      }
     },
     "8c07e89187ea4c35a8e1957f9f7b55c8": {
      "model_module": "@jupyter-widgets/controls",
      "model_module_version": "2.0.0",
      "model_name": "HTMLStyleModel",
      "state": {
       "description_width": "",
       "font_size": null,
       "text_color": null
      }
     },
     "915a4ec5ac344321b589a1205ce19c67": {
      "model_module": "@jupyter-widgets/controls",
      "model_module_version": "2.0.0",
      "model_name": "HTMLStyleModel",
      "state": {
       "description_width": "",
       "font_size": null,
       "text_color": null
      }
     },
     "922f9ba5dc9d4905a5b8efc56789dc3f": {
      "model_module": "@jupyter-widgets/base",
      "model_module_version": "2.0.0",
      "model_name": "LayoutModel",
      "state": {}
     },
     "928e063efe314a5da3ea5936555a60b4": {
      "model_module": "@jupyter-widgets/base",
      "model_module_version": "2.0.0",
      "model_name": "LayoutModel",
      "state": {}
     },
     "94077fa0471849caa13ab3166e34f888": {
      "model_module": "@jupyter-widgets/base",
      "model_module_version": "2.0.0",
      "model_name": "LayoutModel",
      "state": {}
     },
     "95d4b6002b9f4551b1b8d29c543df3d1": {
      "model_module": "@jupyter-widgets/base",
      "model_module_version": "2.0.0",
      "model_name": "LayoutModel",
      "state": {}
     },
     "9750fb2bd75144e9b3e67cf03941329d": {
      "model_module": "@jupyter-widgets/controls",
      "model_module_version": "2.0.0",
      "model_name": "HBoxModel",
      "state": {
       "children": [
        "IPY_MODEL_a152f4acf171474ab0a2cae13fb06e7d",
        "IPY_MODEL_12ea56d8848d48e39056a90382ec3b69",
        "IPY_MODEL_7972ee1f17e146f386cd84aec2139757"
       ],
       "layout": "IPY_MODEL_15e5ddc39059407d8146f89f8ff64ca7"
      }
     },
     "9926b10166c84664a62cdb7927f75187": {
      "model_module": "@jupyter-widgets/controls",
      "model_module_version": "2.0.0",
      "model_name": "HTMLModel",
      "state": {
       "layout": "IPY_MODEL_928e063efe314a5da3ea5936555a60b4",
       "style": "IPY_MODEL_b7472a56626d4b76833d27a17c8ae416",
       "value": "  0%"
      }
     },
     "99d0f8e4622245e8bff0d321581c73b6": {
      "model_module": "@jupyter-widgets/controls",
      "model_module_version": "2.0.0",
      "model_name": "VBoxModel",
      "state": {
       "children": [
        "IPY_MODEL_de7128574aa64e2bbb0c7cb9e03f06b7",
        "IPY_MODEL_7a3c6111792345838a0cf3efd26a9a9f"
       ],
       "layout": "IPY_MODEL_beb65f24170e41cdb415417e845434ce"
      }
     },
     "9a86422ee0134ad8bd9c5da8ea38f4ff": {
      "model_module": "@jupyter-widgets/controls",
      "model_module_version": "2.0.0",
      "model_name": "HBoxModel",
      "state": {
       "children": [
        "IPY_MODEL_f42ce11fa84840039c43b28fae1d8f71",
        "IPY_MODEL_0ba4c224355b44728ef31908fae726d5",
        "IPY_MODEL_b9385074b32144e09572995c3d7a137a"
       ],
       "layout": "IPY_MODEL_f37cca9a6a7f409ea0b9e2cd606d4258"
      }
     },
     "9ac4273192944923ba8fbdfece87bacf": {
      "model_module": "@jupyter-widgets/base",
      "model_module_version": "2.0.0",
      "model_name": "LayoutModel",
      "state": {}
     },
     "9b4ac97fad154fbea8eae893d5905b28": {
      "model_module": "@jupyter-widgets/base",
      "model_module_version": "2.0.0",
      "model_name": "LayoutModel",
      "state": {}
     },
     "9ba3963bd7914f53983965ab7e718f73": {
      "model_module": "@jupyter-widgets/base",
      "model_module_version": "2.0.0",
      "model_name": "LayoutModel",
      "state": {}
     },
     "9bc38fb5a4124520bdf1cb2a30a9e6c7": {
      "model_module": "@jupyter-widgets/base",
      "model_module_version": "2.0.0",
      "model_name": "LayoutModel",
      "state": {}
     },
     "9c5fe5a1445b4e4dbeb018a332b11758": {
      "model_module": "@jupyter-widgets/controls",
      "model_module_version": "2.0.0",
      "model_name": "HTMLModel",
      "state": {
       "layout": "IPY_MODEL_c8473156b880496b987f204a7a92079c",
       "style": "IPY_MODEL_686016559f87453ab40c4b5dcc040e6d",
       "value": " 0/939 [00:00&lt;?, ?it/s]"
      }
     },
     "9d1d383df8864bc6968019f4a14af0fd": {
      "model_module": "@jupyter-widgets/base",
      "model_module_version": "2.0.0",
      "model_name": "LayoutModel",
      "state": {}
     },
     "9e578980b18a4b82b2b3a2138bec8bee": {
      "model_module": "@jupyter-widgets/controls",
      "model_module_version": "2.0.0",
      "model_name": "FloatProgressModel",
      "state": {
       "layout": "IPY_MODEL_94077fa0471849caa13ab3166e34f888",
       "max": 1875,
       "style": "IPY_MODEL_521a98e442174d5f90f5f5a00551ee01"
      }
     },
     "9f868a73aab4448ca63efaf39206970e": {
      "model_module": "@jupyter-widgets/base",
      "model_module_version": "2.0.0",
      "model_name": "LayoutModel",
      "state": {}
     },
     "9fe33b2d57714091a3db1bb7d7487a26": {
      "model_module": "@jupyter-widgets/controls",
      "model_module_version": "2.0.0",
      "model_name": "HTMLStyleModel",
      "state": {
       "description_width": "",
       "font_size": null,
       "text_color": null
      }
     },
     "a110ca47215f4f0598f95b7c5ebcc6c4": {
      "model_module": "@jupyter-widgets/controls",
      "model_module_version": "2.0.0",
      "model_name": "ProgressStyleModel",
      "state": {
       "description_width": ""
      }
     },
     "a152f4acf171474ab0a2cae13fb06e7d": {
      "model_module": "@jupyter-widgets/controls",
      "model_module_version": "2.0.0",
      "model_name": "HTMLModel",
      "state": {
       "layout": "IPY_MODEL_00d919201436448b9712d4fc25221f4f",
       "style": "IPY_MODEL_915a4ec5ac344321b589a1205ce19c67",
       "value": "Loading dataset from disk: 100%"
      }
     },
     "a2f5b6b014704eb09bb8e0fa8a3c332f": {
      "model_module": "@jupyter-widgets/controls",
      "model_module_version": "2.0.0",
      "model_name": "ProgressStyleModel",
      "state": {
       "description_width": ""
      }
     },
     "a53cd5394bad43fa8cc4f92c2e46effc": {
      "model_module": "@jupyter-widgets/controls",
      "model_module_version": "2.0.0",
      "model_name": "ProgressStyleModel",
      "state": {
       "description_width": ""
      }
     },
     "a571ca3090554143a94a7aa0e7a0d48d": {
      "model_module": "@jupyter-widgets/controls",
      "model_module_version": "2.0.0",
      "model_name": "HTMLStyleModel",
      "state": {
       "description_width": "",
       "font_size": null,
       "text_color": null
      }
     },
     "a659477d3a524f4b92946dbdac1a599d": {
      "model_module": "@jupyter-widgets/controls",
      "model_module_version": "2.0.0",
      "model_name": "FloatProgressModel",
      "state": {
       "layout": "IPY_MODEL_4d8a0b23e01e4ac7b4555b36ecb1bb31",
       "max": 1,
       "style": "IPY_MODEL_3689d8b512304a649e6d3b495154a15e"
      }
     },
     "a66452e15ae24f79bf727f568ef9f115": {
      "model_module": "@jupyter-widgets/base",
      "model_module_version": "2.0.0",
      "model_name": "LayoutModel",
      "state": {}
     },
     "a8f40b5a531b4f17a6695bae813af931": {
      "model_module": "@jupyter-widgets/controls",
      "model_module_version": "2.0.0",
      "model_name": "FloatProgressModel",
      "state": {
       "bar_style": "success",
       "layout": "IPY_MODEL_922f9ba5dc9d4905a5b8efc56789dc3f",
       "max": 21,
       "style": "IPY_MODEL_60b06875f8bf4d59a60b19efc805481c",
       "value": 21
      }
     },
     "ab9c32a84635442c8b32c5c7da91c7e5": {
      "model_module": "@jupyter-widgets/controls",
      "model_module_version": "2.0.0",
      "model_name": "FloatProgressModel",
      "state": {
       "layout": "IPY_MODEL_3fbea6dfb55648eb840c2e69954f0bcd",
       "max": 1,
       "style": "IPY_MODEL_0d377b71124f40358a7cc9c0fb763e97"
      }
     },
     "abfc40c618fb46c0b56a1cd9dc0ce55a": {
      "model_module": "@jupyter-widgets/controls",
      "model_module_version": "2.0.0",
      "model_name": "LabelStyleModel",
      "state": {
       "description_width": "",
       "font_family": null,
       "font_size": null,
       "font_style": null,
       "font_variant": null,
       "font_weight": null,
       "text_color": null,
       "text_decoration": null
      }
     },
     "ad6bb230e4a742cea4ea50d7d068ccfc": {
      "model_module": "@jupyter-widgets/base",
      "model_module_version": "2.0.0",
      "model_name": "LayoutModel",
      "state": {}
     },
     "ae61de2180cd479e89ed0061dacddd26": {
      "model_module": "@jupyter-widgets/base",
      "model_module_version": "2.0.0",
      "model_name": "LayoutModel",
      "state": {}
     },
     "ae70968deb5e462da7c40f228f33a3ce": {
      "model_module": "@jupyter-widgets/controls",
      "model_module_version": "2.0.0",
      "model_name": "ProgressStyleModel",
      "state": {
       "description_width": ""
      }
     },
     "afab8617737f436a8c449f3edec3a6dd": {
      "model_module": "@jupyter-widgets/controls",
      "model_module_version": "2.0.0",
      "model_name": "HTMLStyleModel",
      "state": {
       "description_width": "",
       "font_size": null,
       "text_color": null
      }
     },
     "b094f991ace74022ae2a15cd99486f03": {
      "model_module": "@jupyter-widgets/base",
      "model_module_version": "2.0.0",
      "model_name": "LayoutModel",
      "state": {}
     },
     "b246fe6d300c4e67a437b572ddfb0b03": {
      "model_module": "@jupyter-widgets/base",
      "model_module_version": "2.0.0",
      "model_name": "LayoutModel",
      "state": {}
     },
     "b2b9d39ec58f4872891adba365b79198": {
      "model_module": "@jupyter-widgets/base",
      "model_module_version": "2.0.0",
      "model_name": "LayoutModel",
      "state": {}
     },
     "b338f4f28d044895a575b073e75a754e": {
      "model_module": "@jupyter-widgets/base",
      "model_module_version": "2.0.0",
      "model_name": "LayoutModel",
      "state": {}
     },
     "b3fcd9476e5c464cb5bf3575c55908dd": {
      "model_module": "@jupyter-widgets/controls",
      "model_module_version": "2.0.0",
      "model_name": "FloatProgressModel",
      "state": {
       "bar_style": "success",
       "layout": "IPY_MODEL_fc75faac298c481894b65c7aba38c856",
       "max": 158,
       "style": "IPY_MODEL_ae70968deb5e462da7c40f228f33a3ce",
       "value": 158
      }
     },
     "b7207979335646b1976ce40ea2d47275": {
      "model_module": "@jupyter-widgets/controls",
      "model_module_version": "2.0.0",
      "model_name": "HTMLStyleModel",
      "state": {
       "description_width": "",
       "font_size": null,
       "text_color": null
      }
     },
     "b7472a56626d4b76833d27a17c8ae416": {
      "model_module": "@jupyter-widgets/controls",
      "model_module_version": "2.0.0",
      "model_name": "HTMLStyleModel",
      "state": {
       "description_width": "",
       "font_size": null,
       "text_color": null
      }
     },
     "b8bd75d497d04f95821bbc850602022e": {
      "model_module": "@jupyter-widgets/controls",
      "model_module_version": "2.0.0",
      "model_name": "FloatProgressModel",
      "state": {
       "bar_style": "success",
       "layout": "IPY_MODEL_28a6758b78ae441fbc45214d09627698",
       "max": 19,
       "style": "IPY_MODEL_507e1cd382da4534af8f1bc664542efc",
       "value": 19
      }
     },
     "b9385074b32144e09572995c3d7a137a": {
      "model_module": "@jupyter-widgets/controls",
      "model_module_version": "2.0.0",
      "model_name": "HTMLModel",
      "state": {
       "layout": "IPY_MODEL_9bc38fb5a4124520bdf1cb2a30a9e6c7",
       "style": "IPY_MODEL_9fe33b2d57714091a3db1bb7d7487a26",
       "value": " 47/7500 [08:30&lt;16:23:15,  7.92s/it]"
      }
     },
     "b9485cbd74b74daf8d41213d5752e55b": {
      "model_module": "@jupyter-widgets/controls",
      "model_module_version": "2.0.0",
      "model_name": "FloatProgressModel",
      "state": {
       "bar_style": "success",
       "layout": "IPY_MODEL_fb162e9f66244ff48f8c076270d2ea3d",
       "max": 19,
       "style": "IPY_MODEL_4b738d78951b42ef967942ccee6d65f5",
       "value": 19
      }
     },
     "b98bfab69b1f4f2d9b158bcfc5a7544e": {
      "model_module": "@jupyter-widgets/controls",
      "model_module_version": "2.0.0",
      "model_name": "ProgressStyleModel",
      "state": {
       "description_width": ""
      }
     },
     "bae527acb7b142cabda0c736606e184f": {
      "model_module": "@jupyter-widgets/controls",
      "model_module_version": "2.0.0",
      "model_name": "HTMLStyleModel",
      "state": {
       "description_width": "",
       "font_size": null,
       "text_color": null
      }
     },
     "bb447552b1ca46b8ab658777ed7f0cbf": {
      "model_module": "@jupyter-widgets/base",
      "model_module_version": "2.0.0",
      "model_name": "LayoutModel",
      "state": {}
     },
     "bbf69a25d21f4296bec8bea4e28636fe": {
      "model_module": "@jupyter-widgets/base",
      "model_module_version": "2.0.0",
      "model_name": "LayoutModel",
      "state": {}
     },
     "bc614f1292394ef8a76b67c4519fd37e": {
      "model_module": "@jupyter-widgets/controls",
      "model_module_version": "2.0.0",
      "model_name": "FloatProgressModel",
      "state": {
       "bar_style": "success",
       "layout": "IPY_MODEL_5fd9fa418e7b4aa69b5c8b2b204f10be",
       "max": 21,
       "style": "IPY_MODEL_a110ca47215f4f0598f95b7c5ebcc6c4",
       "value": 21
      }
     },
     "bc7b5bbf18da4e25abf80ec78d1eb5d5": {
      "model_module": "@jupyter-widgets/controls",
      "model_module_version": "2.0.0",
      "model_name": "HTMLStyleModel",
      "state": {
       "description_width": "",
       "font_size": null,
       "text_color": null
      }
     },
     "bd0a1b9871644b29bd6fa659deda19f5": {
      "model_module": "@jupyter-widgets/base",
      "model_module_version": "2.0.0",
      "model_name": "LayoutModel",
      "state": {}
     },
     "bd993c6fa9ef4d368b074de57169e532": {
      "model_module": "@jupyter-widgets/base",
      "model_module_version": "2.0.0",
      "model_name": "LayoutModel",
      "state": {}
     },
     "beb65f24170e41cdb415417e845434ce": {
      "model_module": "@jupyter-widgets/base",
      "model_module_version": "2.0.0",
      "model_name": "LayoutModel",
      "state": {}
     },
     "bf22b70778b04b39b46b1d06cf0025ef": {
      "model_module": "@jupyter-widgets/controls",
      "model_module_version": "2.0.0",
      "model_name": "VBoxModel",
      "state": {
       "children": [
        "IPY_MODEL_53666540e216464d898ba914f24df6fd",
        "IPY_MODEL_f89e037bf69544af8f36c9977ab979d9"
       ],
       "layout": "IPY_MODEL_254e6e7f594b4ea4bbc75b13529d9a22"
      }
     },
     "c1afef312c4c41339981c905cba84ece": {
      "model_module": "@jupyter-widgets/base",
      "model_module_version": "2.0.0",
      "model_name": "LayoutModel",
      "state": {}
     },
     "c1cdb231c12d485ba387d4666b437e1f": {
      "model_module": "@jupyter-widgets/base",
      "model_module_version": "2.0.0",
      "model_name": "LayoutModel",
      "state": {}
     },
     "c284cc8de20e4941a08e9263400b0cf7": {
      "model_module": "@jupyter-widgets/controls",
      "model_module_version": "2.0.0",
      "model_name": "HTMLModel",
      "state": {
       "layout": "IPY_MODEL_a66452e15ae24f79bf727f568ef9f115",
       "style": "IPY_MODEL_478fb0c6f83a45d2b992a0dcc517eac3",
       "value": " 158/158 [00:00&lt;00:00, 1947.08it/s]"
      }
     },
     "c416a80d016a4579b0e6b8cb68c5fedc": {
      "model_module": "@jupyter-widgets/controls",
      "model_module_version": "2.0.0",
      "model_name": "LabelStyleModel",
      "state": {
       "description_width": "",
       "font_family": null,
       "font_size": null,
       "font_style": null,
       "font_variant": null,
       "font_weight": null,
       "text_color": null,
       "text_decoration": null
      }
     },
     "c5ea21464ecb4bb4a5bdceea3ad7714d": {
      "model_module": "@jupyter-widgets/controls",
      "model_module_version": "2.0.0",
      "model_name": "FloatProgressModel",
      "state": {
       "layout": "IPY_MODEL_f9d730b0d2464d91af1340bf2c6d3a47",
       "max": 939,
       "style": "IPY_MODEL_b98bfab69b1f4f2d9b158bcfc5a7544e"
      }
     },
     "c64e75c36c78410e97792472c52efa5c": {
      "model_module": "@jupyter-widgets/base",
      "model_module_version": "2.0.0",
      "model_name": "LayoutModel",
      "state": {}
     },
     "c802133ce9254275a44d066b59932361": {
      "model_module": "@jupyter-widgets/controls",
      "model_module_version": "2.0.0",
      "model_name": "HTMLStyleModel",
      "state": {
       "description_width": "",
       "font_size": null,
       "text_color": null
      }
     },
     "c817d6489f2e4eb698dd175f001c3cb2": {
      "model_module": "@jupyter-widgets/base",
      "model_module_version": "2.0.0",
      "model_name": "LayoutModel",
      "state": {}
     },
     "c8473156b880496b987f204a7a92079c": {
      "model_module": "@jupyter-widgets/base",
      "model_module_version": "2.0.0",
      "model_name": "LayoutModel",
      "state": {}
     },
     "c996d5e105ac4e73ac074ea75c9d8560": {
      "model_module": "@jupyter-widgets/base",
      "model_module_version": "2.0.0",
      "model_name": "LayoutModel",
      "state": {}
     },
     "cbb173f0b0644c4890b73513b37ee357": {
      "model_module": "@jupyter-widgets/controls",
      "model_module_version": "2.0.0",
      "model_name": "HTMLModel",
      "state": {
       "layout": "IPY_MODEL_ad6bb230e4a742cea4ea50d7d068ccfc",
       "style": "IPY_MODEL_267df485bfb04cebad54c3009958612a",
       "value": "Loading dataset from disk: 100%"
      }
     },
     "cc1be5d42d284450a10d1c29232a7b76": {
      "model_module": "@jupyter-widgets/controls",
      "model_module_version": "2.0.0",
      "model_name": "HTMLStyleModel",
      "state": {
       "description_width": "",
       "font_size": null,
       "text_color": null
      }
     },
     "d03a09ce2dde44f5a99624cc09202f18": {
      "model_module": "@jupyter-widgets/controls",
      "model_module_version": "2.0.0",
      "model_name": "HTMLStyleModel",
      "state": {
       "description_width": "",
       "font_size": null,
       "text_color": null
      }
     },
     "d05fe47b861340f08d88cbfc8aca154f": {
      "model_module": "@jupyter-widgets/base",
      "model_module_version": "2.0.0",
      "model_name": "LayoutModel",
      "state": {}
     },
     "d1abcaf55be548038d729fb405586b1f": {
      "model_module": "@jupyter-widgets/controls",
      "model_module_version": "2.0.0",
      "model_name": "HTMLStyleModel",
      "state": {
       "description_width": "",
       "font_size": null,
       "text_color": null
      }
     },
     "d1f4a55aec1344be9ebc07b4a5280f7b": {
      "model_module": "@jupyter-widgets/controls",
      "model_module_version": "2.0.0",
      "model_name": "HTMLModel",
      "state": {
       "layout": "IPY_MODEL_e7fa467d385448e7bfc12aaa7b31ab12",
       "style": "IPY_MODEL_a571ca3090554143a94a7aa0e7a0d48d",
       "value": "Loading dataset from disk: 100%"
      }
     },
     "d235e9359e224952a51c288230746ea5": {
      "model_module": "@jupyter-widgets/controls",
      "model_module_version": "2.0.0",
      "model_name": "HBoxModel",
      "state": {
       "children": [
        "IPY_MODEL_d9a35606e0ab49ffbf33cb60df727b3d",
        "IPY_MODEL_9e578980b18a4b82b2b3a2138bec8bee",
        "IPY_MODEL_121345c8c68946a89d59313efa93db75"
       ],
       "layout": "IPY_MODEL_bb447552b1ca46b8ab658777ed7f0cbf"
      }
     },
     "d2ef60fbf8cb4380b3c540394923429d": {
      "model_module": "@jupyter-widgets/controls",
      "model_module_version": "2.0.0",
      "model_name": "HBoxModel",
      "state": {
       "children": [
        "IPY_MODEL_0667e3d92be8480594b3928b8f3a329c",
        "IPY_MODEL_16a3f93f21134352a7231a498298dbbd",
        "IPY_MODEL_0585da0961a841ef9b05870e2503b09a"
       ],
       "layout": "IPY_MODEL_9ac4273192944923ba8fbdfece87bacf"
      }
     },
     "d435c39a882c4510aa5ed2037ecb589e": {
      "model_module": "@jupyter-widgets/base",
      "model_module_version": "2.0.0",
      "model_name": "LayoutModel",
      "state": {}
     },
     "d478a0829bdf470693d5310c46bd9898": {
      "model_module": "@jupyter-widgets/controls",
      "model_module_version": "2.0.0",
      "model_name": "ProgressStyleModel",
      "state": {
       "description_width": ""
      }
     },
     "d54c0ad4a6c04ca99963bc5d87754906": {
      "model_module": "@jupyter-widgets/base",
      "model_module_version": "2.0.0",
      "model_name": "LayoutModel",
      "state": {}
     },
     "d60eb551f61f4ea6b0413c709be76c8a": {
      "model_module": "@jupyter-widgets/controls",
      "model_module_version": "2.0.0",
      "model_name": "HTMLModel",
      "state": {
       "layout": "IPY_MODEL_f7fcbe7f290d433f9c2f1dad94cee31e",
       "style": "IPY_MODEL_2e8e4648f23b4834bcec362f81d4a9f3",
       "value": "Loading dataset from disk: 100%"
      }
     },
     "d6b96d85337044618379d60c23b46520": {
      "model_module": "@jupyter-widgets/controls",
      "model_module_version": "2.0.0",
      "model_name": "FloatProgressModel",
      "state": {
       "layout": "IPY_MODEL_bd0a1b9871644b29bd6fa659deda19f5",
       "max": 7500,
       "style": "IPY_MODEL_7cae3ed28f2743d2a22e3c9a878ff27e",
       "value": 47
      }
     },
     "d7d0cc3d1dc54484b86c39fc86a4f588": {
      "model_module": "@jupyter-widgets/controls",
      "model_module_version": "2.0.0",
      "model_name": "HTMLModel",
      "state": {
       "layout": "IPY_MODEL_d869dde5f765403bb5737fe1393ec382",
       "style": "IPY_MODEL_db865b8a248a414f900d68200040812a",
       "value": "  1%"
      }
     },
     "d7d2e26af3014b6f8e1d24e282e90b8e": {
      "model_module": "@jupyter-widgets/controls",
      "model_module_version": "2.0.0",
      "model_name": "HTMLModel",
      "state": {
       "layout": "IPY_MODEL_34c042c6c98a4894a9d08ccde10056d4",
       "style": "IPY_MODEL_b7207979335646b1976ce40ea2d47275",
       "value": " 0/939 [00:00&lt;?, ?it/s]"
      }
     },
     "d800cf5426264b119665f81466d25a76": {
      "model_module": "@jupyter-widgets/base",
      "model_module_version": "2.0.0",
      "model_name": "LayoutModel",
      "state": {}
     },
     "d869dde5f765403bb5737fe1393ec382": {
      "model_module": "@jupyter-widgets/base",
      "model_module_version": "2.0.0",
      "model_name": "LayoutModel",
      "state": {}
     },
     "d89914590015425a8c1a9c7b4d643091": {
      "model_module": "@jupyter-widgets/controls",
      "model_module_version": "2.0.0",
      "model_name": "HTMLStyleModel",
      "state": {
       "description_width": "",
       "font_size": null,
       "text_color": null
      }
     },
     "d8e302af2c3a45b99b4a5d1809152287": {
      "model_module": "@jupyter-widgets/controls",
      "model_module_version": "2.0.0",
      "model_name": "ProgressStyleModel",
      "state": {
       "description_width": ""
      }
     },
     "d9a35606e0ab49ffbf33cb60df727b3d": {
      "model_module": "@jupyter-widgets/controls",
      "model_module_version": "2.0.0",
      "model_name": "HTMLModel",
      "state": {
       "layout": "IPY_MODEL_46d6bad3dcec4701a4bb9bc46cd03a70",
       "style": "IPY_MODEL_8232b83f3253485188358574edc5bb48",
       "value": "  0%"
      }
     },
     "da25a48249c443baba308f84ec3a250a": {
      "model_module": "@jupyter-widgets/controls",
      "model_module_version": "2.0.0",
      "model_name": "HBoxModel",
      "state": {
       "children": [
        "IPY_MODEL_19cbaca58ef845118fe248b1a081ae86",
        "IPY_MODEL_b8bd75d497d04f95821bbc850602022e",
        "IPY_MODEL_e9922bfb7a524f85a0444f5cc2b6488b"
       ],
       "layout": "IPY_MODEL_f0259ec97a5242d5aafee83a7834fe83"
      }
     },
     "da4ef394b1bf4dba8f08d07be5488bd5": {
      "model_module": "@jupyter-widgets/base",
      "model_module_version": "2.0.0",
      "model_name": "LayoutModel",
      "state": {}
     },
     "db865b8a248a414f900d68200040812a": {
      "model_module": "@jupyter-widgets/controls",
      "model_module_version": "2.0.0",
      "model_name": "HTMLStyleModel",
      "state": {
       "description_width": "",
       "font_size": null,
       "text_color": null
      }
     },
     "dbf85653f34248bc87b1ad9b09600ff9": {
      "model_module": "@jupyter-widgets/controls",
      "model_module_version": "2.0.0",
      "model_name": "FloatProgressModel",
      "state": {
       "bar_style": "success",
       "layout": "IPY_MODEL_06f4a4d77bc34fa080a59495066d9211",
       "max": 21,
       "style": "IPY_MODEL_808e6c4879424e7fa1ab51c8ea229d4e",
       "value": 21
      }
     },
     "dcfcbf69df1a444db748d325356db8ab": {
      "model_module": "@jupyter-widgets/controls",
      "model_module_version": "2.0.0",
      "model_name": "HBoxModel",
      "state": {
       "children": [
        "IPY_MODEL_321f465848f44a328d2579a2d15cb1ac",
        "IPY_MODEL_b3fcd9476e5c464cb5bf3575c55908dd",
        "IPY_MODEL_39e10c943c5d4fbe95cca7aaaf154e51"
       ],
       "layout": "IPY_MODEL_d05fe47b861340f08d88cbfc8aca154f"
      }
     },
     "dd2a09ff4c394d1dbbbe786d5959b38f": {
      "model_module": "@jupyter-widgets/controls",
      "model_module_version": "2.0.0",
      "model_name": "HTMLModel",
      "state": {
       "layout": "IPY_MODEL_fb018d88921649868fa1221c4c1d374e",
       "style": "IPY_MODEL_bae527acb7b142cabda0c736606e184f",
       "value": " 47/7500 [08:42&lt;17:00:40,  8.22s/it]"
      }
     },
     "ddaf0267ce524f31b08eb45ae10b7b7d": {
      "model_module": "@jupyter-widgets/controls",
      "model_module_version": "2.0.0",
      "model_name": "HBoxModel",
      "state": {
       "children": [
        "IPY_MODEL_d60eb551f61f4ea6b0413c709be76c8a",
        "IPY_MODEL_16278bc3fd2d489a84b5ce22c1b83474",
        "IPY_MODEL_c284cc8de20e4941a08e9263400b0cf7"
       ],
       "layout": "IPY_MODEL_c1afef312c4c41339981c905cba84ece"
      }
     },
     "de7128574aa64e2bbb0c7cb9e03f06b7": {
      "model_module": "@jupyter-widgets/controls",
      "model_module_version": "2.0.0",
      "model_name": "LabelModel",
      "state": {
       "layout": "IPY_MODEL_da4ef394b1bf4dba8f08d07be5488bd5",
       "style": "IPY_MODEL_73fd91a040ab47f696dc03341df35687"
      }
     },
     "dfcc2afca3a94007944a295602ca44e3": {
      "model_module": "@jupyter-widgets/base",
      "model_module_version": "2.0.0",
      "model_name": "LayoutModel",
      "state": {}
     },
     "e050152b6efd440a93d45aa1028e3d9d": {
      "model_module": "@jupyter-widgets/base",
      "model_module_version": "2.0.0",
      "model_name": "LayoutModel",
      "state": {}
     },
     "e21d94766aa54c2ea93996ef10cfcb3b": {
      "model_module": "@jupyter-widgets/controls",
      "model_module_version": "2.0.0",
      "model_name": "HTMLModel",
      "state": {
       "layout": "IPY_MODEL_03e07e2487704286a709f3efd68701f8",
       "style": "IPY_MODEL_125f2900a94b4f6e859f548a1beb37be",
       "value": "Loading dataset from disk: 100%"
      }
     },
     "e24bd0fd271c430c8ecba66ca15cb87f": {
      "model_module": "@jupyter-widgets/controls",
      "model_module_version": "2.0.0",
      "model_name": "HTMLStyleModel",
      "state": {
       "description_width": "",
       "font_size": null,
       "text_color": null
      }
     },
     "e43607fc005741678753899b905b1926": {
      "model_module": "@jupyter-widgets/base",
      "model_module_version": "2.0.0",
      "model_name": "LayoutModel",
      "state": {}
     },
     "e510268e962d4d01b76056f4628bc66b": {
      "model_module": "@jupyter-widgets/base",
      "model_module_version": "2.0.0",
      "model_name": "LayoutModel",
      "state": {}
     },
     "e6bc5cac20964973b2f199ea76dde169": {
      "model_module": "@jupyter-widgets/controls",
      "model_module_version": "2.0.0",
      "model_name": "HTMLModel",
      "state": {
       "layout": "IPY_MODEL_d800cf5426264b119665f81466d25a76",
       "style": "IPY_MODEL_7736162a7ef043efad8750b669ee2d49",
       "value": " 0/939 [00:13&lt;?, ?it/s]"
      }
     },
     "e77d8d8f208b496fbf020c23a20d2a77": {
      "model_module": "@jupyter-widgets/controls",
      "model_module_version": "2.0.0",
      "model_name": "HTMLModel",
      "state": {
       "layout": "IPY_MODEL_4678db1db7b549e0baa847560d61d00b",
       "style": "IPY_MODEL_bc7b5bbf18da4e25abf80ec78d1eb5d5",
       "value": "  4%"
      }
     },
     "e7d3049038194e498a37720f09390f45": {
      "model_module": "@jupyter-widgets/controls",
      "model_module_version": "2.0.0",
      "model_name": "HTMLStyleModel",
      "state": {
       "description_width": "",
       "font_size": null,
       "text_color": null
      }
     },
     "e7fa467d385448e7bfc12aaa7b31ab12": {
      "model_module": "@jupyter-widgets/base",
      "model_module_version": "2.0.0",
      "model_name": "LayoutModel",
      "state": {}
     },
     "e87881a891e346a9b001f1ff9bc8d374": {
      "model_module": "@jupyter-widgets/base",
      "model_module_version": "2.0.0",
      "model_name": "LayoutModel",
      "state": {}
     },
     "e8b10e0cb70a420087f70cc9dcb58dbd": {
      "model_module": "@jupyter-widgets/base",
      "model_module_version": "2.0.0",
      "model_name": "LayoutModel",
      "state": {}
     },
     "e9922bfb7a524f85a0444f5cc2b6488b": {
      "model_module": "@jupyter-widgets/controls",
      "model_module_version": "2.0.0",
      "model_name": "HTMLModel",
      "state": {
       "layout": "IPY_MODEL_673b71f427e24b67aed28ec9895c54b1",
       "style": "IPY_MODEL_d89914590015425a8c1a9c7b4d643091",
       "value": " 19/19 [00:00&lt;00:00, 2194.34it/s]"
      }
     },
     "eb62167f4e824339b63892a8bb86ff9f": {
      "model_module": "@jupyter-widgets/base",
      "model_module_version": "2.0.0",
      "model_name": "LayoutModel",
      "state": {}
     },
     "eb7f4b16428e4f808aa53244bd6e94fd": {
      "model_module": "@jupyter-widgets/controls",
      "model_module_version": "2.0.0",
      "model_name": "HTMLStyleModel",
      "state": {
       "description_width": "",
       "font_size": null,
       "text_color": null
      }
     },
     "ed5a6980e0c345e585893a9e691c681c": {
      "model_module": "@jupyter-widgets/controls",
      "model_module_version": "2.0.0",
      "model_name": "FloatProgressModel",
      "state": {
       "bar_style": "danger",
       "layout": "IPY_MODEL_c64e75c36c78410e97792472c52efa5c",
       "max": 939,
       "style": "IPY_MODEL_59083600545d4b2fa88cbd37616612fb"
      }
     },
     "ed7a7d7b5bc446dabbb80371fa519bbb": {
      "model_module": "@jupyter-widgets/controls",
      "model_module_version": "2.0.0",
      "model_name": "HBoxModel",
      "state": {
       "children": [
        "IPY_MODEL_d7d0cc3d1dc54484b86c39fc86a4f588",
        "IPY_MODEL_d6b96d85337044618379d60c23b46520",
        "IPY_MODEL_dd2a09ff4c394d1dbbbe786d5959b38f"
       ],
       "layout": "IPY_MODEL_e43607fc005741678753899b905b1926"
      }
     },
     "f0259ec97a5242d5aafee83a7834fe83": {
      "model_module": "@jupyter-widgets/base",
      "model_module_version": "2.0.0",
      "model_name": "LayoutModel",
      "state": {}
     },
     "f37cca9a6a7f409ea0b9e2cd606d4258": {
      "model_module": "@jupyter-widgets/base",
      "model_module_version": "2.0.0",
      "model_name": "LayoutModel",
      "state": {}
     },
     "f42ce11fa84840039c43b28fae1d8f71": {
      "model_module": "@jupyter-widgets/controls",
      "model_module_version": "2.0.0",
      "model_name": "HTMLModel",
      "state": {
       "layout": "IPY_MODEL_9f868a73aab4448ca63efaf39206970e",
       "style": "IPY_MODEL_557ca2bd626647259a40e495461d843d",
       "value": "  1%"
      }
     },
     "f527ff10fa6a464dbd2b3dd9ebb27c78": {
      "model_module": "@jupyter-widgets/controls",
      "model_module_version": "2.0.0",
      "model_name": "HTMLModel",
      "state": {
       "layout": "IPY_MODEL_2f7c16379c50412a878aa1562602a4d1",
       "style": "IPY_MODEL_8c07e89187ea4c35a8e1957f9f7b55c8",
       "value": "Loading dataset from disk: 100%"
      }
     },
     "f6ab426a9a9c44deacbe4a1605285f43": {
      "model_module": "@jupyter-widgets/controls",
      "model_module_version": "2.0.0",
      "model_name": "ProgressStyleModel",
      "state": {
       "description_width": ""
      }
     },
     "f7fcbe7f290d433f9c2f1dad94cee31e": {
      "model_module": "@jupyter-widgets/base",
      "model_module_version": "2.0.0",
      "model_name": "LayoutModel",
      "state": {}
     },
     "f89e037bf69544af8f36c9977ab979d9": {
      "model_module": "@jupyter-widgets/controls",
      "model_module_version": "2.0.0",
      "model_name": "FloatProgressModel",
      "state": {
       "layout": "IPY_MODEL_529a2017378846a88c11b7d321946913",
       "max": 1,
       "style": "IPY_MODEL_6b9b1eece2b0461aa38df8bd64367888"
      }
     },
     "f9d730b0d2464d91af1340bf2c6d3a47": {
      "model_module": "@jupyter-widgets/base",
      "model_module_version": "2.0.0",
      "model_name": "LayoutModel",
      "state": {}
     },
     "fa11e842e57744ff8cd178aee9912938": {
      "model_module": "@jupyter-widgets/base",
      "model_module_version": "2.0.0",
      "model_name": "LayoutModel",
      "state": {}
     },
     "fb018d88921649868fa1221c4c1d374e": {
      "model_module": "@jupyter-widgets/base",
      "model_module_version": "2.0.0",
      "model_name": "LayoutModel",
      "state": {}
     },
     "fb162e9f66244ff48f8c076270d2ea3d": {
      "model_module": "@jupyter-widgets/base",
      "model_module_version": "2.0.0",
      "model_name": "LayoutModel",
      "state": {}
     },
     "fb97be5aa1814e6fa82e5150d1a3c9eb": {
      "model_module": "@jupyter-widgets/controls",
      "model_module_version": "2.0.0",
      "model_name": "ProgressStyleModel",
      "state": {
       "description_width": ""
      }
     },
     "fc3120064f6943c783a301dc3081366d": {
      "model_module": "@jupyter-widgets/controls",
      "model_module_version": "2.0.0",
      "model_name": "ProgressStyleModel",
      "state": {
       "description_width": ""
      }
     },
     "fc75faac298c481894b65c7aba38c856": {
      "model_module": "@jupyter-widgets/base",
      "model_module_version": "2.0.0",
      "model_name": "LayoutModel",
      "state": {}
     },
     "fdec7e1676c242c68b842985775de2f6": {
      "model_module": "@jupyter-widgets/controls",
      "model_module_version": "2.0.0",
      "model_name": "HTMLStyleModel",
      "state": {
       "description_width": "",
       "font_size": null,
       "text_color": null
      }
     },
     "feb2471e46f9449086c466cab6106a2b": {
      "model_module": "@jupyter-widgets/controls",
      "model_module_version": "2.0.0",
      "model_name": "LabelStyleModel",
      "state": {
       "description_width": "",
       "font_family": null,
       "font_size": null,
       "font_style": null,
       "font_variant": null,
       "font_weight": null,
       "text_color": null,
       "text_decoration": null
      }
     },
     "fefe4607b8b949cfa198edf9d4b858d2": {
      "model_module": "@jupyter-widgets/controls",
      "model_module_version": "2.0.0",
      "model_name": "HTMLModel",
      "state": {
       "layout": "IPY_MODEL_95d4b6002b9f4551b1b8d29c543df3d1",
       "style": "IPY_MODEL_c802133ce9254275a44d066b59932361",
       "value": " 21/21 [00:00&lt;00:00, 1643.29it/s]"
      }
     },
     "ff45712cba334424bc6c059e505b93ff": {
      "model_module": "@jupyter-widgets/base",
      "model_module_version": "2.0.0",
      "model_name": "LayoutModel",
      "state": {}
     }
    },
    "version_major": 2,
    "version_minor": 0
   }
  }
 },
 "nbformat": 4,
 "nbformat_minor": 5
}
