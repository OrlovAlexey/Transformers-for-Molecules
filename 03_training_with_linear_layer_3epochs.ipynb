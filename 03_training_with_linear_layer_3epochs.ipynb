{
 "cells": [
  {
   "cell_type": "code",
   "execution_count": 1,
   "id": "1d6f265e-e433-48e9-a783-950e8b12260c",
   "metadata": {
    "execution": {
     "iopub.execute_input": "2024-02-27T18:59:49.780387Z",
     "iopub.status.busy": "2024-02-27T18:59:49.780197Z",
     "iopub.status.idle": "2024-02-27T18:59:51.456489Z",
     "shell.execute_reply": "2024-02-27T18:59:51.455616Z"
    }
   },
   "outputs": [],
   "source": [
    "import torch\n",
    "import pandas as pd\n",
    "from pathlib import Path\n",
    "from tqdm.auto import tqdm\n",
    "import numpy as np"
   ]
  },
  {
   "cell_type": "code",
   "execution_count": 2,
   "id": "cb87046b-24e4-4963-ace0-615a30c7ddeb",
   "metadata": {
    "execution": {
     "iopub.execute_input": "2024-02-27T18:59:51.459693Z",
     "iopub.status.busy": "2024-02-27T18:59:51.459376Z",
     "iopub.status.idle": "2024-02-27T18:59:51.462966Z",
     "shell.execute_reply": "2024-02-27T18:59:51.462469Z"
    }
   },
   "outputs": [],
   "source": [
    "filename = 'ecfp0'\n",
    "samples_count = '10M'\n",
    "model_name = f'molberto_{filename}_{samples_count}'"
   ]
  },
  {
   "cell_type": "code",
   "execution_count": 3,
   "id": "effd7294-42cf-4de5-91d4-d6ab3fec2127",
   "metadata": {
    "execution": {
     "iopub.execute_input": "2024-02-27T18:59:51.465868Z",
     "iopub.status.busy": "2024-02-27T18:59:51.465693Z",
     "iopub.status.idle": "2024-02-27T18:59:51.468643Z",
     "shell.execute_reply": "2024-02-27T18:59:51.468006Z"
    }
   },
   "outputs": [],
   "source": [
    "molecular_properties = ['Molecular Weight', 'Bioactivities', 'AlogP', 'Polar Surface Area', 'CX Acidic pKa', 'CX Basic pKa']"
   ]
  },
  {
   "cell_type": "markdown",
   "id": "827d58c5-eb7a-4420-b0db-f743e2167213",
   "metadata": {},
   "source": [
    "### Upload and Split Dataset"
   ]
  },
  {
   "cell_type": "code",
   "execution_count": 4,
   "id": "2d5561e6-2477-4ead-9fae-91cae781bfe5",
   "metadata": {
    "execution": {
     "iopub.execute_input": "2024-02-27T18:59:51.470973Z",
     "iopub.status.busy": "2024-02-27T18:59:51.470799Z",
     "iopub.status.idle": "2024-02-27T19:00:21.565681Z",
     "shell.execute_reply": "2024-02-27T19:00:21.564676Z"
    }
   },
   "outputs": [],
   "source": [
    "dataframe = pd.read_csv(\"data.csv\")"
   ]
  },
  {
   "cell_type": "code",
   "execution_count": 5,
   "id": "0acb3637-c146-45dc-a1d3-d9ef1363d2ad",
   "metadata": {
    "execution": {
     "iopub.execute_input": "2024-02-27T19:00:21.569486Z",
     "iopub.status.busy": "2024-02-27T19:00:21.569266Z",
     "iopub.status.idle": "2024-02-27T19:00:22.044642Z",
     "shell.execute_reply": "2024-02-27T19:00:22.043601Z"
    }
   },
   "outputs": [],
   "source": [
    "dataframe = dataframe.drop(columns=['Unnamed: 0', 'Smiles', 'ecfp2', 'ecfp3'])"
   ]
  },
  {
   "cell_type": "code",
   "execution_count": 6,
   "id": "cae64520-4a9c-453f-949a-737bbd58bc06",
   "metadata": {
    "execution": {
     "iopub.execute_input": "2024-02-27T19:00:22.047766Z",
     "iopub.status.busy": "2024-02-27T19:00:22.047538Z",
     "iopub.status.idle": "2024-02-27T19:00:22.051792Z",
     "shell.execute_reply": "2024-02-27T19:00:22.051094Z"
    }
   },
   "outputs": [],
   "source": [
    "def preprocess_data_dataset(df, column):\n",
    "    for row in tqdm(range(len(df))):\n",
    "        str_ints = eval(df.iloc[row][column])\n",
    "        str_fingerprint = ' '.join(str_ints)\n",
    "        df.at[row, column] = str_fingerprint"
   ]
  },
  {
   "cell_type": "code",
   "execution_count": 7,
   "id": "c1eb1370-13e9-4505-88da-b216213a873f",
   "metadata": {
    "execution": {
     "iopub.execute_input": "2024-02-27T19:00:22.054065Z",
     "iopub.status.busy": "2024-02-27T19:00:22.053885Z",
     "iopub.status.idle": "2024-02-27T19:04:29.012416Z",
     "shell.execute_reply": "2024-02-27T19:04:29.011556Z"
    }
   },
   "outputs": [
    {
     "data": {
      "application/vnd.jupyter.widget-view+json": {
       "model_id": "90680c4b2437445cae07cc936774f049",
       "version_major": 2,
       "version_minor": 0
      },
      "text/plain": [
       "  0%|          | 0/2372673 [00:00<?, ?it/s]"
      ]
     },
     "metadata": {},
     "output_type": "display_data"
    }
   ],
   "source": [
    "preprocess_data_dataset(dataframe, 'ecfp1')"
   ]
  },
  {
   "cell_type": "code",
   "execution_count": 8,
   "id": "3e9f902e-7691-4256-883a-bd70f484a5c4",
   "metadata": {
    "execution": {
     "iopub.execute_input": "2024-02-27T19:04:29.015549Z",
     "iopub.status.busy": "2024-02-27T19:04:29.015337Z",
     "iopub.status.idle": "2024-02-27T19:04:29.029264Z",
     "shell.execute_reply": "2024-02-27T19:04:29.028684Z"
    }
   },
   "outputs": [
    {
     "data": {
      "text/html": [
       "<div>\n",
       "<style scoped>\n",
       "    .dataframe tbody tr th:only-of-type {\n",
       "        vertical-align: middle;\n",
       "    }\n",
       "\n",
       "    .dataframe tbody tr th {\n",
       "        vertical-align: top;\n",
       "    }\n",
       "\n",
       "    .dataframe thead th {\n",
       "        text-align: right;\n",
       "    }\n",
       "</style>\n",
       "<table border=\"1\" class=\"dataframe\">\n",
       "  <thead>\n",
       "    <tr style=\"text-align: right;\">\n",
       "      <th></th>\n",
       "      <th>Molecular Weight</th>\n",
       "      <th>Bioactivities</th>\n",
       "      <th>AlogP</th>\n",
       "      <th>Polar Surface Area</th>\n",
       "      <th>CX Acidic pKa</th>\n",
       "      <th>CX Basic pKa</th>\n",
       "      <th>ecfp1</th>\n",
       "    </tr>\n",
       "  </thead>\n",
       "  <tbody>\n",
       "    <tr>\n",
       "      <th>0</th>\n",
       "      <td>415.99</td>\n",
       "      <td>6.0</td>\n",
       "      <td>4.09</td>\n",
       "      <td>56.15</td>\n",
       "      <td>NaN</td>\n",
       "      <td>NaN</td>\n",
       "      <td>2246728737 2245273601 1026928756 3217380708 20...</td>\n",
       "    </tr>\n",
       "    <tr>\n",
       "      <th>1</th>\n",
       "      <td>215.25</td>\n",
       "      <td>51.0</td>\n",
       "      <td>2.79</td>\n",
       "      <td>42.23</td>\n",
       "      <td>3.97</td>\n",
       "      <td>NaN</td>\n",
       "      <td>2246728737 3217380708 3218693969 3218693969 32...</td>\n",
       "    </tr>\n",
       "    <tr>\n",
       "      <th>2</th>\n",
       "      <td>475.94</td>\n",
       "      <td>2.0</td>\n",
       "      <td>6.00</td>\n",
       "      <td>37.39</td>\n",
       "      <td>NaN</td>\n",
       "      <td>7.76</td>\n",
       "      <td>882399112 3217380708 3218693969 3217380708 882...</td>\n",
       "    </tr>\n",
       "    <tr>\n",
       "      <th>3</th>\n",
       "      <td>548.59</td>\n",
       "      <td>1.0</td>\n",
       "      <td>6.37</td>\n",
       "      <td>186.56</td>\n",
       "      <td>6.08</td>\n",
       "      <td>2.29</td>\n",
       "      <td>2246728737 3217380708 3218693969 3217380708 32...</td>\n",
       "    </tr>\n",
       "    <tr>\n",
       "      <th>4</th>\n",
       "      <td>314.35</td>\n",
       "      <td>23.0</td>\n",
       "      <td>1.33</td>\n",
       "      <td>92.92</td>\n",
       "      <td>8.77</td>\n",
       "      <td>5.70</td>\n",
       "      <td>2246728737 3217380708 2041434490 3217380708 32...</td>\n",
       "    </tr>\n",
       "    <tr>\n",
       "      <th>...</th>\n",
       "      <td>...</td>\n",
       "      <td>...</td>\n",
       "      <td>...</td>\n",
       "      <td>...</td>\n",
       "      <td>...</td>\n",
       "      <td>...</td>\n",
       "      <td>...</td>\n",
       "    </tr>\n",
       "    <tr>\n",
       "      <th>2372668</th>\n",
       "      <td>460.49</td>\n",
       "      <td>3.0</td>\n",
       "      <td>4.78</td>\n",
       "      <td>95.78</td>\n",
       "      <td>NaN</td>\n",
       "      <td>0.68</td>\n",
       "      <td>2246728737 864674487 2246699815 864942730 3217...</td>\n",
       "    </tr>\n",
       "    <tr>\n",
       "      <th>2372669</th>\n",
       "      <td>382.42</td>\n",
       "      <td>6.0</td>\n",
       "      <td>3.84</td>\n",
       "      <td>69.64</td>\n",
       "      <td>9.49</td>\n",
       "      <td>NaN</td>\n",
       "      <td>864942730 3217380708 2132511834 3217380708 321...</td>\n",
       "    </tr>\n",
       "    <tr>\n",
       "      <th>2372670</th>\n",
       "      <td>844.84</td>\n",
       "      <td>NaN</td>\n",
       "      <td>6.05</td>\n",
       "      <td>359.42</td>\n",
       "      <td>-3.92</td>\n",
       "      <td>2.35</td>\n",
       "      <td>847957139 3217380708 3218693969 3217380708 999...</td>\n",
       "    </tr>\n",
       "    <tr>\n",
       "      <th>2372671</th>\n",
       "      <td>480.00</td>\n",
       "      <td>4.0</td>\n",
       "      <td>2.55</td>\n",
       "      <td>90.09</td>\n",
       "      <td>11.49</td>\n",
       "      <td>7.19</td>\n",
       "      <td>847957139 2246699815 1026654305 847961216 8473...</td>\n",
       "    </tr>\n",
       "    <tr>\n",
       "      <th>2372672</th>\n",
       "      <td>321.77</td>\n",
       "      <td>1.0</td>\n",
       "      <td>4.42</td>\n",
       "      <td>50.42</td>\n",
       "      <td>8.24</td>\n",
       "      <td>1.03</td>\n",
       "      <td>864662311 3217380708 3218693969 3217380708 321...</td>\n",
       "    </tr>\n",
       "  </tbody>\n",
       "</table>\n",
       "<p>2372673 rows × 7 columns</p>\n",
       "</div>"
      ],
      "text/plain": [
       "         Molecular Weight  Bioactivities  AlogP  Polar Surface Area  \\\n",
       "0                  415.99            6.0   4.09               56.15   \n",
       "1                  215.25           51.0   2.79               42.23   \n",
       "2                  475.94            2.0   6.00               37.39   \n",
       "3                  548.59            1.0   6.37              186.56   \n",
       "4                  314.35           23.0   1.33               92.92   \n",
       "...                   ...            ...    ...                 ...   \n",
       "2372668            460.49            3.0   4.78               95.78   \n",
       "2372669            382.42            6.0   3.84               69.64   \n",
       "2372670            844.84            NaN   6.05              359.42   \n",
       "2372671            480.00            4.0   2.55               90.09   \n",
       "2372672            321.77            1.0   4.42               50.42   \n",
       "\n",
       "         CX Acidic pKa  CX Basic pKa  \\\n",
       "0                  NaN           NaN   \n",
       "1                 3.97           NaN   \n",
       "2                  NaN          7.76   \n",
       "3                 6.08          2.29   \n",
       "4                 8.77          5.70   \n",
       "...                ...           ...   \n",
       "2372668            NaN          0.68   \n",
       "2372669           9.49           NaN   \n",
       "2372670          -3.92          2.35   \n",
       "2372671          11.49          7.19   \n",
       "2372672           8.24          1.03   \n",
       "\n",
       "                                                     ecfp1  \n",
       "0        2246728737 2245273601 1026928756 3217380708 20...  \n",
       "1        2246728737 3217380708 3218693969 3218693969 32...  \n",
       "2        882399112 3217380708 3218693969 3217380708 882...  \n",
       "3        2246728737 3217380708 3218693969 3217380708 32...  \n",
       "4        2246728737 3217380708 2041434490 3217380708 32...  \n",
       "...                                                    ...  \n",
       "2372668  2246728737 864674487 2246699815 864942730 3217...  \n",
       "2372669  864942730 3217380708 2132511834 3217380708 321...  \n",
       "2372670  847957139 3217380708 3218693969 3217380708 999...  \n",
       "2372671  847957139 2246699815 1026654305 847961216 8473...  \n",
       "2372672  864662311 3217380708 3218693969 3217380708 321...  \n",
       "\n",
       "[2372673 rows x 7 columns]"
      ]
     },
     "execution_count": 8,
     "metadata": {},
     "output_type": "execute_result"
    }
   ],
   "source": [
    "dataframe"
   ]
  },
  {
   "cell_type": "markdown",
   "id": "16672697-e2ab-45a3-8af3-45e4c32a6221",
   "metadata": {},
   "source": [
    "### Dealing with NaNs"
   ]
  },
  {
   "cell_type": "code",
   "execution_count": 9,
   "id": "628bf71f-7af4-4eab-9fa2-e1bec5c7d682",
   "metadata": {
    "execution": {
     "iopub.execute_input": "2024-02-27T19:04:29.031688Z",
     "iopub.status.busy": "2024-02-27T19:04:29.031469Z",
     "iopub.status.idle": "2024-02-27T19:04:29.512789Z",
     "shell.execute_reply": "2024-02-27T19:04:29.512108Z"
    }
   },
   "outputs": [
    {
     "name": "stdout",
     "output_type": "stream",
     "text": [
      "Percentage on NaNs:\n"
     ]
    },
    {
     "data": {
      "text/plain": [
       "Molecular Weight      0.000000\n",
       "Bioactivities         0.039649\n",
       "AlogP                 0.025650\n",
       "Polar Surface Area    0.025650\n",
       "CX Acidic pKa         0.443230\n",
       "CX Basic pKa          0.370395\n",
       "ecfp1                 0.000000\n",
       "dtype: float64"
      ]
     },
     "execution_count": 9,
     "metadata": {},
     "output_type": "execute_result"
    }
   ],
   "source": [
    "print('Percentage on NaNs:')\n",
    "dataframe.isna().mean()"
   ]
  },
  {
   "cell_type": "code",
   "execution_count": 10,
   "id": "9131af22-72dd-4fee-b5b4-9a5b159030cd",
   "metadata": {
    "execution": {
     "iopub.execute_input": "2024-02-27T19:04:29.515425Z",
     "iopub.status.busy": "2024-02-27T19:04:29.515247Z",
     "iopub.status.idle": "2024-02-27T19:04:29.651888Z",
     "shell.execute_reply": "2024-02-27T19:04:29.651096Z"
    }
   },
   "outputs": [
    {
     "name": "stdout",
     "output_type": "stream",
     "text": [
      "Count of rows without NaNs: 763202\n"
     ]
    }
   ],
   "source": [
    "rows_with_nans = dataframe['Molecular Weight'].isna() | \\\n",
    "                 dataframe['Bioactivities'].isna() | \\\n",
    "                 dataframe['AlogP'].isna() | \\\n",
    "                 dataframe['Polar Surface Area'].isna() | \\\n",
    "                 dataframe['CX Acidic pKa'].isna() | \\\n",
    "                 dataframe['CX Basic pKa'].isna()\n",
    "print(f'Count of rows without NaNs: {dataframe.shape[0] - dataframe.loc[rows_with_nans].shape[0]}')"
   ]
  },
  {
   "cell_type": "code",
   "execution_count": 11,
   "id": "aeec7baa-b6bb-47a1-bf4a-66e94049750f",
   "metadata": {
    "execution": {
     "iopub.execute_input": "2024-02-27T19:04:29.654363Z",
     "iopub.status.busy": "2024-02-27T19:04:29.654177Z",
     "iopub.status.idle": "2024-02-27T19:04:29.769658Z",
     "shell.execute_reply": "2024-02-27T19:04:29.768842Z"
    }
   },
   "outputs": [],
   "source": [
    "# remove 2 last properties to reduce NaN counts\n",
    "molecular_properties = ['Molecular Weight', 'Bioactivities', 'AlogP', 'Polar Surface Area']\n",
    "dataframe = dataframe.drop(columns=['CX Acidic pKa', 'CX Basic pKa'])"
   ]
  },
  {
   "cell_type": "code",
   "execution_count": 12,
   "id": "1964f7f1-2efc-4333-81bc-3ebbdcbec934",
   "metadata": {
    "execution": {
     "iopub.execute_input": "2024-02-27T19:04:29.772353Z",
     "iopub.status.busy": "2024-02-27T19:04:29.772173Z",
     "iopub.status.idle": "2024-02-27T19:04:30.291228Z",
     "shell.execute_reply": "2024-02-27T19:04:30.290459Z"
    }
   },
   "outputs": [],
   "source": [
    "# drop NaN's\n",
    "dataframe = dataframe.dropna().reset_index(drop=True)"
   ]
  },
  {
   "cell_type": "code",
   "execution_count": 13,
   "id": "4b3b5a83-5050-48d4-8813-490c01fbc1e5",
   "metadata": {
    "execution": {
     "iopub.execute_input": "2024-02-27T19:04:30.294327Z",
     "iopub.status.busy": "2024-02-27T19:04:30.294142Z",
     "iopub.status.idle": "2024-02-27T19:04:30.303772Z",
     "shell.execute_reply": "2024-02-27T19:04:30.303322Z"
    }
   },
   "outputs": [
    {
     "data": {
      "text/html": [
       "<div>\n",
       "<style scoped>\n",
       "    .dataframe tbody tr th:only-of-type {\n",
       "        vertical-align: middle;\n",
       "    }\n",
       "\n",
       "    .dataframe tbody tr th {\n",
       "        vertical-align: top;\n",
       "    }\n",
       "\n",
       "    .dataframe thead th {\n",
       "        text-align: right;\n",
       "    }\n",
       "</style>\n",
       "<table border=\"1\" class=\"dataframe\">\n",
       "  <thead>\n",
       "    <tr style=\"text-align: right;\">\n",
       "      <th></th>\n",
       "      <th>Molecular Weight</th>\n",
       "      <th>Bioactivities</th>\n",
       "      <th>AlogP</th>\n",
       "      <th>Polar Surface Area</th>\n",
       "      <th>ecfp1</th>\n",
       "    </tr>\n",
       "  </thead>\n",
       "  <tbody>\n",
       "    <tr>\n",
       "      <th>0</th>\n",
       "      <td>415.99</td>\n",
       "      <td>6.0</td>\n",
       "      <td>4.09</td>\n",
       "      <td>56.15</td>\n",
       "      <td>2246728737 2245273601 1026928756 3217380708 20...</td>\n",
       "    </tr>\n",
       "    <tr>\n",
       "      <th>1</th>\n",
       "      <td>215.25</td>\n",
       "      <td>51.0</td>\n",
       "      <td>2.79</td>\n",
       "      <td>42.23</td>\n",
       "      <td>2246728737 3217380708 3218693969 3218693969 32...</td>\n",
       "    </tr>\n",
       "    <tr>\n",
       "      <th>2</th>\n",
       "      <td>475.94</td>\n",
       "      <td>2.0</td>\n",
       "      <td>6.00</td>\n",
       "      <td>37.39</td>\n",
       "      <td>882399112 3217380708 3218693969 3217380708 882...</td>\n",
       "    </tr>\n",
       "    <tr>\n",
       "      <th>3</th>\n",
       "      <td>548.59</td>\n",
       "      <td>1.0</td>\n",
       "      <td>6.37</td>\n",
       "      <td>186.56</td>\n",
       "      <td>2246728737 3217380708 3218693969 3217380708 32...</td>\n",
       "    </tr>\n",
       "    <tr>\n",
       "      <th>4</th>\n",
       "      <td>314.35</td>\n",
       "      <td>23.0</td>\n",
       "      <td>1.33</td>\n",
       "      <td>92.92</td>\n",
       "      <td>2246728737 3217380708 2041434490 3217380708 32...</td>\n",
       "    </tr>\n",
       "    <tr>\n",
       "      <th>...</th>\n",
       "      <td>...</td>\n",
       "      <td>...</td>\n",
       "      <td>...</td>\n",
       "      <td>...</td>\n",
       "      <td>...</td>\n",
       "    </tr>\n",
       "    <tr>\n",
       "      <th>2220510</th>\n",
       "      <td>398.44</td>\n",
       "      <td>2.0</td>\n",
       "      <td>3.72</td>\n",
       "      <td>99.43</td>\n",
       "      <td>2246728737 2245384272 2092489639 3217380708 86...</td>\n",
       "    </tr>\n",
       "    <tr>\n",
       "      <th>2220511</th>\n",
       "      <td>460.49</td>\n",
       "      <td>3.0</td>\n",
       "      <td>4.78</td>\n",
       "      <td>95.78</td>\n",
       "      <td>2246728737 864674487 2246699815 864942730 3217...</td>\n",
       "    </tr>\n",
       "    <tr>\n",
       "      <th>2220512</th>\n",
       "      <td>382.42</td>\n",
       "      <td>6.0</td>\n",
       "      <td>3.84</td>\n",
       "      <td>69.64</td>\n",
       "      <td>864942730 3217380708 2132511834 3217380708 321...</td>\n",
       "    </tr>\n",
       "    <tr>\n",
       "      <th>2220513</th>\n",
       "      <td>480.00</td>\n",
       "      <td>4.0</td>\n",
       "      <td>2.55</td>\n",
       "      <td>90.09</td>\n",
       "      <td>847957139 2246699815 1026654305 847961216 8473...</td>\n",
       "    </tr>\n",
       "    <tr>\n",
       "      <th>2220514</th>\n",
       "      <td>321.77</td>\n",
       "      <td>1.0</td>\n",
       "      <td>4.42</td>\n",
       "      <td>50.42</td>\n",
       "      <td>864662311 3217380708 3218693969 3217380708 321...</td>\n",
       "    </tr>\n",
       "  </tbody>\n",
       "</table>\n",
       "<p>2220515 rows × 5 columns</p>\n",
       "</div>"
      ],
      "text/plain": [
       "         Molecular Weight  Bioactivities  AlogP  Polar Surface Area  \\\n",
       "0                  415.99            6.0   4.09               56.15   \n",
       "1                  215.25           51.0   2.79               42.23   \n",
       "2                  475.94            2.0   6.00               37.39   \n",
       "3                  548.59            1.0   6.37              186.56   \n",
       "4                  314.35           23.0   1.33               92.92   \n",
       "...                   ...            ...    ...                 ...   \n",
       "2220510            398.44            2.0   3.72               99.43   \n",
       "2220511            460.49            3.0   4.78               95.78   \n",
       "2220512            382.42            6.0   3.84               69.64   \n",
       "2220513            480.00            4.0   2.55               90.09   \n",
       "2220514            321.77            1.0   4.42               50.42   \n",
       "\n",
       "                                                     ecfp1  \n",
       "0        2246728737 2245273601 1026928756 3217380708 20...  \n",
       "1        2246728737 3217380708 3218693969 3218693969 32...  \n",
       "2        882399112 3217380708 3218693969 3217380708 882...  \n",
       "3        2246728737 3217380708 3218693969 3217380708 32...  \n",
       "4        2246728737 3217380708 2041434490 3217380708 32...  \n",
       "...                                                    ...  \n",
       "2220510  2246728737 2245384272 2092489639 3217380708 86...  \n",
       "2220511  2246728737 864674487 2246699815 864942730 3217...  \n",
       "2220512  864942730 3217380708 2132511834 3217380708 321...  \n",
       "2220513  847957139 2246699815 1026654305 847961216 8473...  \n",
       "2220514  864662311 3217380708 3218693969 3217380708 321...  \n",
       "\n",
       "[2220515 rows x 5 columns]"
      ]
     },
     "execution_count": 13,
     "metadata": {},
     "output_type": "execute_result"
    }
   ],
   "source": [
    "dataframe"
   ]
  },
  {
   "cell_type": "markdown",
   "id": "86bbf17c-07d1-47e8-a8e6-bebf50cebe62",
   "metadata": {},
   "source": [
    "### Split Data"
   ]
  },
  {
   "cell_type": "code",
   "execution_count": 14,
   "id": "8bc5f957-4e8a-4176-ba70-196bb67ff581",
   "metadata": {
    "execution": {
     "iopub.execute_input": "2024-02-27T19:04:30.305960Z",
     "iopub.status.busy": "2024-02-27T19:04:30.305799Z",
     "iopub.status.idle": "2024-02-27T19:04:31.022539Z",
     "shell.execute_reply": "2024-02-27T19:04:31.021637Z"
    }
   },
   "outputs": [],
   "source": [
    "from sklearn.model_selection import train_test_split\n",
    "\n",
    "train_dataframe, test_dataframe = train_test_split(dataframe, test_size=0.20, random_state=42)\n",
    "validation_dataframe, test_dataframe = train_test_split(test_dataframe, test_size=0.50, random_state=42)"
   ]
  },
  {
   "cell_type": "code",
   "execution_count": 15,
   "id": "7abd07a5-448b-4a01-97bc-c20495980606",
   "metadata": {
    "execution": {
     "iopub.execute_input": "2024-02-27T19:04:31.025986Z",
     "iopub.status.busy": "2024-02-27T19:04:31.025670Z",
     "iopub.status.idle": "2024-02-27T19:04:31.028991Z",
     "shell.execute_reply": "2024-02-27T19:04:31.028506Z"
    }
   },
   "outputs": [
    {
     "name": "stdout",
     "output_type": "stream",
     "text": [
      "1776412 222052 222051\n"
     ]
    }
   ],
   "source": [
    "# 80% for train, 10% for test, 10 for validation\n",
    "print(len(train_dataframe), len(test_dataframe), len(validation_dataframe))"
   ]
  },
  {
   "cell_type": "markdown",
   "id": "873a857c-2190-407e-aabd-9f1ddaa4f86b",
   "metadata": {},
   "source": [
    "### Normalize Data"
   ]
  },
  {
   "cell_type": "code",
   "execution_count": 16,
   "id": "4e683cea-5ebb-4ac7-b947-e72dbabe256b",
   "metadata": {
    "execution": {
     "iopub.execute_input": "2024-02-27T19:04:31.031537Z",
     "iopub.status.busy": "2024-02-27T19:04:31.031363Z",
     "iopub.status.idle": "2024-02-27T19:04:31.034506Z",
     "shell.execute_reply": "2024-02-27T19:04:31.033872Z"
    }
   },
   "outputs": [],
   "source": [
    "from sklearn.preprocessing import StandardScaler\n",
    "\n",
    "scaler = StandardScaler()"
   ]
  },
  {
   "cell_type": "code",
   "execution_count": 17,
   "id": "407424ce-c0f3-4e6c-a815-7376343dea65",
   "metadata": {
    "execution": {
     "iopub.execute_input": "2024-02-27T19:04:31.037295Z",
     "iopub.status.busy": "2024-02-27T19:04:31.037116Z",
     "iopub.status.idle": "2024-02-27T19:04:31.130522Z",
     "shell.execute_reply": "2024-02-27T19:04:31.129805Z"
    }
   },
   "outputs": [],
   "source": [
    "train_dataframe[molecular_properties] = scaler.fit_transform(train_dataframe[molecular_properties])\n",
    "test_dataframe[molecular_properties] = scaler.transform(test_dataframe[molecular_properties])\n",
    "validation_dataframe[molecular_properties] = scaler.transform(validation_dataframe[molecular_properties])\n",
    "\n",
    "# scaler.inverse_transform(train_dataframe[molecular_property])"
   ]
  },
  {
   "cell_type": "code",
   "execution_count": 18,
   "id": "8d6e8d3f-5550-449f-95b4-b55f42c90606",
   "metadata": {
    "execution": {
     "iopub.execute_input": "2024-02-27T19:04:31.133763Z",
     "iopub.status.busy": "2024-02-27T19:04:31.133577Z",
     "iopub.status.idle": "2024-02-27T19:04:31.142158Z",
     "shell.execute_reply": "2024-02-27T19:04:31.141587Z"
    }
   },
   "outputs": [
    {
     "data": {
      "text/html": [
       "<div>\n",
       "<style scoped>\n",
       "    .dataframe tbody tr th:only-of-type {\n",
       "        vertical-align: middle;\n",
       "    }\n",
       "\n",
       "    .dataframe tbody tr th {\n",
       "        vertical-align: top;\n",
       "    }\n",
       "\n",
       "    .dataframe thead th {\n",
       "        text-align: right;\n",
       "    }\n",
       "</style>\n",
       "<table border=\"1\" class=\"dataframe\">\n",
       "  <thead>\n",
       "    <tr style=\"text-align: right;\">\n",
       "      <th></th>\n",
       "      <th>Molecular Weight</th>\n",
       "      <th>Bioactivities</th>\n",
       "      <th>AlogP</th>\n",
       "      <th>Polar Surface Area</th>\n",
       "      <th>ecfp1</th>\n",
       "    </tr>\n",
       "  </thead>\n",
       "  <tbody>\n",
       "    <tr>\n",
       "      <th>1413264</th>\n",
       "      <td>-0.159203</td>\n",
       "      <td>-0.142348</td>\n",
       "      <td>-0.872408</td>\n",
       "      <td>-0.479943</td>\n",
       "      <td>2246728737 2246699815 2246703798 3217380708 32...</td>\n",
       "    </tr>\n",
       "    <tr>\n",
       "      <th>1413646</th>\n",
       "      <td>-0.095690</td>\n",
       "      <td>-0.017679</td>\n",
       "      <td>-0.766013</td>\n",
       "      <td>1.025944</td>\n",
       "      <td>2246728737 2245384272 3217380708 2041434490 21...</td>\n",
       "    </tr>\n",
       "    <tr>\n",
       "      <th>624451</th>\n",
       "      <td>0.589114</td>\n",
       "      <td>-0.121570</td>\n",
       "      <td>-1.138397</td>\n",
       "      <td>1.002462</td>\n",
       "      <td>864942730 2246699815 864674487 2976033787 2968...</td>\n",
       "    </tr>\n",
       "    <tr>\n",
       "      <th>1193918</th>\n",
       "      <td>-1.954719</td>\n",
       "      <td>0.065433</td>\n",
       "      <td>-1.319269</td>\n",
       "      <td>-0.497613</td>\n",
       "      <td>2246728737 2092489639 3218693969 2041434490 32...</td>\n",
       "    </tr>\n",
       "    <tr>\n",
       "      <th>2045880</th>\n",
       "      <td>-0.987089</td>\n",
       "      <td>-0.121570</td>\n",
       "      <td>-0.430868</td>\n",
       "      <td>0.186628</td>\n",
       "      <td>2246728737 3217380708 3218693969 3218693969 32...</td>\n",
       "    </tr>\n",
       "    <tr>\n",
       "      <th>...</th>\n",
       "      <td>...</td>\n",
       "      <td>...</td>\n",
       "      <td>...</td>\n",
       "      <td>...</td>\n",
       "      <td>...</td>\n",
       "    </tr>\n",
       "    <tr>\n",
       "      <th>1570006</th>\n",
       "      <td>-0.022798</td>\n",
       "      <td>-0.142348</td>\n",
       "      <td>0.968229</td>\n",
       "      <td>-0.289295</td>\n",
       "      <td>2246728737 2245384272 2245384272 2245384272 22...</td>\n",
       "    </tr>\n",
       "    <tr>\n",
       "      <th>732180</th>\n",
       "      <td>0.552628</td>\n",
       "      <td>-0.163126</td>\n",
       "      <td>0.696921</td>\n",
       "      <td>0.374951</td>\n",
       "      <td>2246728737 3217380708 3218693969 3217380708 86...</td>\n",
       "    </tr>\n",
       "    <tr>\n",
       "      <th>110268</th>\n",
       "      <td>3.072694</td>\n",
       "      <td>-0.121570</td>\n",
       "      <td>0.441573</td>\n",
       "      <td>1.515817</td>\n",
       "      <td>2246728737 864674487 3217380708 3218693969 321...</td>\n",
       "    </tr>\n",
       "    <tr>\n",
       "      <th>1692743</th>\n",
       "      <td>-0.644091</td>\n",
       "      <td>-0.163126</td>\n",
       "      <td>-0.547903</td>\n",
       "      <td>-0.066329</td>\n",
       "      <td>2246728737 2246699815 847336149 847961216 2246...</td>\n",
       "    </tr>\n",
       "    <tr>\n",
       "      <th>2219110</th>\n",
       "      <td>0.313444</td>\n",
       "      <td>0.044655</td>\n",
       "      <td>1.643839</td>\n",
       "      <td>-0.469480</td>\n",
       "      <td>2246728737 3217380708 3218693969 3218693969 32...</td>\n",
       "    </tr>\n",
       "  </tbody>\n",
       "</table>\n",
       "<p>1776412 rows × 5 columns</p>\n",
       "</div>"
      ],
      "text/plain": [
       "         Molecular Weight  Bioactivities     AlogP  Polar Surface Area  \\\n",
       "1413264         -0.159203      -0.142348 -0.872408           -0.479943   \n",
       "1413646         -0.095690      -0.017679 -0.766013            1.025944   \n",
       "624451           0.589114      -0.121570 -1.138397            1.002462   \n",
       "1193918         -1.954719       0.065433 -1.319269           -0.497613   \n",
       "2045880         -0.987089      -0.121570 -0.430868            0.186628   \n",
       "...                   ...            ...       ...                 ...   \n",
       "1570006         -0.022798      -0.142348  0.968229           -0.289295   \n",
       "732180           0.552628      -0.163126  0.696921            0.374951   \n",
       "110268           3.072694      -0.121570  0.441573            1.515817   \n",
       "1692743         -0.644091      -0.163126 -0.547903           -0.066329   \n",
       "2219110          0.313444       0.044655  1.643839           -0.469480   \n",
       "\n",
       "                                                     ecfp1  \n",
       "1413264  2246728737 2246699815 2246703798 3217380708 32...  \n",
       "1413646  2246728737 2245384272 3217380708 2041434490 21...  \n",
       "624451   864942730 2246699815 864674487 2976033787 2968...  \n",
       "1193918  2246728737 2092489639 3218693969 2041434490 32...  \n",
       "2045880  2246728737 3217380708 3218693969 3218693969 32...  \n",
       "...                                                    ...  \n",
       "1570006  2246728737 2245384272 2245384272 2245384272 22...  \n",
       "732180   2246728737 3217380708 3218693969 3217380708 86...  \n",
       "110268   2246728737 864674487 3217380708 3218693969 321...  \n",
       "1692743  2246728737 2246699815 847336149 847961216 2246...  \n",
       "2219110  2246728737 3217380708 3218693969 3218693969 32...  \n",
       "\n",
       "[1776412 rows x 5 columns]"
      ]
     },
     "execution_count": 18,
     "metadata": {},
     "output_type": "execute_result"
    }
   ],
   "source": [
    "train_dataframe"
   ]
  },
  {
   "cell_type": "markdown",
   "id": "c63f3e06-7933-457f-a51d-0373c34f413a",
   "metadata": {},
   "source": [
    "### Tokenize Data"
   ]
  },
  {
   "cell_type": "code",
   "execution_count": 19,
   "id": "7e96ad73-2190-48f4-a1c3-ba4b5325f62b",
   "metadata": {
    "execution": {
     "iopub.execute_input": "2024-02-27T19:04:31.144569Z",
     "iopub.status.busy": "2024-02-27T19:04:31.144390Z",
     "iopub.status.idle": "2024-02-27T19:04:32.666460Z",
     "shell.execute_reply": "2024-02-27T19:04:32.665694Z"
    }
   },
   "outputs": [
    {
     "data": {
      "text/plain": [
       "DatasetDict({\n",
       "    train: Dataset({\n",
       "        features: ['Molecular Weight', 'Bioactivities', 'AlogP', 'Polar Surface Area', 'ecfp1', '__index_level_0__'],\n",
       "        num_rows: 1776412\n",
       "    })\n",
       "    test: Dataset({\n",
       "        features: ['Molecular Weight', 'Bioactivities', 'AlogP', 'Polar Surface Area', 'ecfp1', '__index_level_0__'],\n",
       "        num_rows: 222052\n",
       "    })\n",
       "    validation: Dataset({\n",
       "        features: ['Molecular Weight', 'Bioactivities', 'AlogP', 'Polar Surface Area', 'ecfp1', '__index_level_0__'],\n",
       "        num_rows: 222051\n",
       "    })\n",
       "})"
      ]
     },
     "execution_count": 19,
     "metadata": {},
     "output_type": "execute_result"
    }
   ],
   "source": [
    "from datasets import Dataset, DatasetDict\n",
    "\n",
    "dataset = DatasetDict({\n",
    "    'train': Dataset.from_pandas(train_dataframe),\n",
    "    'test': Dataset.from_pandas(test_dataframe),\n",
    "    'validation': Dataset.from_pandas(validation_dataframe)\n",
    "})\n",
    "\n",
    "dataset"
   ]
  },
  {
   "cell_type": "code",
   "execution_count": 20,
   "id": "7720fb53-0a36-452f-8d5a-f23f0c5755d0",
   "metadata": {
    "execution": {
     "iopub.execute_input": "2024-02-27T19:04:32.669150Z",
     "iopub.status.busy": "2024-02-27T19:04:32.668817Z",
     "iopub.status.idle": "2024-02-27T19:04:32.761708Z",
     "shell.execute_reply": "2024-02-27T19:04:32.760965Z"
    }
   },
   "outputs": [],
   "source": [
    "from transformers import AutoTokenizer\n",
    "tokenizer = AutoTokenizer.from_pretrained(model_name)\n",
    "\n",
    "tokenizer.model_max_len=512"
   ]
  },
  {
   "cell_type": "code",
   "execution_count": 21,
   "id": "0f924833-477c-4a24-936e-d62f0ca5dd8f",
   "metadata": {
    "execution": {
     "iopub.execute_input": "2024-02-27T19:04:32.764689Z",
     "iopub.status.busy": "2024-02-27T19:04:32.764499Z",
     "iopub.status.idle": "2024-02-27T19:10:18.566523Z",
     "shell.execute_reply": "2024-02-27T19:10:18.565761Z"
    }
   },
   "outputs": [
    {
     "data": {
      "application/vnd.jupyter.widget-view+json": {
       "model_id": "39847d13290f4f63a0bab2f75883d7ce",
       "version_major": 2,
       "version_minor": 0
      },
      "text/plain": [
       "Map:   0%|          | 0/1776412 [00:00<?, ? examples/s]"
      ]
     },
     "metadata": {},
     "output_type": "display_data"
    },
    {
     "data": {
      "application/vnd.jupyter.widget-view+json": {
       "model_id": "2b4278ed9bba4966bf448fe77d2715ef",
       "version_major": 2,
       "version_minor": 0
      },
      "text/plain": [
       "Map:   0%|          | 0/222052 [00:00<?, ? examples/s]"
      ]
     },
     "metadata": {},
     "output_type": "display_data"
    },
    {
     "data": {
      "application/vnd.jupyter.widget-view+json": {
       "model_id": "956ae46c17b44f9e97b3af49ab85d5c4",
       "version_major": 2,
       "version_minor": 0
      },
      "text/plain": [
       "Map:   0%|          | 0/222051 [00:00<?, ? examples/s]"
      ]
     },
     "metadata": {},
     "output_type": "display_data"
    },
    {
     "data": {
      "text/plain": [
       "DatasetDict({\n",
       "    train: Dataset({\n",
       "        features: ['Molecular Weight', 'Bioactivities', 'AlogP', 'Polar Surface Area', 'ecfp1', '__index_level_0__', 'input_ids', 'attention_mask'],\n",
       "        num_rows: 1776412\n",
       "    })\n",
       "    test: Dataset({\n",
       "        features: ['Molecular Weight', 'Bioactivities', 'AlogP', 'Polar Surface Area', 'ecfp1', '__index_level_0__', 'input_ids', 'attention_mask'],\n",
       "        num_rows: 222052\n",
       "    })\n",
       "    validation: Dataset({\n",
       "        features: ['Molecular Weight', 'Bioactivities', 'AlogP', 'Polar Surface Area', 'ecfp1', '__index_level_0__', 'input_ids', 'attention_mask'],\n",
       "        num_rows: 222051\n",
       "    })\n",
       "})"
      ]
     },
     "execution_count": 21,
     "metadata": {},
     "output_type": "execute_result"
    }
   ],
   "source": [
    "def tokenize(batch):\n",
    "  return tokenizer(batch[\"ecfp1\"], truncation=True, max_length=512, padding='max_length')\n",
    "\n",
    "tokenized_dataset = dataset.map(tokenize, batched=True)\n",
    "tokenized_dataset"
   ]
  },
  {
   "cell_type": "code",
   "execution_count": 22,
   "id": "434caf18-e9b1-42ac-b40e-05c1b75c538a",
   "metadata": {
    "execution": {
     "iopub.execute_input": "2024-02-27T19:10:18.570026Z",
     "iopub.status.busy": "2024-02-27T19:10:18.569819Z",
     "iopub.status.idle": "2024-02-27T19:10:18.574679Z",
     "shell.execute_reply": "2024-02-27T19:10:18.574068Z"
    }
   },
   "outputs": [
    {
     "name": "stdout",
     "output_type": "stream",
     "text": [
      "['input_ids', 'attention_mask', 'Molecular Weight', 'Bioactivities', 'AlogP', 'Polar Surface Area']\n"
     ]
    }
   ],
   "source": [
    "columns = [\"input_ids\", \"attention_mask\"]\n",
    "columns.extend(molecular_properties) # our labels\n",
    "print(columns)\n",
    "tokenized_dataset.set_format('torch', columns=columns)"
   ]
  },
  {
   "cell_type": "markdown",
   "id": "89a56144-3102-4a21-b86b-8e851dc97026",
   "metadata": {},
   "source": [
    "### Create Model"
   ]
  },
  {
   "cell_type": "code",
   "execution_count": 23,
   "id": "66254640-38dc-4da6-bccf-634174aca108",
   "metadata": {
    "execution": {
     "iopub.execute_input": "2024-02-27T19:10:18.577538Z",
     "iopub.status.busy": "2024-02-27T19:10:18.577331Z",
     "iopub.status.idle": "2024-02-27T19:10:18.593725Z",
     "shell.execute_reply": "2024-02-27T19:10:18.593101Z"
    }
   },
   "outputs": [],
   "source": [
    "from transformers import AutoModel, AutoConfig\n",
    "\n",
    "class MolecularPropertiesRegression(torch.nn.Module):\n",
    "    def __init__(self, model_name, num_properties):\n",
    "        super(MolecularPropertiesRegression, self).__init__()\n",
    "        self.num_properties = num_properties\n",
    "\n",
    "        config = AutoConfig.from_pretrained(model_name)\n",
    "        self.transformer = AutoModel.from_pretrained(model_name, config=config)\n",
    "        # removing last layer of transformer\n",
    "        self.transformer.pooler = torch.nn.Identity()\n",
    "        # freezing transformer weights\n",
    "        for param in self.transformer.parameters():\n",
    "            param.requires_grad = False\n",
    "        self.regressor = torch.nn.Linear(768, num_properties)\n",
    "\n",
    "    def forward(self, input_ids = None, attention_mask=None):\n",
    "        outputs = self.transformer(input_ids=input_ids, attention_mask=attention_mask)\n",
    "        \n",
    "        last_hidden_state = outputs[0]\n",
    "        # last_hidden_state is the shape of (batch_size=32, input_sequence_length=512, hidden_size=768)\n",
    "        # so we take only hidden emdedding for [CLS] token (first) as it contains the entire context\n",
    "        # and would be sufficient for simple downstream tasks such as classification/regression\n",
    "        predicted_property_values = self.regressor(last_hidden_state[:, 0, : ].view(-1, 768))\n",
    "\n",
    "        return predicted_property_values\n",
    "        "
   ]
  },
  {
   "cell_type": "markdown",
   "id": "dc5b0c73-a897-407e-a8c7-158283f97de4",
   "metadata": {},
   "source": [
    "### Create PyTorch DataLoader"
   ]
  },
  {
   "cell_type": "code",
   "execution_count": 24,
   "id": "79747c27-653a-486a-ab4d-3f2c6ec347f5",
   "metadata": {
    "execution": {
     "iopub.execute_input": "2024-02-27T19:10:18.595933Z",
     "iopub.status.busy": "2024-02-27T19:10:18.595750Z",
     "iopub.status.idle": "2024-02-27T19:10:20.368486Z",
     "shell.execute_reply": "2024-02-27T19:10:20.367740Z"
    }
   },
   "outputs": [
    {
     "name": "stderr",
     "output_type": "stream",
     "text": [
      "2024-02-27 22:10:18.764657: I tensorflow/core/platform/cpu_feature_guard.cc:182] This TensorFlow binary is optimized to use available CPU instructions in performance-critical operations.\n",
      "To enable the following instructions: SSE4.1 SSE4.2 AVX AVX2 FMA, in other operations, rebuild TensorFlow with the appropriate compiler flags.\n"
     ]
    }
   ],
   "source": [
    "from torch.utils.data import DataLoader\n",
    "from transformers import DataCollatorWithPadding\n",
    "\n",
    "data_collator = DataCollatorWithPadding(tokenizer=tokenizer)\n",
    "\n",
    "train_dataloader = DataLoader(\n",
    "    tokenized_dataset['train'], shuffle = True, batch_size = 1024, collate_fn = data_collator\n",
    ")\n",
    "\n",
    "eval_dataloader = DataLoader(\n",
    "    tokenized_dataset['validation'], shuffle = True, batch_size = 512, collate_fn = data_collator\n",
    ")"
   ]
  },
  {
   "cell_type": "code",
   "execution_count": 25,
   "id": "08055762-1a53-49e6-8cd7-71161852abe8",
   "metadata": {
    "execution": {
     "iopub.execute_input": "2024-02-27T19:10:20.373092Z",
     "iopub.status.busy": "2024-02-27T19:10:20.372414Z",
     "iopub.status.idle": "2024-02-27T19:10:24.119042Z",
     "shell.execute_reply": "2024-02-27T19:10:24.118082Z"
    }
   },
   "outputs": [
    {
     "name": "stderr",
     "output_type": "stream",
     "text": [
      "/home/alexeyorlov53/anaconda3/envs/test/lib/python3.11/site-packages/transformers/utils/generic.py:260: UserWarning: torch.utils._pytree._register_pytree_node is deprecated. Please use torch.utils._pytree.register_pytree_node instead.\n",
      "  torch.utils._pytree._register_pytree_node(\n",
      "Some weights of RobertaModel were not initialized from the model checkpoint at molberto_ecfp0_10M and are newly initialized: ['roberta.pooler.dense.weight', 'roberta.pooler.dense.bias']\n",
      "You should probably TRAIN this model on a down-stream task to be able to use it for predictions and inference.\n"
     ]
    },
    {
     "name": "stdout",
     "output_type": "stream",
     "text": [
      "huggingface/tokenizers: The current process just got forked, after parallelism has already been used. Disabling parallelism to avoid deadlocks...\n",
      "To disable this warning, you can either:\n",
      "\t- Avoid using `tokenizers` before the fork if possible\n",
      "\t- Explicitly set the environment variable TOKENIZERS_PARALLELISM=(true | false)\n",
      "huggingface/tokenizers: The current process just got forked, after parallelism has already been used. Disabling parallelism to avoid deadlocks...\n",
      "To disable this warning, you can either:\n",
      "\t- Avoid using `tokenizers` before the fork if possible\n",
      "\t- Explicitly set the environment variable TOKENIZERS_PARALLELISM=(true | false)\n"
     ]
    }
   ],
   "source": [
    "device = torch.device(\"cuda\", index=2) if torch.cuda.is_available() else torch.device('cpu')\n",
    "\n",
    "model = MolecularPropertiesRegression(model_name, num_properties=len(molecular_properties)).to(device)"
   ]
  },
  {
   "cell_type": "code",
   "execution_count": 26,
   "id": "c1428e13-d841-45e7-a885-919d4670a102",
   "metadata": {
    "execution": {
     "iopub.execute_input": "2024-02-27T19:10:24.122969Z",
     "iopub.status.busy": "2024-02-27T19:10:24.122664Z",
     "iopub.status.idle": "2024-02-27T19:10:24.129123Z",
     "shell.execute_reply": "2024-02-27T19:10:24.128510Z"
    }
   },
   "outputs": [
    {
     "data": {
      "text/plain": [
       "MolecularPropertiesRegression(\n",
       "  (transformer): RobertaModel(\n",
       "    (embeddings): RobertaEmbeddings(\n",
       "      (word_embeddings): Embedding(30522, 768, padding_idx=1)\n",
       "      (position_embeddings): Embedding(514, 768, padding_idx=1)\n",
       "      (token_type_embeddings): Embedding(1, 768)\n",
       "      (LayerNorm): LayerNorm((768,), eps=1e-12, elementwise_affine=True)\n",
       "      (dropout): Dropout(p=0.1, inplace=False)\n",
       "    )\n",
       "    (encoder): RobertaEncoder(\n",
       "      (layer): ModuleList(\n",
       "        (0-5): 6 x RobertaLayer(\n",
       "          (attention): RobertaAttention(\n",
       "            (self): RobertaSelfAttention(\n",
       "              (query): Linear(in_features=768, out_features=768, bias=True)\n",
       "              (key): Linear(in_features=768, out_features=768, bias=True)\n",
       "              (value): Linear(in_features=768, out_features=768, bias=True)\n",
       "              (dropout): Dropout(p=0.1, inplace=False)\n",
       "            )\n",
       "            (output): RobertaSelfOutput(\n",
       "              (dense): Linear(in_features=768, out_features=768, bias=True)\n",
       "              (LayerNorm): LayerNorm((768,), eps=1e-12, elementwise_affine=True)\n",
       "              (dropout): Dropout(p=0.1, inplace=False)\n",
       "            )\n",
       "          )\n",
       "          (intermediate): RobertaIntermediate(\n",
       "            (dense): Linear(in_features=768, out_features=3072, bias=True)\n",
       "            (intermediate_act_fn): GELUActivation()\n",
       "          )\n",
       "          (output): RobertaOutput(\n",
       "            (dense): Linear(in_features=3072, out_features=768, bias=True)\n",
       "            (LayerNorm): LayerNorm((768,), eps=1e-12, elementwise_affine=True)\n",
       "            (dropout): Dropout(p=0.1, inplace=False)\n",
       "          )\n",
       "        )\n",
       "      )\n",
       "    )\n",
       "    (pooler): Identity()\n",
       "  )\n",
       "  (regressor): Linear(in_features=768, out_features=4, bias=True)\n",
       ")"
      ]
     },
     "execution_count": 26,
     "metadata": {},
     "output_type": "execute_result"
    }
   ],
   "source": [
    "model"
   ]
  },
  {
   "cell_type": "code",
   "execution_count": 27,
   "id": "04001413-80f4-4663-ab5d-a107e839c5c3",
   "metadata": {
    "execution": {
     "iopub.execute_input": "2024-02-27T19:10:24.131461Z",
     "iopub.status.busy": "2024-02-27T19:10:24.131271Z",
     "iopub.status.idle": "2024-02-27T19:10:24.873087Z",
     "shell.execute_reply": "2024-02-27T19:10:24.872110Z"
    }
   },
   "outputs": [
    {
     "name": "stderr",
     "output_type": "stream",
     "text": [
      "/home/alexeyorlov53/anaconda3/envs/test/lib/python3.11/site-packages/transformers/optimization.py:411: FutureWarning: This implementation of AdamW is deprecated and will be removed in a future version. Use the PyTorch implementation torch.optim.AdamW instead, or set `no_deprecation_warning=True` to disable this warning\n",
      "  warnings.warn(\n"
     ]
    }
   ],
   "source": [
    "from transformers import AdamW, get_scheduler\n",
    "\n",
    "optimizer = AdamW(model.parameters(), lr=5e-5)\n",
    "\n",
    "num_epoch = 3\n",
    "\n",
    "num_training_steps = num_epoch * len(train_dataloader)\n",
    "\n",
    "lr_scheduler = get_scheduler(\n",
    "    'linear',\n",
    "    optimizer = optimizer,\n",
    "    num_warmup_steps = 0,\n",
    "    num_training_steps = num_training_steps,\n",
    ")\n",
    "\n",
    "loss_func = torch.nn.MSELoss()"
   ]
  },
  {
   "cell_type": "code",
   "execution_count": 28,
   "id": "6f78e178-f7c1-4fc0-b8ad-5c5d5e03281f",
   "metadata": {
    "execution": {
     "iopub.execute_input": "2024-02-27T19:10:24.876713Z",
     "iopub.status.busy": "2024-02-27T19:10:24.876149Z",
     "iopub.status.idle": "2024-02-27T19:10:27.700613Z",
     "shell.execute_reply": "2024-02-27T19:10:27.699797Z"
    }
   },
   "outputs": [
    {
     "name": "stderr",
     "output_type": "stream",
     "text": [
      "/tmp/ipykernel_3795593/1739285407.py:4: FutureWarning: load_metric is deprecated and will be removed in the next major version of datasets. Use 'evaluate.load' instead, from the new library 🤗 Evaluate: https://huggingface.co/docs/evaluate\n",
      "  metrics = { k: load_metric(\"mse\") for k in molecular_properties }\n"
     ]
    }
   ],
   "source": [
    "from datasets import load_metric\n",
    "\n",
    "# a metric for each property\n",
    "metrics = { k: load_metric(\"mse\") for k in molecular_properties }"
   ]
  },
  {
   "cell_type": "markdown",
   "id": "30a951a1-7c75-47bd-b275-9693eb22fe95",
   "metadata": {},
   "source": [
    "### Training"
   ]
  },
  {
   "cell_type": "code",
   "execution_count": 29,
   "id": "9f0f67d5-c7f4-4ea0-959f-b1a990387a1e",
   "metadata": {
    "execution": {
     "iopub.execute_input": "2024-02-27T19:10:27.703794Z",
     "iopub.status.busy": "2024-02-27T19:10:27.703556Z",
     "iopub.status.idle": "2024-02-28T05:38:18.358822Z",
     "shell.execute_reply": "2024-02-28T05:38:18.357726Z"
    }
   },
   "outputs": [
    {
     "data": {
      "application/vnd.jupyter.widget-view+json": {
       "model_id": "a3f3546772844d9fb7e79605087830a2",
       "version_major": 2,
       "version_minor": 0
      },
      "text/plain": [
       "  0%|          | 0/5205 [00:00<?, ?it/s]"
      ]
     },
     "metadata": {},
     "output_type": "display_data"
    },
    {
     "data": {
      "application/vnd.jupyter.widget-view+json": {
       "model_id": "77f63d23101f42d2bf59a25d5179c4ad",
       "version_major": 2,
       "version_minor": 0
      },
      "text/plain": [
       "  0%|          | 0/1302 [00:00<?, ?it/s]"
      ]
     },
     "metadata": {},
     "output_type": "display_data"
    },
    {
     "name": "stderr",
     "output_type": "stream",
     "text": [
      "You're using a RobertaTokenizerFast tokenizer. Please note that with a fast tokenizer, using the `__call__` method is faster than using a method to encode the text followed by a call to the `pad` method to get a padded encoding.\n"
     ]
    },
    {
     "name": "stdout",
     "output_type": "stream",
     "text": [
      "Metric for Molecular Weight: {'mse': 0.18098786887360357}\n",
      "Metric for Bioactivities: {'mse': 0.2755645191115328}\n",
      "Metric for AlogP: {'mse': 0.3097385854907803}\n",
      "Metric for Polar Surface Area: {'mse': 0.29978269738031266}\n",
      "Metric for Molecular Weight: {'mse': 0.1134967267640417}\n",
      "Metric for Bioactivities: {'mse': 2.155692200645302}\n",
      "Metric for AlogP: {'mse': 0.2586677511742193}\n",
      "Metric for Polar Surface Area: {'mse': 0.1533400276284276}\n",
      "Metric for Molecular Weight: {'mse': 0.11809765318889656}\n",
      "Metric for Bioactivities: {'mse': 0.05533164173159428}\n",
      "Metric for AlogP: {'mse': 0.18770166932345378}\n",
      "Metric for Polar Surface Area: {'mse': 0.1518035156499337}\n"
     ]
    }
   ],
   "source": [
    "from tqdm.auto import tqdm\n",
    "\n",
    "progress_bar_train = tqdm(range(num_training_steps))\n",
    "progress_bar_eval = tqdm(range(num_epoch * len(eval_dataloader)))\n",
    "\n",
    "\n",
    "for epoch in range(num_epoch):\n",
    "    model.train()\n",
    "    for batch in train_dataloader:\n",
    "        input_batch = { k: v.to(device) for k, v in batch.items() if k in ['input_ids', 'attention_mask'] }\n",
    "        labels_batch = { k: v.to(device) for k, v in batch.items() if k in molecular_properties }\n",
    "\n",
    "        labeled_property_values = torch.stack(list(labels_batch.values())).T\n",
    "        predicted_property_values = model(**input_batch)\n",
    "        \n",
    "        loss = loss_func(predicted_property_values, labeled_property_values)\n",
    "        loss.backward()\n",
    "        \n",
    "        optimizer.step()\n",
    "        lr_scheduler.step()\n",
    "        optimizer.zero_grad()\n",
    "        progress_bar_train.update(1)\n",
    "\n",
    "    model.eval()\n",
    "    for batch in eval_dataloader:\n",
    "        input_batch = { k: v.to(device) for k, v in batch.items() if k in ['input_ids', 'attention_mask'] }\n",
    "        labels_batch = { k: v.to(device) for k, v in batch.items() if k in molecular_properties }\n",
    "\n",
    "        labeled_property_values = torch.stack(list(labels_batch.values())).T\n",
    "        with torch.no_grad():\n",
    "            predicted_property_values = model(**input_batch)\n",
    "\n",
    "        for i, molecular_property in enumerate(molecular_properties):\n",
    "            metrics[molecular_property].add_batch(predictions = [predicted_property_values[0][i]], references = [labeled_property_values[0][i]])\n",
    "        progress_bar_eval.update(1)\n",
    "    \n",
    "    for molecular_property in molecular_properties:\n",
    "        print(f'Metric for {molecular_property}:', metrics[molecular_property].compute()) "
   ]
  },
  {
   "cell_type": "markdown",
   "id": "da956be4-4edd-4123-aa7b-34b7dfb2973b",
   "metadata": {},
   "source": [
    "## Post Training Evaluation"
   ]
  },
  {
   "cell_type": "code",
   "execution_count": 30,
   "id": "472d65db-87eb-4dfb-99bb-412126824fe9",
   "metadata": {
    "execution": {
     "iopub.execute_input": "2024-02-28T05:38:18.361861Z",
     "iopub.status.busy": "2024-02-28T05:38:18.361653Z",
     "iopub.status.idle": "2024-02-28T05:58:25.062080Z",
     "shell.execute_reply": "2024-02-28T05:58:25.060820Z"
    }
   },
   "outputs": [
    {
     "data": {
      "application/vnd.jupyter.widget-view+json": {
       "model_id": "3e0ff009f0a542afb6c9969cc9de939a",
       "version_major": 2,
       "version_minor": 0
      },
      "text/plain": [
       "  0%|          | 0/434 [00:00<?, ?it/s]"
      ]
     },
     "metadata": {},
     "output_type": "display_data"
    },
    {
     "name": "stdout",
     "output_type": "stream",
     "text": [
      "Metric for Molecular Weight: {'mse': 0.12865685785221123}\n",
      "Metric for Bioactivities: {'mse': 0.10600101066374959}\n",
      "Metric for AlogP: {'mse': 0.20758568381205134}\n",
      "Metric for Polar Surface Area: {'mse': 0.1454521742691242}\n"
     ]
    }
   ],
   "source": [
    "model.eval()\n",
    "\n",
    "test_dataloader = DataLoader(\n",
    "    tokenized_dataset['test'], batch_size = 512, collate_fn = data_collator\n",
    ")\n",
    "\n",
    "for batch in tqdm(test_dataloader):\n",
    "        input_batch = { k: v.to(device) for k, v in batch.items() if k in ['input_ids', 'attention_mask'] }\n",
    "        labels_batch = { k: v.to(device) for k, v in batch.items() if k in molecular_properties }\n",
    "\n",
    "        labeled_property_values = torch.stack(list(labels_batch.values())).T\n",
    "        with torch.no_grad():\n",
    "            predicted_property_values = model(**input_batch)\n",
    "\n",
    "        for i, molecular_property in enumerate(molecular_properties):\n",
    "            metrics[molecular_property].add_batch(predictions = [predicted_property_values[0][i]], references = [labeled_property_values[0][i]])\n",
    "    \n",
    "for molecular_property in molecular_properties:\n",
    "    print(f'Metric for {molecular_property}:', metrics[molecular_property].compute())"
   ]
  },
  {
   "cell_type": "code",
   "execution_count": 31,
   "id": "a38ad7b9-f82b-4936-bd4f-26266cbb6b25",
   "metadata": {
    "execution": {
     "iopub.execute_input": "2024-02-28T05:58:25.065682Z",
     "iopub.status.busy": "2024-02-28T05:58:25.065472Z",
     "iopub.status.idle": "2024-02-28T05:58:25.431528Z",
     "shell.execute_reply": "2024-02-28T05:58:25.430565Z"
    }
   },
   "outputs": [],
   "source": [
    "torch.save(model, model_name + '_and_linear_3epochs.pt')"
   ]
  },
  {
   "cell_type": "code",
   "execution_count": 32,
   "id": "57a96b63-ec67-4374-968e-bd71ff08c91b",
   "metadata": {
    "execution": {
     "iopub.execute_input": "2024-02-28T05:58:25.434705Z",
     "iopub.status.busy": "2024-02-28T05:58:25.434499Z",
     "iopub.status.idle": "2024-02-28T05:58:25.487217Z",
     "shell.execute_reply": "2024-02-28T05:58:25.486599Z"
    }
   },
   "outputs": [],
   "source": [
    "torch.cuda.empty_cache()"
   ]
  }
 ],
 "metadata": {
  "kernelspec": {
   "display_name": "Python 3 (ipykernel)",
   "language": "python",
   "name": "python3"
  },
  "language_info": {
   "codemirror_mode": {
    "name": "ipython",
    "version": 3
   },
   "file_extension": ".py",
   "mimetype": "text/x-python",
   "name": "python",
   "nbconvert_exporter": "python",
   "pygments_lexer": "ipython3",
   "version": "3.9.19"
  },
  "widgets": {
   "application/vnd.jupyter.widget-state+json": {
    "state": {},
    "version_major": 2,
    "version_minor": 0
   }
  }
 },
 "nbformat": 4,
 "nbformat_minor": 5
}
