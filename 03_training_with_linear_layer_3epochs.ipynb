{
 "cells": [
  {
   "cell_type": "code",
   "execution_count": null,
   "id": "1d6f265e-e433-48e9-a783-950e8b12260c",
   "metadata": {
    "execution": {
     "iopub.execute_input": "2024-02-27T18:59:49.780387Z",
     "iopub.status.busy": "2024-02-27T18:59:49.780197Z",
     "iopub.status.idle": "2024-02-27T18:59:51.456489Z",
     "shell.execute_reply": "2024-02-27T18:59:51.455616Z"
    }
   },
   "outputs": [],
   "source": [
    "import torch\n",
    "import pandas as pd\n",
    "from pathlib import Path\n",
    "from tqdm.auto import tqdm\n",
    "import numpy as np"
   ]
  },
  {
   "cell_type": "code",
   "execution_count": null,
   "id": "cb87046b-24e4-4963-ace0-615a30c7ddeb",
   "metadata": {
    "execution": {
     "iopub.execute_input": "2024-02-27T18:59:51.459693Z",
     "iopub.status.busy": "2024-02-27T18:59:51.459376Z",
     "iopub.status.idle": "2024-02-27T18:59:51.462966Z",
     "shell.execute_reply": "2024-02-27T18:59:51.462469Z"
    }
   },
   "outputs": [],
   "source": [
    "filename = 'ecfp0'\n",
    "samples_count = '10M'\n",
    "model_name = f'molberto_{filename}_{samples_count}'"
   ]
  },
  {
   "cell_type": "code",
   "execution_count": null,
   "id": "effd7294-42cf-4de5-91d4-d6ab3fec2127",
   "metadata": {
    "execution": {
     "iopub.execute_input": "2024-02-27T18:59:51.465868Z",
     "iopub.status.busy": "2024-02-27T18:59:51.465693Z",
     "iopub.status.idle": "2024-02-27T18:59:51.468643Z",
     "shell.execute_reply": "2024-02-27T18:59:51.468006Z"
    }
   },
   "outputs": [],
   "source": [
    "molecular_properties = ['Molecular Weight', 'Bioactivities', 'AlogP', 'Polar Surface Area', 'CX Acidic pKa', 'CX Basic pKa']"
   ]
  },
  {
   "cell_type": "markdown",
   "id": "827d58c5-eb7a-4420-b0db-f743e2167213",
   "metadata": {},
   "source": [
    "### Upload and Split Dataset"
   ]
  },
  {
   "cell_type": "code",
   "execution_count": null,
   "id": "2d5561e6-2477-4ead-9fae-91cae781bfe5",
   "metadata": {
    "execution": {
     "iopub.execute_input": "2024-02-27T18:59:51.470973Z",
     "iopub.status.busy": "2024-02-27T18:59:51.470799Z",
     "iopub.status.idle": "2024-02-27T19:00:21.565681Z",
     "shell.execute_reply": "2024-02-27T19:00:21.564676Z"
    }
   },
   "outputs": [],
   "source": [
    "dataframe = pd.read_csv(\"data.csv\")"
   ]
  },
  {
   "cell_type": "code",
   "execution_count": null,
   "id": "0acb3637-c146-45dc-a1d3-d9ef1363d2ad",
   "metadata": {
    "execution": {
     "iopub.execute_input": "2024-02-27T19:00:21.569486Z",
     "iopub.status.busy": "2024-02-27T19:00:21.569266Z",
     "iopub.status.idle": "2024-02-27T19:00:22.044642Z",
     "shell.execute_reply": "2024-02-27T19:00:22.043601Z"
    }
   },
   "outputs": [],
   "source": [
    "dataframe = dataframe.drop(columns=['Unnamed: 0', 'Smiles', 'ecfp2', 'ecfp3'])"
   ]
  },
  {
   "cell_type": "code",
   "execution_count": null,
   "id": "cae64520-4a9c-453f-949a-737bbd58bc06",
   "metadata": {
    "execution": {
     "iopub.execute_input": "2024-02-27T19:00:22.047766Z",
     "iopub.status.busy": "2024-02-27T19:00:22.047538Z",
     "iopub.status.idle": "2024-02-27T19:00:22.051792Z",
     "shell.execute_reply": "2024-02-27T19:00:22.051094Z"
    }
   },
   "outputs": [],
   "source": [
    "def preprocess_data_dataset(df, column):\n",
    "    for row in tqdm(range(len(df))):\n",
    "        str_ints = eval(df.iloc[row][column])\n",
    "        str_fingerprint = ' '.join(str_ints)\n",
    "        df.at[row, column] = str_fingerprint"
   ]
  },
  {
   "cell_type": "code",
   "execution_count": null,
   "id": "c1eb1370-13e9-4505-88da-b216213a873f",
   "metadata": {
    "execution": {
     "iopub.execute_input": "2024-02-27T19:00:22.054065Z",
     "iopub.status.busy": "2024-02-27T19:00:22.053885Z",
     "iopub.status.idle": "2024-02-27T19:04:29.012416Z",
     "shell.execute_reply": "2024-02-27T19:04:29.011556Z"
    }
   },
   "outputs": [],
   "source": [
    "preprocess_data_dataset(dataframe, 'ecfp1')"
   ]
  },
  {
   "cell_type": "code",
   "execution_count": null,
   "id": "3e9f902e-7691-4256-883a-bd70f484a5c4",
   "metadata": {
    "execution": {
     "iopub.execute_input": "2024-02-27T19:04:29.015549Z",
     "iopub.status.busy": "2024-02-27T19:04:29.015337Z",
     "iopub.status.idle": "2024-02-27T19:04:29.029264Z",
     "shell.execute_reply": "2024-02-27T19:04:29.028684Z"
    }
   },
   "outputs": [],
   "source": [
    "dataframe"
   ]
  },
  {
   "cell_type": "markdown",
   "id": "16672697-e2ab-45a3-8af3-45e4c32a6221",
   "metadata": {},
   "source": [
    "### Dealing with NaNs"
   ]
  },
  {
   "cell_type": "code",
   "execution_count": null,
   "id": "628bf71f-7af4-4eab-9fa2-e1bec5c7d682",
   "metadata": {
    "execution": {
     "iopub.execute_input": "2024-02-27T19:04:29.031688Z",
     "iopub.status.busy": "2024-02-27T19:04:29.031469Z",
     "iopub.status.idle": "2024-02-27T19:04:29.512789Z",
     "shell.execute_reply": "2024-02-27T19:04:29.512108Z"
    }
   },
   "outputs": [],
   "source": [
    "print('Percentage on NaNs:')\n",
    "dataframe.isna().mean()"
   ]
  },
  {
   "cell_type": "code",
   "execution_count": null,
   "id": "9131af22-72dd-4fee-b5b4-9a5b159030cd",
   "metadata": {
    "execution": {
     "iopub.execute_input": "2024-02-27T19:04:29.515425Z",
     "iopub.status.busy": "2024-02-27T19:04:29.515247Z",
     "iopub.status.idle": "2024-02-27T19:04:29.651888Z",
     "shell.execute_reply": "2024-02-27T19:04:29.651096Z"
    }
   },
   "outputs": [],
   "source": [
    "rows_with_nans = dataframe['Molecular Weight'].isna() | \\\n",
    "                 dataframe['Bioactivities'].isna() | \\\n",
    "                 dataframe['AlogP'].isna() | \\\n",
    "                 dataframe['Polar Surface Area'].isna() | \\\n",
    "                 dataframe['CX Acidic pKa'].isna() | \\\n",
    "                 dataframe['CX Basic pKa'].isna()\n",
    "print(f'Count of rows without NaNs: {dataframe.shape[0] - dataframe.loc[rows_with_nans].shape[0]}')"
   ]
  },
  {
   "cell_type": "code",
   "execution_count": null,
   "id": "aeec7baa-b6bb-47a1-bf4a-66e94049750f",
   "metadata": {
    "execution": {
     "iopub.execute_input": "2024-02-27T19:04:29.654363Z",
     "iopub.status.busy": "2024-02-27T19:04:29.654177Z",
     "iopub.status.idle": "2024-02-27T19:04:29.769658Z",
     "shell.execute_reply": "2024-02-27T19:04:29.768842Z"
    }
   },
   "outputs": [],
   "source": [
    "# remove 2 last properties to reduce NaN counts\n",
    "molecular_properties = ['Molecular Weight', 'Bioactivities', 'AlogP', 'Polar Surface Area']\n",
    "dataframe = dataframe.drop(columns=['CX Acidic pKa', 'CX Basic pKa'])"
   ]
  },
  {
   "cell_type": "code",
   "execution_count": null,
   "id": "1964f7f1-2efc-4333-81bc-3ebbdcbec934",
   "metadata": {
    "execution": {
     "iopub.execute_input": "2024-02-27T19:04:29.772353Z",
     "iopub.status.busy": "2024-02-27T19:04:29.772173Z",
     "iopub.status.idle": "2024-02-27T19:04:30.291228Z",
     "shell.execute_reply": "2024-02-27T19:04:30.290459Z"
    }
   },
   "outputs": [],
   "source": [
    "# drop NaN's\n",
    "dataframe = dataframe.dropna().reset_index(drop=True)"
   ]
  },
  {
   "cell_type": "code",
   "execution_count": null,
   "id": "4b3b5a83-5050-48d4-8813-490c01fbc1e5",
   "metadata": {
    "execution": {
     "iopub.execute_input": "2024-02-27T19:04:30.294327Z",
     "iopub.status.busy": "2024-02-27T19:04:30.294142Z",
     "iopub.status.idle": "2024-02-27T19:04:30.303772Z",
     "shell.execute_reply": "2024-02-27T19:04:30.303322Z"
    }
   },
   "outputs": [],
   "source": [
    "dataframe"
   ]
  },
  {
   "cell_type": "markdown",
   "id": "86bbf17c-07d1-47e8-a8e6-bebf50cebe62",
   "metadata": {},
   "source": [
    "### Split Data"
   ]
  },
  {
   "cell_type": "code",
   "execution_count": null,
   "id": "8bc5f957-4e8a-4176-ba70-196bb67ff581",
   "metadata": {
    "execution": {
     "iopub.execute_input": "2024-02-27T19:04:30.305960Z",
     "iopub.status.busy": "2024-02-27T19:04:30.305799Z",
     "iopub.status.idle": "2024-02-27T19:04:31.022539Z",
     "shell.execute_reply": "2024-02-27T19:04:31.021637Z"
    }
   },
   "outputs": [],
   "source": [
    "from sklearn.model_selection import train_test_split\n",
    "\n",
    "train_dataframe, test_dataframe = train_test_split(dataframe, test_size=0.20, random_state=42)\n",
    "validation_dataframe, test_dataframe = train_test_split(test_dataframe, test_size=0.50, random_state=42)"
   ]
  },
  {
   "cell_type": "code",
   "execution_count": null,
   "id": "7abd07a5-448b-4a01-97bc-c20495980606",
   "metadata": {
    "execution": {
     "iopub.execute_input": "2024-02-27T19:04:31.025986Z",
     "iopub.status.busy": "2024-02-27T19:04:31.025670Z",
     "iopub.status.idle": "2024-02-27T19:04:31.028991Z",
     "shell.execute_reply": "2024-02-27T19:04:31.028506Z"
    }
   },
   "outputs": [],
   "source": [
    "# 80% for train, 10% for test, 10 for validation\n",
    "print(len(train_dataframe), len(test_dataframe), len(validation_dataframe))"
   ]
  },
  {
   "cell_type": "markdown",
   "id": "873a857c-2190-407e-aabd-9f1ddaa4f86b",
   "metadata": {},
   "source": [
    "### Normalize Data"
   ]
  },
  {
   "cell_type": "code",
   "execution_count": null,
   "id": "4e683cea-5ebb-4ac7-b947-e72dbabe256b",
   "metadata": {
    "execution": {
     "iopub.execute_input": "2024-02-27T19:04:31.031537Z",
     "iopub.status.busy": "2024-02-27T19:04:31.031363Z",
     "iopub.status.idle": "2024-02-27T19:04:31.034506Z",
     "shell.execute_reply": "2024-02-27T19:04:31.033872Z"
    }
   },
   "outputs": [],
   "source": [
    "from sklearn.preprocessing import StandardScaler\n",
    "\n",
    "scaler = StandardScaler()"
   ]
  },
  {
   "cell_type": "code",
   "execution_count": null,
   "id": "407424ce-c0f3-4e6c-a815-7376343dea65",
   "metadata": {
    "execution": {
     "iopub.execute_input": "2024-02-27T19:04:31.037295Z",
     "iopub.status.busy": "2024-02-27T19:04:31.037116Z",
     "iopub.status.idle": "2024-02-27T19:04:31.130522Z",
     "shell.execute_reply": "2024-02-27T19:04:31.129805Z"
    }
   },
   "outputs": [],
   "source": [
    "train_dataframe[molecular_properties] = scaler.fit_transform(train_dataframe[molecular_properties])\n",
    "test_dataframe[molecular_properties] = scaler.transform(test_dataframe[molecular_properties])\n",
    "validation_dataframe[molecular_properties] = scaler.transform(validation_dataframe[molecular_properties])\n",
    "\n",
    "# scaler.inverse_transform(train_dataframe[molecular_property])"
   ]
  },
  {
   "cell_type": "code",
   "execution_count": null,
   "id": "8d6e8d3f-5550-449f-95b4-b55f42c90606",
   "metadata": {
    "execution": {
     "iopub.execute_input": "2024-02-27T19:04:31.133763Z",
     "iopub.status.busy": "2024-02-27T19:04:31.133577Z",
     "iopub.status.idle": "2024-02-27T19:04:31.142158Z",
     "shell.execute_reply": "2024-02-27T19:04:31.141587Z"
    }
   },
   "outputs": [],
   "source": [
    "train_dataframe"
   ]
  },
  {
   "cell_type": "markdown",
   "id": "c63f3e06-7933-457f-a51d-0373c34f413a",
   "metadata": {},
   "source": [
    "### Tokenize Data"
   ]
  },
  {
   "cell_type": "code",
   "execution_count": null,
   "id": "7e96ad73-2190-48f4-a1c3-ba4b5325f62b",
   "metadata": {
    "execution": {
     "iopub.execute_input": "2024-02-27T19:04:31.144569Z",
     "iopub.status.busy": "2024-02-27T19:04:31.144390Z",
     "iopub.status.idle": "2024-02-27T19:04:32.666460Z",
     "shell.execute_reply": "2024-02-27T19:04:32.665694Z"
    }
   },
   "outputs": [],
   "source": [
    "from datasets import Dataset, DatasetDict\n",
    "\n",
    "dataset = DatasetDict({\n",
    "    'train': Dataset.from_pandas(train_dataframe),\n",
    "    'test': Dataset.from_pandas(test_dataframe),\n",
    "    'validation': Dataset.from_pandas(validation_dataframe)\n",
    "})\n",
    "\n",
    "dataset"
   ]
  },
  {
   "cell_type": "code",
   "execution_count": null,
   "id": "7720fb53-0a36-452f-8d5a-f23f0c5755d0",
   "metadata": {
    "execution": {
     "iopub.execute_input": "2024-02-27T19:04:32.669150Z",
     "iopub.status.busy": "2024-02-27T19:04:32.668817Z",
     "iopub.status.idle": "2024-02-27T19:04:32.761708Z",
     "shell.execute_reply": "2024-02-27T19:04:32.760965Z"
    }
   },
   "outputs": [],
   "source": [
    "from transformers import AutoTokenizer\n",
    "tokenizer = AutoTokenizer.from_pretrained(model_name)\n",
    "\n",
    "tokenizer.model_max_len=512"
   ]
  },
  {
   "cell_type": "code",
   "execution_count": null,
   "id": "0f924833-477c-4a24-936e-d62f0ca5dd8f",
   "metadata": {
    "execution": {
     "iopub.execute_input": "2024-02-27T19:04:32.764689Z",
     "iopub.status.busy": "2024-02-27T19:04:32.764499Z",
     "iopub.status.idle": "2024-02-27T19:10:18.566523Z",
     "shell.execute_reply": "2024-02-27T19:10:18.565761Z"
    }
   },
   "outputs": [],
   "source": [
    "def tokenize(batch):\n",
    "  return tokenizer(batch[\"ecfp1\"], truncation=True, max_length=512, padding='max_length')\n",
    "\n",
    "tokenized_dataset = dataset.map(tokenize, batched=True)\n",
    "tokenized_dataset"
   ]
  },
  {
   "cell_type": "code",
   "execution_count": null,
   "id": "434caf18-e9b1-42ac-b40e-05c1b75c538a",
   "metadata": {
    "execution": {
     "iopub.execute_input": "2024-02-27T19:10:18.570026Z",
     "iopub.status.busy": "2024-02-27T19:10:18.569819Z",
     "iopub.status.idle": "2024-02-27T19:10:18.574679Z",
     "shell.execute_reply": "2024-02-27T19:10:18.574068Z"
    }
   },
   "outputs": [],
   "source": [
    "columns = [\"input_ids\", \"attention_mask\"]\n",
    "columns.extend(molecular_properties) # our labels\n",
    "print(columns)\n",
    "tokenized_dataset.set_format('torch', columns=columns)"
   ]
  },
  {
   "cell_type": "markdown",
   "id": "89a56144-3102-4a21-b86b-8e851dc97026",
   "metadata": {},
   "source": [
    "### Create Model"
   ]
  },
  {
   "cell_type": "code",
   "execution_count": null,
   "id": "66254640-38dc-4da6-bccf-634174aca108",
   "metadata": {
    "execution": {
     "iopub.execute_input": "2024-02-27T19:10:18.577538Z",
     "iopub.status.busy": "2024-02-27T19:10:18.577331Z",
     "iopub.status.idle": "2024-02-27T19:10:18.593725Z",
     "shell.execute_reply": "2024-02-27T19:10:18.593101Z"
    }
   },
   "outputs": [],
   "source": [
    "from transformers import AutoModel, AutoConfig\n",
    "\n",
    "class MolecularPropertiesRegression(torch.nn.Module):\n",
    "    def __init__(self, model_name, num_properties):\n",
    "        super(MolecularPropertiesRegression, self).__init__()\n",
    "        self.num_properties = num_properties\n",
    "\n",
    "        config = AutoConfig.from_pretrained(model_name)\n",
    "        self.transformer = AutoModel.from_pretrained(model_name, config=config)\n",
    "        # removing last layer of transformer\n",
    "        self.transformer.pooler = torch.nn.Identity()\n",
    "        # freezing transformer weights\n",
    "        for param in self.transformer.parameters():\n",
    "            param.requires_grad = False\n",
    "        self.regressor = torch.nn.Linear(768, num_properties)\n",
    "\n",
    "    def forward(self, input_ids = None, attention_mask=None):\n",
    "        outputs = self.transformer(input_ids=input_ids, attention_mask=attention_mask)\n",
    "        \n",
    "        last_hidden_state = outputs[0]\n",
    "        # last_hidden_state is the shape of (batch_size=32, input_sequence_length=512, hidden_size=768)\n",
    "        # so we take only hidden emdedding for [CLS] token (first) as it contains the entire context\n",
    "        # and would be sufficient for simple downstream tasks such as classification/regression\n",
    "        predicted_property_values = self.regressor(last_hidden_state[:, 0, : ].view(-1, 768))\n",
    "\n",
    "        return predicted_property_values\n",
    "        "
   ]
  },
  {
   "cell_type": "markdown",
   "id": "dc5b0c73-a897-407e-a8c7-158283f97de4",
   "metadata": {},
   "source": [
    "### Create PyTorch DataLoader"
   ]
  },
  {
   "cell_type": "code",
   "execution_count": null,
   "id": "79747c27-653a-486a-ab4d-3f2c6ec347f5",
   "metadata": {
    "execution": {
     "iopub.execute_input": "2024-02-27T19:10:18.595933Z",
     "iopub.status.busy": "2024-02-27T19:10:18.595750Z",
     "iopub.status.idle": "2024-02-27T19:10:20.368486Z",
     "shell.execute_reply": "2024-02-27T19:10:20.367740Z"
    }
   },
   "outputs": [],
   "source": [
    "from torch.utils.data import DataLoader\n",
    "from transformers import DataCollatorWithPadding\n",
    "\n",
    "data_collator = DataCollatorWithPadding(tokenizer=tokenizer)\n",
    "\n",
    "train_dataloader = DataLoader(\n",
    "    tokenized_dataset['train'], shuffle = True, batch_size = 1024, collate_fn = data_collator\n",
    ")\n",
    "\n",
    "eval_dataloader = DataLoader(\n",
    "    tokenized_dataset['validation'], shuffle = True, batch_size = 512, collate_fn = data_collator\n",
    ")"
   ]
  },
  {
   "cell_type": "code",
   "execution_count": null,
   "id": "08055762-1a53-49e6-8cd7-71161852abe8",
   "metadata": {
    "execution": {
     "iopub.execute_input": "2024-02-27T19:10:20.373092Z",
     "iopub.status.busy": "2024-02-27T19:10:20.372414Z",
     "iopub.status.idle": "2024-02-27T19:10:24.119042Z",
     "shell.execute_reply": "2024-02-27T19:10:24.118082Z"
    }
   },
   "outputs": [],
   "source": [
    "device = torch.device(\"cuda\", index=2) if torch.cuda.is_available() else torch.device('cpu')\n",
    "\n",
    "model = MolecularPropertiesRegression(model_name, num_properties=len(molecular_properties)).to(device)"
   ]
  },
  {
   "cell_type": "code",
   "execution_count": null,
   "id": "c1428e13-d841-45e7-a885-919d4670a102",
   "metadata": {
    "execution": {
     "iopub.execute_input": "2024-02-27T19:10:24.122969Z",
     "iopub.status.busy": "2024-02-27T19:10:24.122664Z",
     "iopub.status.idle": "2024-02-27T19:10:24.129123Z",
     "shell.execute_reply": "2024-02-27T19:10:24.128510Z"
    }
   },
   "outputs": [],
   "source": [
    "model"
   ]
  },
  {
   "cell_type": "code",
   "execution_count": null,
   "id": "04001413-80f4-4663-ab5d-a107e839c5c3",
   "metadata": {
    "execution": {
     "iopub.execute_input": "2024-02-27T19:10:24.131461Z",
     "iopub.status.busy": "2024-02-27T19:10:24.131271Z",
     "iopub.status.idle": "2024-02-27T19:10:24.873087Z",
     "shell.execute_reply": "2024-02-27T19:10:24.872110Z"
    }
   },
   "outputs": [],
   "source": [
    "from transformers import AdamW, get_scheduler\n",
    "\n",
    "optimizer = AdamW(model.parameters(), lr=5e-5)\n",
    "\n",
    "num_epoch = 3\n",
    "\n",
    "num_training_steps = num_epoch * len(train_dataloader)\n",
    "\n",
    "lr_scheduler = get_scheduler(\n",
    "    'linear',\n",
    "    optimizer = optimizer,\n",
    "    num_warmup_steps = 0,\n",
    "    num_training_steps = num_training_steps,\n",
    ")\n",
    "\n",
    "loss_func = torch.nn.MSELoss()"
   ]
  },
  {
   "cell_type": "code",
   "execution_count": null,
   "id": "6f78e178-f7c1-4fc0-b8ad-5c5d5e03281f",
   "metadata": {
    "execution": {
     "iopub.execute_input": "2024-02-27T19:10:24.876713Z",
     "iopub.status.busy": "2024-02-27T19:10:24.876149Z",
     "iopub.status.idle": "2024-02-27T19:10:27.700613Z",
     "shell.execute_reply": "2024-02-27T19:10:27.699797Z"
    }
   },
   "outputs": [],
   "source": [
    "from datasets import load_metric\n",
    "\n",
    "# a metric for each property\n",
    "metrics = { k: load_metric(\"mse\") for k in molecular_properties }"
   ]
  },
  {
   "cell_type": "markdown",
   "id": "30a951a1-7c75-47bd-b275-9693eb22fe95",
   "metadata": {},
   "source": [
    "### Training"
   ]
  },
  {
   "cell_type": "code",
   "execution_count": null,
   "id": "9f0f67d5-c7f4-4ea0-959f-b1a990387a1e",
   "metadata": {
    "execution": {
     "iopub.execute_input": "2024-02-27T19:10:27.703794Z",
     "iopub.status.busy": "2024-02-27T19:10:27.703556Z",
     "iopub.status.idle": "2024-02-28T05:38:18.358822Z",
     "shell.execute_reply": "2024-02-28T05:38:18.357726Z"
    }
   },
   "outputs": [],
   "source": [
    "from tqdm.auto import tqdm\n",
    "\n",
    "progress_bar_train = tqdm(range(num_training_steps))\n",
    "progress_bar_eval = tqdm(range(num_epoch * len(eval_dataloader)))\n",
    "\n",
    "\n",
    "for epoch in range(num_epoch):\n",
    "    model.train()\n",
    "    for batch in train_dataloader:\n",
    "        input_batch = { k: v.to(device) for k, v in batch.items() if k in ['input_ids', 'attention_mask'] }\n",
    "        labels_batch = { k: v.to(device) for k, v in batch.items() if k in molecular_properties }\n",
    "\n",
    "        labeled_property_values = torch.stack(list(labels_batch.values())).T\n",
    "        predicted_property_values = model(**input_batch)\n",
    "        \n",
    "        loss = loss_func(predicted_property_values, labeled_property_values)\n",
    "        loss.backward()\n",
    "        \n",
    "        optimizer.step()\n",
    "        lr_scheduler.step()\n",
    "        optimizer.zero_grad()\n",
    "        progress_bar_train.update(1)\n",
    "\n",
    "    model.eval()\n",
    "    for batch in eval_dataloader:\n",
    "        input_batch = { k: v.to(device) for k, v in batch.items() if k in ['input_ids', 'attention_mask'] }\n",
    "        labels_batch = { k: v.to(device) for k, v in batch.items() if k in molecular_properties }\n",
    "\n",
    "        labeled_property_values = torch.stack(list(labels_batch.values())).T\n",
    "        with torch.no_grad():\n",
    "            predicted_property_values = model(**input_batch)\n",
    "\n",
    "        for i, molecular_property in enumerate(molecular_properties):\n",
    "            metrics[molecular_property].add_batch(predictions = [predicted_property_values[0][i]], references = [labeled_property_values[0][i]])\n",
    "        progress_bar_eval.update(1)\n",
    "    \n",
    "    for molecular_property in molecular_properties:\n",
    "        print(f'Metric for {molecular_property}:', metrics[molecular_property].compute()) "
   ]
  },
  {
   "cell_type": "markdown",
   "id": "da956be4-4edd-4123-aa7b-34b7dfb2973b",
   "metadata": {},
   "source": [
    "## Post Training Evaluation"
   ]
  },
  {
   "cell_type": "code",
   "execution_count": null,
   "id": "472d65db-87eb-4dfb-99bb-412126824fe9",
   "metadata": {
    "execution": {
     "iopub.execute_input": "2024-02-28T05:38:18.361861Z",
     "iopub.status.busy": "2024-02-28T05:38:18.361653Z",
     "iopub.status.idle": "2024-02-28T05:58:25.062080Z",
     "shell.execute_reply": "2024-02-28T05:58:25.060820Z"
    }
   },
   "outputs": [],
   "source": [
    "model.eval()\n",
    "\n",
    "test_dataloader = DataLoader(\n",
    "    tokenized_dataset['test'], batch_size = 512, collate_fn = data_collator\n",
    ")\n",
    "\n",
    "for batch in tqdm(test_dataloader):\n",
    "        input_batch = { k: v.to(device) for k, v in batch.items() if k in ['input_ids', 'attention_mask'] }\n",
    "        labels_batch = { k: v.to(device) for k, v in batch.items() if k in molecular_properties }\n",
    "\n",
    "        labeled_property_values = torch.stack(list(labels_batch.values())).T\n",
    "        with torch.no_grad():\n",
    "            predicted_property_values = model(**input_batch)\n",
    "\n",
    "        for i, molecular_property in enumerate(molecular_properties):\n",
    "            metrics[molecular_property].add_batch(predictions = [predicted_property_values[0][i]], references = [labeled_property_values[0][i]])\n",
    "    \n",
    "for molecular_property in molecular_properties:\n",
    "    print(f'Metric for {molecular_property}:', metrics[molecular_property].compute())"
   ]
  },
  {
   "cell_type": "code",
   "execution_count": null,
   "id": "a38ad7b9-f82b-4936-bd4f-26266cbb6b25",
   "metadata": {
    "execution": {
     "iopub.execute_input": "2024-02-28T05:58:25.065682Z",
     "iopub.status.busy": "2024-02-28T05:58:25.065472Z",
     "iopub.status.idle": "2024-02-28T05:58:25.431528Z",
     "shell.execute_reply": "2024-02-28T05:58:25.430565Z"
    }
   },
   "outputs": [],
   "source": [
    "torch.save(model, model_name + '_and_linear_3epochs.pt')"
   ]
  },
  {
   "cell_type": "code",
   "execution_count": null,
   "id": "57a96b63-ec67-4374-968e-bd71ff08c91b",
   "metadata": {
    "execution": {
     "iopub.execute_input": "2024-02-28T05:58:25.434705Z",
     "iopub.status.busy": "2024-02-28T05:58:25.434499Z",
     "iopub.status.idle": "2024-02-28T05:58:25.487217Z",
     "shell.execute_reply": "2024-02-28T05:58:25.486599Z"
    }
   },
   "outputs": [],
   "source": [
    "torch.cuda.empty_cache()"
   ]
  }
 ],
 "metadata": {
  "kernelspec": {
   "display_name": "Python 3 (ipykernel)",
   "language": "python",
   "name": "python3"
  },
  "language_info": {
   "codemirror_mode": {
    "name": "ipython",
    "version": 3
   },
   "file_extension": ".py",
   "mimetype": "text/x-python",
   "name": "python",
   "nbconvert_exporter": "python",
   "pygments_lexer": "ipython3",
   "version": "3.7.0"
  },
  "widgets": {
   "application/vnd.jupyter.widget-state+json": {
    "state": {},
    "version_major": 2,
    "version_minor": 0
   }
  }
 },
 "nbformat": 4,
 "nbformat_minor": 5
}
